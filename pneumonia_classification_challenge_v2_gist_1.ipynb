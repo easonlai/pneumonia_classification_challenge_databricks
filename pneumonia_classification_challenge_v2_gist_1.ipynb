{
 "cells": [
  {
   "cell_type": "code",
   "execution_count": 0,
   "metadata": {
    "application/vnd.databricks.v1+cell": {
     "inputWidgets": {},
     "nuid": "e7b75468-8d83-47e6-8966-bf4f43c783e1",
     "showTitle": false,
     "title": ""
    }
   },
   "outputs": [
    {
     "data": {
      "text/html": [
       "<style scoped>\n",
       "  .ansiout {\n",
       "    display: block;\n",
       "    unicode-bidi: embed;\n",
       "    white-space: pre-wrap;\n",
       "    word-wrap: break-word;\n",
       "    word-break: break-all;\n",
       "    font-family: \"Source Code Pro\", \"Menlo\", monospace;;\n",
       "    font-size: 13px;\n",
       "    color: #555;\n",
       "    margin-left: 4px;\n",
       "    line-height: 19px;\n",
       "  }\n",
       "</style>\n",
       "<div class=\"ansiout\"></div>"
      ]
     },
     "metadata": {
      "application/vnd.databricks.v1+output": {
       "addedWidgets": {},
       "arguments": {},
       "data": "<div class=\"ansiout\"></div>",
       "datasetInfos": [],
       "metadata": {},
       "removedWidgets": [],
       "type": "html"
      }
     },
     "output_type": "display_data"
    }
   ],
   "source": [
    "# Create model function for Keras Tuner to search hyperparameter.\n",
    "num_classes = 2\n",
    "LOG_DIR = \"eason_kt_\"+f\"{int(time.time())}\"\n",
    "\n",
    "def build_model(hp):  # random search passes this hyperparameter() object.\n",
    "    model = keras.models.Sequential()\n",
    "    model.add(layers.experimental.preprocessing.Rescaling(1./255, input_shape=(img_height, img_width, 1)))\n",
    "\n",
    "    for i in range(hp.Int('n_layers', 1, 4)):  # adding variation of layers.\n",
    "        model.add(layers.Conv2D(hp.Int(f'conv_{i}_units',\n",
    "                                min_value=32,\n",
    "                                max_value=256,\n",
    "                                step=32), 1,\n",
    "                                padding='same'))\n",
    "        model.add(layers.Activation('relu'))\n",
    "        model.add(layers.MaxPooling2D())\n",
    "        model.add(layers.Dropout(hp.Choice('dropout_value', values=[0.2, 0.5])))\n",
    "        \n",
    "    model.add(layers.Flatten()) \n",
    "    #model.add(layers.Dense(128))\n",
    "    model.add(layers.Dense(hp.Int('dense_units',\n",
    "                               min_value=32,\n",
    "                               max_value=128,\n",
    "                               step=32)))\n",
    "    #model.add(layers.Activation(\"relu\"))\n",
    "    model.add(layers.Activation(hp.Choice(name='last_activation',\n",
    "                                          values=['relu', 'sigmoid'],\n",
    "                                          default='relu'))) # adding variation of last activation.\n",
    "    model.add(layers.Dense(num_classes))\n",
    "    \n",
    "    #optimizer=hp.Choice(name='optimizer', values=['adam', 'sgd', 'rmsprop']) # adding variation of optimizer.\n",
    "    #hp_learning_rate = hp.Choice('learning_rate', values=[1e-2, 1e-3, 1e-4]) # adding variation of learning rate.\n",
    "    hp_learning_rate = hp.Float('learning_rate',\n",
    "                                min_value=1e-4,\n",
    "                                max_value=1e-2,\n",
    "                                sampling='LOG', # log will assign equal probabilities to each order of magnitude range.\n",
    "                                default=1e-3) # adding range variation of learning rate for adam.\n",
    "    \n",
    "    model.compile(optimizer=keras.optimizers.Adam(learning_rate=hp_learning_rate),\n",
    "              loss=tf.keras.losses.SparseCategoricalCrossentropy(from_logits=True),\n",
    "              metrics=['accuracy'])\n",
    "    \n",
    "    return model"
   ]
  }
 ],
 "metadata": {
  "application/vnd.databricks.v1+notebook": {
   "dashboards": [],
   "language": "python",
   "notebookMetadata": {
    "experimentId": "1833121574231983",
    "pythonIndentUnit": 2
   },
   "notebookName": "pneumonia_classification_challenge_v2",
   "notebookOrigID": 1833121574231983,
   "widgets": {}
  },
  "kernelspec": {
   "display_name": "Python 3",
   "language": "python",
   "name": "python3"
  },
  "language_info": {
   "codemirror_mode": {
    "name": "ipython",
    "version": 3
   },
   "file_extension": ".py",
   "mimetype": "text/x-python",
   "name": "python",
   "nbconvert_exporter": "python",
   "pygments_lexer": "ipython3",
   "version": "3.8.3"
  }
 },
 "nbformat": 4,
 "nbformat_minor": 1
}
