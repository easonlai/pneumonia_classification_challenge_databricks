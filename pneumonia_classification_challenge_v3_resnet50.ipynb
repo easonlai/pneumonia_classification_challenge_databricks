{
 "cells": [
  {
   "cell_type": "code",
   "execution_count": 0,
   "metadata": {
    "application/vnd.databricks.v1+cell": {
     "inputWidgets": {},
     "nuid": "32730746-7caa-421c-a708-26d1f6dc4579",
     "showTitle": false,
     "title": ""
    }
   },
   "outputs": [
    {
     "data": {
      "text/html": [
       "<style scoped>\n",
       "  .ansiout {\n",
       "    display: block;\n",
       "    unicode-bidi: embed;\n",
       "    white-space: pre-wrap;\n",
       "    word-wrap: break-word;\n",
       "    word-break: break-all;\n",
       "    font-family: \"Source Code Pro\", \"Menlo\", monospace;;\n",
       "    font-size: 13px;\n",
       "    color: #555;\n",
       "    margin-left: 4px;\n",
       "    line-height: 19px;\n",
       "  }\n",
       "</style>\n",
       "<div class=\"ansiout\"></div>"
      ]
     },
     "metadata": {
      "application/vnd.databricks.v1+output": {
       "addedWidgets": {},
       "arguments": {},
       "data": "<div class=\"ansiout\"></div>",
       "datasetInfos": [],
       "metadata": {},
       "removedWidgets": [],
       "type": "html"
      }
     },
     "output_type": "display_data"
    }
   ],
   "source": [
    "from tensorflow import keras\n",
    "from tensorflow.python.keras import backend as K\n",
    "from tensorflow.python.keras.models import Model\n",
    "from tensorflow.python.keras.layers import Flatten, Dense, Dropout\n",
    "from keras.optimizers import Adam\n",
    "from tensorflow.python.keras.preprocessing.image import ImageDataGenerator\n",
    "from keras.applications.resnet50 import ResNet50\n",
    "import tensorflow as tf\n",
    "import numpy as np\n",
    "import pathlib\n",
    "import PIL\n",
    "import matplotlib.pyplot as plt\n",
    "import pandas as pd"
   ]
  },
  {
   "cell_type": "code",
   "execution_count": 0,
   "metadata": {
    "application/vnd.databricks.v1+cell": {
     "inputWidgets": {},
     "nuid": "6ff0f8a8-0259-4ab2-9edd-06a8895ed218",
     "showTitle": false,
     "title": ""
    }
   },
   "outputs": [
    {
     "data": {
      "text/html": [
       "<style scoped>\n",
       "  .ansiout {\n",
       "    display: block;\n",
       "    unicode-bidi: embed;\n",
       "    white-space: pre-wrap;\n",
       "    word-wrap: break-word;\n",
       "    word-break: break-all;\n",
       "    font-family: \"Source Code Pro\", \"Menlo\", monospace;;\n",
       "    font-size: 13px;\n",
       "    color: #555;\n",
       "    margin-left: 4px;\n",
       "    line-height: 19px;\n",
       "  }\n",
       "</style>\n",
       "<div class=\"ansiout\"></div>"
      ]
     },
     "metadata": {
      "application/vnd.databricks.v1+output": {
       "addedWidgets": {},
       "arguments": {},
       "data": "<div class=\"ansiout\"></div>",
       "datasetInfos": [],
       "metadata": {},
       "removedWidgets": [],
       "type": "html"
      }
     },
     "output_type": "display_data"
    }
   ],
   "source": [
    "# Also autoinstruments tf.keras\n",
    "import mlflow.tensorflow\n",
    "mlflow.tensorflow.autolog()"
   ]
  },
  {
   "cell_type": "code",
   "execution_count": 0,
   "metadata": {
    "application/vnd.databricks.v1+cell": {
     "inputWidgets": {},
     "nuid": "249825cf-ca91-409d-8e3e-8c635e755333",
     "showTitle": false,
     "title": ""
    }
   },
   "outputs": [
    {
     "data": {
      "text/html": [
       "<style scoped>\n",
       "  .ansiout {\n",
       "    display: block;\n",
       "    unicode-bidi: embed;\n",
       "    white-space: pre-wrap;\n",
       "    word-wrap: break-word;\n",
       "    word-break: break-all;\n",
       "    font-family: \"Source Code Pro\", \"Menlo\", monospace;;\n",
       "    font-size: 13px;\n",
       "    color: #555;\n",
       "    margin-left: 4px;\n",
       "    line-height: 19px;\n",
       "  }\n",
       "</style>\n",
       "<div class=\"ansiout\">You are using TensorFlow version 2.4.1\n",
       "You are using Keras version 2.4.0\n",
       "You got GPU powered.\n",
       "</div>"
      ]
     },
     "metadata": {
      "application/vnd.databricks.v1+output": {
       "addedWidgets": {},
       "arguments": {},
       "data": "<div class=\"ansiout\">You are using TensorFlow version 2.4.1\nYou are using Keras version 2.4.0\nYou got GPU powered.\n</div>",
       "datasetInfos": [],
       "metadata": {},
       "removedWidgets": [],
       "type": "html"
      }
     },
     "output_type": "display_data"
    }
   ],
   "source": [
    "# Checking current environment situation\n",
    "print(\"You are using TensorFlow version\", tf.__version__)\n",
    "print(\"You are using Keras version\", keras.__version__)\n",
    "if len(tf.config.list_physical_devices('GPU')) > 0:\n",
    "    print(\"You got GPU powered.\")"
   ]
  },
  {
   "cell_type": "code",
   "execution_count": 0,
   "metadata": {
    "application/vnd.databricks.v1+cell": {
     "inputWidgets": {},
     "nuid": "fa45136b-d67a-401c-be7d-5a9eb09629ba",
     "showTitle": false,
     "title": ""
    }
   },
   "outputs": [
    {
     "data": {
      "text/html": [
       "<style scoped>\n",
       "  .ansiout {\n",
       "    display: block;\n",
       "    unicode-bidi: embed;\n",
       "    white-space: pre-wrap;\n",
       "    word-wrap: break-word;\n",
       "    word-break: break-all;\n",
       "    font-family: \"Source Code Pro\", \"Menlo\", monospace;;\n",
       "    font-size: 13px;\n",
       "    color: #555;\n",
       "    margin-left: 4px;\n",
       "    line-height: 19px;\n",
       "  }\n",
       "</style>\n",
       "<div class=\"ansiout\">Out[4]: [FileInfo(path=&#39;dbfs:/mnt/eason/pneumonia_classification_challenge/models/&#39;, name=&#39;models/&#39;, size=0),\n",
       " FileInfo(path=&#39;dbfs:/mnt/eason/pneumonia_classification_challenge/pneumonia_dataset/&#39;, name=&#39;pneumonia_dataset/&#39;, size=0),\n",
       " FileInfo(path=&#39;dbfs:/mnt/eason/pneumonia_classification_challenge/result_v1.csv&#39;, name=&#39;result_v1.csv&#39;, size=69970)]</div>"
      ]
     },
     "metadata": {
      "application/vnd.databricks.v1+output": {
       "addedWidgets": {},
       "arguments": {},
       "data": "<div class=\"ansiout\">Out[4]: [FileInfo(path=&#39;dbfs:/mnt/eason/pneumonia_classification_challenge/models/&#39;, name=&#39;models/&#39;, size=0),\n FileInfo(path=&#39;dbfs:/mnt/eason/pneumonia_classification_challenge/pneumonia_dataset/&#39;, name=&#39;pneumonia_dataset/&#39;, size=0),\n FileInfo(path=&#39;dbfs:/mnt/eason/pneumonia_classification_challenge/result_v1.csv&#39;, name=&#39;result_v1.csv&#39;, size=69970)]</div>",
       "datasetInfos": [],
       "metadata": {},
       "removedWidgets": [],
       "type": "html"
      }
     },
     "output_type": "display_data"
    }
   ],
   "source": [
    "# List file in ADLS\n",
    "dbutils.fs.ls(\"/mnt/eason/pneumonia_classification_challenge/\")"
   ]
  },
  {
   "cell_type": "code",
   "execution_count": 0,
   "metadata": {
    "application/vnd.databricks.v1+cell": {
     "inputWidgets": {},
     "nuid": "97aa9454-8793-4a34-bc03-0e80faa6bafc",
     "showTitle": false,
     "title": ""
    }
   },
   "outputs": [
    {
     "data": {
      "text/html": [
       "<style scoped>\n",
       "  .ansiout {\n",
       "    display: block;\n",
       "    unicode-bidi: embed;\n",
       "    white-space: pre-wrap;\n",
       "    word-wrap: break-word;\n",
       "    word-break: break-all;\n",
       "    font-family: \"Source Code Pro\", \"Menlo\", monospace;;\n",
       "    font-size: 13px;\n",
       "    color: #555;\n",
       "    margin-left: 4px;\n",
       "    line-height: 19px;\n",
       "  }\n",
       "</style>\n",
       "<div class=\"ansiout\">Sub Total = 2425\n",
       "Train Total = 1941\n",
       "Valdiation Total = 484\n",
       "Normal for Train = 1038\n",
       "Pneumonia for Train = 903\n",
       "Normal for Valdiation = 242\n",
       "Pneumonia for Valdiation = 242\n",
       "</div>"
      ]
     },
     "metadata": {
      "application/vnd.databricks.v1+output": {
       "addedWidgets": {},
       "arguments": {},
       "data": "<div class=\"ansiout\">Sub Total = 2425\nTrain Total = 1941\nValdiation Total = 484\nNormal for Train = 1038\nPneumonia for Train = 903\nNormal for Valdiation = 242\nPneumonia for Valdiation = 242\n</div>",
       "datasetInfos": [],
       "metadata": {},
       "removedWidgets": [],
       "type": "html"
      }
     },
     "output_type": "display_data"
    }
   ],
   "source": [
    "# Check how many images in images folder\n",
    "image_data_dir = \"/dbfs/mnt/eason/pneumonia_classification_challenge/pneumonia_dataset/train_val_resnet50/\"\n",
    "image_data_dir = pathlib.Path(image_data_dir)\n",
    "image_count = len(list(image_data_dir.glob('*/*/*.png')))\n",
    "image_count_train = len(list(image_data_dir.glob('train/*/*.png')))\n",
    "image_count_val = len(list(image_data_dir.glob('val/*/*.png')))\n",
    "image_count_train_normal = len(list(image_data_dir.glob('train/normal/*.png')))\n",
    "image_count_train_pneumonia = len(list(image_data_dir.glob('train/pneumonia/*.png')))\n",
    "image_count_val_normal = len(list(image_data_dir.glob('val/normal/*.png')))\n",
    "image_count_val_pneumonia = len(list(image_data_dir.glob('val/pneumonia/*.png')))\n",
    "print(\"Sub Total = \"+str(image_count))\n",
    "print(\"Train Total = \"+str(image_count_train))\n",
    "print(\"Valdiation Total = \"+str(image_count_val))\n",
    "print(\"Normal for Train = \"+str(image_count_train_normal))\n",
    "print(\"Pneumonia for Train = \"+str(image_count_train_pneumonia))\n",
    "print(\"Normal for Valdiation = \"+str(image_count_val_normal))\n",
    "print(\"Pneumonia for Valdiation = \"+str(image_count_val_pneumonia))"
   ]
  },
  {
   "cell_type": "code",
   "execution_count": 0,
   "metadata": {
    "application/vnd.databricks.v1+cell": {
     "inputWidgets": {},
     "nuid": "51ae5e4c-b71c-4451-9828-440c6779e37a",
     "showTitle": false,
     "title": ""
    }
   },
   "outputs": [
    {
     "data": {
      "text/html": [
       "<style scoped>\n",
       "  .ansiout {\n",
       "    display: block;\n",
       "    unicode-bidi: embed;\n",
       "    white-space: pre-wrap;\n",
       "    word-wrap: break-word;\n",
       "    word-break: break-all;\n",
       "    font-family: \"Source Code Pro\", \"Menlo\", monospace;;\n",
       "    font-size: 13px;\n",
       "    color: #555;\n",
       "    margin-left: 4px;\n",
       "    line-height: 19px;\n",
       "  }\n",
       "</style>\n",
       "<div class=\"ansiout\"></div>"
      ]
     },
     "metadata": {
      "application/vnd.databricks.v1+output": {
       "addedWidgets": {},
       "arguments": {},
       "data": "<div class=\"ansiout\"></div>",
       "datasetInfos": [],
       "metadata": {},
       "removedWidgets": [],
       "type": "html"
      }
     },
     "output_type": "display_data"
    }
   ],
   "source": [
    "DATASET_PATH  = '/dbfs/mnt/eason/pneumonia_classification_challenge/pneumonia_dataset/train_val_resnet50/'\n",
    "IMAGE_SIZE = (300, 300)\n",
    "NUM_CLASSES = 2\n",
    "BATCH_SIZE = 16\n",
    "FREEZE_LAYERS = 2\n",
    "NUM_EPOCHS = 15"
   ]
  },
  {
   "cell_type": "code",
   "execution_count": 0,
   "metadata": {
    "application/vnd.databricks.v1+cell": {
     "inputWidgets": {},
     "nuid": "acdb95b1-0631-409c-92b8-5bc99cfa533d",
     "showTitle": false,
     "title": ""
    }
   },
   "outputs": [
    {
     "data": {
      "text/html": [
       "<style scoped>\n",
       "  .ansiout {\n",
       "    display: block;\n",
       "    unicode-bidi: embed;\n",
       "    white-space: pre-wrap;\n",
       "    word-wrap: break-word;\n",
       "    word-break: break-all;\n",
       "    font-family: \"Source Code Pro\", \"Menlo\", monospace;;\n",
       "    font-size: 13px;\n",
       "    color: #555;\n",
       "    margin-left: 4px;\n",
       "    line-height: 19px;\n",
       "  }\n",
       "</style>\n",
       "<div class=\"ansiout\">Found 1941 images belonging to 2 classes.\n",
       "Found 484 images belonging to 2 classes.\n",
       "</div>"
      ]
     },
     "metadata": {
      "application/vnd.databricks.v1+output": {
       "addedWidgets": {},
       "arguments": {},
       "data": "<div class=\"ansiout\">Found 1941 images belonging to 2 classes.\nFound 484 images belonging to 2 classes.\n</div>",
       "datasetInfos": [],
       "metadata": {},
       "removedWidgets": [],
       "type": "html"
      }
     },
     "output_type": "display_data"
    }
   ],
   "source": [
    "# train_datagen = ImageDataGenerator(rotation_range=40,\n",
    "#                                    width_shift_range=0.2,\n",
    "#                                    height_shift_range=0.2,\n",
    "#                                    shear_range=0.2,\n",
    "#                                    zoom_range=0.2,\n",
    "#                                    channel_shift_range=10,\n",
    "#                                    horizontal_flip=True,\n",
    "#                                    fill_mode='nearest')\n",
    "train_datagen = ImageDataGenerator()\n",
    "train_batches = train_datagen.flow_from_directory(DATASET_PATH + '/train',\n",
    "                                                  target_size=IMAGE_SIZE,\n",
    "                                                  interpolation='bicubic',\n",
    "                                                  class_mode='categorical',\n",
    "                                                  shuffle=True,\n",
    "                                                  batch_size=BATCH_SIZE)\n",
    "\n",
    "valid_datagen = ImageDataGenerator()\n",
    "valid_batches = valid_datagen.flow_from_directory(DATASET_PATH + '/val',\n",
    "                                                  target_size=IMAGE_SIZE,\n",
    "                                                  interpolation='bicubic',\n",
    "                                                  class_mode='categorical',\n",
    "                                                  shuffle=False,\n",
    "                                                  batch_size=BATCH_SIZE)"
   ]
  },
  {
   "cell_type": "code",
   "execution_count": 0,
   "metadata": {
    "application/vnd.databricks.v1+cell": {
     "inputWidgets": {},
     "nuid": "3a95541a-b965-4b25-a120-136c4327a68f",
     "showTitle": false,
     "title": ""
    }
   },
   "outputs": [
    {
     "data": {
      "text/html": [
       "<style scoped>\n",
       "  .ansiout {\n",
       "    display: block;\n",
       "    unicode-bidi: embed;\n",
       "    white-space: pre-wrap;\n",
       "    word-wrap: break-word;\n",
       "    word-break: break-all;\n",
       "    font-family: \"Source Code Pro\", \"Menlo\", monospace;;\n",
       "    font-size: 13px;\n",
       "    color: #555;\n",
       "    margin-left: 4px;\n",
       "    line-height: 19px;\n",
       "  }\n",
       "</style>\n",
       "<div class=\"ansiout\">Class #0 = normal\n",
       "Class #1 = pneumonia\n",
       "</div>"
      ]
     },
     "metadata": {
      "application/vnd.databricks.v1+output": {
       "addedWidgets": {},
       "arguments": {},
       "data": "<div class=\"ansiout\">Class #0 = normal\nClass #1 = pneumonia\n</div>",
       "datasetInfos": [],
       "metadata": {},
       "removedWidgets": [],
       "type": "html"
      }
     },
     "output_type": "display_data"
    }
   ],
   "source": [
    "for cls, idx in train_batches.class_indices.items():\n",
    "    print('Class #{} = {}'.format(idx, cls))"
   ]
  },
  {
   "cell_type": "code",
   "execution_count": 0,
   "metadata": {
    "application/vnd.databricks.v1+cell": {
     "inputWidgets": {},
     "nuid": "fdd7217e-2100-415a-9d06-afc241e07ec5",
     "showTitle": false,
     "title": ""
    }
   },
   "outputs": [
    {
     "data": {
      "text/html": [
       "<style scoped>\n",
       "  .ansiout {\n",
       "    display: block;\n",
       "    unicode-bidi: embed;\n",
       "    white-space: pre-wrap;\n",
       "    word-wrap: break-word;\n",
       "    word-break: break-all;\n",
       "    font-family: \"Source Code Pro\", \"Menlo\", monospace;;\n",
       "    font-size: 13px;\n",
       "    color: #555;\n",
       "    margin-left: 4px;\n",
       "    line-height: 19px;\n",
       "  }\n",
       "</style>\n",
       "<div class=\"ansiout\">Downloading data from https://storage.googleapis.com/tensorflow/keras-applications/resnet/resnet50_weights_tf_dim_ordering_tf_kernels_notop.h5\n",
       "\r",
       "    8192/94765736 [..............................] - ETA: 1s\b\b\b\b\b\b\b\b\b\b\b\b\b\b\b\b\b\b\b\b\b\b\b\b\b\b\b\b\b\b\b\b\b\b\b\b\b\b\b\b\b\b\b\b\b\b\b\b\b\b\b\b\b\b\b\b\b\b\b\b\r",
       " 4202496/94765736 [&gt;.............................] - ETA: 29s\b\b\b\b\b\b\b\b\b\b\b\b\b\b\b\b\b\b\b\b\b\b\b\b\b\b\b\b\b\b\b\b\b\b\b\b\b\b\b\b\b\b\b\b\b\b\b\b\b\b\b\b\b\b\b\b\b\b\b\b\b\r",
       "17063936/94765736 [====&gt;.........................] - ETA: 6s \b\b\b\b\b\b\b\b\b\b\b\b\b\b\b\b\b\b\b\b\b\b\b\b\b\b\b\b\b\b\b\b\b\b\b\b\b\b\b\b\b\b\b\b\b\b\b\b\b\b\b\b\b\b\b\b\b\b\b\b\r",
       "30220288/94765736 [========&gt;.....................] - ETA: 3s\b\b\b\b\b\b\b\b\b\b\b\b\b\b\b\b\b\b\b\b\b\b\b\b\b\b\b\b\b\b\b\b\b\b\b\b\b\b\b\b\b\b\b\b\b\b\b\b\b\b\b\b\b\b\b\b\b\b\b\b\r",
       "33562624/94765736 [=========&gt;....................] - ETA: 4s\b\b\b\b\b\b\b\b\b\b\b\b\b\b\b\b\b\b\b\b\b\b\b\b\b\b\b\b\b\b\b\b\b\b\b\b\b\b\b\b\b\b\b\b\b\b\b\b\b\b\b\b\b\b\b\b\b\b\b\b\r",
       "46276608/94765736 [=============&gt;................] - ETA: 2s\b\b\b\b\b\b\b\b\b\b\b\b\b\b\b\b\b\b\b\b\b\b\b\b\b\b\b\b\b\b\b\b\b\b\b\b\b\b\b\b\b\b\b\b\b\b\b\b\b\b\b\b\b\b\b\b\b\b\b\b\r",
       "58392576/94765736 [=================&gt;............] - ETA: 1s\b\b\b\b\b\b\b\b\b\b\b\b\b\b\b\b\b\b\b\b\b\b\b\b\b\b\b\b\b\b\b\b\b\b\b\b\b\b\b\b\b\b\b\b\b\b\b\b\b\b\b\b\b\b\b\b\b\b\b\b\r",
       "67117056/94765736 [====================&gt;.........] - ETA: 1s\b\b\b\b\b\b\b\b\b\b\b\b\b\b\b\b\b\b\b\b\b\b\b\b\b\b\b\b\b\b\b\b\b\b\b\b\b\b\b\b\b\b\b\b\b\b\b\b\b\b\b\b\b\b\b\b\b\b\b\b\r",
       "79339520/94765736 [========================&gt;.....] - ETA: 0s\b\b\b\b\b\b\b\b\b\b\b\b\b\b\b\b\b\b\b\b\b\b\b\b\b\b\b\b\b\b\b\b\b\b\b\b\b\b\b\b\b\b\b\b\b\b\b\b\b\b\b\b\b\b\b\b\b\b\b\b\r",
       "91217920/94765736 [===========================&gt;..] - ETA: 0s\b\b\b\b\b\b\b\b\b\b\b\b\b\b\b\b\b\b\b\b\b\b\b\b\b\b\b\b\b\b\b\b\b\b\b\b\b\b\b\b\b\b\b\b\b\b\b\b\b\b\b\b\b\b\b\b\b\b\b\b\r",
       "94773248/94765736 [==============================] - 3s 0us/step\n",
       "</div>"
      ]
     },
     "metadata": {
      "application/vnd.databricks.v1+output": {
       "addedWidgets": {},
       "arguments": {},
       "data": "<div class=\"ansiout\">Downloading data from https://storage.googleapis.com/tensorflow/keras-applications/resnet/resnet50_weights_tf_dim_ordering_tf_kernels_notop.h5\n\r    8192/94765736 [..............................] - ETA: 1s\b\b\b\b\b\b\b\b\b\b\b\b\b\b\b\b\b\b\b\b\b\b\b\b\b\b\b\b\b\b\b\b\b\b\b\b\b\b\b\b\b\b\b\b\b\b\b\b\b\b\b\b\b\b\b\b\b\b\b\b\r 4202496/94765736 [&gt;.............................] - ETA: 29s\b\b\b\b\b\b\b\b\b\b\b\b\b\b\b\b\b\b\b\b\b\b\b\b\b\b\b\b\b\b\b\b\b\b\b\b\b\b\b\b\b\b\b\b\b\b\b\b\b\b\b\b\b\b\b\b\b\b\b\b\b\r17063936/94765736 [====&gt;.........................] - ETA: 6s \b\b\b\b\b\b\b\b\b\b\b\b\b\b\b\b\b\b\b\b\b\b\b\b\b\b\b\b\b\b\b\b\b\b\b\b\b\b\b\b\b\b\b\b\b\b\b\b\b\b\b\b\b\b\b\b\b\b\b\b\r30220288/94765736 [========&gt;.....................] - ETA: 3s\b\b\b\b\b\b\b\b\b\b\b\b\b\b\b\b\b\b\b\b\b\b\b\b\b\b\b\b\b\b\b\b\b\b\b\b\b\b\b\b\b\b\b\b\b\b\b\b\b\b\b\b\b\b\b\b\b\b\b\b\r33562624/94765736 [=========&gt;....................] - ETA: 4s\b\b\b\b\b\b\b\b\b\b\b\b\b\b\b\b\b\b\b\b\b\b\b\b\b\b\b\b\b\b\b\b\b\b\b\b\b\b\b\b\b\b\b\b\b\b\b\b\b\b\b\b\b\b\b\b\b\b\b\b\r46276608/94765736 [=============&gt;................] - ETA: 2s\b\b\b\b\b\b\b\b\b\b\b\b\b\b\b\b\b\b\b\b\b\b\b\b\b\b\b\b\b\b\b\b\b\b\b\b\b\b\b\b\b\b\b\b\b\b\b\b\b\b\b\b\b\b\b\b\b\b\b\b\r58392576/94765736 [=================&gt;............] - ETA: 1s\b\b\b\b\b\b\b\b\b\b\b\b\b\b\b\b\b\b\b\b\b\b\b\b\b\b\b\b\b\b\b\b\b\b\b\b\b\b\b\b\b\b\b\b\b\b\b\b\b\b\b\b\b\b\b\b\b\b\b\b\r67117056/94765736 [====================&gt;.........] - ETA: 1s\b\b\b\b\b\b\b\b\b\b\b\b\b\b\b\b\b\b\b\b\b\b\b\b\b\b\b\b\b\b\b\b\b\b\b\b\b\b\b\b\b\b\b\b\b\b\b\b\b\b\b\b\b\b\b\b\b\b\b\b\r79339520/94765736 [========================&gt;.....] - ETA: 0s\b\b\b\b\b\b\b\b\b\b\b\b\b\b\b\b\b\b\b\b\b\b\b\b\b\b\b\b\b\b\b\b\b\b\b\b\b\b\b\b\b\b\b\b\b\b\b\b\b\b\b\b\b\b\b\b\b\b\b\b\r91217920/94765736 [===========================&gt;..] - ETA: 0s\b\b\b\b\b\b\b\b\b\b\b\b\b\b\b\b\b\b\b\b\b\b\b\b\b\b\b\b\b\b\b\b\b\b\b\b\b\b\b\b\b\b\b\b\b\b\b\b\b\b\b\b\b\b\b\b\b\b\b\b\r94773248/94765736 [==============================] - 3s 0us/step\n</div>",
       "datasetInfos": [],
       "metadata": {},
       "removedWidgets": [],
       "type": "html"
      }
     },
     "output_type": "display_data"
    }
   ],
   "source": [
    "net = ResNet50(include_top=False, weights='imagenet', input_tensor=None,\n",
    "               input_shape=(IMAGE_SIZE[0],IMAGE_SIZE[1],3))\n",
    "x = net.output\n",
    "x = Flatten()(x)"
   ]
  },
  {
   "cell_type": "code",
   "execution_count": 0,
   "metadata": {
    "application/vnd.databricks.v1+cell": {
     "inputWidgets": {},
     "nuid": "20f0426d-725c-4151-8a05-d821f6f75ad8",
     "showTitle": false,
     "title": ""
    }
   },
   "outputs": [
    {
     "data": {
      "text/html": [
       "<style scoped>\n",
       "  .ansiout {\n",
       "    display: block;\n",
       "    unicode-bidi: embed;\n",
       "    white-space: pre-wrap;\n",
       "    word-wrap: break-word;\n",
       "    word-break: break-all;\n",
       "    font-family: \"Source Code Pro\", \"Menlo\", monospace;;\n",
       "    font-size: 13px;\n",
       "    color: #555;\n",
       "    margin-left: 4px;\n",
       "    line-height: 19px;\n",
       "  }\n",
       "</style>\n",
       "<div class=\"ansiout\"></div>"
      ]
     },
     "metadata": {
      "application/vnd.databricks.v1+output": {
       "addedWidgets": {},
       "arguments": {},
       "data": "<div class=\"ansiout\"></div>",
       "datasetInfos": [],
       "metadata": {},
       "removedWidgets": [],
       "type": "html"
      }
     },
     "output_type": "display_data"
    }
   ],
   "source": [
    "x = Dropout(0.5)(x)"
   ]
  },
  {
   "cell_type": "code",
   "execution_count": 0,
   "metadata": {
    "application/vnd.databricks.v1+cell": {
     "inputWidgets": {},
     "nuid": "fc7d9d38-6742-4af1-ae63-bcee868e65b7",
     "showTitle": false,
     "title": ""
    }
   },
   "outputs": [
    {
     "data": {
      "text/html": [
       "<style scoped>\n",
       "  .ansiout {\n",
       "    display: block;\n",
       "    unicode-bidi: embed;\n",
       "    white-space: pre-wrap;\n",
       "    word-wrap: break-word;\n",
       "    word-break: break-all;\n",
       "    font-family: \"Source Code Pro\", \"Menlo\", monospace;;\n",
       "    font-size: 13px;\n",
       "    color: #555;\n",
       "    margin-left: 4px;\n",
       "    line-height: 19px;\n",
       "  }\n",
       "</style>\n",
       "<div class=\"ansiout\"></div>"
      ]
     },
     "metadata": {
      "application/vnd.databricks.v1+output": {
       "addedWidgets": {},
       "arguments": {},
       "data": "<div class=\"ansiout\"></div>",
       "datasetInfos": [],
       "metadata": {},
       "removedWidgets": [],
       "type": "html"
      }
     },
     "output_type": "display_data"
    }
   ],
   "source": [
    "#output_layer = Dense(NUM_CLASSES, activation='softmax', name='softmax')(x)\n",
    "output_layer = Dense(NUM_CLASSES, activation='relu', name='relu')(x)"
   ]
  },
  {
   "cell_type": "code",
   "execution_count": 0,
   "metadata": {
    "application/vnd.databricks.v1+cell": {
     "inputWidgets": {},
     "nuid": "0d05d691-d170-41a1-8c46-4107b02e0012",
     "showTitle": false,
     "title": ""
    }
   },
   "outputs": [
    {
     "data": {
      "text/html": [
       "<style scoped>\n",
       "  .ansiout {\n",
       "    display: block;\n",
       "    unicode-bidi: embed;\n",
       "    white-space: pre-wrap;\n",
       "    word-wrap: break-word;\n",
       "    word-break: break-all;\n",
       "    font-family: \"Source Code Pro\", \"Menlo\", monospace;;\n",
       "    font-size: 13px;\n",
       "    color: #555;\n",
       "    margin-left: 4px;\n",
       "    line-height: 19px;\n",
       "  }\n",
       "</style>\n",
       "<div class=\"ansiout\"></div>"
      ]
     },
     "metadata": {
      "application/vnd.databricks.v1+output": {
       "addedWidgets": {},
       "arguments": {},
       "data": "<div class=\"ansiout\"></div>",
       "datasetInfos": [],
       "metadata": {},
       "removedWidgets": [],
       "type": "html"
      }
     },
     "output_type": "display_data"
    }
   ],
   "source": [
    "net_final = Model(inputs=net.input, outputs=output_layer)\n",
    "for layer in net_final.layers[:FREEZE_LAYERS]:\n",
    "    layer.trainable = False\n",
    "for layer in net_final.layers[FREEZE_LAYERS:]:\n",
    "    layer.trainable = True"
   ]
  },
  {
   "cell_type": "code",
   "execution_count": 0,
   "metadata": {
    "application/vnd.databricks.v1+cell": {
     "inputWidgets": {},
     "nuid": "36de3cd5-8338-490e-b3fb-6a7d4b9f2f6c",
     "showTitle": false,
     "title": ""
    }
   },
   "outputs": [
    {
     "data": {
      "text/html": [
       "<style scoped>\n",
       "  .ansiout {\n",
       "    display: block;\n",
       "    unicode-bidi: embed;\n",
       "    white-space: pre-wrap;\n",
       "    word-wrap: break-word;\n",
       "    word-break: break-all;\n",
       "    font-family: \"Source Code Pro\", \"Menlo\", monospace;;\n",
       "    font-size: 13px;\n",
       "    color: #555;\n",
       "    margin-left: 4px;\n",
       "    line-height: 19px;\n",
       "  }\n",
       "</style>\n",
       "<div class=\"ansiout\"></div>"
      ]
     },
     "metadata": {
      "application/vnd.databricks.v1+output": {
       "addedWidgets": {},
       "arguments": {},
       "data": "<div class=\"ansiout\"></div>",
       "datasetInfos": [],
       "metadata": {},
       "removedWidgets": [],
       "type": "html"
      }
     },
     "output_type": "display_data"
    }
   ],
   "source": [
    "net_final.compile(optimizer=Adam(lr=1e-5),\n",
    "                  loss='categorical_crossentropy', metrics=['accuracy'])"
   ]
  },
  {
   "cell_type": "code",
   "execution_count": 0,
   "metadata": {
    "application/vnd.databricks.v1+cell": {
     "inputWidgets": {},
     "nuid": "30cc345a-567b-478a-b2dd-d17fa5f19c12",
     "showTitle": false,
     "title": ""
    }
   },
   "outputs": [
    {
     "data": {
      "text/html": [
       "<style scoped>\n",
       "  .ansiout {\n",
       "    display: block;\n",
       "    unicode-bidi: embed;\n",
       "    white-space: pre-wrap;\n",
       "    word-wrap: break-word;\n",
       "    word-break: break-all;\n",
       "    font-family: \"Source Code Pro\", \"Menlo\", monospace;;\n",
       "    font-size: 13px;\n",
       "    color: #555;\n",
       "    margin-left: 4px;\n",
       "    line-height: 19px;\n",
       "  }\n",
       "</style>\n",
       "<div class=\"ansiout\">Model: &#34;model&#34;\n",
       "__________________________________________________________________________________________________\n",
       "Layer (type)                    Output Shape         Param #     Connected to                     \n",
       "==================================================================================================\n",
       "input_1 (InputLayer)            [(None, 300, 300, 3) 0                                            \n",
       "__________________________________________________________________________________________________\n",
       "conv1_pad (ZeroPadding2D)       (None, 306, 306, 3)  0           input_1[0][0]                    \n",
       "__________________________________________________________________________________________________\n",
       "conv1_conv (Conv2D)             (None, 150, 150, 64) 9472        conv1_pad[0][0]                  \n",
       "__________________________________________________________________________________________________\n",
       "conv1_bn (BatchNormalization)   (None, 150, 150, 64) 256         conv1_conv[0][0]                 \n",
       "__________________________________________________________________________________________________\n",
       "conv1_relu (Activation)         (None, 150, 150, 64) 0           conv1_bn[0][0]                   \n",
       "__________________________________________________________________________________________________\n",
       "pool1_pad (ZeroPadding2D)       (None, 152, 152, 64) 0           conv1_relu[0][0]                 \n",
       "__________________________________________________________________________________________________\n",
       "pool1_pool (MaxPooling2D)       (None, 75, 75, 64)   0           pool1_pad[0][0]                  \n",
       "__________________________________________________________________________________________________\n",
       "conv2_block1_1_conv (Conv2D)    (None, 75, 75, 64)   4160        pool1_pool[0][0]                 \n",
       "__________________________________________________________________________________________________\n",
       "conv2_block1_1_bn (BatchNormali (None, 75, 75, 64)   256         conv2_block1_1_conv[0][0]        \n",
       "__________________________________________________________________________________________________\n",
       "conv2_block1_1_relu (Activation (None, 75, 75, 64)   0           conv2_block1_1_bn[0][0]          \n",
       "__________________________________________________________________________________________________\n",
       "conv2_block1_2_conv (Conv2D)    (None, 75, 75, 64)   36928       conv2_block1_1_relu[0][0]        \n",
       "__________________________________________________________________________________________________\n",
       "conv2_block1_2_bn (BatchNormali (None, 75, 75, 64)   256         conv2_block1_2_conv[0][0]        \n",
       "__________________________________________________________________________________________________\n",
       "conv2_block1_2_relu (Activation (None, 75, 75, 64)   0           conv2_block1_2_bn[0][0]          \n",
       "__________________________________________________________________________________________________\n",
       "conv2_block1_0_conv (Conv2D)    (None, 75, 75, 256)  16640       pool1_pool[0][0]                 \n",
       "__________________________________________________________________________________________________\n",
       "conv2_block1_3_conv (Conv2D)    (None, 75, 75, 256)  16640       conv2_block1_2_relu[0][0]        \n",
       "__________________________________________________________________________________________________\n",
       "conv2_block1_0_bn (BatchNormali (None, 75, 75, 256)  1024        conv2_block1_0_conv[0][0]        \n",
       "__________________________________________________________________________________________________\n",
       "conv2_block1_3_bn (BatchNormali (None, 75, 75, 256)  1024        conv2_block1_3_conv[0][0]        \n",
       "__________________________________________________________________________________________________\n",
       "conv2_block1_add (Add)          (None, 75, 75, 256)  0           conv2_block1_0_bn[0][0]          \n",
       "                                                                 conv2_block1_3_bn[0][0]          \n",
       "__________________________________________________________________________________________________\n",
       "conv2_block1_out (Activation)   (None, 75, 75, 256)  0           conv2_block1_add[0][0]           \n",
       "__________________________________________________________________________________________________\n",
       "conv2_block2_1_conv (Conv2D)    (None, 75, 75, 64)   16448       conv2_block1_out[0][0]           \n",
       "__________________________________________________________________________________________________\n",
       "conv2_block2_1_bn (BatchNormali (None, 75, 75, 64)   256         conv2_block2_1_conv[0][0]        \n",
       "__________________________________________________________________________________________________\n",
       "conv2_block2_1_relu (Activation (None, 75, 75, 64)   0           conv2_block2_1_bn[0][0]          \n",
       "__________________________________________________________________________________________________\n",
       "conv2_block2_2_conv (Conv2D)    (None, 75, 75, 64)   36928       conv2_block2_1_relu[0][0]        \n",
       "__________________________________________________________________________________________________\n",
       "conv2_block2_2_bn (BatchNormali (None, 75, 75, 64)   256         conv2_block2_2_conv[0][0]        \n",
       "__________________________________________________________________________________________________\n",
       "conv2_block2_2_relu (Activation (None, 75, 75, 64)   0           conv2_block2_2_bn[0][0]          \n",
       "__________________________________________________________________________________________________\n",
       "conv2_block2_3_conv (Conv2D)    (None, 75, 75, 256)  16640       conv2_block2_2_relu[0][0]        \n",
       "__________________________________________________________________________________________________\n",
       "conv2_block2_3_bn (BatchNormali (None, 75, 75, 256)  1024        conv2_block2_3_conv[0][0]        \n",
       "__________________________________________________________________________________________________\n",
       "conv2_block2_add (Add)          (None, 75, 75, 256)  0           conv2_block1_out[0][0]           \n",
       "                                                                 conv2_block2_3_bn[0][0]          \n",
       "__________________________________________________________________________________________________\n",
       "conv2_block2_out (Activation)   (None, 75, 75, 256)  0           conv2_block2_add[0][0]           \n",
       "__________________________________________________________________________________________________\n",
       "conv2_block3_1_conv (Conv2D)    (None, 75, 75, 64)   16448       conv2_block2_out[0][0]           \n",
       "__________________________________________________________________________________________________\n",
       "conv2_block3_1_bn (BatchNormali (None, 75, 75, 64)   256         conv2_block3_1_conv[0][0]        \n",
       "__________________________________________________________________________________________________\n",
       "conv2_block3_1_relu (Activation (None, 75, 75, 64)   0           conv2_block3_1_bn[0][0]          \n",
       "__________________________________________________________________________________________________\n",
       "conv2_block3_2_conv (Conv2D)    (None, 75, 75, 64)   36928       conv2_block3_1_relu[0][0]        \n",
       "__________________________________________________________________________________________________\n",
       "conv2_block3_2_bn (BatchNormali (None, 75, 75, 64)   256         conv2_block3_2_conv[0][0]        \n",
       "__________________________________________________________________________________________________\n",
       "conv2_block3_2_relu (Activation (None, 75, 75, 64)   0           conv2_block3_2_bn[0][0]          \n",
       "__________________________________________________________________________________________________\n",
       "conv2_block3_3_conv (Conv2D)    (None, 75, 75, 256)  16640       conv2_block3_2_relu[0][0]        \n",
       "__________________________________________________________________________________________________\n",
       "conv2_block3_3_bn (BatchNormali (None, 75, 75, 256)  1024        conv2_block3_3_conv[0][0]        \n",
       "__________________________________________________________________________________________________\n",
       "conv2_block3_add (Add)          (None, 75, 75, 256)  0           conv2_block2_out[0][0]           \n",
       "                                                                 conv2_block3_3_bn[0][0]          \n",
       "__________________________________________________________________________________________________\n",
       "conv2_block3_out (Activation)   (None, 75, 75, 256)  0           conv2_block3_add[0][0]           \n",
       "__________________________________________________________________________________________________\n",
       "conv3_block1_1_conv (Conv2D)    (None, 38, 38, 128)  32896       conv2_block3_out[0][0]           \n",
       "__________________________________________________________________________________________________\n",
       "conv3_block1_1_bn (BatchNormali (None, 38, 38, 128)  512         conv3_block1_1_conv[0][0]        \n",
       "__________________________________________________________________________________________________\n",
       "conv3_block1_1_relu (Activation (None, 38, 38, 128)  0           conv3_block1_1_bn[0][0]          \n",
       "__________________________________________________________________________________________________\n",
       "conv3_block1_2_conv (Conv2D)    (None, 38, 38, 128)  147584      conv3_block1_1_relu[0][0]        \n",
       "__________________________________________________________________________________________________\n",
       "conv3_block1_2_bn (BatchNormali (None, 38, 38, 128)  512         conv3_block1_2_conv[0][0]        \n",
       "__________________________________________________________________________________________________\n",
       "conv3_block1_2_relu (Activation (None, 38, 38, 128)  0           conv3_block1_2_bn[0][0]          \n",
       "__________________________________________________________________________________________________\n",
       "conv3_block1_0_conv (Conv2D)    (None, 38, 38, 512)  131584      conv2_block3_out[0][0]           \n",
       "__________________________________________________________________________________________________\n",
       "conv3_block1_3_conv (Conv2D)    (None, 38, 38, 512)  66048       conv3_block1_2_relu[0][0]        \n",
       "__________________________________________________________________________________________________\n",
       "conv3_block1_0_bn (BatchNormali (None, 38, 38, 512)  2048        conv3_block1_0_conv[0][0]        \n",
       "__________________________________________________________________________________________________\n",
       "conv3_block1_3_bn (BatchNormali (None, 38, 38, 512)  2048        conv3_block1_3_conv[0][0]        \n",
       "__________________________________________________________________________________________________\n",
       "conv3_block1_add (Add)          (None, 38, 38, 512)  0           conv3_block1_0_bn[0][0]          \n",
       "                                                                 conv3_block1_3_bn[0][0]          \n",
       "__________________________________________________________________________________________________\n",
       "conv3_block1_out (Activation)   (None, 38, 38, 512)  0           conv3_block1_add[0][0]           \n",
       "__________________________________________________________________________________________________\n",
       "conv3_block2_1_conv (Conv2D)    (None, 38, 38, 128)  65664       conv3_block1_out[0][0]           \n",
       "__________________________________________________________________________________________________\n",
       "conv3_block2_1_bn (BatchNormali (None, 38, 38, 128)  512         conv3_block2_1_conv[0][0]        \n",
       "__________________________________________________________________________________________________\n",
       "conv3_block2_1_relu (Activation (None, 38, 38, 128)  0           conv3_block2_1_bn[0][0]          \n",
       "__________________________________________________________________________________________________\n",
       "conv3_block2_2_conv (Conv2D)    (None, 38, 38, 128)  147584      conv3_block2_1_relu[0][0]        \n",
       "__________________________________________________________________________________________________\n",
       "conv3_block2_2_bn (BatchNormali (None, 38, 38, 128)  512         conv3_block2_2_conv[0][0]        \n",
       "__________________________________________________________________________________________________\n",
       "conv3_block2_2_relu (Activation (None, 38, 38, 128)  0           conv3_block2_2_bn[0][0]          \n",
       "__________________________________________________________________________________________________\n",
       "conv3_block2_3_conv (Conv2D)    (None, 38, 38, 512)  66048       conv3_block2_2_relu[0][0]        \n",
       "__________________________________________________________________________________________________\n",
       "conv3_block2_3_bn (BatchNormali (None, 38, 38, 512)  2048        conv3_block2_3_conv[0][0]        \n",
       "__________________________________________________________________________________________________\n",
       "conv3_block2_add (Add)          (None, 38, 38, 512)  0           conv3_block1_out[0][0]           \n",
       "                                                                 conv3_block2_3_bn[0][0]          \n",
       "__________________________________________________________________________________________________\n",
       "conv3_block2_out (Activation)   (None, 38, 38, 512)  0           conv3_block2_add[0][0]           \n",
       "__________________________________________________________________________________________________\n",
       "conv3_block3_1_conv (Conv2D)    (None, 38, 38, 128)  65664       conv3_block2_out[0][0]           \n",
       "__________________________________________________________________________________________________\n",
       "conv3_block3_1_bn (BatchNormali (None, 38, 38, 128)  512         conv3_block3_1_conv[0][0]        \n",
       "__________________________________________________________________________________________________\n",
       "conv3_block3_1_relu (Activation (None, 38, 38, 128)  0           conv3_block3_1_bn[0][0]          \n",
       "__________________________________________________________________________________________________\n",
       "conv3_block3_2_conv (Conv2D)    (None, 38, 38, 128)  147584      conv3_block3_1_relu[0][0]        \n",
       "__________________________________________________________________________________________________\n",
       "conv3_block3_2_bn (BatchNormali (None, 38, 38, 128)  512         conv3_block3_2_conv[0][0]        \n",
       "__________________________________________________________________________________________________\n",
       "conv3_block3_2_relu (Activation (None, 38, 38, 128)  0           conv3_block3_2_bn[0][0]          \n",
       "__________________________________________________________________________________________________\n",
       "conv3_block3_3_conv (Conv2D)    (None, 38, 38, 512)  66048       conv3_block3_2_relu[0][0]        \n",
       "__________________________________________________________________________________________________\n",
       "conv3_block3_3_bn (BatchNormali (None, 38, 38, 512)  2048        conv3_block3_3_conv[0][0]        \n",
       "__________________________________________________________________________________________________\n",
       "conv3_block3_add (Add)          (None, 38, 38, 512)  0           conv3_block2_out[0][0]           \n",
       "                                                                 conv3_block3_3_bn[0][0]          \n",
       "__________________________________________________________________________________________________\n",
       "conv3_block3_out (Activation)   (None, 38, 38, 512)  0           conv3_block3_add[0][0]           \n",
       "__________________________________________________________________________________________________\n",
       "conv3_block4_1_conv (Conv2D)    (None, 38, 38, 128)  65664       conv3_block3_out[0][0]           \n",
       "__________________________________________________________________________________________________\n",
       "conv3_block4_1_bn (BatchNormali (None, 38, 38, 128)  512         conv3_block4_1_conv[0][0]        \n",
       "__________________________________________________________________________________________________\n",
       "conv3_block4_1_relu (Activation (None, 38, 38, 128)  0           conv3_block4_1_bn[0][0]          \n",
       "__________________________________________________________________________________________________\n",
       "conv3_block4_2_conv (Conv2D)    (None, 38, 38, 128)  147584      conv3_block4_1_relu[0][0]        \n",
       "__________________________________________________________________________________________________\n",
       "conv3_block4_2_bn (BatchNormali (None, 38, 38, 128)  512         conv3_block4_2_conv[0][0]        \n",
       "__________________________________________________________________________________________________\n",
       "conv3_block4_2_relu (Activation (None, 38, 38, 128)  0           conv3_block4_2_bn[0][0]          \n",
       "__________________________________________________________________________________________________\n",
       "conv3_block4_3_conv (Conv2D)    (None, 38, 38, 512)  66048       conv3_block4_2_relu[0][0]        \n",
       "__________________________________________________________________________________________________\n",
       "conv3_block4_3_bn (BatchNormali (None, 38, 38, 512)  2048        conv3_block4_3_conv[0][0]        \n",
       "__________________________________________________________________________________________________\n",
       "conv3_block4_add (Add)          (None, 38, 38, 512)  0           conv3_block3_out[0][0]           \n",
       "                                                                 conv3_block4_3_bn[0][0]          \n",
       "__________________________________________________________________________________________________\n",
       "conv3_block4_out (Activation)   (None, 38, 38, 512)  0           conv3_block4_add[0][0]           \n",
       "__________________________________________________________________________________________________\n",
       "conv4_block1_1_conv (Conv2D)    (None, 19, 19, 256)  131328      conv3_block4_out[0][0]           \n",
       "__________________________________________________________________________________________________\n",
       "conv4_block1_1_bn (BatchNormali (None, 19, 19, 256)  1024        conv4_block1_1_conv[0][0]        \n",
       "__________________________________________________________________________________________________\n",
       "conv4_block1_1_relu (Activation (None, 19, 19, 256)  0           conv4_block1_1_bn[0][0]          \n",
       "__________________________________________________________________________________________________\n",
       "conv4_block1_2_conv (Conv2D)    (None, 19, 19, 256)  590080      conv4_block1_1_relu[0][0]        \n",
       "__________________________________________________________________________________________________\n",
       "conv4_block1_2_bn (BatchNormali (None, 19, 19, 256)  1024        conv4_block1_2_conv[0][0]        \n",
       "__________________________________________________________________________________________________\n",
       "conv4_block1_2_relu (Activation (None, 19, 19, 256)  0           conv4_block1_2_bn[0][0]          \n",
       "__________________________________________________________________________________________________\n",
       "conv4_block1_0_conv (Conv2D)    (None, 19, 19, 1024) 525312      conv3_block4_out[0][0]           \n",
       "__________________________________________________________________________________________________\n",
       "conv4_block1_3_conv (Conv2D)    (None, 19, 19, 1024) 263168      conv4_block1_2_relu[0][0]        \n",
       "__________________________________________________________________________________________________\n",
       "conv4_block1_0_bn (BatchNormali (None, 19, 19, 1024) 4096        conv4_block1_0_conv[0][0]        \n",
       "__________________________________________________________________________________________________\n",
       "conv4_block1_3_bn (BatchNormali (None, 19, 19, 1024) 4096        conv4_block1_3_conv[0][0]        \n",
       "__________________________________________________________________________________________________\n",
       "conv4_block1_add (Add)          (None, 19, 19, 1024) 0           conv4_block1_0_bn[0][0]          \n",
       "                                                                 conv4_block1_3_bn[0][0]          \n",
       "__________________________________________________________________________________________________\n",
       "conv4_block1_out (Activation)   (None, 19, 19, 1024) 0           conv4_block1_add[0][0]           \n",
       "__________________________________________________________________________________________________\n",
       "conv4_block2_1_conv (Conv2D)    (None, 19, 19, 256)  262400      conv4_block1_out[0][0]           \n",
       "__________________________________________________________________________________________________\n",
       "conv4_block2_1_bn (BatchNormali (None, 19, 19, 256)  1024        conv4_block2_1_conv[0][0]        \n",
       "__________________________________________________________________________________________________\n",
       "conv4_block2_1_relu (Activation (None, 19, 19, 256)  0           conv4_block2_1_bn[0][0]          \n",
       "__________________________________________________________________________________________________\n",
       "conv4_block2_2_conv (Conv2D)    (None, 19, 19, 256)  590080      conv4_block2_1_relu[0][0]        \n",
       "__________________________________________________________________________________________________\n",
       "conv4_block2_2_bn (BatchNormali (None, 19, 19, 256)  1024        conv4_block2_2_conv[0][0]        \n",
       "__________________________________________________________________________________________________\n",
       "conv4_block2_2_relu (Activation (None, 19, 19, 256)  0           conv4_block2_2_bn[0][0]          \n",
       "__________________________________________________________________________________________________\n",
       "conv4_block2_3_conv (Conv2D)    (None, 19, 19, 1024) 263168      conv4_block2_2_relu[0][0]        \n",
       "__________________________________________________________________________________________________\n",
       "conv4_block2_3_bn (BatchNormali (None, 19, 19, 1024) 4096        conv4_block2_3_conv[0][0]        \n",
       "__________________________________________________________________________________________________\n",
       "conv4_block2_add (Add)          (None, 19, 19, 1024) 0           conv4_block1_out[0][0]           \n",
       "                                                                 conv4_block2_3_bn[0][0]          \n",
       "__________________________________________________________________________________________________\n",
       "conv4_block2_out (Activation)   (None, 19, 19, 1024) 0           conv4_block2_add[0][0]           \n",
       "__________________________________________________________________________________________________\n",
       "conv4_block3_1_conv (Conv2D)    (None, 19, 19, 256)  262400      conv4_block2_out[0][0]           \n",
       "__________________________________________________________________________________________________\n",
       "conv4_block3_1_bn (BatchNormali (None, 19, 19, 256)  1024        conv4_block3_1_conv[0][0]        \n",
       "__________________________________________________________________________________________________\n",
       "conv4_block3_1_relu (Activation (None, 19, 19, 256)  0           conv4_block3_1_bn[0][0]          \n",
       "__________________________________________________________________________________________________\n",
       "conv4_block3_2_conv (Conv2D)    (None, 19, 19, 256)  590080      conv4_block3_1_relu[0][0]        \n",
       "__________________________________________________________________________________________________\n",
       "conv4_block3_2_bn (BatchNormali (None, 19, 19, 256)  1024        conv4_block3_2_conv[0][0]        \n",
       "__________________________________________________________________________________________________\n",
       "conv4_block3_2_relu (Activation (None, 19, 19, 256)  0           conv4_block3_2_bn[0][0]          \n",
       "__________________________________________________________________________________________________\n",
       "conv4_block3_3_conv (Conv2D)    (None, 19, 19, 1024) 263168      conv4_block3_2_relu[0][0]        \n",
       "__________________________________________________________________________________________________\n",
       "conv4_block3_3_bn (BatchNormali (None, 19, 19, 1024) 4096        conv4_block3_3_conv[0][0]        \n",
       "__________________________________________________________________________________________________\n",
       "conv4_block3_add (Add)          (None, 19, 19, 1024) 0           conv4_block2_out[0][0]           \n",
       "                                                                 conv4_block3_3_bn[0][0]          \n",
       "__________________________________________________________________________________________________\n",
       "conv4_block3_out (Activation)   (None, 19, 19, 1024) 0           conv4_block3_add[0][0]           \n",
       "__________________________________________________________________________________________________\n",
       "conv4_block4_1_conv (Conv2D)    (None, 19, 19, 256)  262400      conv4_block3_out[0][0]           \n",
       "__________________________________________________________________________________________________\n",
       "conv4_block4_1_bn (BatchNormali (None, 19, 19, 256)  1024        conv4_block4_1_conv[0][0]        \n",
       "__________________________________________________________________________________________________\n",
       "conv4_block4_1_relu (Activation (None, 19, 19, 256)  0           conv4_block4_1_bn[0][0]          \n",
       "__________________________________________________________________________________________________\n",
       "conv4_block4_2_conv (Conv2D)    (None, 19, 19, 256)  590080      conv4_block4_1_relu[0][0]        \n",
       "__________________________________________________________________________________________________\n",
       "conv4_block4_2_bn (BatchNormali (None, 19, 19, 256)  1024        conv4_block4_2_conv[0][0]        \n",
       "__________________________________________________________________________________________________\n",
       "conv4_block4_2_relu (Activation (None, 19, 19, 256)  0           conv4_block4_2_bn[0][0]          \n",
       "__________________________________________________________________________________________________\n",
       "conv4_block4_3_conv (Conv2D)    (None, 19, 19, 1024) 263168      conv4_block4_2_relu[0][0]        \n",
       "__________________________________________________________________________________________________\n",
       "conv4_block4_3_bn (BatchNormali (None, 19, 19, 1024) 4096        conv4_block4_3_conv[0][0]        \n",
       "__________________________________________________________________________________________________\n",
       "conv4_block4_add (Add)          (None, 19, 19, 1024) 0           conv4_block3_out[0][0]           \n",
       "                                                                 conv4_block4_3_bn[0][0]          \n",
       "__________________________________________________________________________________________________\n",
       "conv4_block4_out (Activation)   (None, 19, 19, 1024) 0           conv4_block4_add[0][0]           \n",
       "__________________________________________________________________________________________________\n",
       "conv4_block5_1_conv (Conv2D)    (None, 19, 19, 256)  262400      conv4_block4_out[0][0]           \n",
       "__________________________________________________________________________________________________\n",
       "conv4_block5_1_bn (BatchNormali (None, 19, 19, 256)  1024        conv4_block5_1_conv[0][0]        \n",
       "__________________________________________________________________________________________________\n",
       "conv4_block5_1_relu (Activation (None, 19, 19, 256)  0           conv4_block5_1_bn[0][0]          \n",
       "__________________________________________________________________________________________________\n",
       "conv4_block5_2_conv (Conv2D)    (None, 19, 19, 256)  590080      conv4_block5_1_relu[0][0]        \n",
       "__________________________________________________________________________________________________\n",
       "conv4_block5_2_bn (BatchNormali (None, 19, 19, 256)  1024        conv4_block5_2_conv[0][0]        \n",
       "__________________________________________________________________________________________________\n",
       "conv4_block5_2_relu (Activation (None, 19, 19, 256)  0           conv4_block5_2_bn[0][0]          \n",
       "__________________________________________________________________________________________________\n",
       "conv4_block5_3_conv (Conv2D)    (None, 19, 19, 1024) 263168      conv4_block5_2_relu[0][0]        \n",
       "__________________________________________________________________________________________________\n",
       "conv4_block5_3_bn (BatchNormali (None, 19, 19, 1024) 4096        conv4_block5_3_conv[0][0]        \n",
       "__________________________________________________________________________________________________\n",
       "conv4_block5_add (Add)          (None, 19, 19, 1024) 0           conv4_block4_out[0][0]           \n",
       "                                                                 conv4_block5_3_bn[0][0]          \n",
       "__________________________________________________________________________________________________\n",
       "conv4_block5_out (Activation)   (None, 19, 19, 1024) 0           conv4_block5_add[0][0]           \n",
       "__________________________________________________________________________________________________\n",
       "conv4_block6_1_conv (Conv2D)    (None, 19, 19, 256)  262400      conv4_block5_out[0][0]           \n",
       "__________________________________________________________________________________________________\n",
       "conv4_block6_1_bn (BatchNormali (None, 19, 19, 256)  1024        conv4_block6_1_conv[0][0]        \n",
       "__________________________________________________________________________________________________\n",
       "conv4_block6_1_relu (Activation (None, 19, 19, 256)  0           conv4_block6_1_bn[0][0]          \n",
       "__________________________________________________________________________________________________\n",
       "conv4_block6_2_conv (Conv2D)    (None, 19, 19, 256)  590080      conv4_block6_1_relu[0][0]        \n",
       "__________________________________________________________________________________________________\n",
       "conv4_block6_2_bn (BatchNormali (None, 19, 19, 256)  1024        conv4_block6_2_conv[0][0]        \n",
       "__________________________________________________________________________________________________\n",
       "conv4_block6_2_relu (Activation (None, 19, 19, 256)  0           conv4_block6_2_bn[0][0]          \n",
       "__________________________________________________________________________________________________\n",
       "conv4_block6_3_conv (Conv2D)    (None, 19, 19, 1024) 263168      conv4_block6_2_relu[0][0]        \n",
       "__________________________________________________________________________________________________\n",
       "conv4_block6_3_bn (BatchNormali (None, 19, 19, 1024) 4096        conv4_block6_3_conv[0][0]        \n",
       "__________________________________________________________________________________________________\n",
       "conv4_block6_add (Add)          (None, 19, 19, 1024) 0           conv4_block5_out[0][0]           \n",
       "                                                                 conv4_block6_3_bn[0][0]          \n",
       "__________________________________________________________________________________________________\n",
       "conv4_block6_out (Activation)   (None, 19, 19, 1024) 0           conv4_block6_add[0][0]           \n",
       "__________________________________________________________________________________________________\n",
       "conv5_block1_1_conv (Conv2D)    (None, 10, 10, 512)  524800      conv4_block6_out[0][0]           \n",
       "__________________________________________________________________________________________________\n",
       "conv5_block1_1_bn (BatchNormali (None, 10, 10, 512)  2048        conv5_block1_1_conv[0][0]        \n",
       "__________________________________________________________________________________________________\n",
       "conv5_block1_1_relu (Activation (None, 10, 10, 512)  0           conv5_block1_1_bn[0][0]          \n",
       "__________________________________________________________________________________________________\n",
       "conv5_block1_2_conv (Conv2D)    (None, 10, 10, 512)  2359808     conv5_block1_1_relu[0][0]        \n",
       "__________________________________________________________________________________________________\n",
       "conv5_block1_2_bn (BatchNormali (None, 10, 10, 512)  2048        conv5_block1_2_conv[0][0]        \n",
       "__________________________________________________________________________________________________\n",
       "conv5_block1_2_relu (Activation (None, 10, 10, 512)  0           conv5_block1_2_bn[0][0]          \n",
       "__________________________________________________________________________________________________\n",
       "conv5_block1_0_conv (Conv2D)    (None, 10, 10, 2048) 2099200     conv4_block6_out[0][0]           \n",
       "__________________________________________________________________________________________________\n",
       "conv5_block1_3_conv (Conv2D)    (None, 10, 10, 2048) 1050624     conv5_block1_2_relu[0][0]        \n",
       "__________________________________________________________________________________________________\n",
       "conv5_block1_0_bn (BatchNormali (None, 10, 10, 2048) 8192        conv5_block1_0_conv[0][0]        \n",
       "__________________________________________________________________________________________________\n",
       "conv5_block1_3_bn (BatchNormali (None, 10, 10, 2048) 8192        conv5_block1_3_conv[0][0]        \n",
       "__________________________________________________________________________________________________\n",
       "conv5_block1_add (Add)          (None, 10, 10, 2048) 0           conv5_block1_0_bn[0][0]          \n",
       "                                                                 conv5_block1_3_bn[0][0]          \n",
       "__________________________________________________________________________________________________\n",
       "conv5_block1_out (Activation)   (None, 10, 10, 2048) 0           conv5_block1_add[0][0]           \n",
       "__________________________________________________________________________________________________\n",
       "conv5_block2_1_conv (Conv2D)    (None, 10, 10, 512)  1049088     conv5_block1_out[0][0]           \n",
       "__________________________________________________________________________________________________\n",
       "conv5_block2_1_bn (BatchNormali (None, 10, 10, 512)  2048        conv5_block2_1_conv[0][0]        \n",
       "__________________________________________________________________________________________________\n",
       "conv5_block2_1_relu (Activation (None, 10, 10, 512)  0           conv5_block2_1_bn[0][0]          \n",
       "__________________________________________________________________________________________________\n",
       "conv5_block2_2_conv (Conv2D)    (None, 10, 10, 512)  2359808     conv5_block2_1_relu[0][0]        \n",
       "__________________________________________________________________________________________________\n",
       "conv5_block2_2_bn (BatchNormali (None, 10, 10, 512)  2048        conv5_block2_2_conv[0][0]        \n",
       "__________________________________________________________________________________________________\n",
       "conv5_block2_2_relu (Activation (None, 10, 10, 512)  0           conv5_block2_2_bn[0][0]          \n",
       "__________________________________________________________________________________________________\n",
       "conv5_block2_3_conv (Conv2D)    (None, 10, 10, 2048) 1050624     conv5_block2_2_relu[0][0]        \n",
       "__________________________________________________________________________________________________\n",
       "conv5_block2_3_bn (BatchNormali (None, 10, 10, 2048) 8192        conv5_block2_3_conv[0][0]        \n",
       "__________________________________________________________________________________________________\n",
       "conv5_block2_add (Add)          (None, 10, 10, 2048) 0           conv5_block1_out[0][0]           \n",
       "                                                                 conv5_block2_3_bn[0][0]          \n",
       "__________________________________________________________________________________________________\n",
       "conv5_block2_out (Activation)   (None, 10, 10, 2048) 0           conv5_block2_add[0][0]           \n",
       "__________________________________________________________________________________________________\n",
       "conv5_block3_1_conv (Conv2D)    (None, 10, 10, 512)  1049088     conv5_block2_out[0][0]           \n",
       "__________________________________________________________________________________________________\n",
       "conv5_block3_1_bn (BatchNormali (None, 10, 10, 512)  2048        conv5_block3_1_conv[0][0]        \n",
       "__________________________________________________________________________________________________\n",
       "conv5_block3_1_relu (Activation (None, 10, 10, 512)  0           conv5_block3_1_bn[0][0]          \n",
       "__________________________________________________________________________________________________\n",
       "conv5_block3_2_conv (Conv2D)    (None, 10, 10, 512)  2359808     conv5_block3_1_relu[0][0]        \n",
       "__________________________________________________________________________________________________\n",
       "conv5_block3_2_bn (BatchNormali (None, 10, 10, 512)  2048        conv5_block3_2_conv[0][0]        \n",
       "__________________________________________________________________________________________________\n",
       "conv5_block3_2_relu (Activation (None, 10, 10, 512)  0           conv5_block3_2_bn[0][0]          \n",
       "__________________________________________________________________________________________________\n",
       "conv5_block3_3_conv (Conv2D)    (None, 10, 10, 2048) 1050624     conv5_block3_2_relu[0][0]        \n",
       "__________________________________________________________________________________________________\n",
       "conv5_block3_3_bn (BatchNormali (None, 10, 10, 2048) 8192        conv5_block3_3_conv[0][0]        \n",
       "__________________________________________________________________________________________________\n",
       "conv5_block3_add (Add)          (None, 10, 10, 2048) 0           conv5_block2_out[0][0]           \n",
       "                                                                 conv5_block3_3_bn[0][0]          \n",
       "__________________________________________________________________________________________________\n",
       "conv5_block3_out (Activation)   (None, 10, 10, 2048) 0           conv5_block3_add[0][0]           \n",
       "__________________________________________________________________________________________________\n",
       "flatten (Flatten)               (None, 204800)       0           conv5_block3_out[0][0]           \n",
       "__________________________________________________________________________________________________\n",
       "dropout (Dropout)               (None, 204800)       0           flatten[0][0]                    \n",
       "__________________________________________________________________________________________________\n",
       "relu (Dense)                    (None, 2)            409602      dropout[0][0]                    \n",
       "==================================================================================================\n",
       "Total params: 23,997,314\n",
       "Trainable params: 23,944,194\n",
       "Non-trainable params: 53,120\n",
       "__________________________________________________________________________________________________\n",
       "</div>"
      ]
     },
     "metadata": {
      "application/vnd.databricks.v1+output": {
       "addedWidgets": {},
       "arguments": {},
       "data": "<div class=\"ansiout\">Model: &#34;model&#34;\n__________________________________________________________________________________________________\nLayer (type)                    Output Shape         Param #     Connected to                     \n==================================================================================================\ninput_1 (InputLayer)            [(None, 300, 300, 3) 0                                            \n__________________________________________________________________________________________________\nconv1_pad (ZeroPadding2D)       (None, 306, 306, 3)  0           input_1[0][0]                    \n__________________________________________________________________________________________________\nconv1_conv (Conv2D)             (None, 150, 150, 64) 9472        conv1_pad[0][0]                  \n__________________________________________________________________________________________________\nconv1_bn (BatchNormalization)   (None, 150, 150, 64) 256         conv1_conv[0][0]                 \n__________________________________________________________________________________________________\nconv1_relu (Activation)         (None, 150, 150, 64) 0           conv1_bn[0][0]                   \n__________________________________________________________________________________________________\npool1_pad (ZeroPadding2D)       (None, 152, 152, 64) 0           conv1_relu[0][0]                 \n__________________________________________________________________________________________________\npool1_pool (MaxPooling2D)       (None, 75, 75, 64)   0           pool1_pad[0][0]                  \n__________________________________________________________________________________________________\nconv2_block1_1_conv (Conv2D)    (None, 75, 75, 64)   4160        pool1_pool[0][0]                 \n__________________________________________________________________________________________________\nconv2_block1_1_bn (BatchNormali (None, 75, 75, 64)   256         conv2_block1_1_conv[0][0]        \n__________________________________________________________________________________________________\nconv2_block1_1_relu (Activation (None, 75, 75, 64)   0           conv2_block1_1_bn[0][0]          \n__________________________________________________________________________________________________\nconv2_block1_2_conv (Conv2D)    (None, 75, 75, 64)   36928       conv2_block1_1_relu[0][0]        \n__________________________________________________________________________________________________\nconv2_block1_2_bn (BatchNormali (None, 75, 75, 64)   256         conv2_block1_2_conv[0][0]        \n__________________________________________________________________________________________________\nconv2_block1_2_relu (Activation (None, 75, 75, 64)   0           conv2_block1_2_bn[0][0]          \n__________________________________________________________________________________________________\nconv2_block1_0_conv (Conv2D)    (None, 75, 75, 256)  16640       pool1_pool[0][0]                 \n__________________________________________________________________________________________________\nconv2_block1_3_conv (Conv2D)    (None, 75, 75, 256)  16640       conv2_block1_2_relu[0][0]        \n__________________________________________________________________________________________________\nconv2_block1_0_bn (BatchNormali (None, 75, 75, 256)  1024        conv2_block1_0_conv[0][0]        \n__________________________________________________________________________________________________\nconv2_block1_3_bn (BatchNormali (None, 75, 75, 256)  1024        conv2_block1_3_conv[0][0]        \n__________________________________________________________________________________________________\nconv2_block1_add (Add)          (None, 75, 75, 256)  0           conv2_block1_0_bn[0][0]          \n                                                                 conv2_block1_3_bn[0][0]          \n__________________________________________________________________________________________________\nconv2_block1_out (Activation)   (None, 75, 75, 256)  0           conv2_block1_add[0][0]           \n__________________________________________________________________________________________________\nconv2_block2_1_conv (Conv2D)    (None, 75, 75, 64)   16448       conv2_block1_out[0][0]           \n__________________________________________________________________________________________________\nconv2_block2_1_bn (BatchNormali (None, 75, 75, 64)   256         conv2_block2_1_conv[0][0]        \n__________________________________________________________________________________________________\nconv2_block2_1_relu (Activation (None, 75, 75, 64)   0           conv2_block2_1_bn[0][0]          \n__________________________________________________________________________________________________\nconv2_block2_2_conv (Conv2D)    (None, 75, 75, 64)   36928       conv2_block2_1_relu[0][0]        \n__________________________________________________________________________________________________\nconv2_block2_2_bn (BatchNormali (None, 75, 75, 64)   256         conv2_block2_2_conv[0][0]        \n__________________________________________________________________________________________________\nconv2_block2_2_relu (Activation (None, 75, 75, 64)   0           conv2_block2_2_bn[0][0]          \n__________________________________________________________________________________________________\nconv2_block2_3_conv (Conv2D)    (None, 75, 75, 256)  16640       conv2_block2_2_relu[0][0]        \n__________________________________________________________________________________________________\nconv2_block2_3_bn (BatchNormali (None, 75, 75, 256)  1024        conv2_block2_3_conv[0][0]        \n__________________________________________________________________________________________________\nconv2_block2_add (Add)          (None, 75, 75, 256)  0           conv2_block1_out[0][0]           \n                                                                 conv2_block2_3_bn[0][0]          \n__________________________________________________________________________________________________\nconv2_block2_out (Activation)   (None, 75, 75, 256)  0           conv2_block2_add[0][0]           \n__________________________________________________________________________________________________\nconv2_block3_1_conv (Conv2D)    (None, 75, 75, 64)   16448       conv2_block2_out[0][0]           \n__________________________________________________________________________________________________\nconv2_block3_1_bn (BatchNormali (None, 75, 75, 64)   256         conv2_block3_1_conv[0][0]        \n__________________________________________________________________________________________________\nconv2_block3_1_relu (Activation (None, 75, 75, 64)   0           conv2_block3_1_bn[0][0]          \n__________________________________________________________________________________________________\nconv2_block3_2_conv (Conv2D)    (None, 75, 75, 64)   36928       conv2_block3_1_relu[0][0]        \n__________________________________________________________________________________________________\nconv2_block3_2_bn (BatchNormali (None, 75, 75, 64)   256         conv2_block3_2_conv[0][0]        \n__________________________________________________________________________________________________\nconv2_block3_2_relu (Activation (None, 75, 75, 64)   0           conv2_block3_2_bn[0][0]          \n__________________________________________________________________________________________________\nconv2_block3_3_conv (Conv2D)    (None, 75, 75, 256)  16640       conv2_block3_2_relu[0][0]        \n__________________________________________________________________________________________________\nconv2_block3_3_bn (BatchNormali (None, 75, 75, 256)  1024        conv2_block3_3_conv[0][0]        \n__________________________________________________________________________________________________\nconv2_block3_add (Add)          (None, 75, 75, 256)  0           conv2_block2_out[0][0]           \n                                                                 conv2_block3_3_bn[0][0]          \n__________________________________________________________________________________________________\nconv2_block3_out (Activation)   (None, 75, 75, 256)  0           conv2_block3_add[0][0]           \n__________________________________________________________________________________________________\nconv3_block1_1_conv (Conv2D)    (None, 38, 38, 128)  32896       conv2_block3_out[0][0]           \n__________________________________________________________________________________________________\nconv3_block1_1_bn (BatchNormali (None, 38, 38, 128)  512         conv3_block1_1_conv[0][0]        \n__________________________________________________________________________________________________\nconv3_block1_1_relu (Activation (None, 38, 38, 128)  0           conv3_block1_1_bn[0][0]          \n__________________________________________________________________________________________________\nconv3_block1_2_conv (Conv2D)    (None, 38, 38, 128)  147584      conv3_block1_1_relu[0][0]        \n__________________________________________________________________________________________________\nconv3_block1_2_bn (BatchNormali (None, 38, 38, 128)  512         conv3_block1_2_conv[0][0]        \n__________________________________________________________________________________________________\nconv3_block1_2_relu (Activation (None, 38, 38, 128)  0           conv3_block1_2_bn[0][0]          \n__________________________________________________________________________________________________\nconv3_block1_0_conv (Conv2D)    (None, 38, 38, 512)  131584      conv2_block3_out[0][0]           \n__________________________________________________________________________________________________\nconv3_block1_3_conv (Conv2D)    (None, 38, 38, 512)  66048       conv3_block1_2_relu[0][0]        \n__________________________________________________________________________________________________\nconv3_block1_0_bn (BatchNormali (None, 38, 38, 512)  2048        conv3_block1_0_conv[0][0]        \n__________________________________________________________________________________________________\nconv3_block1_3_bn (BatchNormali (None, 38, 38, 512)  2048        conv3_block1_3_conv[0][0]        \n__________________________________________________________________________________________________\nconv3_block1_add (Add)          (None, 38, 38, 512)  0           conv3_block1_0_bn[0][0]          \n                                                                 conv3_block1_3_bn[0][0]          \n__________________________________________________________________________________________________\nconv3_block1_out (Activation)   (None, 38, 38, 512)  0           conv3_block1_add[0][0]           \n__________________________________________________________________________________________________\nconv3_block2_1_conv (Conv2D)    (None, 38, 38, 128)  65664       conv3_block1_out[0][0]           \n__________________________________________________________________________________________________\nconv3_block2_1_bn (BatchNormali (None, 38, 38, 128)  512         conv3_block2_1_conv[0][0]        \n__________________________________________________________________________________________________\nconv3_block2_1_relu (Activation (None, 38, 38, 128)  0           conv3_block2_1_bn[0][0]          \n__________________________________________________________________________________________________\nconv3_block2_2_conv (Conv2D)    (None, 38, 38, 128)  147584      conv3_block2_1_relu[0][0]        \n__________________________________________________________________________________________________\nconv3_block2_2_bn (BatchNormali (None, 38, 38, 128)  512         conv3_block2_2_conv[0][0]        \n__________________________________________________________________________________________________\nconv3_block2_2_relu (Activation (None, 38, 38, 128)  0           conv3_block2_2_bn[0][0]          \n__________________________________________________________________________________________________\nconv3_block2_3_conv (Conv2D)    (None, 38, 38, 512)  66048       conv3_block2_2_relu[0][0]        \n__________________________________________________________________________________________________\nconv3_block2_3_bn (BatchNormali (None, 38, 38, 512)  2048        conv3_block2_3_conv[0][0]        \n__________________________________________________________________________________________________\nconv3_block2_add (Add)          (None, 38, 38, 512)  0           conv3_block1_out[0][0]           \n                                                                 conv3_block2_3_bn[0][0]          \n__________________________________________________________________________________________________\nconv3_block2_out (Activation)   (None, 38, 38, 512)  0           conv3_block2_add[0][0]           \n__________________________________________________________________________________________________\nconv3_block3_1_conv (Conv2D)    (None, 38, 38, 128)  65664       conv3_block2_out[0][0]           \n__________________________________________________________________________________________________\nconv3_block3_1_bn (BatchNormali (None, 38, 38, 128)  512         conv3_block3_1_conv[0][0]        \n__________________________________________________________________________________________________\nconv3_block3_1_relu (Activation (None, 38, 38, 128)  0           conv3_block3_1_bn[0][0]          \n__________________________________________________________________________________________________\nconv3_block3_2_conv (Conv2D)    (None, 38, 38, 128)  147584      conv3_block3_1_relu[0][0]        \n__________________________________________________________________________________________________\nconv3_block3_2_bn (BatchNormali (None, 38, 38, 128)  512         conv3_block3_2_conv[0][0]        \n__________________________________________________________________________________________________\nconv3_block3_2_relu (Activation (None, 38, 38, 128)  0           conv3_block3_2_bn[0][0]          \n__________________________________________________________________________________________________\nconv3_block3_3_conv (Conv2D)    (None, 38, 38, 512)  66048       conv3_block3_2_relu[0][0]        \n__________________________________________________________________________________________________\nconv3_block3_3_bn (BatchNormali (None, 38, 38, 512)  2048        conv3_block3_3_conv[0][0]        \n__________________________________________________________________________________________________\nconv3_block3_add (Add)          (None, 38, 38, 512)  0           conv3_block2_out[0][0]           \n                                                                 conv3_block3_3_bn[0][0]          \n__________________________________________________________________________________________________\nconv3_block3_out (Activation)   (None, 38, 38, 512)  0           conv3_block3_add[0][0]           \n__________________________________________________________________________________________________\nconv3_block4_1_conv (Conv2D)    (None, 38, 38, 128)  65664       conv3_block3_out[0][0]           \n__________________________________________________________________________________________________\nconv3_block4_1_bn (BatchNormali (None, 38, 38, 128)  512         conv3_block4_1_conv[0][0]        \n__________________________________________________________________________________________________\nconv3_block4_1_relu (Activation (None, 38, 38, 128)  0           conv3_block4_1_bn[0][0]          \n__________________________________________________________________________________________________\nconv3_block4_2_conv (Conv2D)    (None, 38, 38, 128)  147584      conv3_block4_1_relu[0][0]        \n__________________________________________________________________________________________________\nconv3_block4_2_bn (BatchNormali (None, 38, 38, 128)  512         conv3_block4_2_conv[0][0]        \n__________________________________________________________________________________________________\nconv3_block4_2_relu (Activation (None, 38, 38, 128)  0           conv3_block4_2_bn[0][0]          \n__________________________________________________________________________________________________\nconv3_block4_3_conv (Conv2D)    (None, 38, 38, 512)  66048       conv3_block4_2_relu[0][0]        \n__________________________________________________________________________________________________\nconv3_block4_3_bn (BatchNormali (None, 38, 38, 512)  2048        conv3_block4_3_conv[0][0]        \n__________________________________________________________________________________________________\nconv3_block4_add (Add)          (None, 38, 38, 512)  0           conv3_block3_out[0][0]           \n                                                                 conv3_block4_3_bn[0][0]          \n__________________________________________________________________________________________________\nconv3_block4_out (Activation)   (None, 38, 38, 512)  0           conv3_block4_add[0][0]           \n__________________________________________________________________________________________________\nconv4_block1_1_conv (Conv2D)    (None, 19, 19, 256)  131328      conv3_block4_out[0][0]           \n__________________________________________________________________________________________________\nconv4_block1_1_bn (BatchNormali (None, 19, 19, 256)  1024        conv4_block1_1_conv[0][0]        \n__________________________________________________________________________________________________\nconv4_block1_1_relu (Activation (None, 19, 19, 256)  0           conv4_block1_1_bn[0][0]          \n__________________________________________________________________________________________________\nconv4_block1_2_conv (Conv2D)    (None, 19, 19, 256)  590080      conv4_block1_1_relu[0][0]        \n__________________________________________________________________________________________________\nconv4_block1_2_bn (BatchNormali (None, 19, 19, 256)  1024        conv4_block1_2_conv[0][0]        \n__________________________________________________________________________________________________\nconv4_block1_2_relu (Activation (None, 19, 19, 256)  0           conv4_block1_2_bn[0][0]          \n__________________________________________________________________________________________________\nconv4_block1_0_conv (Conv2D)    (None, 19, 19, 1024) 525312      conv3_block4_out[0][0]           \n__________________________________________________________________________________________________\nconv4_block1_3_conv (Conv2D)    (None, 19, 19, 1024) 263168      conv4_block1_2_relu[0][0]        \n__________________________________________________________________________________________________\nconv4_block1_0_bn (BatchNormali (None, 19, 19, 1024) 4096        conv4_block1_0_conv[0][0]        \n__________________________________________________________________________________________________\nconv4_block1_3_bn (BatchNormali (None, 19, 19, 1024) 4096        conv4_block1_3_conv[0][0]        \n__________________________________________________________________________________________________\nconv4_block1_add (Add)          (None, 19, 19, 1024) 0           conv4_block1_0_bn[0][0]          \n                                                                 conv4_block1_3_bn[0][0]          \n__________________________________________________________________________________________________\nconv4_block1_out (Activation)   (None, 19, 19, 1024) 0           conv4_block1_add[0][0]           \n__________________________________________________________________________________________________\nconv4_block2_1_conv (Conv2D)    (None, 19, 19, 256)  262400      conv4_block1_out[0][0]           \n__________________________________________________________________________________________________\nconv4_block2_1_bn (BatchNormali (None, 19, 19, 256)  1024        conv4_block2_1_conv[0][0]        \n__________________________________________________________________________________________________\nconv4_block2_1_relu (Activation (None, 19, 19, 256)  0           conv4_block2_1_bn[0][0]          \n__________________________________________________________________________________________________\nconv4_block2_2_conv (Conv2D)    (None, 19, 19, 256)  590080      conv4_block2_1_relu[0][0]        \n__________________________________________________________________________________________________\nconv4_block2_2_bn (BatchNormali (None, 19, 19, 256)  1024        conv4_block2_2_conv[0][0]        \n__________________________________________________________________________________________________\nconv4_block2_2_relu (Activation (None, 19, 19, 256)  0           conv4_block2_2_bn[0][0]          \n__________________________________________________________________________________________________\nconv4_block2_3_conv (Conv2D)    (None, 19, 19, 1024) 263168      conv4_block2_2_relu[0][0]        \n__________________________________________________________________________________________________\nconv4_block2_3_bn (BatchNormali (None, 19, 19, 1024) 4096        conv4_block2_3_conv[0][0]        \n__________________________________________________________________________________________________\nconv4_block2_add (Add)          (None, 19, 19, 1024) 0           conv4_block1_out[0][0]           \n                                                                 conv4_block2_3_bn[0][0]          \n__________________________________________________________________________________________________\nconv4_block2_out (Activation)   (None, 19, 19, 1024) 0           conv4_block2_add[0][0]           \n__________________________________________________________________________________________________\nconv4_block3_1_conv (Conv2D)    (None, 19, 19, 256)  262400      conv4_block2_out[0][0]           \n__________________________________________________________________________________________________\nconv4_block3_1_bn (BatchNormali (None, 19, 19, 256)  1024        conv4_block3_1_conv[0][0]        \n__________________________________________________________________________________________________\nconv4_block3_1_relu (Activation (None, 19, 19, 256)  0           conv4_block3_1_bn[0][0]          \n__________________________________________________________________________________________________\nconv4_block3_2_conv (Conv2D)    (None, 19, 19, 256)  590080      conv4_block3_1_relu[0][0]        \n__________________________________________________________________________________________________\nconv4_block3_2_bn (BatchNormali (None, 19, 19, 256)  1024        conv4_block3_2_conv[0][0]        \n__________________________________________________________________________________________________\nconv4_block3_2_relu (Activation (None, 19, 19, 256)  0           conv4_block3_2_bn[0][0]          \n__________________________________________________________________________________________________\nconv4_block3_3_conv (Conv2D)    (None, 19, 19, 1024) 263168      conv4_block3_2_relu[0][0]        \n__________________________________________________________________________________________________\nconv4_block3_3_bn (BatchNormali (None, 19, 19, 1024) 4096        conv4_block3_3_conv[0][0]        \n__________________________________________________________________________________________________\nconv4_block3_add (Add)          (None, 19, 19, 1024) 0           conv4_block2_out[0][0]           \n                                                                 conv4_block3_3_bn[0][0]          \n__________________________________________________________________________________________________\nconv4_block3_out (Activation)   (None, 19, 19, 1024) 0           conv4_block3_add[0][0]           \n__________________________________________________________________________________________________\nconv4_block4_1_conv (Conv2D)    (None, 19, 19, 256)  262400      conv4_block3_out[0][0]           \n__________________________________________________________________________________________________\nconv4_block4_1_bn (BatchNormali (None, 19, 19, 256)  1024        conv4_block4_1_conv[0][0]        \n__________________________________________________________________________________________________\nconv4_block4_1_relu (Activation (None, 19, 19, 256)  0           conv4_block4_1_bn[0][0]          \n__________________________________________________________________________________________________\nconv4_block4_2_conv (Conv2D)    (None, 19, 19, 256)  590080      conv4_block4_1_relu[0][0]        \n__________________________________________________________________________________________________\nconv4_block4_2_bn (BatchNormali (None, 19, 19, 256)  1024        conv4_block4_2_conv[0][0]        \n__________________________________________________________________________________________________\nconv4_block4_2_relu (Activation (None, 19, 19, 256)  0           conv4_block4_2_bn[0][0]          \n__________________________________________________________________________________________________\nconv4_block4_3_conv (Conv2D)    (None, 19, 19, 1024) 263168      conv4_block4_2_relu[0][0]        \n__________________________________________________________________________________________________\nconv4_block4_3_bn (BatchNormali (None, 19, 19, 1024) 4096        conv4_block4_3_conv[0][0]        \n__________________________________________________________________________________________________\nconv4_block4_add (Add)          (None, 19, 19, 1024) 0           conv4_block3_out[0][0]           \n                                                                 conv4_block4_3_bn[0][0]          \n__________________________________________________________________________________________________\nconv4_block4_out (Activation)   (None, 19, 19, 1024) 0           conv4_block4_add[0][0]           \n__________________________________________________________________________________________________\nconv4_block5_1_conv (Conv2D)    (None, 19, 19, 256)  262400      conv4_block4_out[0][0]           \n__________________________________________________________________________________________________\nconv4_block5_1_bn (BatchNormali (None, 19, 19, 256)  1024        conv4_block5_1_conv[0][0]        \n__________________________________________________________________________________________________\nconv4_block5_1_relu (Activation (None, 19, 19, 256)  0           conv4_block5_1_bn[0][0]          \n__________________________________________________________________________________________________\nconv4_block5_2_conv (Conv2D)    (None, 19, 19, 256)  590080      conv4_block5_1_relu[0][0]        \n__________________________________________________________________________________________________\nconv4_block5_2_bn (BatchNormali (None, 19, 19, 256)  1024        conv4_block5_2_conv[0][0]        \n__________________________________________________________________________________________________\nconv4_block5_2_relu (Activation (None, 19, 19, 256)  0           conv4_block5_2_bn[0][0]          \n__________________________________________________________________________________________________\nconv4_block5_3_conv (Conv2D)    (None, 19, 19, 1024) 263168      conv4_block5_2_relu[0][0]        \n__________________________________________________________________________________________________\nconv4_block5_3_bn (BatchNormali (None, 19, 19, 1024) 4096        conv4_block5_3_conv[0][0]        \n__________________________________________________________________________________________________\nconv4_block5_add (Add)          (None, 19, 19, 1024) 0           conv4_block4_out[0][0]           \n                                                                 conv4_block5_3_bn[0][0]          \n__________________________________________________________________________________________________\nconv4_block5_out (Activation)   (None, 19, 19, 1024) 0           conv4_block5_add[0][0]           \n__________________________________________________________________________________________________\nconv4_block6_1_conv (Conv2D)    (None, 19, 19, 256)  262400      conv4_block5_out[0][0]           \n__________________________________________________________________________________________________\nconv4_block6_1_bn (BatchNormali (None, 19, 19, 256)  1024        conv4_block6_1_conv[0][0]        \n__________________________________________________________________________________________________\nconv4_block6_1_relu (Activation (None, 19, 19, 256)  0           conv4_block6_1_bn[0][0]          \n__________________________________________________________________________________________________\nconv4_block6_2_conv (Conv2D)    (None, 19, 19, 256)  590080      conv4_block6_1_relu[0][0]        \n__________________________________________________________________________________________________\nconv4_block6_2_bn (BatchNormali (None, 19, 19, 256)  1024        conv4_block6_2_conv[0][0]        \n__________________________________________________________________________________________________\nconv4_block6_2_relu (Activation (None, 19, 19, 256)  0           conv4_block6_2_bn[0][0]          \n__________________________________________________________________________________________________\nconv4_block6_3_conv (Conv2D)    (None, 19, 19, 1024) 263168      conv4_block6_2_relu[0][0]        \n__________________________________________________________________________________________________\nconv4_block6_3_bn (BatchNormali (None, 19, 19, 1024) 4096        conv4_block6_3_conv[0][0]        \n__________________________________________________________________________________________________\nconv4_block6_add (Add)          (None, 19, 19, 1024) 0           conv4_block5_out[0][0]           \n                                                                 conv4_block6_3_bn[0][0]          \n__________________________________________________________________________________________________\nconv4_block6_out (Activation)   (None, 19, 19, 1024) 0           conv4_block6_add[0][0]           \n__________________________________________________________________________________________________\nconv5_block1_1_conv (Conv2D)    (None, 10, 10, 512)  524800      conv4_block6_out[0][0]           \n__________________________________________________________________________________________________\nconv5_block1_1_bn (BatchNormali (None, 10, 10, 512)  2048        conv5_block1_1_conv[0][0]        \n__________________________________________________________________________________________________\nconv5_block1_1_relu (Activation (None, 10, 10, 512)  0           conv5_block1_1_bn[0][0]          \n__________________________________________________________________________________________________\nconv5_block1_2_conv (Conv2D)    (None, 10, 10, 512)  2359808     conv5_block1_1_relu[0][0]        \n__________________________________________________________________________________________________\nconv5_block1_2_bn (BatchNormali (None, 10, 10, 512)  2048        conv5_block1_2_conv[0][0]        \n__________________________________________________________________________________________________\nconv5_block1_2_relu (Activation (None, 10, 10, 512)  0           conv5_block1_2_bn[0][0]          \n__________________________________________________________________________________________________\nconv5_block1_0_conv (Conv2D)    (None, 10, 10, 2048) 2099200     conv4_block6_out[0][0]           \n__________________________________________________________________________________________________\nconv5_block1_3_conv (Conv2D)    (None, 10, 10, 2048) 1050624     conv5_block1_2_relu[0][0]        \n__________________________________________________________________________________________________\nconv5_block1_0_bn (BatchNormali (None, 10, 10, 2048) 8192        conv5_block1_0_conv[0][0]        \n__________________________________________________________________________________________________\nconv5_block1_3_bn (BatchNormali (None, 10, 10, 2048) 8192        conv5_block1_3_conv[0][0]        \n__________________________________________________________________________________________________\nconv5_block1_add (Add)          (None, 10, 10, 2048) 0           conv5_block1_0_bn[0][0]          \n                                                                 conv5_block1_3_bn[0][0]          \n__________________________________________________________________________________________________\nconv5_block1_out (Activation)   (None, 10, 10, 2048) 0           conv5_block1_add[0][0]           \n__________________________________________________________________________________________________\nconv5_block2_1_conv (Conv2D)    (None, 10, 10, 512)  1049088     conv5_block1_out[0][0]           \n__________________________________________________________________________________________________\nconv5_block2_1_bn (BatchNormali (None, 10, 10, 512)  2048        conv5_block2_1_conv[0][0]        \n__________________________________________________________________________________________________\nconv5_block2_1_relu (Activation (None, 10, 10, 512)  0           conv5_block2_1_bn[0][0]          \n__________________________________________________________________________________________________\nconv5_block2_2_conv (Conv2D)    (None, 10, 10, 512)  2359808     conv5_block2_1_relu[0][0]        \n__________________________________________________________________________________________________\nconv5_block2_2_bn (BatchNormali (None, 10, 10, 512)  2048        conv5_block2_2_conv[0][0]        \n__________________________________________________________________________________________________\nconv5_block2_2_relu (Activation (None, 10, 10, 512)  0           conv5_block2_2_bn[0][0]          \n__________________________________________________________________________________________________\nconv5_block2_3_conv (Conv2D)    (None, 10, 10, 2048) 1050624     conv5_block2_2_relu[0][0]        \n__________________________________________________________________________________________________\nconv5_block2_3_bn (BatchNormali (None, 10, 10, 2048) 8192        conv5_block2_3_conv[0][0]        \n__________________________________________________________________________________________________\nconv5_block2_add (Add)          (None, 10, 10, 2048) 0           conv5_block1_out[0][0]           \n                                                                 conv5_block2_3_bn[0][0]          \n__________________________________________________________________________________________________\nconv5_block2_out (Activation)   (None, 10, 10, 2048) 0           conv5_block2_add[0][0]           \n__________________________________________________________________________________________________\nconv5_block3_1_conv (Conv2D)    (None, 10, 10, 512)  1049088     conv5_block2_out[0][0]           \n__________________________________________________________________________________________________\nconv5_block3_1_bn (BatchNormali (None, 10, 10, 512)  2048        conv5_block3_1_conv[0][0]        \n__________________________________________________________________________________________________\nconv5_block3_1_relu (Activation (None, 10, 10, 512)  0           conv5_block3_1_bn[0][0]          \n__________________________________________________________________________________________________\nconv5_block3_2_conv (Conv2D)    (None, 10, 10, 512)  2359808     conv5_block3_1_relu[0][0]        \n__________________________________________________________________________________________________\nconv5_block3_2_bn (BatchNormali (None, 10, 10, 512)  2048        conv5_block3_2_conv[0][0]        \n__________________________________________________________________________________________________\nconv5_block3_2_relu (Activation (None, 10, 10, 512)  0           conv5_block3_2_bn[0][0]          \n__________________________________________________________________________________________________\nconv5_block3_3_conv (Conv2D)    (None, 10, 10, 2048) 1050624     conv5_block3_2_relu[0][0]        \n__________________________________________________________________________________________________\nconv5_block3_3_bn (BatchNormali (None, 10, 10, 2048) 8192        conv5_block3_3_conv[0][0]        \n__________________________________________________________________________________________________\nconv5_block3_add (Add)          (None, 10, 10, 2048) 0           conv5_block2_out[0][0]           \n                                                                 conv5_block3_3_bn[0][0]          \n__________________________________________________________________________________________________\nconv5_block3_out (Activation)   (None, 10, 10, 2048) 0           conv5_block3_add[0][0]           \n__________________________________________________________________________________________________\nflatten (Flatten)               (None, 204800)       0           conv5_block3_out[0][0]           \n__________________________________________________________________________________________________\ndropout (Dropout)               (None, 204800)       0           flatten[0][0]                    \n__________________________________________________________________________________________________\nrelu (Dense)                    (None, 2)            409602      dropout[0][0]                    \n==================================================================================================\nTotal params: 23,997,314\nTrainable params: 23,944,194\nNon-trainable params: 53,120\n__________________________________________________________________________________________________\n</div>",
       "datasetInfos": [],
       "metadata": {},
       "removedWidgets": [],
       "type": "html"
      }
     },
     "output_type": "display_data"
    }
   ],
   "source": [
    "net_final.summary()"
   ]
  },
  {
   "cell_type": "code",
   "execution_count": 0,
   "metadata": {
    "application/vnd.databricks.v1+cell": {
     "inputWidgets": {},
     "nuid": "b021edde-e826-4fa7-8f8c-2c45001e09fa",
     "showTitle": false,
     "title": ""
    }
   },
   "outputs": [
    {
     "data": {
      "text/html": [
       "<style scoped>\n",
       "  .ansiout {\n",
       "    display: block;\n",
       "    unicode-bidi: embed;\n",
       "    white-space: pre-wrap;\n",
       "    word-wrap: break-word;\n",
       "    word-break: break-all;\n",
       "    font-family: \"Source Code Pro\", \"Menlo\", monospace;;\n",
       "    font-size: 13px;\n",
       "    color: #555;\n",
       "    margin-left: 4px;\n",
       "    line-height: 19px;\n",
       "  }\n",
       "</style>\n",
       "<div class=\"ansiout\">/databricks/python/lib/python3.8/site-packages/tensorflow/python/keras/engine/training.py:1844: UserWarning: `Model.fit_generator` is deprecated and will be removed in a future version. Please use `Model.fit`, which supports generators.\n",
       "  warnings.warn(&#39;`Model.fit_generator` is deprecated and &#39;\n",
       "2021/05/10 14:32:07 INFO mlflow.utils.autologging_utils: Created MLflow autologging run with ID &#39;1844fa52243243fb84ef3e5e624a13b5&#39;, which will track hyperparameters, performance metrics, model artifacts, and lineage information for the current tensorflow workflow\n",
       "Epoch 1/15\n",
       "\r",
       "  1/121 [..............................] - ETA: 1:41:22 - loss: nan - accuracy: 0.6250\b\b\b\b\b\b\b\b\b\b\b\b\b\b\b\b\b\b\b\b\b\b\b\b\b\b\b\b\b\b\b\b\b\b\b\b\b\b\b\b\b\b\b\b\b\b\b\b\b\b\b\b\b\b\b\b\b\b\b\b\b\b\b\b\b\b\b\b\b\b\b\b\b\b\b\b\b\b\b\b\b\b\b\b\b\b\r",
       "  2/121 [..............................] - ETA: 25s - loss: nan - accuracy: 0.6094    \b\b\b\b\b\b\b\b\b\b\b\b\b\b\b\b\b\b\b\b\b\b\b\b\b\b\b\b\b\b\b\b\b\b\b\b\b\b\b\b\b\b\b\b\b\b\b\b\b\b\b\b\b\b\b\b\b\b\b\b\b\b\b\b\b\b\b\b\b\b\b\b\b\b\b\b\b\b\b\b\b\b\r",
       "  3/121 [..............................] - ETA: 1:51 - loss: nan - accuracy: 0.5938\b\b\b\b\b\b\b\b\b\b\b\b\b\b\b\b\b\b\b\b\b\b\b\b\b\b\b\b\b\b\b\b\b\b\b\b\b\b\b\b\b\b\b\b\b\b\b\b\b\b\b\b\b\b\b\b\b\b\b\b\b\b\b\b\b\b\b\b\b\b\b\b\b\b\b\b\b\b\b\b\b\b\b\r",
       "  4/121 [..............................] - ETA: 2:23 - loss: nan - accuracy: 0.5781\b\b\b\b\b\b\b\b\b\b\b\b\b\b\b\b\b\b\b\b\b\b\b\b\b\b\b\b\b\b\b\b\b\b\b\b\b\b\b\b\b\b\b\b\b\b\b\b\b\b\b\b\b\b\b\b\b\b\b\b\b\b\b\b\b\b\b\b\b\b\b\b\b\b\b\b\b\b\b\b\b\b\b\r",
       "  5/121 [&gt;.............................] - ETA: 2:34 - loss: nan - accuracy: 0.5575\b\b\b\b\b\b\b\b\b\b\b\b\b\b\b\b\b\b\b\b\b\b\b\b\b\b\b\b\b\b\b\b\b\b\b\b\b\b\b\b\b\b\b\b\b\b\b\b\b\b\b\b\b\b\b\b\b\b\b\b\b\b\b\b\b\b\b\b\b\b\b\b\b\b\b\b\b\b\b\b\b\b\b\r",
       "  6/121 [&gt;.............................] - ETA: 2:39 - loss: nan - accuracy: 0.5479\b\b\b\b\b\b\b\b\b\b\b\b\b\b\b\b\b\b\b\b\b\b\b\b\b\b\b\b\b\b\b\b\b\b\b\b\b\b\b\b\b\b\b\b\b\b\b\b\b\b\b\b\b\b\b\b\b\b\b\b\b\b\b\b\b\b\b\b\b\b\b\b\b\b\b\b\b\b\b\b\b\b\b\r",
       "  7/121 [&gt;.............................] - ETA: 2:49 - loss: nan - accuracy: 0.5411\b\b\b\b\b\b\b\b\b\b\b\b\b\b\b\b\b\b\b\b\b\b\b\b\b\b\b\b\b\b\b\b\b\b\b\b\b\b\b\b\b\b\b\b\b\b\b\b\b\b\b\b\b\b\b\b\b\b\b\b\b\b\b\b\b\b\b\b\b\b\b\b\b\b\b\b\b\b\b\b\b\b\b\r",
       "  8/121 [&gt;.............................] - ETA: 2:49 - loss: nan - accuracy: 0.5350\b\b\b\b\b\b\b\b\b\b\b\b\b\b\b\b\b\b\b\b\b\b\b\b\b\b\b\b\b\b\b\b\b\b\b\b\b\b\b\b\b\b\b\b\b\b\b\b\b\b\b\b\b\b\b\b\b\b\b\b\b\b\b\b\b\b\b\b\b\b\b\b\b\b\b\b\b\b\b\b\b\b\b\r",
       "  9/121 [=&gt;............................] - ETA: 2:51 - loss: nan - accuracy: 0.5303\b\b\b\b\b\b\b\b\b\b\b\b\b\b\b\b\b\b\b\b\b\b\b\b\b\b\b\b\b\b\b\b\b\b\b\b\b\b\b\b\b\b\b\b\b\b\b\b\b\b\b\b\b\b\b\b\b\b\b\b\b\b\b\b\b\b\b\b\b\b\b\b\b\b\b\b\b\b\b\b\b\b\b\r",
       " 10/121 [=&gt;............................] - ETA: 2:51 - loss: nan - accuracy: 0.5266\b\b\b\b\b\b\b\b\b\b\b\b\b\b\b\b\b\b\b\b\b\b\b\b\b\b\b\b\b\b\b\b\b\b\b\b\b\b\b\b\b\b\b\b\b\b\b\b\b\b\b\b\b\b\b\b\b\b\b\b\b\b\b\b\b\b\b\b\b\b\b\b\b\b\b\b\b\b\b\b\b\b\b\r",
       " 11/121 [=&gt;............................] - ETA: 2:50 - loss: nan - accuracy: 0.5242\b\b\b\b\b\b\b\b\b\b\b\b\b\b\b\b\b\b\b\b\b\b\b\b\b\b\b\b\b\b\b\b\b\b\b\b\b\b\b\b\b\b\b\b\b\b\b\b\b\b\b\b\b\b\b\b\b\b\b\b\b\b\b\b\b\b\b\b\b\b\b\b\b\b\b\b\b\b\b\b\b\b\b\r",
       " 12/121 [=&gt;............................] - ETA: 2:48 - loss: nan - accuracy: 0.5222\b\b\b\b\b\b\b\b\b\b\b\b\b\b\b\b\b\b\b\b\b\b\b\b\b\b\b\b\b\b\b\b\b\b\b\b\b\b\b\b\b\b\b\b\b\b\b\b\b\b\b\b\b\b\b\b\b\b\b\b\b\b\b\b\b\b\b\b\b\b\b\b\b\b\b\b\b\b\b\b\b\b\b\r",
       " 13/121 [==&gt;...........................] - ETA: 2:51 - loss: nan - accuracy: 0.5194\b\b\b\b\b\b\b\b\b\b\b\b\b\b\b\b\b\b\b\b\b\b\b\b\b\b\b\b\b\b\b\b\b\b\b\b\b\b\b\b\b\b\b\b\b\b\b\b\b\b\b\b\b\b\b\b\b\b\b\b\b\b\b\b\b\b\b\b\b\b\b\b\b\b\b\b\b\b\b\b\b\b\b\r",
       " 14/121 [==&gt;...........................] - ETA: 2:49 - loss: nan - accuracy: 0.5167\b\b\b\b\b\b\b\b\b\b\b\b\b\b\b\b\b\b\b\b\b\b\b\b\b\b\b\b\b\b\b\b\b\b\b\b\b\b\b\b\b\b\b\b\b\b\b\b\b\b\b\b\b\b\b\b\b\b\b\b\b\b\b\b\b\b\b\b\b\b\b\b\b\b\b\b\b\b\b\b\b\b\b\r",
       " 15/121 [==&gt;...........................] - ETA: 2:48 - loss: nan - accuracy: 0.5148\b\b\b\b\b\b\b\b\b\b\b\b\b\b\b\b\b\b\b\b\b\b\b\b\b\b\b\b\b\b\b\b\b\b\b\b\b\b\b\b\b\b\b\b\b\b\b\b\b\b\b\b\b\b\b\b\b\b\b\b\b\b\b\b\b\b\b\b\b\b\b\b\b\b\b\b\b\b\b\b\b\b\b\r",
       " 16/121 [==&gt;...........................] - ETA: 2:48 - loss: nan - accuracy: 0.5131\b\b\b\b\b\b\b\b\b\b\b\b\b\b\b\b\b\b\b\b\b\b\b\b\b\b\b\b\b\b\b\b\b\b\b\b\b\b\b\b\b\b\b\b\b\b\b\b\b\b\b\b\b\b\b\b\b\b\b\b\b\b\b\b\b\b\b\b\b\b\b\b\b\b\b\b\b\b\b\b\b\b\b\r",
       " 17/121 [===&gt;..........................] - ETA: 2:46 - loss: nan - accuracy: 0.5115\b\b\b\b\b\b\b\b\b\b\b\b\b\b\b\b\b\b\b\b\b\b\b\b\b\b\b\b\b\b\b\b\b\b\b\b\b\b\b\b\b\b\b\b\b\b\b\b\b\b\b\b\b\b\b\b\b\b\b\b\b\b\b\b\b\b\b\b\b\b\b\b\b\b\b\b\b\b\b\b\b\b\b\r",
       " 18/121 [===&gt;..........................] - ETA: 2:45 - loss: nan - accuracy: 0.5099\b\b\b\b\b\b\b\b\b\b\b\b\b\b\b\b\b\b\b\b\b\b\b\b\b\b\b\b\b\b\b\b\b\b\b\b\b\b\b\b\b\b\b\b\b\b\b\b\b\b\b\b\b\b\b\b\b\b\b\b\b\b\b\b\b\b\b\b\b\b\b\b\b\b\b\b\b\b\b\b\b\b\b\r",
       " 19/121 [===&gt;..........................] - ETA: 2:51 - loss: nan - accuracy: 0.5088\b\b\b\b\b\b\b\b\b\b\b\b\b\b\b\b\b\b\b\b\b\b\b\b\b\b\b\b\b\b\b\b\b\b\b\b\b\b\b\b\b\b\b\b\b\b\b\b\b\b\b\b\b\b\b\b\b\b\b\b\b\b\b\b\b\b\b\b\b\b\b\b\b\b\b\b\b\b\b\b\b\b\b\r",
       " 20/121 [===&gt;..........................] - ETA: 2:50 - loss: nan - accuracy: 0.5078\b\b\b\b\b\b\b\b\b\b\b\b\b\b\b\b\b\b\b\b\b\b\b\b\b\b\b\b\b\b\b\b\b\b\b\b\b\b\b\b\b\b\b\b\b\b\b\b\b\b\b\b\b\b\b\b\b\b\b\b\b\b\b\b\b\b\b\b\b\b\b\b\b\b\b\b\b\b\b\b\b\b\b\r",
       " 21/121 [====&gt;.........................] - ETA: 2:48 - loss: nan - accuracy: 0.5067\b\b\b\b\b\b\b\b\b\b\b\b\b\b\b\b\b\b\b\b\b\b\b\b\b\b\b\b\b\b\b\b\b\b\b\b\b\b\b\b\b\b\b\b\b\b\b\b\b\b\b\b\b\b\b\b\b\b\b\b\b\b\b\b\b\b\b\b\b\b\b\b\b\b\b\b\b\b\b\b\b\b\b\r",
       " 22/121 [====&gt;.........................] - ETA: 2:47 - loss: nan - accuracy: 0.5057\b\b\b\b\b\b\b\b\b\b\b\b\b\b\b\b\b\b\b\b\b\b\b\b\b\b\b\b\b\b\b\b\b\b\b\b\b\b\b\b\b\b\b\b\b\b\b\b\b\b\b\b\b\b\b\b\b\b\b\b\b\b\b\b\b\b\b\b\b\b\b\b\b\b\b\b\b\b\b\b\b\b\b\r",
       " 23/121 [====&gt;.........................] - ETA: 2:46 - loss: nan - accuracy: 0.5049\b\b\b\b\b\b\b\b\b\b\b\b\b\b\b\b\b\b\b\b\b\b\b\b\b\b\b\b\b\b\b\b\b\b\b\b\b\b\b\b\b\b\b\b\b\b\b\b\b\b\b\b\b\b\b\b\b\b\b\b\b\b\b\b\b\b\b\b\b\b\b\b\b\b\b\b\b\b\b\b\b\b\b\r",
       " 24/121 [====&gt;.........................] - ETA: 2:46 - loss: nan - accuracy: 0.5042\b\b\b\b\b\b\b\b\b\b\b\b\b\b\b\b\b\b\b\b\b\b\b\b\b\b\b\b\b\b\b\b\b\b\b\b\b\b\b\b\b\b\b\b\b\b\b\b\b\b\b\b\b\b\b\b\b\b\b\b\b\b\b\b\b\b\b\b\b\b\b\b\b\b\b\b\b\b\b\b\b\b\b\r",
       " 25/121 [=====&gt;........................] - ETA: 2:44 - loss: nan - accuracy: 0.5035\b\b\b\b\b\b\b\b\b\b\b\b\b\b\b\b\b\b\b\b\b\b\b\b\b\b\b\b\b\b\b\b\b\b\b\b\b\b\b\b\b\b\b\b\b\b\b\b\b\b\b\b\b\b\b\b\b\b\b\b\b\b\b\b\b\b\b\b\b\b\b\b\b\b\b\b\b\b\b\b\b\b\b\r",
       " 26/121 [=====&gt;........................] - ETA: 2:43 - loss: nan - accuracy: 0.5031\b\b\b\b\b\b\b\b\b\b\b\b\b\b\b\b\b\b\b\b\b\b\b\b\b\b\b\b\b\b\b\b\b\b\b\b\b\b\b\b\b\b\b\b\b\b\b\b\b\b\b\b\b\b\b\b\b\b\b\b\b\b\b\b\b\b\b\b\b\b\b\b\b\b\b\b\b\b\b\b\b\b\b\r",
       " 27/121 [=====&gt;........................] - ETA: 2:41 - loss: nan - accuracy: 0.5030\b\b\b\b\b\b\b\b\b\b\b\b\b\b\b\b\b\b\b\b\b\b\b\b\b\b\b\b\b\b\b\b\b\b\b\b\b\b\b\b\b\b\b\b\b\b\b\b\b\b\b\b\b\b\b\b\b\b\b\b\b\b\b\b\b\b\b\b\b\b\b\b\b\b\b\b\b\b\b\b\b\b\b\r",
       " 28/121 [=====&gt;........................] - ETA: 2:38 - loss: nan - accuracy: 0.5028\b\b\b\b\b\b\b\b\b\b\b\b\b\b\b\b\b\b\b\b\b\b\b\b\b\b\b\b\b\b\b\b\b\b\b\b\b\b\b\b\b\b\b\b\b\b\b\b\b\b\b\b\b\b\b\b\b\b\b\b\b\b\b\b\b\b\b\b\b\b\b\b\b\b\b\b\b\b\b\b\b\b\b\r",
       " 29/121 [======&gt;.......................] - ETA: 2:37 - loss: nan - accuracy: 0.5026\b\b\b\b\b\b\b\b\b\b\b\b\b\b\b\b\b\b\b\b\b\b\b\b\b\b\b\b\b\b\b\b\b\b\b\b\b\b\b\b\b\b\b\b\b\b\b\b\b\b\b\b\b\b\b\b\b\b\b\b\b\b\b\b\b\b\b\b\b\b\b\b\b\b\b\b\b\b\b\b\b\b\b\r",
       " 30/121 [======&gt;.......................] - ETA: 2:35 - loss: nan - accuracy: 0.5026\b\b\b\b\b\b\b\b\b\b\b\b\b\b\b\b\b\b\b\b\b\b\b\b\b\b\b\b\b\b\b\b\b\b\b\b\b\b\b\b\b\b\b\b\b\b\b\b\b\b\b\b\b\b\b\b\b\b\b\b\b\b\b\b\b\b\b\b\b\b\b\b\b\b\b\b\b\b\b\b\b\b\b\r",
       " 31/121 [======&gt;.......................] - ETA: 2:33 - loss: nan - accuracy: 0.5026\b\b\b\b\b\b\b\b\b\b\b\b\b\b\b\b\b\b\b\b\b\b\b\b\b\b\b\b\b\b\b\b\b\b\b\b\b\b\b\b\b\b\b\b\b\b\b\b\b\b\b\b\b\b\b\b\b\b\b\b\b\b\b\b\b\b\b\b\b\b\b\b\b\b\b\b\b\b\b\b\b\b\b\r",
       " 32/121 [======&gt;.......................] - ETA: 2:32 - loss: nan - accuracy: 0.5027\b\b\b\b\b\b\b\b\b\b\b\b\b\b\b\b\b\b\b\b\b\b\b\b\b\b\b\b\b\b\b\b\b\b\b\b\b\b\b\b\b\b\b\b\b\b\b\b\b\b\b\b\b\b\b\b\b\b\b\b\b\b\b\b\b\b\b\b\b\b\b\b\b\b\b\b\b\b\b\b\b\b\b\r",
       " 33/121 [=======&gt;......................] - ETA: 2:30 - loss: nan - accuracy: 0.5030\b\b\b\b\b\b\b\b\b\b\b\b\b\b\b\b\b\b\b\b\b\b\b\b\b\b\b\b\b\b\b\b\b\b\b\b\b\b\b\b\b\b\b\b\b\b\b\b\b\b\b\b\b\b\b\b\b\b\b\b\b\b\b\b\b\b\b\b\b\b\b\b\b\b\b\b\b\b\b\b\b\b\b\r",
       " 34/121 [=======&gt;......................] - ETA: 2:31 - loss: nan - accuracy: 0.5036\b\b\b\b\b\b\b\b\b\b\b\b\b\b\b\b\b\b\b\b\b\b\b\b\b\b\b\b\b\b\b\b\b\b\b\b\b\b\b\b\b\b\b\b\b\b\b\b\b\b\b\b\b\b\b\b\b\b\b\b\b\b\b\b\b\b\b\b\b\b\b\b\b\b\b\b\b\b\b\b\b\b\b\r",
       " 35/121 [=======&gt;......................] - ETA: 2:30 - loss: nan - accuracy: 0.5043\b\b\b\b\b\b\b\b\b\b\b\b\b\b\b\b\b\b\b\b\b\b\b\b\b\b\b\b\b\b\b\b\b\b\b\b\b\b\b\b\b\b\b\b\b\b\b\b\b\b\b\b\b\b\b\b\b\b\b\b\b\b\b\b\b\b\b\b\b\b\b\b\b\b\b\b\b\b\b\b\b\b\b\r",
       " 36/121 [=======&gt;......................] - ETA: 2:31 - loss: nan - accuracy: 0.5050\b\b\b\b\b\b\b\b\b\b\b\b\b\b\b\b\b\b\b\b\b\b\b\b\b\b\b\b\b\b\b\b\b\b\b\b\b\b\b\b\b\b\b\b\b\b\b\b\b\b\b\b\b\b\b\b\b\b\b\b\b\b\b\b\b\b\b\b\b\b\b\b\b\b\b\b\b\b\b\b\b\b\b\r",
       " 37/121 [========&gt;.....................] - ETA: 2:28 - loss: nan - accuracy: 0.5056\b\b\b\b\b\b\b\b\b\b\b\b\b\b\b\b\b\b\b\b\b\b\b\b\b\b\b\b\b\b\b\b\b\b\b\b\b\b\b\b\b\b\b\b\b\b\b\b\b\b\b\b\b\b\b\b\b\b\b\b\b\b\b\b\b\b\b\b\b\b\b\b\b\b\b\b\b\b\b\b\b\b\b\r",
       " 38/121 [========&gt;.....................] - ETA: 2:26 - loss: nan - accuracy: 0.5061\b\b\b\b\b\b\b\b\b\b\b\b\b\b\b\b\b\b\b\b\b\b\b\b\b\b\b\b\b\b\b\b\b\b\b\b\b\b\b\b\b\b\b\b\b\b\b\b\b\b\b\b\b\b\b\b\b\b\b\b\b\b\b\b\b\b\b\b\b\b\b\b\b\b\b\b\b\b\b\b\b\b\b\r",
       " 39/121 [========&gt;.....................] - ETA: 2:24 - loss: nan - accuracy: 0.5066\b\b\b\b\b\b\b\b\b\b\b\b\b\b\b\b\b\b\b\b\b\b\b\b\b\b\b\b\b\b\b\b\b\b\b\b\b\b\b\b\b\b\b\b\b\b\b\b\b\b\b\b\b\b\b\b\b\b\b\b\b\b\b\b\b\b\b\b\b\b\b\b\b\b\b\b\b\b\b\b\b\b\b\r",
       " 40/121 [========&gt;.....................] - ETA: 2:22 - loss: nan - accuracy: 0.5070\b\b\b\b\b\b\b\b\b\b\b\b\b\b\b\b\b\b\b\b\b\b\b\b\b\b\b\b\b\b\b\b\b\b\b\b\b\b\b\b\b\b\b\b\b\b\b\b\b\b\b\b\b\b\b\b\b\b\b\b\b\b\b\b\b\b\b\b\b\b\b\b\b\b\b\b\b\b\b\b\b\b\b\r",
       " 41/121 [=========&gt;....................] - ETA: 2:20 - loss: nan - accuracy: 0.5074\b\b\b\b\b\b\b\b\b\b\b\b\b\b\b\b\b\b\b\b\b\b\b\b\b\b\b\b\b\b\b\b\b\b\b\b\b\b\b\b\b\b\b\b\b\b\b\b\b\b\b\b\b\b\b\b\b\b\b\b\b\b\b\b\b\b\b\b\b\b\b\b\b\b\b\b\b\b\b\b\b\b\b\r",
       " 42/121 [=========&gt;....................] - ETA: 2:18 - loss: nan - accuracy: 0.5077\b\b\b\b\b\b\b\b\b\b\b\b\b\b\b\b\b\b\b\b\b\b\b\b\b\b\b\b\b\b\b\b\b\b\b\b\b\b\b\b\b\b\b\b\b\b\b\b\b\b\b\b\b\b\b\b\b\b\b\b\b\b\b\b\b\b\b\b\b\b\b\b\b\b\b\b\b\b\b\b\b\b\b\r",
       " 43/121 [=========&gt;....................] - ETA: 2:15 - loss: nan - accuracy: 0.5079\b\b\b\b\b\b\b\b\b\b\b\b\b\b\b\b\b\b\b\b\b\b\b\b\b\b\b\b\b\b\b\b\b\b\b\b\b\b\b\b\b\b\b\b\b\b\b\b\b\b\b\b\b\b\b\b\b\b\b\b\b\b\b\b\b\b\b\b\b\b\b\b\b\b\b\b\b\b\b\b\b\b\b\r",
       " 44/121 [=========&gt;....................] - ETA: 2:13 - loss: nan - accuracy: 0.5082\b\b\b\b\b\b\b\b\b\b\b\b\b\b\b\b\b\b\b\b\b\b\b\b\b\b\b\b\b\b\b\b\b\b\b\b\b\b\b\b\b\b\b\b\b\b\b\b\b\b\b\b\b\b\b\b\b\b\b\b\b\b\b\b\b\b\b\b\b\b\b\b\b\b\b\b\b\b\b\b\b\b\b\r",
       " 45/121 [==========&gt;...................] - ETA: 2:12 - loss: nan - accuracy: 0.5085\b\b\b\b\b\b\b\b\b\b\b\b\b\b\b\b\b\b\b\b\b\b\b\b\b\b\b\b\b\b\b\b\b\b\b\b\b\b\b\b\b\b\b\b\b\b\b\b\b\b\b\b\b\b\b\b\b\b\b\b\b\b\b\b\b\b\b\b\b\b\b\b\b\b\b\b\b\b\b\b\b\b\b\r",
       " 46/121 [==========&gt;...................] - ETA: 2:10 - loss: nan - accuracy: 0.5089\b\b\b\b\b\b\b\b\b\b\b\b\b\b\b\b\b\b\b\b\b\b\b\b\b\b\b\b\b\b\b\b\b\b\b\b\b\b\b\b\b\b\b\b\b\b\b\b\b\b\b\b\b\b\b\b\b\b\b\b\b\b\b\b\b\b\b\b\b\b\b\b\b\b\b\b\b\b\b\b\b\b\b\r",
       " 47/121 [==========&gt;...................] - ETA: 2:09 - loss: nan - accuracy: 0.5093\b\b\b\b\b\b\b\b\b\b\b\b\b\b\b\b\b\b\b\b\b\b\b\b\b\b\b\b\b\b\b\b\b\b\b\b\b\b\b\b\b\b\b\b\b\b\b\b\b\b\b\b\b\b\b\b\b\b\b\b\b\b\b\b\b\b\b\b\b\b\b\b\b\b\b\b\b\b\b\b\b\b\b\r",
       " 48/121 [==========&gt;...................] - ETA: 2:07 - loss: nan - accuracy: 0.5097\b\b\b\b\b\b\b\b\b\b\b\b\b\b\b\b\b\b\b\b\b\b\b\b\b\b\b\b\b\b\b\b\b\b\b\b\b\b\b\b\b\b\b\b\b\b\b\b\b\b\b\b\b\b\b\b\b\b\b\b\b\b\b\b\b\b\b\b\b\b\b\b\b\b\b\b\b\b\b\b\b\b\b\r",
       " 49/121 [===========&gt;..................] - ETA: 2:04 - loss: nan - accuracy: 0.5101\b\b\b\b\b\b\b\b\b\b\b\b\b\b\b\b\b\b\b\b\b\b\b\b\b\b\b\b\b\b\b\b\b\b\b\b\b\b\b\b\b\b\b\b\b\b\b\b\b\b\b\b\b\b\b\b\b\b\b\b\b\b\b\b\b\b\b\b\b\b\b\b\b\b\b\b\b\b\b\b\b\b\b\r",
       " 50/121 [===========&gt;..................] - ETA: 2:02 - loss: nan - accuracy: 0.5106\b\b\b\b\b\b\b\b\b\b\b\b\b\b\b\b\b\b\b\b\b\b\b\b\b\b\b\b\b\b\b\b\b\b\b\b\b\b\b\b\b\b\b\b\b\b\b\b\b\b\b\b\b\b\b\b\b\b\b\b\b\b\b\b\b\b\b\b\b\b\b\b\b\b\b\b\b\b\b\b\b\b\b\r",
       " 51/121 [===========&gt;..................] - ETA: 2:01 - loss: nan - accuracy: 0.5110\b\b\b\b\b\b\b\b\b\b\b\b\b\b\b\b\b\b\b\b\b\b\b\b\b\b\b\b\b\b\b\b\b\b\b\b\b\b\b\b\b\b\b\b\b\b\b\b\b\b\b\b\b\b\b\b\b\b\b\b\b\b\b\b\b\b\b\b\b\b\b\b\b\b\b\b\b\b\b\b\b\b\b\r",
       " 52/121 [===========&gt;..................] - ETA: 1:59 - loss: nan - accuracy: 0.5115\b\b\b\b\b\b\b\b\b\b\b\b\b\b\b\b\b\b\b\b\b\b\b\b\b\b\b\b\b\b\b\b\b\b\b\b\b\b\b\b\b\b\b\b\b\b\b\b\b\b\b\b\b\b\b\b\b\b\b\b\b\b\b\b\b\b\b\b\b\b\b\b\b\b\b\b\b\b\b\b\b\b\b\r",
       " 53/121 [============&gt;.................] - ETA: 1:57 - loss: nan - accuracy: 0.5119\b\b\b\b\b\b\b\b\b\b\b\b\b\b\b\b\b\b\b\b\b\b\b\b\b\b\b\b\b\b\b\b\b\b\b\b\b\b\b\b\b\b\b\b\b\b\b\b\b\b\b\b\b\b\b\b\b\b\b\b\b\b\b\b\b\b\b\b\b\b\b\b\b\b\b\b\b\b\b\b\b\b\b\r",
       " 54/121 [============&gt;.................] - ETA: 1:55 - loss: nan - accuracy: 0.5124\b\b\b\b\b\b\b\b\b\b\b\b\b\b\b\b\b\b\b\b\b\b\b\b\b\b\b\b\b\b\b\b\b\b\b\b\b\b\b\b\b\b\b\b\b\b\b\b\b\b\b\b\b\b\b\b\b\b\b\b\b\b\b\b\b\b\b\b\b\b\b\b\b\b\b\b\b\b\b\b\b\b\b\r",
       " 55/121 [============&gt;.................] - ETA: 1:53 - loss: nan - accuracy: 0.5127\b\b\b\b\b\b\b\b\b\b\b\b\b\b\b\b\b\b\b\b\b\b\b\b\b\b\b\b\b\b\b\b\b\b\b\b\b\b\b\b\b\b\b\b\b\b\b\b\b\b\b\b\b\b\b\b\b\b\b\b\b\b\b\b\b\b\b\b\b\b\b\b\b\b\b\b\b\b\b\b\b\b\b\r",
       " 56/121 [============&gt;.................] - ETA: 1:51 - loss: nan - accuracy: 0.5131\b\b\b\b\b\b\b\b\b\b\b\b\b\b\b\b\b\b\b\b\b\b\b\b\b\b\b\b\b\b\b\b\b\b\b\b\b\b\b\b\b\b\b\b\b\b\b\b\b\b\b\b\b\b\b\b\b\b\b\b\b\b\b\b\b\b\b\b\b\b\b\b\b\b\b\b\b\b\b\b\b\b\b\r",
       " 57/121 [=============&gt;................] - ETA: 1:50 - loss: nan - accuracy: 0.5135\b\b\b\b\b\b\b\b\b\b\b\b\b\b\b\b\b\b\b\b\b\b\b\b\b\b\b\b\b\b\b\b\b\b\b\b\b\b\b\b\b\b\b\b\b\b\b\b\b\b\b\b\b\b\b\b\b\b\b\b\b\b\b\b\b\b\b\b\b\b\b\b\b\b\b\b\b\b\b\b\b\b\b\r",
       " 58/121 [=============&gt;................] - ETA: 1:48 - loss: nan - accuracy: 0.5140\b\b\b\b\b\b\b\b\b\b\b\b\b\b\b\b\b\b\b\b\b\b\b\b\b\b\b\b\b\b\b\b\b\b\b\b\b\b\b\b\b\b\b\b\b\b\b\b\b\b\b\b\b\b\b\b\b\b\b\b\b\b\b\b\b\b\b\b\b\b\b\b\b\b\b\b\b\b\b\b\b\b\b\r",
       " 59/121 [=============&gt;................] - ETA: 1:46 - loss: nan - accuracy: 0.5145\b\b\b\b\b\b\b\b\b\b\b\b\b\b\b\b\b\b\b\b\b\b\b\b\b\b\b\b\b\b\b\b\b\b\b\b\b\b\b\b\b\b\b\b\b\b\b\b\b\b\b\b\b\b\b\b\b\b\b\b\b\b\b\b\b\b\b\b\b\b\b\b\b\b\b\b\b\b\b\b\b\b\b\r",
       " 60/121 [=============&gt;................] - ETA: 1:45 - loss: nan - accuracy: 0.5150\b\b\b\b\b\b\b\b\b\b\b\b\b\b\b\b\b\b\b\b\b\b\b\b\b\b\b\b\b\b\b\b\b\b\b\b\b\b\b\b\b\b\b\b\b\b\b\b\b\b\b\b\b\b\b\b\b\b\b\b\b\b\b\b\b\b\b\b\b\b\b\b\b\b\b\b\b\b\b\b\b\b\b\r",
       " 61/121 [==============&gt;...............] - ETA: 1:43 - loss: nan - accuracy: 0.5155\b\b\b\b\b\b\b\b\b\b\b\b\b\b\b\b\b\b\b\b\b\b\b\b\b\b\b\b\b\b\b\b\b\b\b\b\b\b\b\b\b\b\b\b\b\b\b\b\b\b\b\b\b\b\b\b\b\b\b\b\b\b\b\b\b\b\b\b\b\b\b\b\b\b\b\b\b\b\b\b\b\b\b\r",
       " 62/121 [==============&gt;...............] - ETA: 1:41 - loss: nan - accuracy: 0.5160\b\b\b\b\b\b\b\b\b\b\b\b\b\b\b\b\b\b\b\b\b\b\b\b\b\b\b\b\b\b\b\b\b\b\b\b\b\b\b\b\b\b\b\b\b\b\b\b\b\b\b\b\b\b\b\b\b\b\b\b\b\b\b\b\b\b\b\b\b\b\b\b\b\b\b\b\b\b\b\b\b\b\b\r",
       " 63/121 [==============&gt;...............] - ETA: 1:40 - loss: nan - accuracy: 0.5165\b\b\b\b\b\b\b\b\b\b\b\b\b\b\b\b\b\b\b\b\b\b\b\b\b\b\b\b\b\b\b\b\b\b\b\b\b\b\b\b\b\b\b\b\b\b\b\b\b\b\b\b\b\b\b\b\b\b\b\b\b\b\b\b\b\b\b\b\b\b\b\b\b\b\b\b\b\b\b\b\b\b\b\r",
       " 64/121 [==============&gt;...............] - ETA: 1:38 - loss: nan - accuracy: 0.5171\b\b\b\b\b\b\b\b\b\b\b\b\b\b\b\b\b\b\b\b\b\b\b\b\b\b\b\b\b\b\b\b\b\b\b\b\b\b\b\b\b\b\b\b\b\b\b\b\b\b\b\b\b\b\b\b\b\b\b\b\b\b\b\b\b\b\b\b\b\b\b\b\b\b\b\b\b\b\b\b\b\b\b\r",
       " 65/121 [===============&gt;..............] - ETA: 1:36 - loss: nan - accuracy: 0.5176\b\b\b\b\b\b\b\b\b\b\b\b\b\b\b\b\b\b\b\b\b\b\b\b\b\b\b\b\b\b\b\b\b\b\b\b\b\b\b\b\b\b\b\b\b\b\b\b\b\b\b\b\b\b\b\b\b\b\b\b\b\b\b\b\b\b\b\b\b\b\b\b\b\b\b\b\b\b\b\b\b\b\b\r",
       " 66/121 [===============&gt;..............] - ETA: 1:34 - loss: nan - accuracy: 0.5181\b\b\b\b\b\b\b\b\b\b\b\b\b\b\b\b\b\b\b\b\b\b\b\b\b\b\b\b\b\b\b\b\b\b\b\b\b\b\b\b\b\b\b\b\b\b\b\b\b\b\b\b\b\b\b\b\b\b\b\b\b\b\b\b\b\b\b\b\b\b\b\b\b\b\b\b\b\b\b\b\b\b\b\r",
       " 67/121 [===============&gt;..............] - ETA: 1:33 - loss: nan - accuracy: 0.5186\b\b\b\b\b\b\b\b\b\b\b\b\b\b\b\b\b\b\b\b\b\b\b\b\b\b\b\b\b\b\b\b\b\b\b\b\b\b\b\b\b\b\b\b\b\b\b\b\b\b\b\b\b\b\b\b\b\b\b\b\b\b\b\b\b\b\b\b\b\b\b\b\b\b\b\b\b\b\b\b\b\b\b\r",
       " 68/121 [===============&gt;..............] - ETA: 1:31 - loss: nan - accuracy: 0.5191\b\b\b\b\b\b\b\b\b\b\b\b\b\b\b\b\b\b\b\b\b\b\b\b\b\b\b\b\b\b\b\b\b\b\b\b\b\b\b\b\b\b\b\b\b\b\b\b\b\b\b\b\b\b\b\b\b\b\b\b\b\b\b\b\b\b\b\b\b\b\b\b\b\b\b\b\b\b\b\b\b\b\b\r",
       " 69/121 [================&gt;.............] - ETA: 1:29 - loss: nan - accuracy: 0.5195\b\b\b\b\b\b\b\b\b\b\b\b\b\b\b\b\b\b\b\b\b\b\b\b\b\b\b\b\b\b\b\b\b\b\b\b\b\b\b\b\b\b\b\b\b\b\b\b\b\b\b\b\b\b\b\b\b\b\b\b\b\b\b\b\b\b\b\b\b\b\b\b\b\b\b\b\b\b\b\b\b\b\b\r",
       " 70/121 [================&gt;.............] - ETA: 1:27 - loss: nan - accuracy: 0.5199\b\b\b\b\b\b\b\b\b\b\b\b\b\b\b\b\b\b\b\b\b\b\b\b\b\b\b\b\b\b\b\b\b\b\b\b\b\b\b\b\b\b\b\b\b\b\b\b\b\b\b\b\b\b\b\b\b\b\b\b\b\b\b\b\b\b\b\b\b\b\b\b\b\b\b\b\b\b\b\b\b\b\b\r",
       " 71/121 [================&gt;.............] - ETA: 1:25 - loss: nan - accuracy: 0.5203\b\b\b\b\b\b\b\b\b\b\b\b\b\b\b\b\b\b\b\b\b\b\b\b\b\b\b\b\b\b\b\b\b\b\b\b\b\b\b\b\b\b\b\b\b\b\b\b\b\b\b\b\b\b\b\b\b\b\b\b\b\b\b\b\b\b\b\b\b\b\b\b\b\b\b\b\b\b\b\b\b\b\b\r",
       " 72/121 [================&gt;.............] - ETA: 1:24 - loss: nan - accuracy: 0.5207\b\b\b\b\b\b\b\b\b\b\b\b\b\b\b\b\b\b\b\b\b\b\b\b\b\b\b\b\b\b\b\b\b\b\b\b\b\b\b\b\b\b\b\b\b\b\b\b\b\b\b\b\b\b\b\b\b\b\b\b\b\b\b\b\b\b\b\b\b\b\b\b\b\b\b\b\b\b\b\b\b\b\b\r",
       " 73/121 [=================&gt;............] - ETA: 1:22 - loss: nan - accuracy: 0.5211\b\b\b\b\b\b\b\b\b\b\b\b\b\b\b\b\b\b\b\b\b\b\b\b\b\b\b\b\b\b\b\b\b\b\b\b\b\b\b\b\b\b\b\b\b\b\b\b\b\b\b\b\b\b\b\b\b\b\b\b\b\b\b\b\b\b\b\b\b\b\b\b\b\b\b\b\b\b\b\b\b\b\b\r",
       " 74/121 [=================&gt;............] - ETA: 1:20 - loss: nan - accuracy: 0.5215\b\b\b\b\b\b\b\b\b\b\b\b\b\b\b\b\b\b\b\b\b\b\b\b\b\b\b\b\b\b\b\b\b\b\b\b\b\b\b\b\b\b\b\b\b\b\b\b\b\b\b\b\b\b\b\b\b\b\b\b\b\b\b\b\b\b\b\b\b\b\b\b\b\b\b\b\b\b\b\b\b\b\b\r",
       " 75/121 [=================&gt;............] - ETA: 1:18 - loss: nan - accuracy: 0.5220\b\b\b\b\b\b\b\b\b\b\b\b\b\b\b\b\b\b\b\b\b\b\b\b\b\b\b\b\b\b\b\b\b\b\b\b\b\b\b\b\b\b\b\b\b\b\b\b\b\b\b\b\b\b\b\b\b\b\b\b\b\b\b\b\b\b\b\b\b\b\b\b\b\b\b\b\b\b\b\b\b\b\b\r",
       " 76/121 [=================&gt;............] - ETA: 1:17 - loss: nan - accuracy: 0.5224\b\b\b\b\b\b\b\b\b\b\b\b\b\b\b\b\b\b\b\b\b\b\b\b\b\b\b\b\b\b\b\b\b\b\b\b\b\b\b\b\b\b\b\b\b\b\b\b\b\b\b\b\b\b\b\b\b\b\b\b\b\b\b\b\b\b\b\b\b\b\b\b\b\b\b\b\b\b\b\b\b\b\b\r",
       " 77/121 [==================&gt;...........] - ETA: 1:15 - loss: nan - accuracy: 0.5227\b\b\b\b\b\b\b\b\b\b\b\b\b\b\b\b\b\b\b\b\b\b\b\b\b\b\b\b\b\b\b\b\b\b\b\b\b\b\b\b\b\b\b\b\b\b\b\b\b\b\b\b\b\b\b\b\b\b\b\b\b\b\b\b\b\b\b\b\b\b\b\b\b\b\b\b\b\b\b\b\b\b\b\r",
       " 78/121 [==================&gt;...........] - ETA: 1:13 - loss: nan - accuracy: 0.5231\b\b\b\b\b\b\b\b\b\b\b\b\b\b\b\b\b\b\b\b\b\b\b\b\b\b\b\b\b\b\b\b\b\b\b\b\b\b\b\b\b\b\b\b\b\b\b\b\b\b\b\b\b\b\b\b\b\b\b\b\b\b\b\b\b\b\b\b\b\b\b\b\b\b\b\b\b\b\b\b\b\b\b\r",
       " 79/121 [==================&gt;...........] - ETA: 1:11 - loss: nan - accuracy: 0.5235\b\b\b\b\b\b\b\b\b\b\b\b\b\b\b\b\b\b\b\b\b\b\b\b\b\b\b\b\b\b\b\b\b\b\b\b\b\b\b\b\b\b\b\b\b\b\b\b\b\b\b\b\b\b\b\b\b\b\b\b\b\b\b\b\b\b\b\b\b\b\b\b\b\b\b\b\b\b\b\b\b\b\b\r",
       " 80/121 [==================&gt;...........] - ETA: 1:09 - loss: nan - accuracy: 0.5238\b\b\b\b\b\b\b\b\b\b\b\b\b\b\b\b\b\b\b\b\b\b\b\b\b\b\b\b\b\b\b\b\b\b\b\b\b\b\b\b\b\b\b\b\b\b\b\b\b\b\b\b\b\b\b\b\b\b\b\b\b\b\b\b\b\b\b\b\b\b\b\b\b\b\b\b\b\b\b\b\b\b\b\r",
       " 81/121 [===================&gt;..........] - ETA: 1:08 - loss: nan - accuracy: 0.5241\b\b\b\b\b\b\b\b\b\b\b\b\b\b\b\b\b\b\b\b\b\b\b\b\b\b\b\b\b\b\b\b\b\b\b\b\b\b\b\b\b\b\b\b\b\b\b\b\b\b\b\b\b\b\b\b\b\b\b\b\b\b\b\b\b\b\b\b\b\b\b\b\b\b\b\b\b\b\b\b\b\b\b\r",
       " 82/121 [===================&gt;..........] - ETA: 1:06 - loss: nan - accuracy: 0.5244\b\b\b\b\b\b\b\b\b\b\b\b\b\b\b\b\b\b\b\b\b\b\b\b\b\b\b\b\b\b\b\b\b\b\b\b\b\b\b\b\b\b\b\b\b\b\b\b\b\b\b\b\b\b\b\b\b\b\b\b\b\b\b\b\b\b\b\b\b\b\b\b\b\b\b\b\b\b\b\b\b\b\b\r",
       " 83/121 [===================&gt;..........] - ETA: 1:04 - loss: nan - accuracy: 0.5247\b\b\b\b\b\b\b\b\b\b\b\b\b\b\b\b\b\b\b\b\b\b\b\b\b\b\b\b\b\b\b\b\b\b\b\b\b\b\b\b\b\b\b\b\b\b\b\b\b\b\b\b\b\b\b\b\b\b\b\b\b\b\b\b\b\b\b\b\b\b\b\b\b\b\b\b\b\b\b\b\b\b\b\r",
       " 84/121 [===================&gt;..........] - ETA: 1:03 - loss: nan - accuracy: 0.5250\b\b\b\b\b\b\b\b\b\b\b\b\b\b\b\b\b\b\b\b\b\b\b\b\b\b\b\b\b\b\b\b\b\b\b\b\b\b\b\b\b\b\b\b\b\b\b\b\b\b\b\b\b\b\b\b\b\b\b\b\b\b\b\b\b\b\b\b\b\b\b\b\b\b\b\b\b\b\b\b\b\b\b\r",
       " 85/121 [====================&gt;.........] - ETA: 1:01 - loss: nan - accuracy: 0.5253\b\b\b\b\b\b\b\b\b\b\b\b\b\b\b\b\b\b\b\b\b\b\b\b\b\b\b\b\b\b\b\b\b\b\b\b\b\b\b\b\b\b\b\b\b\b\b\b\b\b\b\b\b\b\b\b\b\b\b\b\b\b\b\b\b\b\b\b\b\b\b\b\b\b\b\b\b\b\b\b\b\b\b\r",
       " 86/121 [====================&gt;.........] - ETA: 59s - loss: nan - accuracy: 0.5256 \b\b\b\b\b\b\b\b\b\b\b\b\b\b\b\b\b\b\b\b\b\b\b\b\b\b\b\b\b\b\b\b\b\b\b\b\b\b\b\b\b\b\b\b\b\b\b\b\b\b\b\b\b\b\b\b\b\b\b\b\b\b\b\b\b\b\b\b\b\b\b\b\b\b\b\b\b\b\b\b\b\b\r",
       " 87/121 [====================&gt;.........] - ETA: 57s - loss: nan - accuracy: 0.5260\b\b\b\b\b\b\b\b\b\b\b\b\b\b\b\b\b\b\b\b\b\b\b\b\b\b\b\b\b\b\b\b\b\b\b\b\b\b\b\b\b\b\b\b\b\b\b\b\b\b\b\b\b\b\b\b\b\b\b\b\b\b\b\b\b\b\b\b\b\b\b\b\b\b\b\b\b\b\b\b\b\b\r",
       " 88/121 [====================&gt;.........] - ETA: 56s - loss: nan - accuracy: 0.5263\b\b\b\b\b\b\b\b\b\b\b\b\b\b\b\b\b\b\b\b\b\b\b\b\b\b\b\b\b\b\b\b\b\b\b\b\b\b\b\b\b\b\b\b\b\b\b\b\b\b\b\b\b\b\b\b\b\b\b\b\b\b\b\b\b\b\b\b\b\b\b\b\b\b\b\b\b\b\b\b\b\b\r",
       " 89/121 [=====================&gt;........] - ETA: 54s - loss: nan - accuracy: 0.5266\b\b\b\b\b\b\b\b\b\b\b\b\b\b\b\b\b\b\b\b\b\b\b\b\b\b\b\b\b\b\b\b\b\b\b\b\b\b\b\b\b\b\b\b\b\b\b\b\b\b\b\b\b\b\b\b\b\b\b\b\b\b\b\b\b\b\b\b\b\b\b\b\b\b\b\b\b\b\b\b\b\b\r",
       " 90/121 [=====================&gt;........] - ETA: 52s - loss: nan - accuracy: 0.5269\b\b\b\b\b\b\b\b\b\b\b\b\b\b\b\b\b\b\b\b\b\b\b\b\b\b\b\b\b\b\b\b\b\b\b\b\b\b\b\b\b\b\b\b\b\b\b\b\b\b\b\b\b\b\b\b\b\b\b\b\b\b\b\b\b\b\b\b\b\b\b\b\b\b\b\b\b\b\b\b\b\b\r",
       " 91/121 [=====================&gt;........] - ETA: 50s - loss: nan - accuracy: 0.5273\b\b\b\b\b\b\b\b\b\b\b\b\b\b\b\b\b\b\b\b\b\b\b\b\b\b\b\b\b\b\b\b\b\b\b\b\b\b\b\b\b\b\b\b\b\b\b\b\b\b\b\b\b\b\b\b\b\b\b\b\b\b\b\b\b\b\b\b\b\b\b\b\b\b\b\b\b\b\b\b\b\b\r",
       " 92/121 [=====================&gt;........] - ETA: 49s - loss: nan - accuracy: 0.5275\b\b\b\b\b\b\b\b\b\b\b\b\b\b\b\b\b\b\b\b\b\b\b\b\b\b\b\b\b\b\b\b\b\b\b\b\b\b\b\b\b\b\b\b\b\b\b\b\b\b\b\b\b\b\b\b\b\b\b\b\b\b\b\b\b\b\b\b\b\b\b\b\b\b\b\b\b\b\b\b\b\b\r",
       " 93/121 [======================&gt;.......] - ETA: 47s - loss: nan - accuracy: 0.5278\b\b\b\b\b\b\b\b\b\b\b\b\b\b\b\b\b\b\b\b\b\b\b\b\b\b\b\b\b\b\b\b\b\b\b\b\b\b\b\b\b\b\b\b\b\b\b\b\b\b\b\b\b\b\b\b\b\b\b\b\b\b\b\b\b\b\b\b\b\b\b\b\b\b\b\b\b\b\b\b\b\b\r",
       " 94/121 [======================&gt;.......] - ETA: 45s - loss: nan - accuracy: 0.5281\b\b\b\b\b\b\b\b\b\b\b\b\b\b\b\b\b\b\b\b\b\b\b\b\b\b\b\b\b\b\b\b\b\b\b\b\b\b\b\b\b\b\b\b\b\b\b\b\b\b\b\b\b\b\b\b\b\b\b\b\b\b\b\b\b\b\b\b\b\b\b\b\b\b\b\b\b\b\b\b\b\b\r",
       " 95/121 [======================&gt;.......] - ETA: 44s - loss: nan - accuracy: 0.5284\b\b\b\b\b\b\b\b\b\b\b\b\b\b\b\b\b\b\b\b\b\b\b\b\b\b\b\b\b\b\b\b\b\b\b\b\b\b\b\b\b\b\b\b\b\b\b\b\b\b\b\b\b\b\b\b\b\b\b\b\b\b\b\b\b\b\b\b\b\b\b\b\b\b\b\b\b\b\b\b\b\b\r",
       " 96/121 [======================&gt;.......] - ETA: 42s - loss: nan - accuracy: 0.5287\b\b\b\b\b\b\b\b\b\b\b\b\b\b\b\b\b\b\b\b\b\b\b\b\b\b\b\b\b\b\b\b\b\b\b\b\b\b\b\b\b\b\b\b\b\b\b\b\b\b\b\b\b\b\b\b\b\b\b\b\b\b\b\b\b\b\b\b\b\b\b\b\b\b\b\b\b\b\b\b\b\b\r",
       " 97/121 [=======================&gt;......] - ETA: 40s - loss: nan - accuracy: 0.5290\b\b\b\b\b\b\b\b\b\b\b\b\b\b\b\b\b\b\b\b\b\b\b\b\b\b\b\b\b\b\b\b\b\b\b\b\b\b\b\b\b\b\b\b\b\b\b\b\b\b\b\b\b\b\b\b\b\b\b\b\b\b\b\b\b\b\b\b\b\b\b\b\b\b\b\b\b\b\b\b\b\b\r",
       " 98/121 [=======================&gt;......] - ETA: 38s - loss: nan - accuracy: 0.5293\b\b\b\b\b\b\b\b\b\b\b\b\b\b\b\b\b\b\b\b\b\b\b\b\b\b\b\b\b\b\b\b\b\b\b\b\b\b\b\b\b\b\b\b\b\b\b\b\b\b\b\b\b\b\b\b\b\b\b\b\b\b\b\b\b\b\b\b\b\b\b\b\b\b\b\b\b\b\b\b\b\b\r",
       " 99/121 [=======================&gt;......] - ETA: 37s - loss: nan - accuracy: 0.5296\b\b\b\b\b\b\b\b\b\b\b\b\b\b\b\b\b\b\b\b\b\b\b\b\b\b\b\b\b\b\b\b\b\b\b\b\b\b\b\b\b\b\b\b\b\b\b\b\b\b\b\b\b\b\b\b\b\b\b\b\b\b\b\b\b\b\b\b\b\b\b\b\b\b\b\b\b\b\b\b\b\b\r",
       "100/121 [=======================&gt;......] - ETA: 35s - loss: nan - accuracy: 0.5298\b\b\b\b\b\b\b\b\b\b\b\b\b\b\b\b\b\b\b\b\b\b\b\b\b\b\b\b\b\b\b\b\b\b\b\b\b\b\b\b\b\b\b\b\b\b\b\b\b\b\b\b\b\b\b\b\b\b\b\b\b\b\b\b\b\b\b\b\b\b\b\b\b\b\b\b\b\b\b\b\b\b\r",
       "101/121 [========================&gt;.....] - ETA: 33s - loss: nan - accuracy: 0.5301\b\b\b\b\b\b\b\b\b\b\b\b\b\b\b\b\b\b\b\b\b\b\b\b\b\b\b\b\b\b\b\b\b\b\b\b\b\b\b\b\b\b\b\b\b\b\b\b\b\b\b\b\b\b\b\b\b\b\b\b\b\b\b\b\b\b\b\b\b\b\b\b\b\b\b\b\b\b\b\b\b\b\r",
       "102/121 [========================&gt;.....] - ETA: 32s - loss: nan - accuracy: 0.5304\b\b\b\b\b\b\b\b\b\b\b\b\b\b\b\b\b\b\b\b\b\b\b\b\b\b\b\b\b\b\b\b\b\b\b\b\b\b\b\b\b\b\b\b\b\b\b\b\b\b\b\b\b\b\b\b\b\b\b\b\b\b\b\b\b\b\b\b\b\b\b\b\b\b\b\b\b\b\b\b\b\b\r",
       "103/121 [========================&gt;.....] - ETA: 30s - loss: nan - accuracy: 0.5307\b\b\b\b\b\b\b\b\b\b\b\b\b\b\b\b\b\b\b\b\b\b\b\b\b\b\b\b\b\b\b\b\b\b\b\b\b\b\b\b\b\b\b\b\b\b\b\b\b\b\b\b\b\b\b\b\b\b\b\b\b\b\b\b\b\b\b\b\b\b\b\b\b\b\b\b\b\b\b\b\b\b\r",
       "104/121 [========================&gt;.....] - ETA: 28s - loss: nan - accuracy: 0.5310\b\b\b\b\b\b\b\b\b\b\b\b\b\b\b\b\b\b\b\b\b\b\b\b\b\b\b\b\b\b\b\b\b\b\b\b\b\b\b\b\b\b\b\b\b\b\b\b\b\b\b\b\b\b\b\b\b\b\b\b\b\b\b\b\b\b\b\b\b\b\b\b\b\b\b\b\b\b\b\b\b\b\r",
       "105/121 [=========================&gt;....] - ETA: 27s - loss: nan - accuracy: 0.5313\b\b\b\b\b\b\b\b\b\b\b\b\b\b\b\b\b\b\b\b\b\b\b\b\b\b\b\b\b\b\b\b\b\b\b\b\b\b\b\b\b\b\b\b\b\b\b\b\b\b\b\b\b\b\b\b\b\b\b\b\b\b\b\b\b\b\b\b\b\b\b\b\b\b\b\b\b\b\b\b\b\b\r",
       "106/121 [=========================&gt;....] - ETA: 25s - loss: nan - accuracy: 0.5315\b\b\b\b\b\b\b\b\b\b\b\b\b\b\b\b\b\b\b\b\b\b\b\b\b\b\b\b\b\b\b\b\b\b\b\b\b\b\b\b\b\b\b\b\b\b\b\b\b\b\b\b\b\b\b\b\b\b\b\b\b\b\b\b\b\b\b\b\b\b\b\b\b\b\b\b\b\b\b\b\b\b\r",
       "107/121 [=========================&gt;....] - ETA: 23s - loss: nan - accuracy: 0.5318\b\b\b\b\b\b\b\b\b\b\b\b\b\b\b\b\b\b\b\b\b\b\b\b\b\b\b\b\b\b\b\b\b\b\b\b\b\b\b\b\b\b\b\b\b\b\b\b\b\b\b\b\b\b\b\b\b\b\b\b\b\b\b\b\b\b\b\b\b\b\b\b\b\b\b\b\b\b\b\b\b\b\r",
       "108/121 [=========================&gt;....] - ETA: 27s - loss: nan - accuracy: 0.5321\b\b\b\b\b\b\b\b\b\b\b\b\b\b\b\b\b\b\b\b\b\b\b\b\b\b\b\b\b\b\b\b\b\b\b\b\b\b\b\b\b\b\b\b\b\b\b\b\b\b\b\b\b\b\b\b\b\b\b\b\b\b\b\b\b\b\b\b\b\b\b\b\b\b\b\b\b\b\b\b\b\b\r",
       "109/121 [==========================&gt;...] - ETA: 24s - loss: nan - accuracy: 0.5323\b\b\b\b\b\b\b\b\b\b\b\b\b\b\b\b\b\b\b\b\b\b\b\b\b\b\b\b\b\b\b\b\b\b\b\b\b\b\b\b\b\b\b\b\b\b\b\b\b\b\b\b\b\b\b\b\b\b\b\b\b\b\b\b\b\b\b\b\b\b\b\b\b\b\b\b\b\b\b\b\b\b\r",
       "110/121 [==========================&gt;...] - ETA: 22s - loss: nan - accuracy: 0.5326\b\b\b\b\b\b\b\b\b\b\b\b\b\b\b\b\b\b\b\b\b\b\b\b\b\b\b\b\b\b\b\b\b\b\b\b\b\b\b\b\b\b\b\b\b\b\b\b\b\b\b\b\b\b\b\b\b\b\b\b\b\b\b\b\b\b\b\b\b\b\b\b\b\b\b\b\b\b\b\b\b\b\r",
       "111/121 [==========================&gt;...] - ETA: 20s - loss: nan - accuracy: 0.5329\b\b\b\b\b\b\b\b\b\b\b\b\b\b\b\b\b\b\b\b\b\b\b\b\b\b\b\b\b\b\b\b\b\b\b\b\b\b\b\b\b\b\b\b\b\b\b\b\b\b\b\b\b\b\b\b\b\b\b\b\b\b\b\b\b\b\b\b\b\b\b\b\b\b\b\b\b\b\b\b\b\b\r",
       "112/121 [==========================&gt;...] - ETA: 18s - loss: nan - accuracy: 0.5331\b\b\b\b\b\b\b\b\b\b\b\b\b\b\b\b\b\b\b\b\b\b\b\b\b\b\b\b\b\b\b\b\b\b\b\b\b\b\b\b\b\b\b\b\b\b\b\b\b\b\b\b\b\b\b\b\b\b\b\b\b\b\b\b\b\b\b\b\b\b\b\b\b\b\b\b\b\b\b\b\b\b\r",
       "113/121 [===========================&gt;..] - ETA: 16s - loss: nan - accuracy: 0.5334\b\b\b\b\b\b\b\b\b\b\b\b\b\b\b\b\b\b\b\b\b\b\b\b\b\b\b\b\b\b\b\b\b\b\b\b\b\b\b\b\b\b\b\b\b\b\b\b\b\b\b\b\b\b\b\b\b\b\b\b\b\b\b\b\b\b\b\b\b\b\b\b\b\b\b\b\b\b\b\b\b\b\r",
       "114/121 [===========================&gt;..] - ETA: 14s - loss: nan - accuracy: 0.5337\b\b\b\b\b\b\b\b\b\b\b\b\b\b\b\b\b\b\b\b\b\b\b\b\b\b\b\b\b\b\b\b\b\b\b\b\b\b\b\b\b\b\b\b\b\b\b\b\b\b\b\b\b\b\b\b\b\b\b\b\b\b\b\b\b\b\b\b\b\b\b\b\b\b\b\b\b\b\b\b\b\b\r",
       "115/121 [===========================&gt;..] - ETA: 12s - loss: nan - accuracy: 0.5339\b\b\b\b\b\b\b\b\b\b\b\b\b\b\b\b\b\b\b\b\b\b\b\b\b\b\b\b\b\b\b\b\b\b\b\b\b\b\b\b\b\b\b\b\b\b\b\b\b\b\b\b\b\b\b\b\b\b\b\b\b\b\b\b\b\b\b\b\b\b\b\b\b\b\b\b\b\b\b\b\b\b\r",
       "116/121 [===========================&gt;..] - ETA: 10s - loss: nan - accuracy: 0.5342\b\b\b\b\b\b\b\b\b\b\b\b\b\b\b\b\b\b\b\b\b\b\b\b\b\b\b\b\b\b\b\b\b\b\b\b\b\b\b\b\b\b\b\b\b\b\b\b\b\b\b\b\b\b\b\b\b\b\b\b\b\b\b\b\b\b\b\b\b\b\b\b\b\b\b\b\b\b\b\b\b\b\r",
       "117/121 [============================&gt;.] - ETA: 8s - loss: nan - accuracy: 0.5344 \b\b\b\b\b\b\b\b\b\b\b\b\b\b\b\b\b\b\b\b\b\b\b\b\b\b\b\b\b\b\b\b\b\b\b\b\b\b\b\b\b\b\b\b\b\b\b\b\b\b\b\b\b\b\b\b\b\b\b\b\b\b\b\b\b\b\b\b\b\b\b\b\b\b\b\b\b\b\b\b\b\r",
       "118/121 [============================&gt;.] - ETA: 6s - loss: nan - accuracy: 0.5347\b\b\b\b\b\b\b\b\b\b\b\b\b\b\b\b\b\b\b\b\b\b\b\b\b\b\b\b\b\b\b\b\b\b\b\b\b\b\b\b\b\b\b\b\b\b\b\b\b\b\b\b\b\b\b\b\b\b\b\b\b\b\b\b\b\b\b\b\b\b\b\b\b\b\b\b\b\b\b\b\b\r",
       "119/121 [============================&gt;.] - ETA: 4s - loss: nan - accuracy: 0.5349\b\b\b\b\b\b\b\b\b\b\b\b\b\b\b\b\b\b\b\b\b\b\b\b\b\b\b\b\b\b\b\b\b\b\b\b\b\b\b\b\b\b\b\b\b\b\b\b\b\b\b\b\b\b\b\b\b\b\b\b\b\b\b\b\b\b\b\b\b\b\b\b\b\b\b\b\b\b\b\b\b\r",
       "120/121 [============================&gt;.] - ETA: 2s - loss: nan - accuracy: 0.5351\b\b\b\b\b\b\b\b\b\b\b\b\b\b\b\b\b\b\b\b\b\b\b\b\b\b\b\b\b\b\b\b\b\b\b\b\b\b\b\b\b\b\b\b\b\b\b\b\b\b\b\b\b\b\b\b\b\b\b\b\b\b\b\b\b\b\b\b\b\b\b\b\b\b\b\b\b\b\b\b\b\r",
       "121/121 [==============================] - ETA: 0s - loss: nan - accuracy: 0.5353\b\b\b\b\b\b\b\b\b\b\b\b\b\b\b\b\b\b\b\b\b\b\b\b\b\b\b\b\b\b\b\b\b\b\b\b\b\b\b\b\b\b\b\b\b\b\b\b\b\b\b\b\b\b\b\b\b\b\b\b\b\b\b\b\b\b\b\b\b\b\b\b\b\b\b\b\b\b\b\b\b\r",
       "121/121 [==============================] - 354s 3s/step - loss: nan - accuracy: 0.5356 - val_loss: 0.6644 - val_accuracy: 0.5833\n",
       "Epoch 2/15\n",
       "\r",
       "  1/121 [..............................] - ETA: 3:45 - loss: 0.6545 - accuracy: 0.6875\b\b\b\b\b\b\b\b\b\b\b\b\b\b\b\b\b\b\b\b\b\b\b\b\b\b\b\b\b\b\b\b\b\b\b\b\b\b\b\b\b\b\b\b\b\b\b\b\b\b\b\b\b\b\b\b\b\b\b\b\b\b\b\b\b\b\b\b\b\b\b\b\b\b\b\b\b\b\b\b\b\b\b\b\b\b\r",
       "  2/121 [..............................] - ETA: 3:01 - loss: 0.6519 - accuracy: 0.6875\b\b\b\b\b\b\b\b\b\b\b\b\b\b\b\b\b\b\b\b\b\b\b\b\b\b\b\b\b\b\b\b\b\b\b\b\b\b\b\b\b\b\b\b\b\b\b\b\b\b\b\b\b\b\b\b\b\b\b\b\b\b\b\b\b\b\b\b\b\b\b\b\b\b\b\b\b\b\b\b\b\b\b\b\b\b\r",
       "  3/121 [..............................] - ETA: 3:04 - loss: 0.6404 - accuracy: 0.6944\b\b\b\b\b\b\b\b\b\b\b\b\b\b\b\b\b\b\b\b\b\b\b\b\b\b\b\b\b\b\b\b\b\b\b\b\b\b\b\b\b\b\b\b\b\b\b\b\b\b\b\b\b\b\b\b\b\b\b\b\b\b\b\b\b\b\b\b\b\b\b\b\b\b\b\b\b\b\b\b\b\b\b\b\b\b\r",
       "  4/121 [..............................] - ETA: 3:26 - loss: 0.6887 - accuracy: 0.6966\b\b\b\b\b\b\b\b\b\b\b\b\b\b\b\b\b\b\b\b\b\b\b\b\b\b\b\b\b\b\b\b\b\b\b\b\b\b\b\b\b\b\b\b\b\b\b\b\b\b\b\b\b\b\b\b\b\b\b\b\b\b\b\b\b\b\b\b\b\b\b\b\b\b\b\b\b\b\b\b\b\b\b\b\b\b\r",
       "  5/121 [&gt;.............................] - ETA: 3:23 - loss: 0.7086 - accuracy: 0.6973\b\b\b\b\b\b\b\b\b\b\b\b\b\b\b\b\b\b\b\b\b\b\b\b\b\b\b\b\b\b\b\b\b\b\b\b\b\b\b\b\b\b\b\b\b\b\b\b\b\b\b\b\b\b\b\b\b\b\b\b\b\b\b\b\b\b\b\b\b\b\b\b\b\b\b\b\b\b\b\b\b\b\b\b\b\b\r",
       "  6/121 [&gt;.............................] - ETA: 3:15 - loss: 0.7172 - accuracy: 0.6974\b\b\b\b\b\b\b\b\b\b\b\b\b\b\b\b\b\b\b\b\b\b\b\b\b\b\b\b\b\b\b\b\b\b\b\b\b\b\b\b\b\b\b\b\b\b\b\b\b\b\b\b\b\b\b\b\b\b\b\b\b\b\b\b\b\b\b\b\b\b\b\b\b\b\b\b\b\b\b\b\b\b\b\b\b\b\r",
       "  7/121 [&gt;.............................] - ETA: 3:12 - loss: 0.7234 - accuracy: 0.6909\b\b\b\b\b\b\b\b\b\b\b\b\b\b\b\b\b\b\b\b\b\b\b\b\b\b\b\b\b\b\b\b\b\b\b\b\b\b\b\b\b\b\b\b\b\b\b\b\b\b\b\b\b\b\b\b\b\b\b\b\b\b\b\b\b\b\b\b\b\b\b\b\b\b\b\b\b\b\b\b\b\b\b\b\b\b\r",
       "  8/121 [&gt;.............................] - ETA: 3:08 - loss: 0.7254 - accuracy: 0.6856\b\b\b\b\b\b\b\b\b\b\b\b\b\b\b\b\b\b\b\b\b\b\b\b\b\b\b\b\b\b\b\b\b\b\b\b\b\b\b\b\b\b\b\b\b\b\b\b\b\b\b\b\b\b\b\b\b\b\b\b\b\b\b\b\b\b\b\b\b\b\b\b\b\b\b\b\b\b\b\b\b\b\b\b\b\b\r",
       "  9/121 [=&gt;............................] - ETA: 3:06 - loss: 0.7262 - accuracy: 0.6788\b\b\b\b\b\b\b\b\b\b\b\b\b\b\b\b\b\b\b\b\b\b\b\b\b\b\b\b\b\b\b\b\b\b\b\b\b\b\b\b\b\b\b\b\b\b\b\b\b\b\b\b\b\b\b\b\b\b\b\b\b\b\b\b\b\b\b\b\b\b\b\b\b\b\b\b\b\b\b\b\b\b\b\b\b\b\r",
       " 10/121 [=&gt;............................] - ETA: 3:07 - loss: 0.7260 - accuracy: 0.6728\b\b\b\b\b\b\b\b\b\b\b\b\b\b\b\b\b\b\b\b\b\b\b\b\b\b\b\b\b\b\b\b\b\b\b\b\b\b\b\b\b\b\b\b\b\b\b\b\b\b\b\b\b\b\b\b\b\b\b\b\b\b\b\b\b\b\b\b\b\b\b\b\b\b\b\b\b\b\b\b\b\b\b\b\b\b\r",
       " 11/121 [=&gt;............................] - ETA: 3:05 - loss: 0.7328 - accuracy: 0.6695\b\b\b\b\b\b\b\b\b\b\b\b\b\b\b\b\b\b\b\b\b\b\b\b\b\b\b\b\b\b\b\b\b\b\b\b\b\b\b\b\b\b\b\b\b\b\b\b\b\b\b\b\b\b\b\b\b\b\b\b\b\b\b\b\b\b\b\b\b\b\b\b\b\b\b\b\b\b\b\b\b\b\b\b\b\b\r",
       " 12/121 [=&gt;............................] - ETA: 3:04 - loss: 0.7368 - accuracy: 0.6667\b\b\b\b\b\b\b\b\b\b\b\b\b\b\b\b\b\b\b\b\b\b\b\b\b\b\b\b\b\b\b\b\b\b\b\b\b\b\b\b\b\b\b\b\b\b\b\b\b\b\b\b\b\b\b\b\b\b\b\b\b\b\b\b\b\b\b\b\b\b\b\b\b\b\b\b\b\b\b\b\b\b\b\b\b\b\r",
       " 13/121 [==&gt;...........................] - ETA: 3:00 - loss: 0.7391 - accuracy: 0.6642\b\b\b\b\b\b\b\b\b\b\b\b\b\b\b\b\b\b\b\b\b\b\b\b\b\b\b\b\b\b\b\b\b\b\b\b\b\b\b\b\b\b\b\b\b\b\b\b\b\b\b\b\b\b\b\b\b\b\b\b\b\b\b\b\b\b\b\b\b\b\b\b\b\b\b\b\b\b\b\b\b\b\b\b\b\b\r",
       " 14/121 [==&gt;...........................] - ETA: 2:58 - loss: 0.7401 - accuracy: 0.6633\b\b\b\b\b\b\b\b\b\b\b\b\b\b\b\b\b\b\b\b\b\b\b\b\b\b\b\b\b\b\b\b\b\b\b\b\b\b\b\b\b\b\b\b\b\b\b\b\b\b\b\b\b\b\b\b\b\b\b\b\b\b\b\b\b\b\b\b\b\b\b\b\b\b\b\b\b\b\b\b\b\b\b\b\b\b\r",
       " 15/121 [==&gt;...........................] - ETA: 2:55 - loss: 0.7407 - accuracy: 0.6627\b\b\b\b\b\b\b\b\b\b\b\b\b\b\b\b\b\b\b\b\b\b\b\b\b\b\b\b\b\b\b\b\b\b\b\b\b\b\b\b\b\b\b\b\b\b\b\b\b\b\b\b\b\b\b\b\b\b\b\b\b\b\b\b\b\b\b\b\b\b\b\b\b\b\b\b\b\b\b\b\b\b\b\b\b\b\r",
       " 16/121 [==&gt;...........................] - ETA: 2:53 - loss: 0.7412 - accuracy: 0.6621\b\b\b\b\b\b\b\b\b\b\b\b\b\b\b\b\b\b\b\b\b\b\b\b\b\b\b\b\b\b\b\b\b\b\b\b\b\b\b\b\b\b\b\b\b\b\b\b\b\b\b\b\b\b\b\b\b\b\b\b\b\b\b\b\b\b\b\b\b\b\b\b\b\b\b\b\b\b\b\b\b\b\b\b\b\b\r",
       " 17/121 [===&gt;..........................] - ETA: 2:52 - loss: 0.7448 - accuracy: 0.6612\b\b\b\b\b\b\b\b\b\b\b\b\b\b\b\b\b\b\b\b\b\b\b\b\b\b\b\b\b\b\b\b\b\b\b\b\b\b\b\b\b\b\b\b\b\b\b\b\b\b\b\b\b\b\b\b\b\b\b\b\b\b\b\b\b\b\b\b\b\b\b\b\b\b\b\b\b\b\b\b\b\b\b\b\b\b\r",
       " 18/121 [===&gt;..........................] - ETA: 2:49 - loss: 0.7477 - accuracy: 0.6599\b\b\b\b\b\b\b\b\b\b\b\b\b\b\b\b\b\b\b\b\b\b\b\b\b\b\b\b\b\b\b\b\b\b\b\b\b\b\b\b\b\b\b\b\b\b\b\b\b\b\b\b\b\b\b\b\b\b\b\b\b\b\b\b\b\b\b\b\b\b\b\b\b\b\b\b\b\b\b\b\b\b\b\b\b\b\r",
       " 19/121 [===&gt;..........................] - ETA: 2:48 - loss: 0.7499 - accuracy: 0.6586\b\b\b\b\b\b\b\b\b\b\b\b\b\b\b\b\b\b\b\b\b\b\b\b\b\b\b\b\b\b\b\b\b\b\b\b\b\b\b\b\b\b\b\b\b\b\b\b\b\b\b\b\b\b\b\b\b\b\b\b\b\b\b\b\b\b\b\b\b\b\b\b\b\b\b\b\b\b\b\b\b\b\b\b\b\b\r",
       " 20/121 [===&gt;..........................] - ETA: 2:46 - loss: 0.7514 - accuracy: 0.6579\b\b\b\b\b\b\b\b\b\b\b\b\b\b\b\b\b\b\b\b\b\b\b\b\b\b\b\b\b\b\b\b\b\b\b\b\b\b\b\b\b\b\b\b\b\b\b\b\b\b\b\b\b\b\b\b\b\b\b\b\b\b\b\b\b\b\b\b\b\b\b\b\b\b\b\b\b\b\b\b\b\b\b\b\b\b\r",
       " 21/121 [====&gt;.........................] - ETA: 2:47 - loss: 0.7524 - accuracy: 0.6572\b\b\b\b\b\b\b\b\b\b\b\b\b\b\b\b\b\b\b\b\b\b\b\b\b\b\b\b\b\b\b\b\b\b\b\b\b\b\b\b\b\b\b\b\b\b\b\b\b\b\b\b\b\b\b\b\b\b\b\b\b\b\b\b\b\b\b\b\b\b\b\b\b\b\b\b\b\b\b\b\b\b\b\b\b\b\r",
       " 22/121 [====&gt;.........................] - ETA: 2:44 - loss: 0.7530 - accuracy: 0.6563\b\b\b\b\b\b\b\b\b\b\b\b\b\b\b\b\b\b\b\b\b\b\b\b\b\b\b\b\b\b\b\b\b\b\b\b\b\b\b\b\b\b\b\b\b\b\b\b\b\b\b\b\b\b\b\b\b\b\b\b\b\b\b\b\b\b\b\b\b\b\b\b\b\b\b\b\b\b\b\b\b\b\b\b\b\b\r",
       " 23/121 [====&gt;.........................] - ETA: 2:42 - loss: 0.7534 - accuracy: 0.6555\b\b\b\b\b\b\b\b\b\b\b\b\b\b\b\b\b\b\b\b\b\b\b\b\b\b\b\b\b\b\b\b\b\b\b\b\b\b\b\b\b\b\b\b\b\b\b\b\b\b\b\b\b\b\b\b\b\b\b\b\b\b\b\b\b\b\b\b\b\b\b\b\b\b\b\b\b\b\b\b\b\b\b\b\b\b\r",
       " 24/121 [====&gt;.........................] - ETA: 2:40 - loss: 0.7535 - accuracy: 0.6546\b\b\b\b\b\b\b\b\b\b\b\b\b\b\b\b\b\b\b\b\b\b\b\b\b\b\b\b\b\b\b\b\b\b\b\b\b\b\b\b\b\b\b\b\b\b\b\b\b\b\b\b\b\b\b\b\b\b\b\b\b\b\b\b\b\b\b\b\b\b\b\b\b\b\b\b\b\b\b\b\b\b\b\b\b\b\r",
       " 25/121 [=====&gt;........................] - ETA: 2:38 - loss: 0.7533 - accuracy: 0.6540\b\b\b\b\b\b\b\b\b\b\b\b\b\b\b\b\b\b\b\b\b\b\b\b\b\b\b\b\b\b\b\b\b\b\b\b\b\b\b\b\b\b\b\b\b\b\b\b\b\b\b\b\b\b\b\b\b\b\b\b\b\b\b\b\b\b\b\b\b\b\b\b\b\b\b\b\b\b\b\b\b\b\b\b\b\b\r",
       " 26/121 [=====&gt;........................] - ETA: 2:37 - loss: 0.7532 - accuracy: 0.6533\b\b\b\b\b\b\b\b\b\b\b\b\b\b\b\b\b\b\b\b\b\b\b\b\b\b\b\b\b\b\b\b\b\b\b\b\b\b\b\b\b\b\b\b\b\b\b\b\b\b\b\b\b\b\b\b\b\b\b\b\b\b\b\b\b\b\b\b\b\b\b\b\b\b\b\b\b\b\b\b\b\b\b\b\b\b\r",
       " 27/121 [=====&gt;........................] - ETA: 2:35 - loss: 0.7529 - accuracy: 0.6526\b\b\b\b\b\b\b\b\b\b\b\b\b\b\b\b\b\b\b\b\b\b\b\b\b\b\b\b\b\b\b\b\b\b\b\b\b\b\b\b\b\b\b\b\b\b\b\b\b\b\b\b\b\b\b\b\b\b\b\b\b\b\b\b\b\b\b\b\b\b\b\b\b\b\b\b\b\b\b\b\b\b\b\b\b\b\r",
       " 28/121 [=====&gt;........................] - ETA: 2:35 - loss: 0.7525 - accuracy: 0.6520\b\b\b\b\b\b\b\b\b\b\b\b\b\b\b\b\b\b\b\b\b\b\b\b\b\b\b\b\b\b\b\b\b\b\b\b\b\b\b\b\b\b\b\b\b\b\b\b\b\b\b\b\b\b\b\b\b\b\b\b\b\b\b\b\b\b\b\b\b\b\b\b\b\b\b\b\b\b\b\b\b\b\b\b\b\b\r",
       " 29/121 [======&gt;.......................] - ETA: 2:33 - loss: 0.7519 - accuracy: 0.6514\b\b\b\b\b\b\b\b\b\b\b\b\b\b\b\b\b\b\b\b\b\b\b\b\b\b\b\b\b\b\b\b\b\b\b\b\b\b\b\b\b\b\b\b\b\b\b\b\b\b\b\b\b\b\b\b\b\b\b\b\b\b\b\b\b\b\b\b\b\b\b\b\b\b\b\b\b\b\b\b\b\b\b\b\b\b\r",
       " 30/121 [======&gt;.......................] - ETA: 2:27 - loss: 0.7513 - accuracy: 0.6509\b\b\b\b\b\b\b\b\b\b\b\b\b\b\b\b\b\b\b\b\b\b\b\b\b\b\b\b\b\b\b\b\b\b\b\b\b\b\b\b\b\b\b\b\b\b\b\b\b\b\b\b\b\b\b\b\b\b\b\b\b\b\b\b\b\b\b\b\b\b\b\b\b\b\b\b\b\b\b\b\b\b\b\b\b\b\r",
       " 31/121 [======&gt;.......................] - ETA: 2:26 - loss: 0.7505 - accuracy: 0.6505\b\b\b\b\b\b\b\b\b\b\b\b\b\b\b\b\b\b\b\b\b\b\b\b\b\b\b\b\b\b\b\b\b\b\b\b\b\b\b\b\b\b\b\b\b\b\b\b\b\b\b\b\b\b\b\b\b\b\b\b\b\b\b\b\b\b\b\b\b\b\b\b\b\b\b\b\b\b\b\b\b\b\b\b\b\b\r",
       " 32/121 [======&gt;.......................] - ETA: 2:24 - loss: 0.7497 - accuracy: 0.6500\b\b\b\b\b\b\b\b\b\b\b\b\b\b\b\b\b\b\b\b\b\b\b\b\b\b\b\b\b\b\b\b\b\b\b\b\b\b\b\b\b\b\b\b\b\b\b\b\b\b\b\b\b\b\b\b\b\b\b\b\b\b\b\b\b\b\b\b\b\b\b\b\b\b\b\b\b\b\b\b\b\b\b\b\b\b\r",
       " 33/121 [=======&gt;......................] - ETA: 2:23 - loss: 0.7488 - accuracy: 0.6497\b\b\b\b\b\b\b\b\b\b\b\b\b\b\b\b\b\b\b\b\b\b\b\b\b\b\b\b\b\b\b\b\b\b\b\b\b\b\b\b\b\b\b\b\b\b\b\b\b\b\b\b\b\b\b\b\b\b\b\b\b\b\b\b\b\b\b\b\b\b\b\b\b\b\b\b\b\b\b\b\b\b\b\b\b\b\r",
       " 34/121 [=======&gt;......................] - ETA: 2:23 - loss: 0.7480 - accuracy: 0.6493\b\b\b\b\b\b\b\b\b\b\b\b\b\b\b\b\b\b\b\b\b\b\b\b\b\b\b\b\b\b\b\b\b\b\b\b\b\b\b\b\b\b\b\b\b\b\b\b\b\b\b\b\b\b\b\b\b\b\b\b\b\b\b\b\b\b\b\b\b\b\b\b\b\b\b\b\b\b\b\b\b\b\b\b\b\b\r",
       " 35/121 [=======&gt;......................] - ETA: 2:21 - loss: 0.7472 - accuracy: 0.6489\b\b\b\b\b\b\b\b\b\b\b\b\b\b\b\b\b\b\b\b\b\b\b\b\b\b\b\b\b\b\b\b\b\b\b\b\b\b\b\b\b\b\b\b\b\b\b\b\b\b\b\b\b\b\b\b\b\b\b\b\b\b\b\b\b\b\b\b\b\b\b\b\b\b\b\b\b\b\b\b\b\b\b\b\b\b\r",
       " 36/121 [=======&gt;......................] - ETA: 2:19 - loss: 0.7463 - accuracy: 0.6486\b\b\b\b\b\b\b\b\b\b\b\b\b\b\b\b\b\b\b\b\b\b\b\b\b\b\b\b\b\b\b\b\b\b\b\b\b\b\b\b\b\b\b\b\b\b\b\b\b\b\b\b\b\b\b\b\b\b\b\b\b\b\b\b\b\b\b\b\b\b\b\b\b\b\b\b\b\b\b\b\b\b\b\b\b\b\r",
       " 37/121 [========&gt;.....................] - ETA: 2:18 - loss: 0.7455 - accuracy: 0.6482\b\b\b\b\b\b\b\b\b\b\b\b\b\b\b\b\b\b\b\b\b\b\b\b\b\b\b\b\b\b\b\b\b\b\b\b\b\b\b\b\b\b\b\b\b\b\b\b\b\b\b\b\b\b\b\b\b\b\b\b\b\b\b\b\b\b\b\b\b\b\b\b\b\b\b\b\b\b\b\b\b\b\b\b\b\b\r",
       " 38/121 [========&gt;.....................] - ETA: 2:17 - loss: 0.7448 - accuracy: 0.6477\b\b\b\b\b\b\b\b\b\b\b\b\b\b\b\b\b\b\b\b\b\b\b\b\b\b\b\b\b\b\b\b\b\b\b\b\b\b\b\b\b\b\b\b\b\b\b\b\b\b\b\b\b\b\b\b\b\b\b\b\b\b\b\b\b\b\b\b\b\b\b\b\b\b\b\b\b\b\b\b\b\b\b\b\b\b\r",
       " 39/121 [========&gt;.....................] - ETA: 2:15 - loss: 0.7442 - accuracy: 0.6473\b\b\b\b\b\b\b\b\b\b\b\b\b\b\b\b\b\b\b\b\b\b\b\b\b\b\b\b\b\b\b\b\b\b\b\b\b\b\b\b\b\b\b\b\b\b\b\b\b\b\b\b\b\b\b\b\b\b\b\b\b\b\b\b\b\b\b\b\b\b\b\b\b\b\b\b\b\b\b\b\b\b\b\b\b\b\r",
       " 40/121 [========&gt;.....................] - ETA: 2:13 - loss: 0.7435 - accuracy: 0.6469\b\b\b\b\b\b\b\b\b\b\b\b\b\b\b\b\b\b\b\b\b\b\b\b\b\b\b\b\b\b\b\b\b\b\b\b\b\b\b\b\b\b\b\b\b\b\b\b\b\b\b\b\b\b\b\b\b\b\b\b\b\b\b\b\b\b\b\b\b\b\b\b\b\b\b\b\b\b\b\b\b\b\b\b\b\b\r",
       " 41/121 [=========&gt;....................] - ETA: 2:12 - loss: 0.7427 - accuracy: 0.6465\b\b\b\b\b\b\b\b\b\b\b\b\b\b\b\b\b\b\b\b\b\b\b\b\b\b\b\b\b\b\b\b\b\b\b\b\b\b\b\b\b\b\b\b\b\b\b\b\b\b\b\b\b\b\b\b\b\b\b\b\b\b\b\b\b\b\b\b\b\b\b\b\b\b\b\b\b\b\b\b\b\b\b\b\b\b\r",
       " 42/121 [=========&gt;....................] - ETA: 2:11 - loss: 0.7421 - accuracy: 0.6462\b\b\b\b\b\b\b\b\b\b\b\b\b\b\b\b\b\b\b\b\b\b\b\b\b\b\b\b\b\b\b\b\b\b\b\b\b\b\b\b\b\b\b\b\b\b\b\b\b\b\b\b\b\b\b\b\b\b\b\b\b\b\b\b\b\b\b\b\b\b\b\b\b\b\b\b\b\b\b\b\b\b\b\b\b\b\r",
       " 43/121 [=========&gt;....................] - ETA: 2:10 - loss: 0.7416 - accuracy: 0.6459\b\b\b\b\b\b\b\b\b\b\b\b\b\b\b\b\b\b\b\b\b\b\b\b\b\b\b\b\b\b\b\b\b\b\b\b\b\b\b\b\b\b\b\b\b\b\b\b\b\b\b\b\b\b\b\b\b\b\b\b\b\b\b\b\b\b\b\b\b\b\b\b\b\b\b\b\b\b\b\b\b\b\b\b\b\b\r",
       " 44/121 [=========&gt;....................] - ETA: 2:08 - loss: 0.7409 - accuracy: 0.6457\b\b\b\b\b\b\b\b\b\b\b\b\b\b\b\b\b\b\b\b\b\b\b\b\b\b\b\b\b\b\b\b\b\b\b\b\b\b\b\b\b\b\b\b\b\b\b\b\b\b\b\b\b\b\b\b\b\b\b\b\b\b\b\b\b\b\b\b\b\b\b\b\b\b\b\b\b\b\b\b\b\b\b\b\b\b\r",
       " 45/121 [==========&gt;...................] - ETA: 2:07 - loss: 0.7403 - accuracy: 0.6456\b\b\b\b\b\b\b\b\b\b\b\b\b\b\b\b\b\b\b\b\b\b\b\b\b\b\b\b\b\b\b\b\b\b\b\b\b\b\b\b\b\b\b\b\b\b\b\b\b\b\b\b\b\b\b\b\b\b\b\b\b\b\b\b\b\b\b\b\b\b\b\b\b\b\b\b\b\b\b\b\b\b\b\b\b\b\r",
       " 46/121 [==========&gt;...................] - ETA: 2:05 - loss: 0.7397 - accuracy: 0.6454\b\b\b\b\b\b\b\b\b\b\b\b\b\b\b\b\b\b\b\b\b\b\b\b\b\b\b\b\b\b\b\b\b\b\b\b\b\b\b\b\b\b\b\b\b\b\b\b\b\b\b\b\b\b\b\b\b\b\b\b\b\b\b\b\b\b\b\b\b\b\b\b\b\b\b\b\b\b\b\b\b\b\b\b\b\b\r",
       " 47/121 [==========&gt;...................] - ETA: 2:04 - loss: 0.7390 - accuracy: 0.6451\b\b\b\b\b\b\b\b\b\b\b\b\b\b\b\b\b\b\b\b\b\b\b\b\b\b\b\b\b\b\b\b\b\b\b\b\b\b\b\b\b\b\b\b\b\b\b\b\b\b\b\b\b\b\b\b\b\b\b\b\b\b\b\b\b\b\b\b\b\b\b\b\b\b\b\b\b\b\b\b\b\b\b\b\b\b\r",
       " 48/121 [==========&gt;...................] - ETA: 2:02 - loss: 0.7385 - accuracy: 0.6447\b\b\b\b\b\b\b\b\b\b\b\b\b\b\b\b\b\b\b\b\b\b\b\b\b\b\b\b\b\b\b\b\b\b\b\b\b\b\b\b\b\b\b\b\b\b\b\b\b\b\b\b\b\b\b\b\b\b\b\b\b\b\b\b\b\b\b\b\b\b\b\b\b\b\b\b\b\b\b\b\b\b\b\b\b\b\r",
       " 49/121 [===========&gt;..................] - ETA: 2:00 - loss: 0.7379 - accuracy: 0.6444\b\b\b\b\b\b\b\b\b\b\b\b\b\b\b\b\b\b\b\b\b\b\b\b\b\b\b\b\b\b\b\b\b\b\b\b\b\b\b\b\b\b\b\b\b\b\b\b\b\b\b\b\b\b\b\b\b\b\b\b\b\b\b\b\b\b\b\b\b\b\b\b\b\b\b\b\b\b\b\b\b\b\b\b\b\b\r",
       " 50/121 [===========&gt;..................] - ETA: 1:58 - loss: 0.7373 - accuracy: 0.6440\b\b\b\b\b\b\b\b\b\b\b\b\b\b\b\b\b\b\b\b\b\b\b\b\b\b\b\b\b\b\b\b\b\b\b\b\b\b\b\b\b\b\b\b\b\b\b\b\b\b\b\b\b\b\b\b\b\b\b\b\b\b\b\b\b\b\b\b\b\b\b\b\b\b\b\b\b\b\b\b\b\b\b\b\b\b\r",
       " 51/121 [===========&gt;..................] - ETA: 1:57 - loss: 0.7366 - accuracy: 0.6437\b\b\b\b\b\b\b\b\b\b\b\b\b\b\b\b\b\b\b\b\b\b\b\b\b\b\b\b\b\b\b\b\b\b\b\b\b\b\b\b\b\b\b\b\b\b\b\b\b\b\b\b\b\b\b\b\b\b\b\b\b\b\b\b\b\b\b\b\b\b\b\b\b\b\b\b\b\b\b\b\b\b\b\b\b\b\r",
       " 52/121 [===========&gt;..................] - ETA: 1:56 - loss: 0.7364 - accuracy: 0.6435\b\b\b\b\b\b\b\b\b\b\b\b\b\b\b\b\b\b\b\b\b\b\b\b\b\b\b\b\b\b\b\b\b\b\b\b\b\b\b\b\b\b\b\b\b\b\b\b\b\b\b\b\b\b\b\b\b\b\b\b\b\b\b\b\b\b\b\b\b\b\b\b\b\b\b\b\b\b\b\b\b\b\b\b\b\b\r",
       " 53/121 [============&gt;.................] - ETA: 1:54 - loss: 0.7360 - accuracy: 0.6432\b\b\b\b\b\b\b\b\b\b\b\b\b\b\b\b\b\b\b\b\b\b\b\b\b\b\b\b\b\b\b\b\b\b\b\b\b\b\b\b\b\b\b\b\b\b\b\b\b\b\b\b\b\b\b\b\b\b\b\b\b\b\b\b\b\b\b\b\b\b\b\b\b\b\b\b\b\b\b\b\b\b\b\b\b\b\r",
       " 54/121 [============&gt;.................] - ETA: 1:53 - loss: 0.7357 - accuracy: 0.6430\b\b\b\b\b\b\b\b\b\b\b\b\b\b\b\b\b\b\b\b\b\b\b\b\b\b\b\b\b\b\b\b\b\b\b\b\b\b\b\b\b\b\b\b\b\b\b\b\b\b\b\b\b\b\b\b\b\b\b\b\b\b\b\b\b\b\b\b\b\b\b\b\b\b\b\b\b\b\b\b\b\b\b\b\b\b\r",
       " 55/121 [============&gt;.................] - ETA: 1:51 - loss: 0.7354 - accuracy: 0.6426\b\b\b\b\b\b\b\b\b\b\b\b\b\b\b\b\b\b\b\b\b\b\b\b\b\b\b\b\b\b\b\b\b\b\b\b\b\b\b\b\b\b\b\b\b\b\b\b\b\b\b\b\b\b\b\b\b\b\b\b\b\b\b\b\b\b\b\b\b\b\b\b\b\b\b\b\b\b\b\b\b\b\b\b\b\b\r",
       " 56/121 [============&gt;.................] - ETA: 1:49 - loss: 0.7351 - accuracy: 0.6423\b\b\b\b\b\b\b\b\b\b\b\b\b\b\b\b\b\b\b\b\b\b\b\b\b\b\b\b\b\b\b\b\b\b\b\b\b\b\b\b\b\b\b\b\b\b\b\b\b\b\b\b\b\b\b\b\b\b\b\b\b\b\b\b\b\b\b\b\b\b\b\b\b\b\b\b\b\b\b\b\b\b\b\b\b\b\r",
       " 57/121 [=============&gt;................] - ETA: 1:47 - loss: 0.7347 - accuracy: 0.6421\b\b\b\b\b\b\b\b\b\b\b\b\b\b\b\b\b\b\b\b\b\b\b\b\b\b\b\b\b\b\b\b\b\b\b\b\b\b\b\b\b\b\b\b\b\b\b\b\b\b\b\b\b\b\b\b\b\b\b\b\b\b\b\b\b\b\b\b\b\b\b\b\b\b\b\b\b\b\b\b\b\b\b\b\b\b\r",
       " 58/121 [=============&gt;................] - ETA: 1:46 - loss: 0.7344 - accuracy: 0.6418\b\b\b\b\b\b\b\b\b\b\b\b\b\b\b\b\b\b\b\b\b\b\b\b\b\b\b\b\b\b\b\b\b\b\b\b\b\b\b\b\b\b\b\b\b\b\b\b\b\b\b\b\b\b\b\b\b\b\b\b\b\b\b\b\b\b\b\b\b\b\b\b\b\b\b\b\b\b\b\b\b\b\b\b\b\b\r",
       " 59/121 [=============&gt;................] - ETA: 1:44 - loss: 0.7341 - accuracy: 0.6416\b\b\b\b\b\b\b\b\b\b\b\b\b\b\b\b\b\b\b\b\b\b\b\b\b\b\b\b\b\b\b\b\b\b\b\b\b\b\b\b\b\b\b\b\b\b\b\b\b\b\b\b\b\b\b\b\b\b\b\b\b\b\b\b\b\b\b\b\b\b\b\b\b\b\b\b\b\b\b\b\b\b\b\b\b\b\r",
       " 60/121 [=============&gt;................] - ETA: 1:43 - loss: 0.7338 - accuracy: 0.6414\b\b\b\b\b\b\b\b\b\b\b\b\b\b\b\b\b\b\b\b\b\b\b\b\b\b\b\b\b\b\b\b\b\b\b\b\b\b\b\b\b\b\b\b\b\b\b\b\b\b\b\b\b\b\b\b\b\b\b\b\b\b\b\b\b\b\b\b\b\b\b\b\b\b\b\b\b\b\b\b\b\b\b\b\b\b\r",
       " 61/121 [==============&gt;...............] - ETA: 1:41 - loss: 0.7335 - accuracy: 0.6412\b\b\b\b\b\b\b\b\b\b\b\b\b\b\b\b\b\b\b\b\b\b\b\b\b\b\b\b\b\b\b\b\b\b\b\b\b\b\b\b\b\b\b\b\b\b\b\b\b\b\b\b\b\b\b\b\b\b\b\b\b\b\b\b\b\b\b\b\b\b\b\b\b\b\b\b\b\b\b\b\b\b\b\b\b\b\r",
       " 62/121 [==============&gt;...............] - ETA: 1:40 - loss: 0.7332 - accuracy: 0.6410\b\b\b\b\b\b\b\b\b\b\b\b\b\b\b\b\b\b\b\b\b\b\b\b\b\b\b\b\b\b\b\b\b\b\b\b\b\b\b\b\b\b\b\b\b\b\b\b\b\b\b\b\b\b\b\b\b\b\b\b\b\b\b\b\b\b\b\b\b\b\b\b\b\b\b\b\b\b\b\b\b\b\b\b\b\b\r",
       " 63/121 [==============&gt;...............] - ETA: 1:38 - loss: 0.7328 - accuracy: 0.6407\b\b\b\b\b\b\b\b\b\b\b\b\b\b\b\b\b\b\b\b\b\b\b\b\b\b\b\b\b\b\b\b\b\b\b\b\b\b\b\b\b\b\b\b\b\b\b\b\b\b\b\b\b\b\b\b\b\b\b\b\b\b\b\b\b\b\b\b\b\b\b\b\b\b\b\b\b\b\b\b\b\b\b\b\b\b\r",
       " 64/121 [==============&gt;...............] - ETA: 1:36 - loss: 0.7325 - accuracy: 0.6406\b\b\b\b\b\b\b\b\b\b\b\b\b\b\b\b\b\b\b\b\b\b\b\b\b\b\b\b\b\b\b\b\b\b\b\b\b\b\b\b\b\b\b\b\b\b\b\b\b\b\b\b\b\b\b\b\b\b\b\b\b\b\b\b\b\b\b\b\b\b\b\b\b\b\b\b\b\b\b\b\b\b\b\b\b\b\r",
       " 65/121 [===============&gt;..............] - ETA: 1:35 - loss: 0.7322 - accuracy: 0.6403\b\b\b\b\b\b\b\b\b\b\b\b\b\b\b\b\b\b\b\b\b\b\b\b\b\b\b\b\b\b\b\b\b\b\b\b\b\b\b\b\b\b\b\b\b\b\b\b\b\b\b\b\b\b\b\b\b\b\b\b\b\b\b\b\b\b\b\b\b\b\b\b\b\b\b\b\b\b\b\b\b\b\b\b\b\b\r",
       " 66/121 [===============&gt;..............] - ETA: 1:33 - loss: 0.7318 - accuracy: 0.6402\b\b\b\b\b\b\b\b\b\b\b\b\b\b\b\b\b\b\b\b\b\b\b\b\b\b\b\b\b\b\b\b\b\b\b\b\b\b\b\b\b\b\b\b\b\b\b\b\b\b\b\b\b\b\b\b\b\b\b\b\b\b\b\b\b\b\b\b\b\b\b\b\b\b\b\b\b\b\b\b\b\b\b\b\b\b\r",
       " 67/121 [===============&gt;..............] - ETA: 1:32 - loss: 0.7315 - accuracy: 0.6400\b\b\b\b\b\b\b\b\b\b\b\b\b\b\b\b\b\b\b\b\b\b\b\b\b\b\b\b\b\b\b\b\b\b\b\b\b\b\b\b\b\b\b\b\b\b\b\b\b\b\b\b\b\b\b\b\b\b\b\b\b\b\b\b\b\b\b\b\b\b\b\b\b\b\b\b\b\b\b\b\b\b\b\b\b\b\r",
       " 68/121 [===============&gt;..............] - ETA: 1:30 - loss: 0.7312 - accuracy: 0.6398\b\b\b\b\b\b\b\b\b\b\b\b\b\b\b\b\b\b\b\b\b\b\b\b\b\b\b\b\b\b\b\b\b\b\b\b\b\b\b\b\b\b\b\b\b\b\b\b\b\b\b\b\b\b\b\b\b\b\b\b\b\b\b\b\b\b\b\b\b\b\b\b\b\b\b\b\b\b\b\b\b\b\b\b\b\b\r",
       " 69/121 [================&gt;.............] - ETA: 1:29 - loss: 0.7309 - accuracy: 0.6396\b\b\b\b\b\b\b\b\b\b\b\b\b\b\b\b\b\b\b\b\b\b\b\b\b\b\b\b\b\b\b\b\b\b\b\b\b\b\b\b\b\b\b\b\b\b\b\b\b\b\b\b\b\b\b\b\b\b\b\b\b\b\b\b\b\b\b\b\b\b\b\b\b\b\b\b\b\b\b\b\b\b\b\b\b\b\r",
       " 70/121 [================&gt;.............] - ETA: 1:28 - loss: 0.7305 - accuracy: 0.6395\b\b\b\b\b\b\b\b\b\b\b\b\b\b\b\b\b\b\b\b\b\b\b\b\b\b\b\b\b\b\b\b\b\b\b\b\b\b\b\b\b\b\b\b\b\b\b\b\b\b\b\b\b\b\b\b\b\b\b\b\b\b\b\b\b\b\b\b\b\b\b\b\b\b\b\b\b\b\b\b\b\b\b\b\b\b\r",
       " 71/121 [================&gt;.............] - ETA: 1:27 - loss: 0.7302 - accuracy: 0.6394\b\b\b\b\b\b\b\b\b\b\b\b\b\b\b\b\b\b\b\b\b\b\b\b\b\b\b\b\b\b\b\b\b\b\b\b\b\b\b\b\b\b\b\b\b\b\b\b\b\b\b\b\b\b\b\b\b\b\b\b\b\b\b\b\b\b\b\b\b\b\b\b\b\b\b\b\b\b\b\b\b\b\b\b\b\b\r",
       " 72/121 [================&gt;.............] - ETA: 1:25 - loss: 0.7298 - accuracy: 0.6393\b\b\b\b\b\b\b\b\b\b\b\b\b\b\b\b\b\b\b\b\b\b\b\b\b\b\b\b\b\b\b\b\b\b\b\b\b\b\b\b\b\b\b\b\b\b\b\b\b\b\b\b\b\b\b\b\b\b\b\b\b\b\b\b\b\b\b\b\b\b\b\b\b\b\b\b\b\b\b\b\b\b\b\b\b\b\r",
       " 73/121 [=================&gt;............] - ETA: 1:23 - loss: 0.7295 - accuracy: 0.6391\b\b\b\b\b\b\b\b\b\b\b\b\b\b\b\b\b\b\b\b\b\b\b\b\b\b\b\b\b\b\b\b\b\b\b\b\b\b\b\b\b\b\b\b\b\b\b\b\b\b\b\b\b\b\b\b\b\b\b\b\b\b\b\b\b\b\b\b\b\b\b\b\b\b\b\b\b\b\b\b\b\b\b\b\b\b\r",
       " 74/121 [=================&gt;............] - ETA: 1:22 - loss: 0.7292 - accuracy: 0.6389\b\b\b\b\b\b\b\b\b\b\b\b\b\b\b\b\b\b\b\b\b\b\b\b\b\b\b\b\b\b\b\b\b\b\b\b\b\b\b\b\b\b\b\b\b\b\b\b\b\b\b\b\b\b\b\b\b\b\b\b\b\b\b\b\b\b\b\b\b\b\b\b\b\b\b\b\b\b\b\b\b\b\b\b\b\b\r",
       " 75/121 [=================&gt;............] - ETA: 1:20 - loss: 0.7288 - accuracy: 0.6387\b\b\b\b\b\b\b\b\b\b\b\b\b\b\b\b\b\b\b\b\b\b\b\b\b\b\b\b\b\b\b\b\b\b\b\b\b\b\b\b\b\b\b\b\b\b\b\b\b\b\b\b\b\b\b\b\b\b\b\b\b\b\b\b\b\b\b\b\b\b\b\b\b\b\b\b\b\b\b\b\b\b\b\b\b\b\r",
       " 76/121 [=================&gt;............] - ETA: 1:19 - loss: 0.7285 - accuracy: 0.6386\b\b\b\b\b\b\b\b\b\b\b\b\b\b\b\b\b\b\b\b\b\b\b\b\b\b\b\b\b\b\b\b\b\b\b\b\b\b\b\b\b\b\b\b\b\b\b\b\b\b\b\b\b\b\b\b\b\b\b\b\b\b\b\b\b\b\b\b\b\b\b\b\b\b\b\b\b\b\b\b\b\b\b\b\b\b\r",
       " 77/121 [==================&gt;...........] - ETA: 1:17 - loss: 0.7281 - accuracy: 0.6384\b\b\b\b\b\b\b\b\b\b\b\b\b\b\b\b\b\b\b\b\b\b\b\b\b\b\b\b\b\b\b\b\b\b\b\b\b\b\b\b\b\b\b\b\b\b\b\b\b\b\b\b\b\b\b\b\b\b\b\b\b\b\b\b\b\b\b\b\b\b\b\b\b\b\b\b\b\b\b\b\b\b\b\b\b\b\r",
       " 78/121 [==================&gt;...........] - ETA: 1:15 - loss: 0.7277 - accuracy: 0.6383\b\b\b\b\b\b\b\b\b\b\b\b\b\b\b\b\b\b\b\b\b\b\b\b\b\b\b\b\b\b\b\b\b\b\b\b\b\b\b\b\b\b\b\b\b\b\b\b\b\b\b\b\b\b\b\b\b\b\b\b\b\b\b\b\b\b\b\b\b\b\b\b\b\b\b\b\b\b\b\b\b\b\b\b\b\b\r",
       " 79/121 [==================&gt;...........] - ETA: 1:14 - loss: 0.7274 - accuracy: 0.6381\b\b\b\b\b\b\b\b\b\b\b\b\b\b\b\b\b\b\b\b\b\b\b\b\b\b\b\b\b\b\b\b\b\b\b\b\b\b\b\b\b\b\b\b\b\b\b\b\b\b\b\b\b\b\b\b\b\b\b\b\b\b\b\b\b\b\b\b\b\b\b\b\b\b\b\b\b\b\b\b\b\b\b\b\b\b\r",
       " 80/121 [==================&gt;...........] - ETA: 1:12 - loss: 0.7270 - accuracy: 0.6380\b\b\b\b\b\b\b\b\b\b\b\b\b\b\b\b\b\b\b\b\b\b\b\b\b\b\b\b\b\b\b\b\b\b\b\b\b\b\b\b\b\b\b\b\b\b\b\b\b\b\b\b\b\b\b\b\b\b\b\b\b\b\b\b\b\b\b\b\b\b\b\b\b\b\b\b\b\b\b\b\b\b\b\b\b\b\r",
       " 81/121 [===================&gt;..........] - ETA: 1:10 - loss: 0.7266 - accuracy: 0.6378\b\b\b\b\b\b\b\b\b\b\b\b\b\b\b\b\b\b\b\b\b\b\b\b\b\b\b\b\b\b\b\b\b\b\b\b\b\b\b\b\b\b\b\b\b\b\b\b\b\b\b\b\b\b\b\b\b\b\b\b\b\b\b\b\b\b\b\b\b\b\b\b\b\b\b\b\b\b\b\b\b\b\b\b\b\b\r",
       " 82/121 [===================&gt;..........] - ETA: 1:08 - loss: 0.7262 - accuracy: 0.6376\b\b\b\b\b\b\b\b\b\b\b\b\b\b\b\b\b\b\b\b\b\b\b\b\b\b\b\b\b\b\b\b\b\b\b\b\b\b\b\b\b\b\b\b\b\b\b\b\b\b\b\b\b\b\b\b\b\b\b\b\b\b\b\b\b\b\b\b\b\b\b\b\b\b\b\b\b\b\b\b\b\b\b\b\b\b\r",
       " 83/121 [===================&gt;..........] - ETA: 1:06 - loss: 0.7259 - accuracy: 0.6375\b\b\b\b\b\b\b\b\b\b\b\b\b\b\b\b\b\b\b\b\b\b\b\b\b\b\b\b\b\b\b\b\b\b\b\b\b\b\b\b\b\b\b\b\b\b\b\b\b\b\b\b\b\b\b\b\b\b\b\b\b\b\b\b\b\b\b\b\b\b\b\b\b\b\b\b\b\b\b\b\b\b\b\b\b\b\r",
       " 84/121 [===================&gt;..........] - ETA: 1:05 - loss: 0.7255 - accuracy: 0.6374\b\b\b\b\b\b\b\b\b\b\b\b\b\b\b\b\b\b\b\b\b\b\b\b\b\b\b\b\b\b\b\b\b\b\b\b\b\b\b\b\b\b\b\b\b\b\b\b\b\b\b\b\b\b\b\b\b\b\b\b\b\b\b\b\b\b\b\b\b\b\b\b\b\b\b\b\b\b\b\b\b\b\b\b\b\b\r",
       " 85/121 [====================&gt;.........] - ETA: 1:03 - loss: 0.7251 - accuracy: 0.6373\b\b\b\b\b\b\b\b\b\b\b\b\b\b\b\b\b\b\b\b\b\b\b\b\b\b\b\b\b\b\b\b\b\b\b\b\b\b\b\b\b\b\b\b\b\b\b\b\b\b\b\b\b\b\b\b\b\b\b\b\b\b\b\b\b\b\b\b\b\b\b\b\b\b\b\b\b\b\b\b\b\b\b\b\b\b\r",
       " 86/121 [====================&gt;.........] - ETA: 1:01 - loss: 0.7247 - accuracy: 0.6371\b\b\b\b\b\b\b\b\b\b\b\b\b\b\b\b\b\b\b\b\b\b\b\b\b\b\b\b\b\b\b\b\b\b\b\b\b\b\b\b\b\b\b\b\b\b\b\b\b\b\b\b\b\b\b\b\b\b\b\b\b\b\b\b\b\b\b\b\b\b\b\b\b\b\b\b\b\b\b\b\b\b\b\b\b\b\r",
       " 87/121 [====================&gt;.........] - ETA: 59s - loss: 0.7243 - accuracy: 0.6370 \b\b\b\b\b\b\b\b\b\b\b\b\b\b\b\b\b\b\b\b\b\b\b\b\b\b\b\b\b\b\b\b\b\b\b\b\b\b\b\b\b\b\b\b\b\b\b\b\b\b\b\b\b\b\b\b\b\b\b\b\b\b\b\b\b\b\b\b\b\b\b\b\b\b\b\b\b\b\b\b\b\b\b\b\b\r",
       " 88/121 [====================&gt;.........] - ETA: 57s - loss: 0.7239 - accuracy: 0.6369\b\b\b\b\b\b\b\b\b\b\b\b\b\b\b\b\b\b\b\b\b\b\b\b\b\b\b\b\b\b\b\b\b\b\b\b\b\b\b\b\b\b\b\b\b\b\b\b\b\b\b\b\b\b\b\b\b\b\b\b\b\b\b\b\b\b\b\b\b\b\b\b\b\b\b\b\b\b\b\b\b\b\b\b\b\r",
       " 89/121 [=====================&gt;........] - ETA: 56s - loss: 0.7235 - accuracy: 0.6368\b\b\b\b\b\b\b\b\b\b\b\b\b\b\b\b\b\b\b\b\b\b\b\b\b\b\b\b\b\b\b\b\b\b\b\b\b\b\b\b\b\b\b\b\b\b\b\b\b\b\b\b\b\b\b\b\b\b\b\b\b\b\b\b\b\b\b\b\b\b\b\b\b\b\b\b\b\b\b\b\b\b\b\b\b\r",
       " 90/121 [=====================&gt;........] - ETA: 54s - loss: 0.7231 - accuracy: 0.6366\b\b\b\b\b\b\b\b\b\b\b\b\b\b\b\b\b\b\b\b\b\b\b\b\b\b\b\b\b\b\b\b\b\b\b\b\b\b\b\b\b\b\b\b\b\b\b\b\b\b\b\b\b\b\b\b\b\b\b\b\b\b\b\b\b\b\b\b\b\b\b\b\b\b\b\b\b\b\b\b\b\b\b\b\b\r",
       " 91/121 [=====================&gt;........] - ETA: 52s - loss: 0.7227 - accuracy: 0.6365\b\b\b\b\b\b\b\b\b\b\b\b\b\b\b\b\b\b\b\b\b\b\b\b\b\b\b\b\b\b\b\b\b\b\b\b\b\b\b\b\b\b\b\b\b\b\b\b\b\b\b\b\b\b\b\b\b\b\b\b\b\b\b\b\b\b\b\b\b\b\b\b\b\b\b\b\b\b\b\b\b\b\b\b\b\r",
       " 92/121 [=====================&gt;........] - ETA: 50s - loss: 0.7223 - accuracy: 0.6364\b\b\b\b\b\b\b\b\b\b\b\b\b\b\b\b\b\b\b\b\b\b\b\b\b\b\b\b\b\b\b\b\b\b\b\b\b\b\b\b\b\b\b\b\b\b\b\b\b\b\b\b\b\b\b\b\b\b\b\b\b\b\b\b\b\b\b\b\b\b\b\b\b\b\b\b\b\b\b\b\b\b\b\b\b\r",
       " 93/121 [======================&gt;.......] - ETA: 48s - loss: 0.7219 - accuracy: 0.6363\b\b\b\b\b\b\b\b\b\b\b\b\b\b\b\b\b\b\b\b\b\b\b\b\b\b\b\b\b\b\b\b\b\b\b\b\b\b\b\b\b\b\b\b\b\b\b\b\b\b\b\b\b\b\b\b\b\b\b\b\b\b\b\b\b\b\b\b\b\b\b\b\b\b\b\b\b\b\b\b\b\b\b\b\b\r",
       " 94/121 [======================&gt;.......] - ETA: 47s - loss: 0.7215 - accuracy: 0.6362\b\b\b\b\b\b\b\b\b\b\b\b\b\b\b\b\b\b\b\b\b\b\b\b\b\b\b\b\b\b\b\b\b\b\b\b\b\b\b\b\b\b\b\b\b\b\b\b\b\b\b\b\b\b\b\b\b\b\b\b\b\b\b\b\b\b\b\b\b\b\b\b\b\b\b\b\b\b\b\b\b\b\b\b\b\r",
       " 95/121 [======================&gt;.......] - ETA: 45s - loss: 0.7211 - accuracy: 0.6361\b\b\b\b\b\b\b\b\b\b\b\b\b\b\b\b\b\b\b\b\b\b\b\b\b\b\b\b\b\b\b\b\b\b\b\b\b\b\b\b\b\b\b\b\b\b\b\b\b\b\b\b\b\b\b\b\b\b\b\b\b\b\b\b\b\b\b\b\b\b\b\b\b\b\b\b\b\b\b\b\b\b\b\b\b\r",
       " 96/121 [======================&gt;.......] - ETA: 43s - loss: 0.7207 - accuracy: 0.6360\b\b\b\b\b\b\b\b\b\b\b\b\b\b\b\b\b\b\b\b\b\b\b\b\b\b\b\b\b\b\b\b\b\b\b\b\b\b\b\b\b\b\b\b\b\b\b\b\b\b\b\b\b\b\b\b\b\b\b\b\b\b\b\b\b\b\b\b\b\b\b\b\b\b\b\b\b\b\b\b\b\b\b\b\b\r",
       " 97/121 [=======================&gt;......] - ETA: 41s - loss: 0.7203 - accuracy: 0.6360\b\b\b\b\b\b\b\b\b\b\b\b\b\b\b\b\b\b\b\b\b\b\b\b\b\b\b\b\b\b\b\b\b\b\b\b\b\b\b\b\b\b\b\b\b\b\b\b\b\b\b\b\b\b\b\b\b\b\b\b\b\b\b\b\b\b\b\b\b\b\b\b\b\b\b\b\b\b\b\b\b\b\b\b\b\r",
       " 98/121 [=======================&gt;......] - ETA: 40s - loss: 0.7200 - accuracy: 0.6359\b\b\b\b\b\b\b\b\b\b\b\b\b\b\b\b\b\b\b\b\b\b\b\b\b\b\b\b\b\b\b\b\b\b\b\b\b\b\b\b\b\b\b\b\b\b\b\b\b\b\b\b\b\b\b\b\b\b\b\b\b\b\b\b\b\b\b\b\b\b\b\b\b\b\b\b\b\b\b\b\b\b\b\b\b\r",
       " 99/121 [=======================&gt;......] - ETA: 38s - loss: 0.7196 - accuracy: 0.6358\b\b\b\b\b\b\b\b\b\b\b\b\b\b\b\b\b\b\b\b\b\b\b\b\b\b\b\b\b\b\b\b\b\b\b\b\b\b\b\b\b\b\b\b\b\b\b\b\b\b\b\b\b\b\b\b\b\b\b\b\b\b\b\b\b\b\b\b\b\b\b\b\b\b\b\b\b\b\b\b\b\b\b\b\b\r",
       "100/121 [=======================&gt;......] - ETA: 36s - loss: 0.7193 - accuracy: 0.6356\b\b\b\b\b\b\b\b\b\b\b\b\b\b\b\b\b\b\b\b\b\b\b\b\b\b\b\b\b\b\b\b\b\b\b\b\b\b\b\b\b\b\b\b\b\b\b\b\b\b\b\b\b\b\b\b\b\b\b\b\b\b\b\b\b\b\b\b\b\b\b\b\b\b\b\b\b\b\b\b\b\b\b\b\b\r",
       "101/121 [========================&gt;.....] - ETA: 34s - loss: 0.7189 - accuracy: 0.6355\b\b\b\b\b\b\b\b\b\b\b\b\b\b\b\b\b\b\b\b\b\b\b\b\b\b\b\b\b\b\b\b\b\b\b\b\b\b\b\b\b\b\b\b\b\b\b\b\b\b\b\b\b\b\b\b\b\b\b\b\b\b\b\b\b\b\b\b\b\b\b\b\b\b\b\b\b\b\b\b\b\b\b\b\b\r",
       "102/121 [========================&gt;.....] - ETA: 33s - loss: 0.7186 - accuracy: 0.6354\b\b\b\b\b\b\b\b\b\b\b\b\b\b\b\b\b\b\b\b\b\b\b\b\b\b\b\b\b\b\b\b\b\b\b\b\b\b\b\b\b\b\b\b\b\b\b\b\b\b\b\b\b\b\b\b\b\b\b\b\b\b\b\b\b\b\b\b\b\b\b\b\b\b\b\b\b\b\b\b\b\b\b\b\b\r",
       "103/121 [========================&gt;.....] - ETA: 31s - loss: 0.7182 - accuracy: 0.6353\b\b\b\b\b\b\b\b\b\b\b\b\b\b\b\b\b\b\b\b\b\b\b\b\b\b\b\b\b\b\b\b\b\b\b\b\b\b\b\b\b\b\b\b\b\b\b\b\b\b\b\b\b\b\b\b\b\b\b\b\b\b\b\b\b\b\b\b\b\b\b\b\b\b\b\b\b\b\b\b\b\b\b\b\b\r",
       "104/121 [========================&gt;.....] - ETA: 29s - loss: 0.7180 - accuracy: 0.6352\b\b\b\b\b\b\b\b\b\b\b\b\b\b\b\b\b\b\b\b\b\b\b\b\b\b\b\b\b\b\b\b\b\b\b\b\b\b\b\b\b\b\b\b\b\b\b\b\b\b\b\b\b\b\b\b\b\b\b\b\b\b\b\b\b\b\b\b\b\b\b\b\b\b\b\b\b\b\b\b\b\b\b\b\b\r",
       "105/121 [=========================&gt;....] - ETA: 27s - loss: 0.7177 - accuracy: 0.6352\b\b\b\b\b\b\b\b\b\b\b\b\b\b\b\b\b\b\b\b\b\b\b\b\b\b\b\b\b\b\b\b\b\b\b\b\b\b\b\b\b\b\b\b\b\b\b\b\b\b\b\b\b\b\b\b\b\b\b\b\b\b\b\b\b\b\b\b\b\b\b\b\b\b\b\b\b\b\b\b\b\b\b\b\b\r",
       "106/121 [=========================&gt;....] - ETA: 26s - loss: 0.7175 - accuracy: 0.6351\b\b\b\b\b\b\b\b\b\b\b\b\b\b\b\b\b\b\b\b\b\b\b\b\b\b\b\b\b\b\b\b\b\b\b\b\b\b\b\b\b\b\b\b\b\b\b\b\b\b\b\b\b\b\b\b\b\b\b\b\b\b\b\b\b\b\b\b\b\b\b\b\b\b\b\b\b\b\b\b\b\b\b\b\b\r",
       "107/121 [=========================&gt;....] - ETA: 24s - loss: 0.7173 - accuracy: 0.6349\b\b\b\b\b\b\b\b\b\b\b\b\b\b\b\b\b\b\b\b\b\b\b\b\b\b\b\b\b\b\b\b\b\b\b\b\b\b\b\b\b\b\b\b\b\b\b\b\b\b\b\b\b\b\b\b\b\b\b\b\b\b\b\b\b\b\b\b\b\b\b\b\b\b\b\b\b\b\b\b\b\b\b\b\b\r",
       "108/121 [=========================&gt;....] - ETA: 22s - loss: 0.7172 - accuracy: 0.6348\b\b\b\b\b\b\b\b\b\b\b\b\b\b\b\b\b\b\b\b\b\b\b\b\b\b\b\b\b\b\b\b\b\b\b\b\b\b\b\b\b\b\b\b\b\b\b\b\b\b\b\b\b\b\b\b\b\b\b\b\b\b\b\b\b\b\b\b\b\b\b\b\b\b\b\b\b\b\b\b\b\b\b\b\b\r",
       "109/121 [==========================&gt;...] - ETA: 20s - loss: 0.7170 - accuracy: 0.6347\b\b\b\b\b\b\b\b\b\b\b\b\b\b\b\b\b\b\b\b\b\b\b\b\b\b\b\b\b\b\b\b\b\b\b\b\b\b\b\b\b\b\b\b\b\b\b\b\b\b\b\b\b\b\b\b\b\b\b\b\b\b\b\b\b\b\b\b\b\b\b\b\b\b\b\b\b\b\b\b\b\b\b\b\b\r",
       "110/121 [==========================&gt;...] - ETA: 19s - loss: 0.7169 - accuracy: 0.6347\b\b\b\b\b\b\b\b\b\b\b\b\b\b\b\b\b\b\b\b\b\b\b\b\b\b\b\b\b\b\b\b\b\b\b\b\b\b\b\b\b\b\b\b\b\b\b\b\b\b\b\b\b\b\b\b\b\b\b\b\b\b\b\b\b\b\b\b\b\b\b\b\b\b\b\b\b\b\b\b\b\b\b\b\b\r",
       "111/121 [==========================&gt;...] - ETA: 17s - loss: 0.7167 - accuracy: 0.6346\b\b\b\b\b\b\b\b\b\b\b\b\b\b\b\b\b\b\b\b\b\b\b\b\b\b\b\b\b\b\b\b\b\b\b\b\b\b\b\b\b\b\b\b\b\b\b\b\b\b\b\b\b\b\b\b\b\b\b\b\b\b\b\b\b\b\b\b\b\b\b\b\b\b\b\b\b\b\b\b\b\b\b\b\b\r",
       "112/121 [==========================&gt;...] - ETA: 15s - loss: 0.7166 - accuracy: 0.6345\b\b\b\b\b\b\b\b\b\b\b\b\b\b\b\b\b\b\b\b\b\b\b\b\b\b\b\b\b\b\b\b\b\b\b\b\b\b\b\b\b\b\b\b\b\b\b\b\b\b\b\b\b\b\b\b\b\b\b\b\b\b\b\b\b\b\b\b\b\b\b\b\b\b\b\b\b\b\b\b\b\b\b\b\b\r",
       "113/121 [===========================&gt;..] - ETA: 14s - loss: 0.7164 - accuracy: 0.6344\b\b\b\b\b\b\b\b\b\b\b\b\b\b\b\b\b\b\b\b\b\b\b\b\b\b\b\b\b\b\b\b\b\b\b\b\b\b\b\b\b\b\b\b\b\b\b\b\b\b\b\b\b\b\b\b\b\b\b\b\b\b\b\b\b\b\b\b\b\b\b\b\b\b\b\b\b\b\b\b\b\b\b\b\b\r",
       "114/121 [===========================&gt;..] - ETA: 12s - loss: 0.7162 - accuracy: 0.6343\b\b\b\b\b\b\b\b\b\b\b\b\b\b\b\b\b\b\b\b\b\b\b\b\b\b\b\b\b\b\b\b\b\b\b\b\b\b\b\b\b\b\b\b\b\b\b\b\b\b\b\b\b\b\b\b\b\b\b\b\b\b\b\b\b\b\b\b\b\b\b\b\b\b\b\b\b\b\b\b\b\b\b\b\b\r",
       "115/121 [===========================&gt;..] - ETA: 10s - loss: 0.7161 - accuracy: 0.6342\b\b\b\b\b\b\b\b\b\b\b\b\b\b\b\b\b\b\b\b\b\b\b\b\b\b\b\b\b\b\b\b\b\b\b\b\b\b\b\b\b\b\b\b\b\b\b\b\b\b\b\b\b\b\b\b\b\b\b\b\b\b\b\b\b\b\b\b\b\b\b\b\b\b\b\b\b\b\b\b\b\b\b\b\b\r",
       "116/121 [===========================&gt;..] - ETA: 8s - loss: 0.7159 - accuracy: 0.6341 \b\b\b\b\b\b\b\b\b\b\b\b\b\b\b\b\b\b\b\b\b\b\b\b\b\b\b\b\b\b\b\b\b\b\b\b\b\b\b\b\b\b\b\b\b\b\b\b\b\b\b\b\b\b\b\b\b\b\b\b\b\b\b\b\b\b\b\b\b\b\b\b\b\b\b\b\b\b\b\b\b\b\b\b\r",
       "117/121 [============================&gt;.] - ETA: 7s - loss: 0.7157 - accuracy: 0.6341\b\b\b\b\b\b\b\b\b\b\b\b\b\b\b\b\b\b\b\b\b\b\b\b\b\b\b\b\b\b\b\b\b\b\b\b\b\b\b\b\b\b\b\b\b\b\b\b\b\b\b\b\b\b\b\b\b\b\b\b\b\b\b\b\b\b\b\b\b\b\b\b\b\b\b\b\b\b\b\b\b\b\b\b\r",
       "118/121 [============================&gt;.] - ETA: 5s - loss: 0.7155 - accuracy: 0.6340\b\b\b\b\b\b\b\b\b\b\b\b\b\b\b\b\b\b\b\b\b\b\b\b\b\b\b\b\b\b\b\b\b\b\b\b\b\b\b\b\b\b\b\b\b\b\b\b\b\b\b\b\b\b\b\b\b\b\b\b\b\b\b\b\b\b\b\b\b\b\b\b\b\b\b\b\b\b\b\b\b\b\b\b\r",
       "119/121 [============================&gt;.] - ETA: 3s - loss: 0.7153 - accuracy: 0.6339\b\b\b\b\b\b\b\b\b\b\b\b\b\b\b\b\b\b\b\b\b\b\b\b\b\b\b\b\b\b\b\b\b\b\b\b\b\b\b\b\b\b\b\b\b\b\b\b\b\b\b\b\b\b\b\b\b\b\b\b\b\b\b\b\b\b\b\b\b\b\b\b\b\b\b\b\b\b\b\b\b\b\b\b\r",
       "120/121 [============================&gt;.] - ETA: 1s - loss: 0.7152 - accuracy: 0.6338\b\b\b\b\b\b\b\b\b\b\b\b\b\b\b\b\b\b\b\b\b\b\b\b\b\b\b\b\b\b\b\b\b\b\b\b\b\b\b\b\b\b\b\b\b\b\b\b\b\b\b\b\b\b\b\b\b\b\b\b\b\b\b\b\b\b\b\b\b\b\b\b\b\b\b\b\b\b\b\b\b\b\b\b\r",
       "121/121 [==============================] - ETA: 0s - loss: 0.7150 - accuracy: 0.6338\b\b\b\b\b\b\b\b\b\b\b\b\b\b\b\b\b\b\b\b\b\b\b\b\b\b\b\b\b\b\b\b\b\b\b\b\b\b\b\b\b\b\b\b\b\b\b\b\b\b\b\b\b\b\b\b\b\b\b\b\b\b\b\b\b\b\b\b\b\b\b\b\b\b\b\b\b\b\b\b\b\b\b\b\r",
       "121/121 [==============================] - 259s 2s/step - loss: 0.7148 - accuracy: 0.6337 - val_loss: 0.6855 - val_accuracy: 0.6000\n",
       "\n",
       "*** WARNING: skipped 247531 bytes of output ***\n",
       "\n",
       "Epoch 15/15\n",
       "\r",
       "  1/121 [..............................] - ETA: 3:59 - loss: 0.2432 - accuracy: 0.8750\b\b\b\b\b\b\b\b\b\b\b\b\b\b\b\b\b\b\b\b\b\b\b\b\b\b\b\b\b\b\b\b\b\b\b\b\b\b\b\b\b\b\b\b\b\b\b\b\b\b\b\b\b\b\b\b\b\b\b\b\b\b\b\b\b\b\b\b\b\b\b\b\b\b\b\b\b\b\b\b\b\b\b\b\b\b\r",
       "  2/121 [..............................] - ETA: 3:19 - loss: 0.2176 - accuracy: 0.8906\b\b\b\b\b\b\b\b\b\b\b\b\b\b\b\b\b\b\b\b\b\b\b\b\b\b\b\b\b\b\b\b\b\b\b\b\b\b\b\b\b\b\b\b\b\b\b\b\b\b\b\b\b\b\b\b\b\b\b\b\b\b\b\b\b\b\b\b\b\b\b\b\b\b\b\b\b\b\b\b\b\b\b\b\b\b\r",
       "  3/121 [..............................] - ETA: 3:36 - loss: 0.3228 - accuracy: 0.8854\b\b\b\b\b\b\b\b\b\b\b\b\b\b\b\b\b\b\b\b\b\b\b\b\b\b\b\b\b\b\b\b\b\b\b\b\b\b\b\b\b\b\b\b\b\b\b\b\b\b\b\b\b\b\b\b\b\b\b\b\b\b\b\b\b\b\b\b\b\b\b\b\b\b\b\b\b\b\b\b\b\b\b\b\b\b\r",
       "  4/121 [..............................] - ETA: 3:27 - loss: 0.3553 - accuracy: 0.8867\b\b\b\b\b\b\b\b\b\b\b\b\b\b\b\b\b\b\b\b\b\b\b\b\b\b\b\b\b\b\b\b\b\b\b\b\b\b\b\b\b\b\b\b\b\b\b\b\b\b\b\b\b\b\b\b\b\b\b\b\b\b\b\b\b\b\b\b\b\b\b\b\b\b\b\b\b\b\b\b\b\b\b\b\b\b\r",
       "  5/121 [&gt;.............................] - ETA: 3:19 - loss: nan - accuracy: 0.8819   \b\b\b\b\b\b\b\b\b\b\b\b\b\b\b\b\b\b\b\b\b\b\b\b\b\b\b\b\b\b\b\b\b\b\b\b\b\b\b\b\b\b\b\b\b\b\b\b\b\b\b\b\b\b\b\b\b\b\b\b\b\b\b\b\b\b\b\b\b\b\b\b\b\b\b\b\b\b\b\b\b\b\b\r",
       "  6/121 [&gt;.............................] - ETA: 3:13 - loss: nan - accuracy: 0.8825\b\b\b\b\b\b\b\b\b\b\b\b\b\b\b\b\b\b\b\b\b\b\b\b\b\b\b\b\b\b\b\b\b\b\b\b\b\b\b\b\b\b\b\b\b\b\b\b\b\b\b\b\b\b\b\b\b\b\b\b\b\b\b\b\b\b\b\b\b\b\b\b\b\b\b\b\b\b\b\b\b\b\b\r",
       "  7/121 [&gt;.............................] - ETA: 3:06 - loss: nan - accuracy: 0.8827\b\b\b\b\b\b\b\b\b\b\b\b\b\b\b\b\b\b\b\b\b\b\b\b\b\b\b\b\b\b\b\b\b\b\b\b\b\b\b\b\b\b\b\b\b\b\b\b\b\b\b\b\b\b\b\b\b\b\b\b\b\b\b\b\b\b\b\b\b\b\b\b\b\b\b\b\b\b\b\b\b\b\b\r",
       "  8/121 [&gt;.............................] - ETA: 3:10 - loss: nan - accuracy: 0.8807\b\b\b\b\b\b\b\b\b\b\b\b\b\b\b\b\b\b\b\b\b\b\b\b\b\b\b\b\b\b\b\b\b\b\b\b\b\b\b\b\b\b\b\b\b\b\b\b\b\b\b\b\b\b\b\b\b\b\b\b\b\b\b\b\b\b\b\b\b\b\b\b\b\b\b\b\b\b\b\b\b\b\b\r",
       "  9/121 [=&gt;............................] - ETA: 3:07 - loss: nan - accuracy: 0.8809\b\b\b\b\b\b\b\b\b\b\b\b\b\b\b\b\b\b\b\b\b\b\b\b\b\b\b\b\b\b\b\b\b\b\b\b\b\b\b\b\b\b\b\b\b\b\b\b\b\b\b\b\b\b\b\b\b\b\b\b\b\b\b\b\b\b\b\b\b\b\b\b\b\b\b\b\b\b\b\b\b\b\b\r",
       " 10/121 [=&gt;............................] - ETA: 3:10 - loss: nan - accuracy: 0.8803\b\b\b\b\b\b\b\b\b\b\b\b\b\b\b\b\b\b\b\b\b\b\b\b\b\b\b\b\b\b\b\b\b\b\b\b\b\b\b\b\b\b\b\b\b\b\b\b\b\b\b\b\b\b\b\b\b\b\b\b\b\b\b\b\b\b\b\b\b\b\b\b\b\b\b\b\b\b\b\b\b\b\b\r",
       " 11/121 [=&gt;............................] - ETA: 3:07 - loss: nan - accuracy: 0.8803\b\b\b\b\b\b\b\b\b\b\b\b\b\b\b\b\b\b\b\b\b\b\b\b\b\b\b\b\b\b\b\b\b\b\b\b\b\b\b\b\b\b\b\b\b\b\b\b\b\b\b\b\b\b\b\b\b\b\b\b\b\b\b\b\b\b\b\b\b\b\b\b\b\b\b\b\b\b\b\b\b\b\b\r",
       " 12/121 [=&gt;............................] - ETA: 3:03 - loss: nan - accuracy: 0.8803\b\b\b\b\b\b\b\b\b\b\b\b\b\b\b\b\b\b\b\b\b\b\b\b\b\b\b\b\b\b\b\b\b\b\b\b\b\b\b\b\b\b\b\b\b\b\b\b\b\b\b\b\b\b\b\b\b\b\b\b\b\b\b\b\b\b\b\b\b\b\b\b\b\b\b\b\b\b\b\b\b\b\b\r",
       " 13/121 [==&gt;...........................] - ETA: 2:59 - loss: nan - accuracy: 0.8788\b\b\b\b\b\b\b\b\b\b\b\b\b\b\b\b\b\b\b\b\b\b\b\b\b\b\b\b\b\b\b\b\b\b\b\b\b\b\b\b\b\b\b\b\b\b\b\b\b\b\b\b\b\b\b\b\b\b\b\b\b\b\b\b\b\b\b\b\b\b\b\b\b\b\b\b\b\b\b\b\b\b\b\r",
       " 14/121 [==&gt;...........................] - ETA: 2:56 - loss: nan - accuracy: 0.8769\b\b\b\b\b\b\b\b\b\b\b\b\b\b\b\b\b\b\b\b\b\b\b\b\b\b\b\b\b\b\b\b\b\b\b\b\b\b\b\b\b\b\b\b\b\b\b\b\b\b\b\b\b\b\b\b\b\b\b\b\b\b\b\b\b\b\b\b\b\b\b\b\b\b\b\b\b\b\b\b\b\b\b\r",
       " 15/121 [==&gt;...........................] - ETA: 2:46 - loss: nan - accuracy: 0.8755\b\b\b\b\b\b\b\b\b\b\b\b\b\b\b\b\b\b\b\b\b\b\b\b\b\b\b\b\b\b\b\b\b\b\b\b\b\b\b\b\b\b\b\b\b\b\b\b\b\b\b\b\b\b\b\b\b\b\b\b\b\b\b\b\b\b\b\b\b\b\b\b\b\b\b\b\b\b\b\b\b\b\b\r",
       " 16/121 [==&gt;...........................] - ETA: 2:46 - loss: nan - accuracy: 0.8739\b\b\b\b\b\b\b\b\b\b\b\b\b\b\b\b\b\b\b\b\b\b\b\b\b\b\b\b\b\b\b\b\b\b\b\b\b\b\b\b\b\b\b\b\b\b\b\b\b\b\b\b\b\b\b\b\b\b\b\b\b\b\b\b\b\b\b\b\b\b\b\b\b\b\b\b\b\b\b\b\b\b\b\r",
       " 17/121 [===&gt;..........................] - ETA: 2:44 - loss: nan - accuracy: 0.8729\b\b\b\b\b\b\b\b\b\b\b\b\b\b\b\b\b\b\b\b\b\b\b\b\b\b\b\b\b\b\b\b\b\b\b\b\b\b\b\b\b\b\b\b\b\b\b\b\b\b\b\b\b\b\b\b\b\b\b\b\b\b\b\b\b\b\b\b\b\b\b\b\b\b\b\b\b\b\b\b\b\b\b\r",
       " 18/121 [===&gt;..........................] - ETA: 2:44 - loss: nan - accuracy: 0.8724\b\b\b\b\b\b\b\b\b\b\b\b\b\b\b\b\b\b\b\b\b\b\b\b\b\b\b\b\b\b\b\b\b\b\b\b\b\b\b\b\b\b\b\b\b\b\b\b\b\b\b\b\b\b\b\b\b\b\b\b\b\b\b\b\b\b\b\b\b\b\b\b\b\b\b\b\b\b\b\b\b\b\b\r",
       " 19/121 [===&gt;..........................] - ETA: 2:42 - loss: nan - accuracy: 0.8721\b\b\b\b\b\b\b\b\b\b\b\b\b\b\b\b\b\b\b\b\b\b\b\b\b\b\b\b\b\b\b\b\b\b\b\b\b\b\b\b\b\b\b\b\b\b\b\b\b\b\b\b\b\b\b\b\b\b\b\b\b\b\b\b\b\b\b\b\b\b\b\b\b\b\b\b\b\b\b\b\b\b\b\r",
       " 20/121 [===&gt;..........................] - ETA: 2:40 - loss: nan - accuracy: 0.8717\b\b\b\b\b\b\b\b\b\b\b\b\b\b\b\b\b\b\b\b\b\b\b\b\b\b\b\b\b\b\b\b\b\b\b\b\b\b\b\b\b\b\b\b\b\b\b\b\b\b\b\b\b\b\b\b\b\b\b\b\b\b\b\b\b\b\b\b\b\b\b\b\b\b\b\b\b\b\b\b\b\b\b\r",
       " 21/121 [====&gt;.........................] - ETA: 2:39 - loss: nan - accuracy: 0.8715\b\b\b\b\b\b\b\b\b\b\b\b\b\b\b\b\b\b\b\b\b\b\b\b\b\b\b\b\b\b\b\b\b\b\b\b\b\b\b\b\b\b\b\b\b\b\b\b\b\b\b\b\b\b\b\b\b\b\b\b\b\b\b\b\b\b\b\b\b\b\b\b\b\b\b\b\b\b\b\b\b\b\b\r",
       " 22/121 [====&gt;.........................] - ETA: 2:36 - loss: nan - accuracy: 0.8715\b\b\b\b\b\b\b\b\b\b\b\b\b\b\b\b\b\b\b\b\b\b\b\b\b\b\b\b\b\b\b\b\b\b\b\b\b\b\b\b\b\b\b\b\b\b\b\b\b\b\b\b\b\b\b\b\b\b\b\b\b\b\b\b\b\b\b\b\b\b\b\b\b\b\b\b\b\b\b\b\b\b\b\r",
       " 23/121 [====&gt;.........................] - ETA: 2:35 - loss: nan - accuracy: 0.8713\b\b\b\b\b\b\b\b\b\b\b\b\b\b\b\b\b\b\b\b\b\b\b\b\b\b\b\b\b\b\b\b\b\b\b\b\b\b\b\b\b\b\b\b\b\b\b\b\b\b\b\b\b\b\b\b\b\b\b\b\b\b\b\b\b\b\b\b\b\b\b\b\b\b\b\b\b\b\b\b\b\b\b\r",
       " 24/121 [====&gt;.........................] - ETA: 2:34 - loss: nan - accuracy: 0.8711\b\b\b\b\b\b\b\b\b\b\b\b\b\b\b\b\b\b\b\b\b\b\b\b\b\b\b\b\b\b\b\b\b\b\b\b\b\b\b\b\b\b\b\b\b\b\b\b\b\b\b\b\b\b\b\b\b\b\b\b\b\b\b\b\b\b\b\b\b\b\b\b\b\b\b\b\b\b\b\b\b\b\b\r",
       " 25/121 [=====&gt;........................] - ETA: 2:32 - loss: nan - accuracy: 0.8711\b\b\b\b\b\b\b\b\b\b\b\b\b\b\b\b\b\b\b\b\b\b\b\b\b\b\b\b\b\b\b\b\b\b\b\b\b\b\b\b\b\b\b\b\b\b\b\b\b\b\b\b\b\b\b\b\b\b\b\b\b\b\b\b\b\b\b\b\b\b\b\b\b\b\b\b\b\b\b\b\b\b\b\r",
       " 26/121 [=====&gt;........................] - ETA: 2:31 - loss: nan - accuracy: 0.8711\b\b\b\b\b\b\b\b\b\b\b\b\b\b\b\b\b\b\b\b\b\b\b\b\b\b\b\b\b\b\b\b\b\b\b\b\b\b\b\b\b\b\b\b\b\b\b\b\b\b\b\b\b\b\b\b\b\b\b\b\b\b\b\b\b\b\b\b\b\b\b\b\b\b\b\b\b\b\b\b\b\b\b\r",
       " 27/121 [=====&gt;........................] - ETA: 2:30 - loss: nan - accuracy: 0.8706\b\b\b\b\b\b\b\b\b\b\b\b\b\b\b\b\b\b\b\b\b\b\b\b\b\b\b\b\b\b\b\b\b\b\b\b\b\b\b\b\b\b\b\b\b\b\b\b\b\b\b\b\b\b\b\b\b\b\b\b\b\b\b\b\b\b\b\b\b\b\b\b\b\b\b\b\b\b\b\b\b\b\b\r",
       " 28/121 [=====&gt;........................] - ETA: 2:28 - loss: nan - accuracy: 0.8703\b\b\b\b\b\b\b\b\b\b\b\b\b\b\b\b\b\b\b\b\b\b\b\b\b\b\b\b\b\b\b\b\b\b\b\b\b\b\b\b\b\b\b\b\b\b\b\b\b\b\b\b\b\b\b\b\b\b\b\b\b\b\b\b\b\b\b\b\b\b\b\b\b\b\b\b\b\b\b\b\b\b\b\r",
       " 29/121 [======&gt;.......................] - ETA: 2:26 - loss: nan - accuracy: 0.8697\b\b\b\b\b\b\b\b\b\b\b\b\b\b\b\b\b\b\b\b\b\b\b\b\b\b\b\b\b\b\b\b\b\b\b\b\b\b\b\b\b\b\b\b\b\b\b\b\b\b\b\b\b\b\b\b\b\b\b\b\b\b\b\b\b\b\b\b\b\b\b\b\b\b\b\b\b\b\b\b\b\b\b\r",
       " 30/121 [======&gt;.......................] - ETA: 2:24 - loss: nan - accuracy: 0.8693\b\b\b\b\b\b\b\b\b\b\b\b\b\b\b\b\b\b\b\b\b\b\b\b\b\b\b\b\b\b\b\b\b\b\b\b\b\b\b\b\b\b\b\b\b\b\b\b\b\b\b\b\b\b\b\b\b\b\b\b\b\b\b\b\b\b\b\b\b\b\b\b\b\b\b\b\b\b\b\b\b\b\b\r",
       " 31/121 [======&gt;.......................] - ETA: 2:22 - loss: nan - accuracy: 0.8691\b\b\b\b\b\b\b\b\b\b\b\b\b\b\b\b\b\b\b\b\b\b\b\b\b\b\b\b\b\b\b\b\b\b\b\b\b\b\b\b\b\b\b\b\b\b\b\b\b\b\b\b\b\b\b\b\b\b\b\b\b\b\b\b\b\b\b\b\b\b\b\b\b\b\b\b\b\b\b\b\b\b\b\r",
       " 32/121 [======&gt;.......................] - ETA: 2:20 - loss: nan - accuracy: 0.8689\b\b\b\b\b\b\b\b\b\b\b\b\b\b\b\b\b\b\b\b\b\b\b\b\b\b\b\b\b\b\b\b\b\b\b\b\b\b\b\b\b\b\b\b\b\b\b\b\b\b\b\b\b\b\b\b\b\b\b\b\b\b\b\b\b\b\b\b\b\b\b\b\b\b\b\b\b\b\b\b\b\b\b\r",
       " 33/121 [=======&gt;......................] - ETA: 2:18 - loss: nan - accuracy: 0.8685\b\b\b\b\b\b\b\b\b\b\b\b\b\b\b\b\b\b\b\b\b\b\b\b\b\b\b\b\b\b\b\b\b\b\b\b\b\b\b\b\b\b\b\b\b\b\b\b\b\b\b\b\b\b\b\b\b\b\b\b\b\b\b\b\b\b\b\b\b\b\b\b\b\b\b\b\b\b\b\b\b\b\b\r",
       " 34/121 [=======&gt;......................] - ETA: 2:17 - loss: nan - accuracy: 0.8682\b\b\b\b\b\b\b\b\b\b\b\b\b\b\b\b\b\b\b\b\b\b\b\b\b\b\b\b\b\b\b\b\b\b\b\b\b\b\b\b\b\b\b\b\b\b\b\b\b\b\b\b\b\b\b\b\b\b\b\b\b\b\b\b\b\b\b\b\b\b\b\b\b\b\b\b\b\b\b\b\b\b\b\r",
       " 35/121 [=======&gt;......................] - ETA: 2:15 - loss: nan - accuracy: 0.8678\b\b\b\b\b\b\b\b\b\b\b\b\b\b\b\b\b\b\b\b\b\b\b\b\b\b\b\b\b\b\b\b\b\b\b\b\b\b\b\b\b\b\b\b\b\b\b\b\b\b\b\b\b\b\b\b\b\b\b\b\b\b\b\b\b\b\b\b\b\b\b\b\b\b\b\b\b\b\b\b\b\b\b\r",
       " 36/121 [=======&gt;......................] - ETA: 2:13 - loss: nan - accuracy: 0.8676\b\b\b\b\b\b\b\b\b\b\b\b\b\b\b\b\b\b\b\b\b\b\b\b\b\b\b\b\b\b\b\b\b\b\b\b\b\b\b\b\b\b\b\b\b\b\b\b\b\b\b\b\b\b\b\b\b\b\b\b\b\b\b\b\b\b\b\b\b\b\b\b\b\b\b\b\b\b\b\b\b\b\b\r",
       " 37/121 [========&gt;.....................] - ETA: 2:11 - loss: nan - accuracy: 0.8674\b\b\b\b\b\b\b\b\b\b\b\b\b\b\b\b\b\b\b\b\b\b\b\b\b\b\b\b\b\b\b\b\b\b\b\b\b\b\b\b\b\b\b\b\b\b\b\b\b\b\b\b\b\b\b\b\b\b\b\b\b\b\b\b\b\b\b\b\b\b\b\b\b\b\b\b\b\b\b\b\b\b\b\r",
       " 38/121 [========&gt;.....................] - ETA: 2:11 - loss: nan - accuracy: 0.8672\b\b\b\b\b\b\b\b\b\b\b\b\b\b\b\b\b\b\b\b\b\b\b\b\b\b\b\b\b\b\b\b\b\b\b\b\b\b\b\b\b\b\b\b\b\b\b\b\b\b\b\b\b\b\b\b\b\b\b\b\b\b\b\b\b\b\b\b\b\b\b\b\b\b\b\b\b\b\b\b\b\b\b\r",
       " 39/121 [========&gt;.....................] - ETA: 2:09 - loss: nan - accuracy: 0.8671\b\b\b\b\b\b\b\b\b\b\b\b\b\b\b\b\b\b\b\b\b\b\b\b\b\b\b\b\b\b\b\b\b\b\b\b\b\b\b\b\b\b\b\b\b\b\b\b\b\b\b\b\b\b\b\b\b\b\b\b\b\b\b\b\b\b\b\b\b\b\b\b\b\b\b\b\b\b\b\b\b\b\b\r",
       " 40/121 [========&gt;.....................] - ETA: 2:08 - loss: nan - accuracy: 0.8670\b\b\b\b\b\b\b\b\b\b\b\b\b\b\b\b\b\b\b\b\b\b\b\b\b\b\b\b\b\b\b\b\b\b\b\b\b\b\b\b\b\b\b\b\b\b\b\b\b\b\b\b\b\b\b\b\b\b\b\b\b\b\b\b\b\b\b\b\b\b\b\b\b\b\b\b\b\b\b\b\b\b\b\r",
       " 41/121 [=========&gt;....................] - ETA: 2:08 - loss: nan - accuracy: 0.8668\b\b\b\b\b\b\b\b\b\b\b\b\b\b\b\b\b\b\b\b\b\b\b\b\b\b\b\b\b\b\b\b\b\b\b\b\b\b\b\b\b\b\b\b\b\b\b\b\b\b\b\b\b\b\b\b\b\b\b\b\b\b\b\b\b\b\b\b\b\b\b\b\b\b\b\b\b\b\b\b\b\b\b\r",
       " 42/121 [=========&gt;....................] - ETA: 2:07 - loss: nan - accuracy: 0.8668\b\b\b\b\b\b\b\b\b\b\b\b\b\b\b\b\b\b\b\b\b\b\b\b\b\b\b\b\b\b\b\b\b\b\b\b\b\b\b\b\b\b\b\b\b\b\b\b\b\b\b\b\b\b\b\b\b\b\b\b\b\b\b\b\b\b\b\b\b\b\b\b\b\b\b\b\b\b\b\b\b\b\b\r",
       " 43/121 [=========&gt;....................] - ETA: 2:05 - loss: nan - accuracy: 0.8667\b\b\b\b\b\b\b\b\b\b\b\b\b\b\b\b\b\b\b\b\b\b\b\b\b\b\b\b\b\b\b\b\b\b\b\b\b\b\b\b\b\b\b\b\b\b\b\b\b\b\b\b\b\b\b\b\b\b\b\b\b\b\b\b\b\b\b\b\b\b\b\b\b\b\b\b\b\b\b\b\b\b\b\r",
       " 44/121 [=========&gt;....................] - ETA: 2:03 - loss: nan - accuracy: 0.8667\b\b\b\b\b\b\b\b\b\b\b\b\b\b\b\b\b\b\b\b\b\b\b\b\b\b\b\b\b\b\b\b\b\b\b\b\b\b\b\b\b\b\b\b\b\b\b\b\b\b\b\b\b\b\b\b\b\b\b\b\b\b\b\b\b\b\b\b\b\b\b\b\b\b\b\b\b\b\b\b\b\b\b\r",
       " 45/121 [==========&gt;...................] - ETA: 2:02 - loss: nan - accuracy: 0.8665\b\b\b\b\b\b\b\b\b\b\b\b\b\b\b\b\b\b\b\b\b\b\b\b\b\b\b\b\b\b\b\b\b\b\b\b\b\b\b\b\b\b\b\b\b\b\b\b\b\b\b\b\b\b\b\b\b\b\b\b\b\b\b\b\b\b\b\b\b\b\b\b\b\b\b\b\b\b\b\b\b\b\b\r",
       " 46/121 [==========&gt;...................] - ETA: 2:00 - loss: nan - accuracy: 0.8664\b\b\b\b\b\b\b\b\b\b\b\b\b\b\b\b\b\b\b\b\b\b\b\b\b\b\b\b\b\b\b\b\b\b\b\b\b\b\b\b\b\b\b\b\b\b\b\b\b\b\b\b\b\b\b\b\b\b\b\b\b\b\b\b\b\b\b\b\b\b\b\b\b\b\b\b\b\b\b\b\b\b\b\r",
       " 47/121 [==========&gt;...................] - ETA: 1:59 - loss: nan - accuracy: 0.8663\b\b\b\b\b\b\b\b\b\b\b\b\b\b\b\b\b\b\b\b\b\b\b\b\b\b\b\b\b\b\b\b\b\b\b\b\b\b\b\b\b\b\b\b\b\b\b\b\b\b\b\b\b\b\b\b\b\b\b\b\b\b\b\b\b\b\b\b\b\b\b\b\b\b\b\b\b\b\b\b\b\b\b\r",
       " 48/121 [==========&gt;...................] - ETA: 1:57 - loss: nan - accuracy: 0.8662\b\b\b\b\b\b\b\b\b\b\b\b\b\b\b\b\b\b\b\b\b\b\b\b\b\b\b\b\b\b\b\b\b\b\b\b\b\b\b\b\b\b\b\b\b\b\b\b\b\b\b\b\b\b\b\b\b\b\b\b\b\b\b\b\b\b\b\b\b\b\b\b\b\b\b\b\b\b\b\b\b\b\b\r",
       " 49/121 [===========&gt;..................] - ETA: 1:56 - loss: nan - accuracy: 0.8662\b\b\b\b\b\b\b\b\b\b\b\b\b\b\b\b\b\b\b\b\b\b\b\b\b\b\b\b\b\b\b\b\b\b\b\b\b\b\b\b\b\b\b\b\b\b\b\b\b\b\b\b\b\b\b\b\b\b\b\b\b\b\b\b\b\b\b\b\b\b\b\b\b\b\b\b\b\b\b\b\b\b\b\r",
       " 50/121 [===========&gt;..................] - ETA: 1:54 - loss: nan - accuracy: 0.8661\b\b\b\b\b\b\b\b\b\b\b\b\b\b\b\b\b\b\b\b\b\b\b\b\b\b\b\b\b\b\b\b\b\b\b\b\b\b\b\b\b\b\b\b\b\b\b\b\b\b\b\b\b\b\b\b\b\b\b\b\b\b\b\b\b\b\b\b\b\b\b\b\b\b\b\b\b\b\b\b\b\b\b\r",
       " 51/121 [===========&gt;..................] - ETA: 1:53 - loss: nan - accuracy: 0.8660\b\b\b\b\b\b\b\b\b\b\b\b\b\b\b\b\b\b\b\b\b\b\b\b\b\b\b\b\b\b\b\b\b\b\b\b\b\b\b\b\b\b\b\b\b\b\b\b\b\b\b\b\b\b\b\b\b\b\b\b\b\b\b\b\b\b\b\b\b\b\b\b\b\b\b\b\b\b\b\b\b\b\b\r",
       " 52/121 [===========&gt;..................] - ETA: 1:51 - loss: nan - accuracy: 0.8660\b\b\b\b\b\b\b\b\b\b\b\b\b\b\b\b\b\b\b\b\b\b\b\b\b\b\b\b\b\b\b\b\b\b\b\b\b\b\b\b\b\b\b\b\b\b\b\b\b\b\b\b\b\b\b\b\b\b\b\b\b\b\b\b\b\b\b\b\b\b\b\b\b\b\b\b\b\b\b\b\b\b\b\r",
       " 53/121 [============&gt;.................] - ETA: 1:50 - loss: nan - accuracy: 0.8659\b\b\b\b\b\b\b\b\b\b\b\b\b\b\b\b\b\b\b\b\b\b\b\b\b\b\b\b\b\b\b\b\b\b\b\b\b\b\b\b\b\b\b\b\b\b\b\b\b\b\b\b\b\b\b\b\b\b\b\b\b\b\b\b\b\b\b\b\b\b\b\b\b\b\b\b\b\b\b\b\b\b\b\r",
       " 54/121 [============&gt;.................] - ETA: 1:48 - loss: nan - accuracy: 0.8658\b\b\b\b\b\b\b\b\b\b\b\b\b\b\b\b\b\b\b\b\b\b\b\b\b\b\b\b\b\b\b\b\b\b\b\b\b\b\b\b\b\b\b\b\b\b\b\b\b\b\b\b\b\b\b\b\b\b\b\b\b\b\b\b\b\b\b\b\b\b\b\b\b\b\b\b\b\b\b\b\b\b\b\r",
       " 55/121 [============&gt;.................] - ETA: 1:47 - loss: nan - accuracy: 0.8658\b\b\b\b\b\b\b\b\b\b\b\b\b\b\b\b\b\b\b\b\b\b\b\b\b\b\b\b\b\b\b\b\b\b\b\b\b\b\b\b\b\b\b\b\b\b\b\b\b\b\b\b\b\b\b\b\b\b\b\b\b\b\b\b\b\b\b\b\b\b\b\b\b\b\b\b\b\b\b\b\b\b\b\r",
       " 56/121 [============&gt;.................] - ETA: 1:45 - loss: nan - accuracy: 0.8657\b\b\b\b\b\b\b\b\b\b\b\b\b\b\b\b\b\b\b\b\b\b\b\b\b\b\b\b\b\b\b\b\b\b\b\b\b\b\b\b\b\b\b\b\b\b\b\b\b\b\b\b\b\b\b\b\b\b\b\b\b\b\b\b\b\b\b\b\b\b\b\b\b\b\b\b\b\b\b\b\b\b\b\r",
       " 57/121 [=============&gt;................] - ETA: 1:44 - loss: nan - accuracy: 0.8657\b\b\b\b\b\b\b\b\b\b\b\b\b\b\b\b\b\b\b\b\b\b\b\b\b\b\b\b\b\b\b\b\b\b\b\b\b\b\b\b\b\b\b\b\b\b\b\b\b\b\b\b\b\b\b\b\b\b\b\b\b\b\b\b\b\b\b\b\b\b\b\b\b\b\b\b\b\b\b\b\b\b\b\r",
       " 58/121 [=============&gt;................] - ETA: 1:42 - loss: nan - accuracy: 0.8656\b\b\b\b\b\b\b\b\b\b\b\b\b\b\b\b\b\b\b\b\b\b\b\b\b\b\b\b\b\b\b\b\b\b\b\b\b\b\b\b\b\b\b\b\b\b\b\b\b\b\b\b\b\b\b\b\b\b\b\b\b\b\b\b\b\b\b\b\b\b\b\b\b\b\b\b\b\b\b\b\b\b\b\r",
       " 59/121 [=============&gt;................] - ETA: 1:40 - loss: nan - accuracy: 0.8655\b\b\b\b\b\b\b\b\b\b\b\b\b\b\b\b\b\b\b\b\b\b\b\b\b\b\b\b\b\b\b\b\b\b\b\b\b\b\b\b\b\b\b\b\b\b\b\b\b\b\b\b\b\b\b\b\b\b\b\b\b\b\b\b\b\b\b\b\b\b\b\b\b\b\b\b\b\b\b\b\b\b\b\r",
       " 60/121 [=============&gt;................] - ETA: 1:39 - loss: nan - accuracy: 0.8655\b\b\b\b\b\b\b\b\b\b\b\b\b\b\b\b\b\b\b\b\b\b\b\b\b\b\b\b\b\b\b\b\b\b\b\b\b\b\b\b\b\b\b\b\b\b\b\b\b\b\b\b\b\b\b\b\b\b\b\b\b\b\b\b\b\b\b\b\b\b\b\b\b\b\b\b\b\b\b\b\b\b\b\r",
       " 61/121 [==============&gt;...............] - ETA: 1:37 - loss: nan - accuracy: 0.8654\b\b\b\b\b\b\b\b\b\b\b\b\b\b\b\b\b\b\b\b\b\b\b\b\b\b\b\b\b\b\b\b\b\b\b\b\b\b\b\b\b\b\b\b\b\b\b\b\b\b\b\b\b\b\b\b\b\b\b\b\b\b\b\b\b\b\b\b\b\b\b\b\b\b\b\b\b\b\b\b\b\b\b\r",
       " 62/121 [==============&gt;...............] - ETA: 1:35 - loss: nan - accuracy: 0.8654\b\b\b\b\b\b\b\b\b\b\b\b\b\b\b\b\b\b\b\b\b\b\b\b\b\b\b\b\b\b\b\b\b\b\b\b\b\b\b\b\b\b\b\b\b\b\b\b\b\b\b\b\b\b\b\b\b\b\b\b\b\b\b\b\b\b\b\b\b\b\b\b\b\b\b\b\b\b\b\b\b\b\b\r",
       " 63/121 [==============&gt;...............] - ETA: 1:34 - loss: nan - accuracy: 0.8654\b\b\b\b\b\b\b\b\b\b\b\b\b\b\b\b\b\b\b\b\b\b\b\b\b\b\b\b\b\b\b\b\b\b\b\b\b\b\b\b\b\b\b\b\b\b\b\b\b\b\b\b\b\b\b\b\b\b\b\b\b\b\b\b\b\b\b\b\b\b\b\b\b\b\b\b\b\b\b\b\b\b\b\r",
       " 64/121 [==============&gt;...............] - ETA: 1:32 - loss: nan - accuracy: 0.8654\b\b\b\b\b\b\b\b\b\b\b\b\b\b\b\b\b\b\b\b\b\b\b\b\b\b\b\b\b\b\b\b\b\b\b\b\b\b\b\b\b\b\b\b\b\b\b\b\b\b\b\b\b\b\b\b\b\b\b\b\b\b\b\b\b\b\b\b\b\b\b\b\b\b\b\b\b\b\b\b\b\b\b\r",
       " 65/121 [===============&gt;..............] - ETA: 1:30 - loss: nan - accuracy: 0.8653\b\b\b\b\b\b\b\b\b\b\b\b\b\b\b\b\b\b\b\b\b\b\b\b\b\b\b\b\b\b\b\b\b\b\b\b\b\b\b\b\b\b\b\b\b\b\b\b\b\b\b\b\b\b\b\b\b\b\b\b\b\b\b\b\b\b\b\b\b\b\b\b\b\b\b\b\b\b\b\b\b\b\b\r",
       " 66/121 [===============&gt;..............] - ETA: 1:29 - loss: nan - accuracy: 0.8653\b\b\b\b\b\b\b\b\b\b\b\b\b\b\b\b\b\b\b\b\b\b\b\b\b\b\b\b\b\b\b\b\b\b\b\b\b\b\b\b\b\b\b\b\b\b\b\b\b\b\b\b\b\b\b\b\b\b\b\b\b\b\b\b\b\b\b\b\b\b\b\b\b\b\b\b\b\b\b\b\b\b\b\r",
       " 67/121 [===============&gt;..............] - ETA: 1:28 - loss: nan - accuracy: 0.8653\b\b\b\b\b\b\b\b\b\b\b\b\b\b\b\b\b\b\b\b\b\b\b\b\b\b\b\b\b\b\b\b\b\b\b\b\b\b\b\b\b\b\b\b\b\b\b\b\b\b\b\b\b\b\b\b\b\b\b\b\b\b\b\b\b\b\b\b\b\b\b\b\b\b\b\b\b\b\b\b\b\b\b\r",
       " 68/121 [===============&gt;..............] - ETA: 1:26 - loss: nan - accuracy: 0.8652\b\b\b\b\b\b\b\b\b\b\b\b\b\b\b\b\b\b\b\b\b\b\b\b\b\b\b\b\b\b\b\b\b\b\b\b\b\b\b\b\b\b\b\b\b\b\b\b\b\b\b\b\b\b\b\b\b\b\b\b\b\b\b\b\b\b\b\b\b\b\b\b\b\b\b\b\b\b\b\b\b\b\b\r",
       " 69/121 [================&gt;.............] - ETA: 1:24 - loss: nan - accuracy: 0.8652\b\b\b\b\b\b\b\b\b\b\b\b\b\b\b\b\b\b\b\b\b\b\b\b\b\b\b\b\b\b\b\b\b\b\b\b\b\b\b\b\b\b\b\b\b\b\b\b\b\b\b\b\b\b\b\b\b\b\b\b\b\b\b\b\b\b\b\b\b\b\b\b\b\b\b\b\b\b\b\b\b\b\b\r",
       " 70/121 [================&gt;.............] - ETA: 1:22 - loss: nan - accuracy: 0.8651\b\b\b\b\b\b\b\b\b\b\b\b\b\b\b\b\b\b\b\b\b\b\b\b\b\b\b\b\b\b\b\b\b\b\b\b\b\b\b\b\b\b\b\b\b\b\b\b\b\b\b\b\b\b\b\b\b\b\b\b\b\b\b\b\b\b\b\b\b\b\b\b\b\b\b\b\b\b\b\b\b\b\b\r",
       " 71/121 [================&gt;.............] - ETA: 1:21 - loss: nan - accuracy: 0.8650\b\b\b\b\b\b\b\b\b\b\b\b\b\b\b\b\b\b\b\b\b\b\b\b\b\b\b\b\b\b\b\b\b\b\b\b\b\b\b\b\b\b\b\b\b\b\b\b\b\b\b\b\b\b\b\b\b\b\b\b\b\b\b\b\b\b\b\b\b\b\b\b\b\b\b\b\b\b\b\b\b\b\b\r",
       " 72/121 [================&gt;.............] - ETA: 1:19 - loss: nan - accuracy: 0.8649\b\b\b\b\b\b\b\b\b\b\b\b\b\b\b\b\b\b\b\b\b\b\b\b\b\b\b\b\b\b\b\b\b\b\b\b\b\b\b\b\b\b\b\b\b\b\b\b\b\b\b\b\b\b\b\b\b\b\b\b\b\b\b\b\b\b\b\b\b\b\b\b\b\b\b\b\b\b\b\b\b\b\b\r",
       " 73/121 [=================&gt;............] - ETA: 1:17 - loss: nan - accuracy: 0.8648\b\b\b\b\b\b\b\b\b\b\b\b\b\b\b\b\b\b\b\b\b\b\b\b\b\b\b\b\b\b\b\b\b\b\b\b\b\b\b\b\b\b\b\b\b\b\b\b\b\b\b\b\b\b\b\b\b\b\b\b\b\b\b\b\b\b\b\b\b\b\b\b\b\b\b\b\b\b\b\b\b\b\b\r",
       " 74/121 [=================&gt;............] - ETA: 1:16 - loss: nan - accuracy: 0.8647\b\b\b\b\b\b\b\b\b\b\b\b\b\b\b\b\b\b\b\b\b\b\b\b\b\b\b\b\b\b\b\b\b\b\b\b\b\b\b\b\b\b\b\b\b\b\b\b\b\b\b\b\b\b\b\b\b\b\b\b\b\b\b\b\b\b\b\b\b\b\b\b\b\b\b\b\b\b\b\b\b\b\b\r",
       " 75/121 [=================&gt;............] - ETA: 1:14 - loss: nan - accuracy: 0.8646\b\b\b\b\b\b\b\b\b\b\b\b\b\b\b\b\b\b\b\b\b\b\b\b\b\b\b\b\b\b\b\b\b\b\b\b\b\b\b\b\b\b\b\b\b\b\b\b\b\b\b\b\b\b\b\b\b\b\b\b\b\b\b\b\b\b\b\b\b\b\b\b\b\b\b\b\b\b\b\b\b\b\b\r",
       " 76/121 [=================&gt;............] - ETA: 1:12 - loss: nan - accuracy: 0.8645\b\b\b\b\b\b\b\b\b\b\b\b\b\b\b\b\b\b\b\b\b\b\b\b\b\b\b\b\b\b\b\b\b\b\b\b\b\b\b\b\b\b\b\b\b\b\b\b\b\b\b\b\b\b\b\b\b\b\b\b\b\b\b\b\b\b\b\b\b\b\b\b\b\b\b\b\b\b\b\b\b\b\b\r",
       " 77/121 [==================&gt;...........] - ETA: 1:11 - loss: nan - accuracy: 0.8644\b\b\b\b\b\b\b\b\b\b\b\b\b\b\b\b\b\b\b\b\b\b\b\b\b\b\b\b\b\b\b\b\b\b\b\b\b\b\b\b\b\b\b\b\b\b\b\b\b\b\b\b\b\b\b\b\b\b\b\b\b\b\b\b\b\b\b\b\b\b\b\b\b\b\b\b\b\b\b\b\b\b\b\r",
       " 78/121 [==================&gt;...........] - ETA: 1:09 - loss: nan - accuracy: 0.8643\b\b\b\b\b\b\b\b\b\b\b\b\b\b\b\b\b\b\b\b\b\b\b\b\b\b\b\b\b\b\b\b\b\b\b\b\b\b\b\b\b\b\b\b\b\b\b\b\b\b\b\b\b\b\b\b\b\b\b\b\b\b\b\b\b\b\b\b\b\b\b\b\b\b\b\b\b\b\b\b\b\b\b\r",
       " 79/121 [==================&gt;...........] - ETA: 1:08 - loss: nan - accuracy: 0.8641\b\b\b\b\b\b\b\b\b\b\b\b\b\b\b\b\b\b\b\b\b\b\b\b\b\b\b\b\b\b\b\b\b\b\b\b\b\b\b\b\b\b\b\b\b\b\b\b\b\b\b\b\b\b\b\b\b\b\b\b\b\b\b\b\b\b\b\b\b\b\b\b\b\b\b\b\b\b\b\b\b\b\b\r",
       " 80/121 [==================&gt;...........] - ETA: 1:06 - loss: nan - accuracy: 0.8640\b\b\b\b\b\b\b\b\b\b\b\b\b\b\b\b\b\b\b\b\b\b\b\b\b\b\b\b\b\b\b\b\b\b\b\b\b\b\b\b\b\b\b\b\b\b\b\b\b\b\b\b\b\b\b\b\b\b\b\b\b\b\b\b\b\b\b\b\b\b\b\b\b\b\b\b\b\b\b\b\b\b\b\r",
       " 81/121 [===================&gt;..........] - ETA: 1:05 - loss: nan - accuracy: 0.8639\b\b\b\b\b\b\b\b\b\b\b\b\b\b\b\b\b\b\b\b\b\b\b\b\b\b\b\b\b\b\b\b\b\b\b\b\b\b\b\b\b\b\b\b\b\b\b\b\b\b\b\b\b\b\b\b\b\b\b\b\b\b\b\b\b\b\b\b\b\b\b\b\b\b\b\b\b\b\b\b\b\b\b\r",
       " 82/121 [===================&gt;..........] - ETA: 1:03 - loss: nan - accuracy: 0.8638\b\b\b\b\b\b\b\b\b\b\b\b\b\b\b\b\b\b\b\b\b\b\b\b\b\b\b\b\b\b\b\b\b\b\b\b\b\b\b\b\b\b\b\b\b\b\b\b\b\b\b\b\b\b\b\b\b\b\b\b\b\b\b\b\b\b\b\b\b\b\b\b\b\b\b\b\b\b\b\b\b\b\b\r",
       " 83/121 [===================&gt;..........] - ETA: 1:01 - loss: nan - accuracy: 0.8637\b\b\b\b\b\b\b\b\b\b\b\b\b\b\b\b\b\b\b\b\b\b\b\b\b\b\b\b\b\b\b\b\b\b\b\b\b\b\b\b\b\b\b\b\b\b\b\b\b\b\b\b\b\b\b\b\b\b\b\b\b\b\b\b\b\b\b\b\b\b\b\b\b\b\b\b\b\b\b\b\b\b\b\r",
       " 84/121 [===================&gt;..........] - ETA: 59s - loss: nan - accuracy: 0.8636 \b\b\b\b\b\b\b\b\b\b\b\b\b\b\b\b\b\b\b\b\b\b\b\b\b\b\b\b\b\b\b\b\b\b\b\b\b\b\b\b\b\b\b\b\b\b\b\b\b\b\b\b\b\b\b\b\b\b\b\b\b\b\b\b\b\b\b\b\b\b\b\b\b\b\b\b\b\b\b\b\b\b\r",
       " 85/121 [====================&gt;.........] - ETA: 58s - loss: nan - accuracy: 0.8635\b\b\b\b\b\b\b\b\b\b\b\b\b\b\b\b\b\b\b\b\b\b\b\b\b\b\b\b\b\b\b\b\b\b\b\b\b\b\b\b\b\b\b\b\b\b\b\b\b\b\b\b\b\b\b\b\b\b\b\b\b\b\b\b\b\b\b\b\b\b\b\b\b\b\b\b\b\b\b\b\b\b\r",
       " 86/121 [====================&gt;.........] - ETA: 56s - loss: nan - accuracy: 0.8634\b\b\b\b\b\b\b\b\b\b\b\b\b\b\b\b\b\b\b\b\b\b\b\b\b\b\b\b\b\b\b\b\b\b\b\b\b\b\b\b\b\b\b\b\b\b\b\b\b\b\b\b\b\b\b\b\b\b\b\b\b\b\b\b\b\b\b\b\b\b\b\b\b\b\b\b\b\b\b\b\b\b\r",
       " 87/121 [====================&gt;.........] - ETA: 54s - loss: nan - accuracy: 0.8633\b\b\b\b\b\b\b\b\b\b\b\b\b\b\b\b\b\b\b\b\b\b\b\b\b\b\b\b\b\b\b\b\b\b\b\b\b\b\b\b\b\b\b\b\b\b\b\b\b\b\b\b\b\b\b\b\b\b\b\b\b\b\b\b\b\b\b\b\b\b\b\b\b\b\b\b\b\b\b\b\b\b\r",
       " 88/121 [====================&gt;.........] - ETA: 53s - loss: nan - accuracy: 0.8632\b\b\b\b\b\b\b\b\b\b\b\b\b\b\b\b\b\b\b\b\b\b\b\b\b\b\b\b\b\b\b\b\b\b\b\b\b\b\b\b\b\b\b\b\b\b\b\b\b\b\b\b\b\b\b\b\b\b\b\b\b\b\b\b\b\b\b\b\b\b\b\b\b\b\b\b\b\b\b\b\b\b\r",
       " 89/121 [=====================&gt;........] - ETA: 51s - loss: nan - accuracy: 0.8631\b\b\b\b\b\b\b\b\b\b\b\b\b\b\b\b\b\b\b\b\b\b\b\b\b\b\b\b\b\b\b\b\b\b\b\b\b\b\b\b\b\b\b\b\b\b\b\b\b\b\b\b\b\b\b\b\b\b\b\b\b\b\b\b\b\b\b\b\b\b\b\b\b\b\b\b\b\b\b\b\b\b\r",
       " 90/121 [=====================&gt;........] - ETA: 50s - loss: nan - accuracy: 0.8629\b\b\b\b\b\b\b\b\b\b\b\b\b\b\b\b\b\b\b\b\b\b\b\b\b\b\b\b\b\b\b\b\b\b\b\b\b\b\b\b\b\b\b\b\b\b\b\b\b\b\b\b\b\b\b\b\b\b\b\b\b\b\b\b\b\b\b\b\b\b\b\b\b\b\b\b\b\b\b\b\b\b\r",
       " 91/121 [=====================&gt;........] - ETA: 48s - loss: nan - accuracy: 0.8628\b\b\b\b\b\b\b\b\b\b\b\b\b\b\b\b\b\b\b\b\b\b\b\b\b\b\b\b\b\b\b\b\b\b\b\b\b\b\b\b\b\b\b\b\b\b\b\b\b\b\b\b\b\b\b\b\b\b\b\b\b\b\b\b\b\b\b\b\b\b\b\b\b\b\b\b\b\b\b\b\b\b\r",
       " 92/121 [=====================&gt;........] - ETA: 46s - loss: nan - accuracy: 0.8626\b\b\b\b\b\b\b\b\b\b\b\b\b\b\b\b\b\b\b\b\b\b\b\b\b\b\b\b\b\b\b\b\b\b\b\b\b\b\b\b\b\b\b\b\b\b\b\b\b\b\b\b\b\b\b\b\b\b\b\b\b\b\b\b\b\b\b\b\b\b\b\b\b\b\b\b\b\b\b\b\b\b\r",
       " 93/121 [======================&gt;.......] - ETA: 45s - loss: nan - accuracy: 0.8624\b\b\b\b\b\b\b\b\b\b\b\b\b\b\b\b\b\b\b\b\b\b\b\b\b\b\b\b\b\b\b\b\b\b\b\b\b\b\b\b\b\b\b\b\b\b\b\b\b\b\b\b\b\b\b\b\b\b\b\b\b\b\b\b\b\b\b\b\b\b\b\b\b\b\b\b\b\b\b\b\b\b\r",
       " 94/121 [======================&gt;.......] - ETA: 43s - loss: nan - accuracy: 0.8622\b\b\b\b\b\b\b\b\b\b\b\b\b\b\b\b\b\b\b\b\b\b\b\b\b\b\b\b\b\b\b\b\b\b\b\b\b\b\b\b\b\b\b\b\b\b\b\b\b\b\b\b\b\b\b\b\b\b\b\b\b\b\b\b\b\b\b\b\b\b\b\b\b\b\b\b\b\b\b\b\b\b\r",
       " 95/121 [======================&gt;.......] - ETA: 41s - loss: nan - accuracy: 0.8621\b\b\b\b\b\b\b\b\b\b\b\b\b\b\b\b\b\b\b\b\b\b\b\b\b\b\b\b\b\b\b\b\b\b\b\b\b\b\b\b\b\b\b\b\b\b\b\b\b\b\b\b\b\b\b\b\b\b\b\b\b\b\b\b\b\b\b\b\b\b\b\b\b\b\b\b\b\b\b\b\b\b\r",
       " 96/121 [======================&gt;.......] - ETA: 40s - loss: nan - accuracy: 0.8619\b\b\b\b\b\b\b\b\b\b\b\b\b\b\b\b\b\b\b\b\b\b\b\b\b\b\b\b\b\b\b\b\b\b\b\b\b\b\b\b\b\b\b\b\b\b\b\b\b\b\b\b\b\b\b\b\b\b\b\b\b\b\b\b\b\b\b\b\b\b\b\b\b\b\b\b\b\b\b\b\b\b\r",
       " 97/121 [=======================&gt;......] - ETA: 38s - loss: nan - accuracy: 0.8617\b\b\b\b\b\b\b\b\b\b\b\b\b\b\b\b\b\b\b\b\b\b\b\b\b\b\b\b\b\b\b\b\b\b\b\b\b\b\b\b\b\b\b\b\b\b\b\b\b\b\b\b\b\b\b\b\b\b\b\b\b\b\b\b\b\b\b\b\b\b\b\b\b\b\b\b\b\b\b\b\b\b\r",
       " 98/121 [=======================&gt;......] - ETA: 36s - loss: nan - accuracy: 0.8615\b\b\b\b\b\b\b\b\b\b\b\b\b\b\b\b\b\b\b\b\b\b\b\b\b\b\b\b\b\b\b\b\b\b\b\b\b\b\b\b\b\b\b\b\b\b\b\b\b\b\b\b\b\b\b\b\b\b\b\b\b\b\b\b\b\b\b\b\b\b\b\b\b\b\b\b\b\b\b\b\b\b\r",
       " 99/121 [=======================&gt;......] - ETA: 35s - loss: nan - accuracy: 0.8614\b\b\b\b\b\b\b\b\b\b\b\b\b\b\b\b\b\b\b\b\b\b\b\b\b\b\b\b\b\b\b\b\b\b\b\b\b\b\b\b\b\b\b\b\b\b\b\b\b\b\b\b\b\b\b\b\b\b\b\b\b\b\b\b\b\b\b\b\b\b\b\b\b\b\b\b\b\b\b\b\b\b\r",
       "100/121 [=======================&gt;......] - ETA: 33s - loss: nan - accuracy: 0.8612\b\b\b\b\b\b\b\b\b\b\b\b\b\b\b\b\b\b\b\b\b\b\b\b\b\b\b\b\b\b\b\b\b\b\b\b\b\b\b\b\b\b\b\b\b\b\b\b\b\b\b\b\b\b\b\b\b\b\b\b\b\b\b\b\b\b\b\b\b\b\b\b\b\b\b\b\b\b\b\b\b\b\r",
       "101/121 [========================&gt;.....] - ETA: 32s - loss: nan - accuracy: 0.8611\b\b\b\b\b\b\b\b\b\b\b\b\b\b\b\b\b\b\b\b\b\b\b\b\b\b\b\b\b\b\b\b\b\b\b\b\b\b\b\b\b\b\b\b\b\b\b\b\b\b\b\b\b\b\b\b\b\b\b\b\b\b\b\b\b\b\b\b\b\b\b\b\b\b\b\b\b\b\b\b\b\b\r",
       "102/121 [========================&gt;.....] - ETA: 30s - loss: nan - accuracy: 0.8609\b\b\b\b\b\b\b\b\b\b\b\b\b\b\b\b\b\b\b\b\b\b\b\b\b\b\b\b\b\b\b\b\b\b\b\b\b\b\b\b\b\b\b\b\b\b\b\b\b\b\b\b\b\b\b\b\b\b\b\b\b\b\b\b\b\b\b\b\b\b\b\b\b\b\b\b\b\b\b\b\b\b\r",
       "103/121 [========================&gt;.....] - ETA: 28s - loss: nan - accuracy: 0.8608\b\b\b\b\b\b\b\b\b\b\b\b\b\b\b\b\b\b\b\b\b\b\b\b\b\b\b\b\b\b\b\b\b\b\b\b\b\b\b\b\b\b\b\b\b\b\b\b\b\b\b\b\b\b\b\b\b\b\b\b\b\b\b\b\b\b\b\b\b\b\b\b\b\b\b\b\b\b\b\b\b\b\r",
       "104/121 [========================&gt;.....] - ETA: 27s - loss: nan - accuracy: 0.8607\b\b\b\b\b\b\b\b\b\b\b\b\b\b\b\b\b\b\b\b\b\b\b\b\b\b\b\b\b\b\b\b\b\b\b\b\b\b\b\b\b\b\b\b\b\b\b\b\b\b\b\b\b\b\b\b\b\b\b\b\b\b\b\b\b\b\b\b\b\b\b\b\b\b\b\b\b\b\b\b\b\b\r",
       "105/121 [=========================&gt;....] - ETA: 25s - loss: nan - accuracy: 0.8605\b\b\b\b\b\b\b\b\b\b\b\b\b\b\b\b\b\b\b\b\b\b\b\b\b\b\b\b\b\b\b\b\b\b\b\b\b\b\b\b\b\b\b\b\b\b\b\b\b\b\b\b\b\b\b\b\b\b\b\b\b\b\b\b\b\b\b\b\b\b\b\b\b\b\b\b\b\b\b\b\b\b\r",
       "106/121 [=========================&gt;....] - ETA: 24s - loss: nan - accuracy: 0.8604\b\b\b\b\b\b\b\b\b\b\b\b\b\b\b\b\b\b\b\b\b\b\b\b\b\b\b\b\b\b\b\b\b\b\b\b\b\b\b\b\b\b\b\b\b\b\b\b\b\b\b\b\b\b\b\b\b\b\b\b\b\b\b\b\b\b\b\b\b\b\b\b\b\b\b\b\b\b\b\b\b\b\r",
       "107/121 [=========================&gt;....] - ETA: 22s - loss: nan - accuracy: 0.8603\b\b\b\b\b\b\b\b\b\b\b\b\b\b\b\b\b\b\b\b\b\b\b\b\b\b\b\b\b\b\b\b\b\b\b\b\b\b\b\b\b\b\b\b\b\b\b\b\b\b\b\b\b\b\b\b\b\b\b\b\b\b\b\b\b\b\b\b\b\b\b\b\b\b\b\b\b\b\b\b\b\b\r",
       "108/121 [=========================&gt;....] - ETA: 20s - loss: nan - accuracy: 0.8602\b\b\b\b\b\b\b\b\b\b\b\b\b\b\b\b\b\b\b\b\b\b\b\b\b\b\b\b\b\b\b\b\b\b\b\b\b\b\b\b\b\b\b\b\b\b\b\b\b\b\b\b\b\b\b\b\b\b\b\b\b\b\b\b\b\b\b\b\b\b\b\b\b\b\b\b\b\b\b\b\b\b\r",
       "109/121 [==========================&gt;...] - ETA: 19s - loss: nan - accuracy: 0.8601\b\b\b\b\b\b\b\b\b\b\b\b\b\b\b\b\b\b\b\b\b\b\b\b\b\b\b\b\b\b\b\b\b\b\b\b\b\b\b\b\b\b\b\b\b\b\b\b\b\b\b\b\b\b\b\b\b\b\b\b\b\b\b\b\b\b\b\b\b\b\b\b\b\b\b\b\b\b\b\b\b\b\r",
       "110/121 [==========================&gt;...] - ETA: 17s - loss: nan - accuracy: 0.8600\b\b\b\b\b\b\b\b\b\b\b\b\b\b\b\b\b\b\b\b\b\b\b\b\b\b\b\b\b\b\b\b\b\b\b\b\b\b\b\b\b\b\b\b\b\b\b\b\b\b\b\b\b\b\b\b\b\b\b\b\b\b\b\b\b\b\b\b\b\b\b\b\b\b\b\b\b\b\b\b\b\b\r",
       "111/121 [==========================&gt;...] - ETA: 15s - loss: nan - accuracy: 0.8599\b\b\b\b\b\b\b\b\b\b\b\b\b\b\b\b\b\b\b\b\b\b\b\b\b\b\b\b\b\b\b\b\b\b\b\b\b\b\b\b\b\b\b\b\b\b\b\b\b\b\b\b\b\b\b\b\b\b\b\b\b\b\b\b\b\b\b\b\b\b\b\b\b\b\b\b\b\b\b\b\b\b\r",
       "112/121 [==========================&gt;...] - ETA: 14s - loss: nan - accuracy: 0.8598\b\b\b\b\b\b\b\b\b\b\b\b\b\b\b\b\b\b\b\b\b\b\b\b\b\b\b\b\b\b\b\b\b\b\b\b\b\b\b\b\b\b\b\b\b\b\b\b\b\b\b\b\b\b\b\b\b\b\b\b\b\b\b\b\b\b\b\b\b\b\b\b\b\b\b\b\b\b\b\b\b\b\r",
       "113/121 [===========================&gt;..] - ETA: 12s - loss: nan - accuracy: 0.8597\b\b\b\b\b\b\b\b\b\b\b\b\b\b\b\b\b\b\b\b\b\b\b\b\b\b\b\b\b\b\b\b\b\b\b\b\b\b\b\b\b\b\b\b\b\b\b\b\b\b\b\b\b\b\b\b\b\b\b\b\b\b\b\b\b\b\b\b\b\b\b\b\b\b\b\b\b\b\b\b\b\b\r",
       "114/121 [===========================&gt;..] - ETA: 11s - loss: nan - accuracy: 0.8597\b\b\b\b\b\b\b\b\b\b\b\b\b\b\b\b\b\b\b\b\b\b\b\b\b\b\b\b\b\b\b\b\b\b\b\b\b\b\b\b\b\b\b\b\b\b\b\b\b\b\b\b\b\b\b\b\b\b\b\b\b\b\b\b\b\b\b\b\b\b\b\b\b\b\b\b\b\b\b\b\b\b\r",
       "115/121 [===========================&gt;..] - ETA: 9s - loss: nan - accuracy: 0.8596 \b\b\b\b\b\b\b\b\b\b\b\b\b\b\b\b\b\b\b\b\b\b\b\b\b\b\b\b\b\b\b\b\b\b\b\b\b\b\b\b\b\b\b\b\b\b\b\b\b\b\b\b\b\b\b\b\b\b\b\b\b\b\b\b\b\b\b\b\b\b\b\b\b\b\b\b\b\b\b\b\b\r",
       "116/121 [===========================&gt;..] - ETA: 7s - loss: nan - accuracy: 0.8595\b\b\b\b\b\b\b\b\b\b\b\b\b\b\b\b\b\b\b\b\b\b\b\b\b\b\b\b\b\b\b\b\b\b\b\b\b\b\b\b\b\b\b\b\b\b\b\b\b\b\b\b\b\b\b\b\b\b\b\b\b\b\b\b\b\b\b\b\b\b\b\b\b\b\b\b\b\b\b\b\b\r",
       "117/121 [============================&gt;.] - ETA: 6s - loss: nan - accuracy: 0.8595\b\b\b\b\b\b\b\b\b\b\b\b\b\b\b\b\b\b\b\b\b\b\b\b\b\b\b\b\b\b\b\b\b\b\b\b\b\b\b\b\b\b\b\b\b\b\b\b\b\b\b\b\b\b\b\b\b\b\b\b\b\b\b\b\b\b\b\b\b\b\b\b\b\b\b\b\b\b\b\b\b\r",
       "118/121 [============================&gt;.] - ETA: 4s - loss: nan - accuracy: 0.8594\b\b\b\b\b\b\b\b\b\b\b\b\b\b\b\b\b\b\b\b\b\b\b\b\b\b\b\b\b\b\b\b\b\b\b\b\b\b\b\b\b\b\b\b\b\b\b\b\b\b\b\b\b\b\b\b\b\b\b\b\b\b\b\b\b\b\b\b\b\b\b\b\b\b\b\b\b\b\b\b\b\r",
       "119/121 [============================&gt;.] - ETA: 3s - loss: nan - accuracy: 0.8594\b\b\b\b\b\b\b\b\b\b\b\b\b\b\b\b\b\b\b\b\b\b\b\b\b\b\b\b\b\b\b\b\b\b\b\b\b\b\b\b\b\b\b\b\b\b\b\b\b\b\b\b\b\b\b\b\b\b\b\b\b\b\b\b\b\b\b\b\b\b\b\b\b\b\b\b\b\b\b\b\b\r",
       "120/121 [============================&gt;.] - ETA: 1s - loss: nan - accuracy: 0.8593\b\b\b\b\b\b\b\b\b\b\b\b\b\b\b\b\b\b\b\b\b\b\b\b\b\b\b\b\b\b\b\b\b\b\b\b\b\b\b\b\b\b\b\b\b\b\b\b\b\b\b\b\b\b\b\b\b\b\b\b\b\b\b\b\b\b\b\b\b\b\b\b\b\b\b\b\b\b\b\b\b\r",
       "121/121 [==============================] - ETA: 0s - loss: nan - accuracy: 0.8593\b\b\b\b\b\b\b\b\b\b\b\b\b\b\b\b\b\b\b\b\b\b\b\b\b\b\b\b\b\b\b\b\b\b\b\b\b\b\b\b\b\b\b\b\b\b\b\b\b\b\b\b\b\b\b\b\b\b\b\b\b\b\b\b\b\b\b\b\b\b\b\b\b\b\b\b\b\b\b\b\b\r",
       "121/121 [==============================] - 240s 2s/step - loss: nan - accuracy: 0.8592 - val_loss: nan - val_accuracy: 0.6875\n",
       "INFO:tensorflow:Assets written to: /tmp/tmpt6m_9lsm/model/data/model/assets\n",
       "</div>"
      ]
     },
     "metadata": {
      "application/vnd.databricks.v1+output": {
       "addedWidgets": {},
       "arguments": {},
       "data": "<div class=\"ansiout\">/databricks/python/lib/python3.8/site-packages/tensorflow/python/keras/engine/training.py:1844: UserWarning: `Model.fit_generator` is deprecated and will be removed in a future version. Please use `Model.fit`, which supports generators.\n  warnings.warn(&#39;`Model.fit_generator` is deprecated and &#39;\n2021/05/10 14:32:07 INFO mlflow.utils.autologging_utils: Created MLflow autologging run with ID &#39;1844fa52243243fb84ef3e5e624a13b5&#39;, which will track hyperparameters, performance metrics, model artifacts, and lineage information for the current tensorflow workflow\nEpoch 1/15\n\r  1/121 [..............................] - ETA: 1:41:22 - loss: nan - accuracy: 0.6250\b\b\b\b\b\b\b\b\b\b\b\b\b\b\b\b\b\b\b\b\b\b\b\b\b\b\b\b\b\b\b\b\b\b\b\b\b\b\b\b\b\b\b\b\b\b\b\b\b\b\b\b\b\b\b\b\b\b\b\b\b\b\b\b\b\b\b\b\b\b\b\b\b\b\b\b\b\b\b\b\b\b\b\b\b\b\r  2/121 [..............................] - ETA: 25s - loss: nan - accuracy: 0.6094    \b\b\b\b\b\b\b\b\b\b\b\b\b\b\b\b\b\b\b\b\b\b\b\b\b\b\b\b\b\b\b\b\b\b\b\b\b\b\b\b\b\b\b\b\b\b\b\b\b\b\b\b\b\b\b\b\b\b\b\b\b\b\b\b\b\b\b\b\b\b\b\b\b\b\b\b\b\b\b\b\b\b\r  3/121 [..............................] - ETA: 1:51 - loss: nan - accuracy: 0.5938\b\b\b\b\b\b\b\b\b\b\b\b\b\b\b\b\b\b\b\b\b\b\b\b\b\b\b\b\b\b\b\b\b\b\b\b\b\b\b\b\b\b\b\b\b\b\b\b\b\b\b\b\b\b\b\b\b\b\b\b\b\b\b\b\b\b\b\b\b\b\b\b\b\b\b\b\b\b\b\b\b\b\b\r  4/121 [..............................] - ETA: 2:23 - loss: nan - accuracy: 0.5781\b\b\b\b\b\b\b\b\b\b\b\b\b\b\b\b\b\b\b\b\b\b\b\b\b\b\b\b\b\b\b\b\b\b\b\b\b\b\b\b\b\b\b\b\b\b\b\b\b\b\b\b\b\b\b\b\b\b\b\b\b\b\b\b\b\b\b\b\b\b\b\b\b\b\b\b\b\b\b\b\b\b\b\r  5/121 [&gt;.............................] - ETA: 2:34 - loss: nan - accuracy: 0.5575\b\b\b\b\b\b\b\b\b\b\b\b\b\b\b\b\b\b\b\b\b\b\b\b\b\b\b\b\b\b\b\b\b\b\b\b\b\b\b\b\b\b\b\b\b\b\b\b\b\b\b\b\b\b\b\b\b\b\b\b\b\b\b\b\b\b\b\b\b\b\b\b\b\b\b\b\b\b\b\b\b\b\b\r  6/121 [&gt;.............................] - ETA: 2:39 - loss: nan - accuracy: 0.5479\b\b\b\b\b\b\b\b\b\b\b\b\b\b\b\b\b\b\b\b\b\b\b\b\b\b\b\b\b\b\b\b\b\b\b\b\b\b\b\b\b\b\b\b\b\b\b\b\b\b\b\b\b\b\b\b\b\b\b\b\b\b\b\b\b\b\b\b\b\b\b\b\b\b\b\b\b\b\b\b\b\b\b\r  7/121 [&gt;.............................] - ETA: 2:49 - loss: nan - accuracy: 0.5411\b\b\b\b\b\b\b\b\b\b\b\b\b\b\b\b\b\b\b\b\b\b\b\b\b\b\b\b\b\b\b\b\b\b\b\b\b\b\b\b\b\b\b\b\b\b\b\b\b\b\b\b\b\b\b\b\b\b\b\b\b\b\b\b\b\b\b\b\b\b\b\b\b\b\b\b\b\b\b\b\b\b\b\r  8/121 [&gt;.............................] - ETA: 2:49 - loss: nan - accuracy: 0.5350\b\b\b\b\b\b\b\b\b\b\b\b\b\b\b\b\b\b\b\b\b\b\b\b\b\b\b\b\b\b\b\b\b\b\b\b\b\b\b\b\b\b\b\b\b\b\b\b\b\b\b\b\b\b\b\b\b\b\b\b\b\b\b\b\b\b\b\b\b\b\b\b\b\b\b\b\b\b\b\b\b\b\b\r  9/121 [=&gt;............................] - ETA: 2:51 - loss: nan - accuracy: 0.5303\b\b\b\b\b\b\b\b\b\b\b\b\b\b\b\b\b\b\b\b\b\b\b\b\b\b\b\b\b\b\b\b\b\b\b\b\b\b\b\b\b\b\b\b\b\b\b\b\b\b\b\b\b\b\b\b\b\b\b\b\b\b\b\b\b\b\b\b\b\b\b\b\b\b\b\b\b\b\b\b\b\b\b\r 10/121 [=&gt;............................] - ETA: 2:51 - loss: nan - accuracy: 0.5266\b\b\b\b\b\b\b\b\b\b\b\b\b\b\b\b\b\b\b\b\b\b\b\b\b\b\b\b\b\b\b\b\b\b\b\b\b\b\b\b\b\b\b\b\b\b\b\b\b\b\b\b\b\b\b\b\b\b\b\b\b\b\b\b\b\b\b\b\b\b\b\b\b\b\b\b\b\b\b\b\b\b\b\r 11/121 [=&gt;............................] - ETA: 2:50 - loss: nan - accuracy: 0.5242\b\b\b\b\b\b\b\b\b\b\b\b\b\b\b\b\b\b\b\b\b\b\b\b\b\b\b\b\b\b\b\b\b\b\b\b\b\b\b\b\b\b\b\b\b\b\b\b\b\b\b\b\b\b\b\b\b\b\b\b\b\b\b\b\b\b\b\b\b\b\b\b\b\b\b\b\b\b\b\b\b\b\b\r 12/121 [=&gt;............................] - ETA: 2:48 - loss: nan - accuracy: 0.5222\b\b\b\b\b\b\b\b\b\b\b\b\b\b\b\b\b\b\b\b\b\b\b\b\b\b\b\b\b\b\b\b\b\b\b\b\b\b\b\b\b\b\b\b\b\b\b\b\b\b\b\b\b\b\b\b\b\b\b\b\b\b\b\b\b\b\b\b\b\b\b\b\b\b\b\b\b\b\b\b\b\b\b\r 13/121 [==&gt;...........................] - ETA: 2:51 - loss: nan - accuracy: 0.5194\b\b\b\b\b\b\b\b\b\b\b\b\b\b\b\b\b\b\b\b\b\b\b\b\b\b\b\b\b\b\b\b\b\b\b\b\b\b\b\b\b\b\b\b\b\b\b\b\b\b\b\b\b\b\b\b\b\b\b\b\b\b\b\b\b\b\b\b\b\b\b\b\b\b\b\b\b\b\b\b\b\b\b\r 14/121 [==&gt;...........................] - ETA: 2:49 - loss: nan - accuracy: 0.5167\b\b\b\b\b\b\b\b\b\b\b\b\b\b\b\b\b\b\b\b\b\b\b\b\b\b\b\b\b\b\b\b\b\b\b\b\b\b\b\b\b\b\b\b\b\b\b\b\b\b\b\b\b\b\b\b\b\b\b\b\b\b\b\b\b\b\b\b\b\b\b\b\b\b\b\b\b\b\b\b\b\b\b\r 15/121 [==&gt;...........................] - ETA: 2:48 - loss: nan - accuracy: 0.5148\b\b\b\b\b\b\b\b\b\b\b\b\b\b\b\b\b\b\b\b\b\b\b\b\b\b\b\b\b\b\b\b\b\b\b\b\b\b\b\b\b\b\b\b\b\b\b\b\b\b\b\b\b\b\b\b\b\b\b\b\b\b\b\b\b\b\b\b\b\b\b\b\b\b\b\b\b\b\b\b\b\b\b\r 16/121 [==&gt;...........................] - ETA: 2:48 - loss: nan - accuracy: 0.5131\b\b\b\b\b\b\b\b\b\b\b\b\b\b\b\b\b\b\b\b\b\b\b\b\b\b\b\b\b\b\b\b\b\b\b\b\b\b\b\b\b\b\b\b\b\b\b\b\b\b\b\b\b\b\b\b\b\b\b\b\b\b\b\b\b\b\b\b\b\b\b\b\b\b\b\b\b\b\b\b\b\b\b\r 17/121 [===&gt;..........................] - ETA: 2:46 - loss: nan - accuracy: 0.5115\b\b\b\b\b\b\b\b\b\b\b\b\b\b\b\b\b\b\b\b\b\b\b\b\b\b\b\b\b\b\b\b\b\b\b\b\b\b\b\b\b\b\b\b\b\b\b\b\b\b\b\b\b\b\b\b\b\b\b\b\b\b\b\b\b\b\b\b\b\b\b\b\b\b\b\b\b\b\b\b\b\b\b\r 18/121 [===&gt;..........................] - ETA: 2:45 - loss: nan - accuracy: 0.5099\b\b\b\b\b\b\b\b\b\b\b\b\b\b\b\b\b\b\b\b\b\b\b\b\b\b\b\b\b\b\b\b\b\b\b\b\b\b\b\b\b\b\b\b\b\b\b\b\b\b\b\b\b\b\b\b\b\b\b\b\b\b\b\b\b\b\b\b\b\b\b\b\b\b\b\b\b\b\b\b\b\b\b\r 19/121 [===&gt;..........................] - ETA: 2:51 - loss: nan - accuracy: 0.5088\b\b\b\b\b\b\b\b\b\b\b\b\b\b\b\b\b\b\b\b\b\b\b\b\b\b\b\b\b\b\b\b\b\b\b\b\b\b\b\b\b\b\b\b\b\b\b\b\b\b\b\b\b\b\b\b\b\b\b\b\b\b\b\b\b\b\b\b\b\b\b\b\b\b\b\b\b\b\b\b\b\b\b\r 20/121 [===&gt;..........................] - ETA: 2:50 - loss: nan - accuracy: 0.5078\b\b\b\b\b\b\b\b\b\b\b\b\b\b\b\b\b\b\b\b\b\b\b\b\b\b\b\b\b\b\b\b\b\b\b\b\b\b\b\b\b\b\b\b\b\b\b\b\b\b\b\b\b\b\b\b\b\b\b\b\b\b\b\b\b\b\b\b\b\b\b\b\b\b\b\b\b\b\b\b\b\b\b\r 21/121 [====&gt;.........................] - ETA: 2:48 - loss: nan - accuracy: 0.5067\b\b\b\b\b\b\b\b\b\b\b\b\b\b\b\b\b\b\b\b\b\b\b\b\b\b\b\b\b\b\b\b\b\b\b\b\b\b\b\b\b\b\b\b\b\b\b\b\b\b\b\b\b\b\b\b\b\b\b\b\b\b\b\b\b\b\b\b\b\b\b\b\b\b\b\b\b\b\b\b\b\b\b\r 22/121 [====&gt;.........................] - ETA: 2:47 - loss: nan - accuracy: 0.5057\b\b\b\b\b\b\b\b\b\b\b\b\b\b\b\b\b\b\b\b\b\b\b\b\b\b\b\b\b\b\b\b\b\b\b\b\b\b\b\b\b\b\b\b\b\b\b\b\b\b\b\b\b\b\b\b\b\b\b\b\b\b\b\b\b\b\b\b\b\b\b\b\b\b\b\b\b\b\b\b\b\b\b\r 23/121 [====&gt;.........................] - ETA: 2:46 - loss: nan - accuracy: 0.5049\b\b\b\b\b\b\b\b\b\b\b\b\b\b\b\b\b\b\b\b\b\b\b\b\b\b\b\b\b\b\b\b\b\b\b\b\b\b\b\b\b\b\b\b\b\b\b\b\b\b\b\b\b\b\b\b\b\b\b\b\b\b\b\b\b\b\b\b\b\b\b\b\b\b\b\b\b\b\b\b\b\b\b\r 24/121 [====&gt;.........................] - ETA: 2:46 - loss: nan - accuracy: 0.5042\b\b\b\b\b\b\b\b\b\b\b\b\b\b\b\b\b\b\b\b\b\b\b\b\b\b\b\b\b\b\b\b\b\b\b\b\b\b\b\b\b\b\b\b\b\b\b\b\b\b\b\b\b\b\b\b\b\b\b\b\b\b\b\b\b\b\b\b\b\b\b\b\b\b\b\b\b\b\b\b\b\b\b\r 25/121 [=====&gt;........................] - ETA: 2:44 - loss: nan - accuracy: 0.5035\b\b\b\b\b\b\b\b\b\b\b\b\b\b\b\b\b\b\b\b\b\b\b\b\b\b\b\b\b\b\b\b\b\b\b\b\b\b\b\b\b\b\b\b\b\b\b\b\b\b\b\b\b\b\b\b\b\b\b\b\b\b\b\b\b\b\b\b\b\b\b\b\b\b\b\b\b\b\b\b\b\b\b\r 26/121 [=====&gt;........................] - ETA: 2:43 - loss: nan - accuracy: 0.5031\b\b\b\b\b\b\b\b\b\b\b\b\b\b\b\b\b\b\b\b\b\b\b\b\b\b\b\b\b\b\b\b\b\b\b\b\b\b\b\b\b\b\b\b\b\b\b\b\b\b\b\b\b\b\b\b\b\b\b\b\b\b\b\b\b\b\b\b\b\b\b\b\b\b\b\b\b\b\b\b\b\b\b\r 27/121 [=====&gt;........................] - ETA: 2:41 - loss: nan - accuracy: 0.5030\b\b\b\b\b\b\b\b\b\b\b\b\b\b\b\b\b\b\b\b\b\b\b\b\b\b\b\b\b\b\b\b\b\b\b\b\b\b\b\b\b\b\b\b\b\b\b\b\b\b\b\b\b\b\b\b\b\b\b\b\b\b\b\b\b\b\b\b\b\b\b\b\b\b\b\b\b\b\b\b\b\b\b\r 28/121 [=====&gt;........................] - ETA: 2:38 - loss: nan - accuracy: 0.5028\b\b\b\b\b\b\b\b\b\b\b\b\b\b\b\b\b\b\b\b\b\b\b\b\b\b\b\b\b\b\b\b\b\b\b\b\b\b\b\b\b\b\b\b\b\b\b\b\b\b\b\b\b\b\b\b\b\b\b\b\b\b\b\b\b\b\b\b\b\b\b\b\b\b\b\b\b\b\b\b\b\b\b\r 29/121 [======&gt;.......................] - ETA: 2:37 - loss: nan - accuracy: 0.5026\b\b\b\b\b\b\b\b\b\b\b\b\b\b\b\b\b\b\b\b\b\b\b\b\b\b\b\b\b\b\b\b\b\b\b\b\b\b\b\b\b\b\b\b\b\b\b\b\b\b\b\b\b\b\b\b\b\b\b\b\b\b\b\b\b\b\b\b\b\b\b\b\b\b\b\b\b\b\b\b\b\b\b\r 30/121 [======&gt;.......................] - ETA: 2:35 - loss: nan - accuracy: 0.5026\b\b\b\b\b\b\b\b\b\b\b\b\b\b\b\b\b\b\b\b\b\b\b\b\b\b\b\b\b\b\b\b\b\b\b\b\b\b\b\b\b\b\b\b\b\b\b\b\b\b\b\b\b\b\b\b\b\b\b\b\b\b\b\b\b\b\b\b\b\b\b\b\b\b\b\b\b\b\b\b\b\b\b\r 31/121 [======&gt;.......................] - ETA: 2:33 - loss: nan - accuracy: 0.5026\b\b\b\b\b\b\b\b\b\b\b\b\b\b\b\b\b\b\b\b\b\b\b\b\b\b\b\b\b\b\b\b\b\b\b\b\b\b\b\b\b\b\b\b\b\b\b\b\b\b\b\b\b\b\b\b\b\b\b\b\b\b\b\b\b\b\b\b\b\b\b\b\b\b\b\b\b\b\b\b\b\b\b\r 32/121 [======&gt;.......................] - ETA: 2:32 - loss: nan - accuracy: 0.5027\b\b\b\b\b\b\b\b\b\b\b\b\b\b\b\b\b\b\b\b\b\b\b\b\b\b\b\b\b\b\b\b\b\b\b\b\b\b\b\b\b\b\b\b\b\b\b\b\b\b\b\b\b\b\b\b\b\b\b\b\b\b\b\b\b\b\b\b\b\b\b\b\b\b\b\b\b\b\b\b\b\b\b\r 33/121 [=======&gt;......................] - ETA: 2:30 - loss: nan - accuracy: 0.5030\b\b\b\b\b\b\b\b\b\b\b\b\b\b\b\b\b\b\b\b\b\b\b\b\b\b\b\b\b\b\b\b\b\b\b\b\b\b\b\b\b\b\b\b\b\b\b\b\b\b\b\b\b\b\b\b\b\b\b\b\b\b\b\b\b\b\b\b\b\b\b\b\b\b\b\b\b\b\b\b\b\b\b\r 34/121 [=======&gt;......................] - ETA: 2:31 - loss: nan - accuracy: 0.5036\b\b\b\b\b\b\b\b\b\b\b\b\b\b\b\b\b\b\b\b\b\b\b\b\b\b\b\b\b\b\b\b\b\b\b\b\b\b\b\b\b\b\b\b\b\b\b\b\b\b\b\b\b\b\b\b\b\b\b\b\b\b\b\b\b\b\b\b\b\b\b\b\b\b\b\b\b\b\b\b\b\b\b\r 35/121 [=======&gt;......................] - ETA: 2:30 - loss: nan - accuracy: 0.5043\b\b\b\b\b\b\b\b\b\b\b\b\b\b\b\b\b\b\b\b\b\b\b\b\b\b\b\b\b\b\b\b\b\b\b\b\b\b\b\b\b\b\b\b\b\b\b\b\b\b\b\b\b\b\b\b\b\b\b\b\b\b\b\b\b\b\b\b\b\b\b\b\b\b\b\b\b\b\b\b\b\b\b\r 36/121 [=======&gt;......................] - ETA: 2:31 - loss: nan - accuracy: 0.5050\b\b\b\b\b\b\b\b\b\b\b\b\b\b\b\b\b\b\b\b\b\b\b\b\b\b\b\b\b\b\b\b\b\b\b\b\b\b\b\b\b\b\b\b\b\b\b\b\b\b\b\b\b\b\b\b\b\b\b\b\b\b\b\b\b\b\b\b\b\b\b\b\b\b\b\b\b\b\b\b\b\b\b\r 37/121 [========&gt;.....................] - ETA: 2:28 - loss: nan - accuracy: 0.5056\b\b\b\b\b\b\b\b\b\b\b\b\b\b\b\b\b\b\b\b\b\b\b\b\b\b\b\b\b\b\b\b\b\b\b\b\b\b\b\b\b\b\b\b\b\b\b\b\b\b\b\b\b\b\b\b\b\b\b\b\b\b\b\b\b\b\b\b\b\b\b\b\b\b\b\b\b\b\b\b\b\b\b\r 38/121 [========&gt;.....................] - ETA: 2:26 - loss: nan - accuracy: 0.5061\b\b\b\b\b\b\b\b\b\b\b\b\b\b\b\b\b\b\b\b\b\b\b\b\b\b\b\b\b\b\b\b\b\b\b\b\b\b\b\b\b\b\b\b\b\b\b\b\b\b\b\b\b\b\b\b\b\b\b\b\b\b\b\b\b\b\b\b\b\b\b\b\b\b\b\b\b\b\b\b\b\b\b\r 39/121 [========&gt;.....................] - ETA: 2:24 - loss: nan - accuracy: 0.5066\b\b\b\b\b\b\b\b\b\b\b\b\b\b\b\b\b\b\b\b\b\b\b\b\b\b\b\b\b\b\b\b\b\b\b\b\b\b\b\b\b\b\b\b\b\b\b\b\b\b\b\b\b\b\b\b\b\b\b\b\b\b\b\b\b\b\b\b\b\b\b\b\b\b\b\b\b\b\b\b\b\b\b\r 40/121 [========&gt;.....................] - ETA: 2:22 - loss: nan - accuracy: 0.5070\b\b\b\b\b\b\b\b\b\b\b\b\b\b\b\b\b\b\b\b\b\b\b\b\b\b\b\b\b\b\b\b\b\b\b\b\b\b\b\b\b\b\b\b\b\b\b\b\b\b\b\b\b\b\b\b\b\b\b\b\b\b\b\b\b\b\b\b\b\b\b\b\b\b\b\b\b\b\b\b\b\b\b\r 41/121 [=========&gt;....................] - ETA: 2:20 - loss: nan - accuracy: 0.5074\b\b\b\b\b\b\b\b\b\b\b\b\b\b\b\b\b\b\b\b\b\b\b\b\b\b\b\b\b\b\b\b\b\b\b\b\b\b\b\b\b\b\b\b\b\b\b\b\b\b\b\b\b\b\b\b\b\b\b\b\b\b\b\b\b\b\b\b\b\b\b\b\b\b\b\b\b\b\b\b\b\b\b\r 42/121 [=========&gt;....................] - ETA: 2:18 - loss: nan - accuracy: 0.5077\b\b\b\b\b\b\b\b\b\b\b\b\b\b\b\b\b\b\b\b\b\b\b\b\b\b\b\b\b\b\b\b\b\b\b\b\b\b\b\b\b\b\b\b\b\b\b\b\b\b\b\b\b\b\b\b\b\b\b\b\b\b\b\b\b\b\b\b\b\b\b\b\b\b\b\b\b\b\b\b\b\b\b\r 43/121 [=========&gt;....................] - ETA: 2:15 - loss: nan - accuracy: 0.5079\b\b\b\b\b\b\b\b\b\b\b\b\b\b\b\b\b\b\b\b\b\b\b\b\b\b\b\b\b\b\b\b\b\b\b\b\b\b\b\b\b\b\b\b\b\b\b\b\b\b\b\b\b\b\b\b\b\b\b\b\b\b\b\b\b\b\b\b\b\b\b\b\b\b\b\b\b\b\b\b\b\b\b\r 44/121 [=========&gt;....................] - ETA: 2:13 - loss: nan - accuracy: 0.5082\b\b\b\b\b\b\b\b\b\b\b\b\b\b\b\b\b\b\b\b\b\b\b\b\b\b\b\b\b\b\b\b\b\b\b\b\b\b\b\b\b\b\b\b\b\b\b\b\b\b\b\b\b\b\b\b\b\b\b\b\b\b\b\b\b\b\b\b\b\b\b\b\b\b\b\b\b\b\b\b\b\b\b\r 45/121 [==========&gt;...................] - ETA: 2:12 - loss: nan - accuracy: 0.5085\b\b\b\b\b\b\b\b\b\b\b\b\b\b\b\b\b\b\b\b\b\b\b\b\b\b\b\b\b\b\b\b\b\b\b\b\b\b\b\b\b\b\b\b\b\b\b\b\b\b\b\b\b\b\b\b\b\b\b\b\b\b\b\b\b\b\b\b\b\b\b\b\b\b\b\b\b\b\b\b\b\b\b\r 46/121 [==========&gt;...................] - ETA: 2:10 - loss: nan - accuracy: 0.5089\b\b\b\b\b\b\b\b\b\b\b\b\b\b\b\b\b\b\b\b\b\b\b\b\b\b\b\b\b\b\b\b\b\b\b\b\b\b\b\b\b\b\b\b\b\b\b\b\b\b\b\b\b\b\b\b\b\b\b\b\b\b\b\b\b\b\b\b\b\b\b\b\b\b\b\b\b\b\b\b\b\b\b\r 47/121 [==========&gt;...................] - ETA: 2:09 - loss: nan - accuracy: 0.5093\b\b\b\b\b\b\b\b\b\b\b\b\b\b\b\b\b\b\b\b\b\b\b\b\b\b\b\b\b\b\b\b\b\b\b\b\b\b\b\b\b\b\b\b\b\b\b\b\b\b\b\b\b\b\b\b\b\b\b\b\b\b\b\b\b\b\b\b\b\b\b\b\b\b\b\b\b\b\b\b\b\b\b\r 48/121 [==========&gt;...................] - ETA: 2:07 - loss: nan - accuracy: 0.5097\b\b\b\b\b\b\b\b\b\b\b\b\b\b\b\b\b\b\b\b\b\b\b\b\b\b\b\b\b\b\b\b\b\b\b\b\b\b\b\b\b\b\b\b\b\b\b\b\b\b\b\b\b\b\b\b\b\b\b\b\b\b\b\b\b\b\b\b\b\b\b\b\b\b\b\b\b\b\b\b\b\b\b\r 49/121 [===========&gt;..................] - ETA: 2:04 - loss: nan - accuracy: 0.5101\b\b\b\b\b\b\b\b\b\b\b\b\b\b\b\b\b\b\b\b\b\b\b\b\b\b\b\b\b\b\b\b\b\b\b\b\b\b\b\b\b\b\b\b\b\b\b\b\b\b\b\b\b\b\b\b\b\b\b\b\b\b\b\b\b\b\b\b\b\b\b\b\b\b\b\b\b\b\b\b\b\b\b\r 50/121 [===========&gt;..................] - ETA: 2:02 - loss: nan - accuracy: 0.5106\b\b\b\b\b\b\b\b\b\b\b\b\b\b\b\b\b\b\b\b\b\b\b\b\b\b\b\b\b\b\b\b\b\b\b\b\b\b\b\b\b\b\b\b\b\b\b\b\b\b\b\b\b\b\b\b\b\b\b\b\b\b\b\b\b\b\b\b\b\b\b\b\b\b\b\b\b\b\b\b\b\b\b\r 51/121 [===========&gt;..................] - ETA: 2:01 - loss: nan - accuracy: 0.5110\b\b\b\b\b\b\b\b\b\b\b\b\b\b\b\b\b\b\b\b\b\b\b\b\b\b\b\b\b\b\b\b\b\b\b\b\b\b\b\b\b\b\b\b\b\b\b\b\b\b\b\b\b\b\b\b\b\b\b\b\b\b\b\b\b\b\b\b\b\b\b\b\b\b\b\b\b\b\b\b\b\b\b\r 52/121 [===========&gt;..................] - ETA: 1:59 - loss: nan - accuracy: 0.5115\b\b\b\b\b\b\b\b\b\b\b\b\b\b\b\b\b\b\b\b\b\b\b\b\b\b\b\b\b\b\b\b\b\b\b\b\b\b\b\b\b\b\b\b\b\b\b\b\b\b\b\b\b\b\b\b\b\b\b\b\b\b\b\b\b\b\b\b\b\b\b\b\b\b\b\b\b\b\b\b\b\b\b\r 53/121 [============&gt;.................] - ETA: 1:57 - loss: nan - accuracy: 0.5119\b\b\b\b\b\b\b\b\b\b\b\b\b\b\b\b\b\b\b\b\b\b\b\b\b\b\b\b\b\b\b\b\b\b\b\b\b\b\b\b\b\b\b\b\b\b\b\b\b\b\b\b\b\b\b\b\b\b\b\b\b\b\b\b\b\b\b\b\b\b\b\b\b\b\b\b\b\b\b\b\b\b\b\r 54/121 [============&gt;.................] - ETA: 1:55 - loss: nan - accuracy: 0.5124\b\b\b\b\b\b\b\b\b\b\b\b\b\b\b\b\b\b\b\b\b\b\b\b\b\b\b\b\b\b\b\b\b\b\b\b\b\b\b\b\b\b\b\b\b\b\b\b\b\b\b\b\b\b\b\b\b\b\b\b\b\b\b\b\b\b\b\b\b\b\b\b\b\b\b\b\b\b\b\b\b\b\b\r 55/121 [============&gt;.................] - ETA: 1:53 - loss: nan - accuracy: 0.5127\b\b\b\b\b\b\b\b\b\b\b\b\b\b\b\b\b\b\b\b\b\b\b\b\b\b\b\b\b\b\b\b\b\b\b\b\b\b\b\b\b\b\b\b\b\b\b\b\b\b\b\b\b\b\b\b\b\b\b\b\b\b\b\b\b\b\b\b\b\b\b\b\b\b\b\b\b\b\b\b\b\b\b\r 56/121 [============&gt;.................] - ETA: 1:51 - loss: nan - accuracy: 0.5131\b\b\b\b\b\b\b\b\b\b\b\b\b\b\b\b\b\b\b\b\b\b\b\b\b\b\b\b\b\b\b\b\b\b\b\b\b\b\b\b\b\b\b\b\b\b\b\b\b\b\b\b\b\b\b\b\b\b\b\b\b\b\b\b\b\b\b\b\b\b\b\b\b\b\b\b\b\b\b\b\b\b\b\r 57/121 [=============&gt;................] - ETA: 1:50 - loss: nan - accuracy: 0.5135\b\b\b\b\b\b\b\b\b\b\b\b\b\b\b\b\b\b\b\b\b\b\b\b\b\b\b\b\b\b\b\b\b\b\b\b\b\b\b\b\b\b\b\b\b\b\b\b\b\b\b\b\b\b\b\b\b\b\b\b\b\b\b\b\b\b\b\b\b\b\b\b\b\b\b\b\b\b\b\b\b\b\b\r 58/121 [=============&gt;................] - ETA: 1:48 - loss: nan - accuracy: 0.5140\b\b\b\b\b\b\b\b\b\b\b\b\b\b\b\b\b\b\b\b\b\b\b\b\b\b\b\b\b\b\b\b\b\b\b\b\b\b\b\b\b\b\b\b\b\b\b\b\b\b\b\b\b\b\b\b\b\b\b\b\b\b\b\b\b\b\b\b\b\b\b\b\b\b\b\b\b\b\b\b\b\b\b\r 59/121 [=============&gt;................] - ETA: 1:46 - loss: nan - accuracy: 0.5145\b\b\b\b\b\b\b\b\b\b\b\b\b\b\b\b\b\b\b\b\b\b\b\b\b\b\b\b\b\b\b\b\b\b\b\b\b\b\b\b\b\b\b\b\b\b\b\b\b\b\b\b\b\b\b\b\b\b\b\b\b\b\b\b\b\b\b\b\b\b\b\b\b\b\b\b\b\b\b\b\b\b\b\r 60/121 [=============&gt;................] - ETA: 1:45 - loss: nan - accuracy: 0.5150\b\b\b\b\b\b\b\b\b\b\b\b\b\b\b\b\b\b\b\b\b\b\b\b\b\b\b\b\b\b\b\b\b\b\b\b\b\b\b\b\b\b\b\b\b\b\b\b\b\b\b\b\b\b\b\b\b\b\b\b\b\b\b\b\b\b\b\b\b\b\b\b\b\b\b\b\b\b\b\b\b\b\b\r 61/121 [==============&gt;...............] - ETA: 1:43 - loss: nan - accuracy: 0.5155\b\b\b\b\b\b\b\b\b\b\b\b\b\b\b\b\b\b\b\b\b\b\b\b\b\b\b\b\b\b\b\b\b\b\b\b\b\b\b\b\b\b\b\b\b\b\b\b\b\b\b\b\b\b\b\b\b\b\b\b\b\b\b\b\b\b\b\b\b\b\b\b\b\b\b\b\b\b\b\b\b\b\b\r 62/121 [==============&gt;...............] - ETA: 1:41 - loss: nan - accuracy: 0.5160\b\b\b\b\b\b\b\b\b\b\b\b\b\b\b\b\b\b\b\b\b\b\b\b\b\b\b\b\b\b\b\b\b\b\b\b\b\b\b\b\b\b\b\b\b\b\b\b\b\b\b\b\b\b\b\b\b\b\b\b\b\b\b\b\b\b\b\b\b\b\b\b\b\b\b\b\b\b\b\b\b\b\b\r 63/121 [==============&gt;...............] - ETA: 1:40 - loss: nan - accuracy: 0.5165\b\b\b\b\b\b\b\b\b\b\b\b\b\b\b\b\b\b\b\b\b\b\b\b\b\b\b\b\b\b\b\b\b\b\b\b\b\b\b\b\b\b\b\b\b\b\b\b\b\b\b\b\b\b\b\b\b\b\b\b\b\b\b\b\b\b\b\b\b\b\b\b\b\b\b\b\b\b\b\b\b\b\b\r 64/121 [==============&gt;...............] - ETA: 1:38 - loss: nan - accuracy: 0.5171\b\b\b\b\b\b\b\b\b\b\b\b\b\b\b\b\b\b\b\b\b\b\b\b\b\b\b\b\b\b\b\b\b\b\b\b\b\b\b\b\b\b\b\b\b\b\b\b\b\b\b\b\b\b\b\b\b\b\b\b\b\b\b\b\b\b\b\b\b\b\b\b\b\b\b\b\b\b\b\b\b\b\b\r 65/121 [===============&gt;..............] - ETA: 1:36 - loss: nan - accuracy: 0.5176\b\b\b\b\b\b\b\b\b\b\b\b\b\b\b\b\b\b\b\b\b\b\b\b\b\b\b\b\b\b\b\b\b\b\b\b\b\b\b\b\b\b\b\b\b\b\b\b\b\b\b\b\b\b\b\b\b\b\b\b\b\b\b\b\b\b\b\b\b\b\b\b\b\b\b\b\b\b\b\b\b\b\b\r 66/121 [===============&gt;..............] - ETA: 1:34 - loss: nan - accuracy: 0.5181\b\b\b\b\b\b\b\b\b\b\b\b\b\b\b\b\b\b\b\b\b\b\b\b\b\b\b\b\b\b\b\b\b\b\b\b\b\b\b\b\b\b\b\b\b\b\b\b\b\b\b\b\b\b\b\b\b\b\b\b\b\b\b\b\b\b\b\b\b\b\b\b\b\b\b\b\b\b\b\b\b\b\b\r 67/121 [===============&gt;..............] - ETA: 1:33 - loss: nan - accuracy: 0.5186\b\b\b\b\b\b\b\b\b\b\b\b\b\b\b\b\b\b\b\b\b\b\b\b\b\b\b\b\b\b\b\b\b\b\b\b\b\b\b\b\b\b\b\b\b\b\b\b\b\b\b\b\b\b\b\b\b\b\b\b\b\b\b\b\b\b\b\b\b\b\b\b\b\b\b\b\b\b\b\b\b\b\b\r 68/121 [===============&gt;..............] - ETA: 1:31 - loss: nan - accuracy: 0.5191\b\b\b\b\b\b\b\b\b\b\b\b\b\b\b\b\b\b\b\b\b\b\b\b\b\b\b\b\b\b\b\b\b\b\b\b\b\b\b\b\b\b\b\b\b\b\b\b\b\b\b\b\b\b\b\b\b\b\b\b\b\b\b\b\b\b\b\b\b\b\b\b\b\b\b\b\b\b\b\b\b\b\b\r 69/121 [================&gt;.............] - ETA: 1:29 - loss: nan - accuracy: 0.5195\b\b\b\b\b\b\b\b\b\b\b\b\b\b\b\b\b\b\b\b\b\b\b\b\b\b\b\b\b\b\b\b\b\b\b\b\b\b\b\b\b\b\b\b\b\b\b\b\b\b\b\b\b\b\b\b\b\b\b\b\b\b\b\b\b\b\b\b\b\b\b\b\b\b\b\b\b\b\b\b\b\b\b\r 70/121 [================&gt;.............] - ETA: 1:27 - loss: nan - accuracy: 0.5199\b\b\b\b\b\b\b\b\b\b\b\b\b\b\b\b\b\b\b\b\b\b\b\b\b\b\b\b\b\b\b\b\b\b\b\b\b\b\b\b\b\b\b\b\b\b\b\b\b\b\b\b\b\b\b\b\b\b\b\b\b\b\b\b\b\b\b\b\b\b\b\b\b\b\b\b\b\b\b\b\b\b\b\r 71/121 [================&gt;.............] - ETA: 1:25 - loss: nan - accuracy: 0.5203\b\b\b\b\b\b\b\b\b\b\b\b\b\b\b\b\b\b\b\b\b\b\b\b\b\b\b\b\b\b\b\b\b\b\b\b\b\b\b\b\b\b\b\b\b\b\b\b\b\b\b\b\b\b\b\b\b\b\b\b\b\b\b\b\b\b\b\b\b\b\b\b\b\b\b\b\b\b\b\b\b\b\b\r 72/121 [================&gt;.............] - ETA: 1:24 - loss: nan - accuracy: 0.5207\b\b\b\b\b\b\b\b\b\b\b\b\b\b\b\b\b\b\b\b\b\b\b\b\b\b\b\b\b\b\b\b\b\b\b\b\b\b\b\b\b\b\b\b\b\b\b\b\b\b\b\b\b\b\b\b\b\b\b\b\b\b\b\b\b\b\b\b\b\b\b\b\b\b\b\b\b\b\b\b\b\b\b\r 73/121 [=================&gt;............] - ETA: 1:22 - loss: nan - accuracy: 0.5211\b\b\b\b\b\b\b\b\b\b\b\b\b\b\b\b\b\b\b\b\b\b\b\b\b\b\b\b\b\b\b\b\b\b\b\b\b\b\b\b\b\b\b\b\b\b\b\b\b\b\b\b\b\b\b\b\b\b\b\b\b\b\b\b\b\b\b\b\b\b\b\b\b\b\b\b\b\b\b\b\b\b\b\r 74/121 [=================&gt;............] - ETA: 1:20 - loss: nan - accuracy: 0.5215\b\b\b\b\b\b\b\b\b\b\b\b\b\b\b\b\b\b\b\b\b\b\b\b\b\b\b\b\b\b\b\b\b\b\b\b\b\b\b\b\b\b\b\b\b\b\b\b\b\b\b\b\b\b\b\b\b\b\b\b\b\b\b\b\b\b\b\b\b\b\b\b\b\b\b\b\b\b\b\b\b\b\b\r 75/121 [=================&gt;............] - ETA: 1:18 - loss: nan - accuracy: 0.5220\b\b\b\b\b\b\b\b\b\b\b\b\b\b\b\b\b\b\b\b\b\b\b\b\b\b\b\b\b\b\b\b\b\b\b\b\b\b\b\b\b\b\b\b\b\b\b\b\b\b\b\b\b\b\b\b\b\b\b\b\b\b\b\b\b\b\b\b\b\b\b\b\b\b\b\b\b\b\b\b\b\b\b\r 76/121 [=================&gt;............] - ETA: 1:17 - loss: nan - accuracy: 0.5224\b\b\b\b\b\b\b\b\b\b\b\b\b\b\b\b\b\b\b\b\b\b\b\b\b\b\b\b\b\b\b\b\b\b\b\b\b\b\b\b\b\b\b\b\b\b\b\b\b\b\b\b\b\b\b\b\b\b\b\b\b\b\b\b\b\b\b\b\b\b\b\b\b\b\b\b\b\b\b\b\b\b\b\r 77/121 [==================&gt;...........] - ETA: 1:15 - loss: nan - accuracy: 0.5227\b\b\b\b\b\b\b\b\b\b\b\b\b\b\b\b\b\b\b\b\b\b\b\b\b\b\b\b\b\b\b\b\b\b\b\b\b\b\b\b\b\b\b\b\b\b\b\b\b\b\b\b\b\b\b\b\b\b\b\b\b\b\b\b\b\b\b\b\b\b\b\b\b\b\b\b\b\b\b\b\b\b\b\r 78/121 [==================&gt;...........] - ETA: 1:13 - loss: nan - accuracy: 0.5231\b\b\b\b\b\b\b\b\b\b\b\b\b\b\b\b\b\b\b\b\b\b\b\b\b\b\b\b\b\b\b\b\b\b\b\b\b\b\b\b\b\b\b\b\b\b\b\b\b\b\b\b\b\b\b\b\b\b\b\b\b\b\b\b\b\b\b\b\b\b\b\b\b\b\b\b\b\b\b\b\b\b\b\r 79/121 [==================&gt;...........] - ETA: 1:11 - loss: nan - accuracy: 0.5235\b\b\b\b\b\b\b\b\b\b\b\b\b\b\b\b\b\b\b\b\b\b\b\b\b\b\b\b\b\b\b\b\b\b\b\b\b\b\b\b\b\b\b\b\b\b\b\b\b\b\b\b\b\b\b\b\b\b\b\b\b\b\b\b\b\b\b\b\b\b\b\b\b\b\b\b\b\b\b\b\b\b\b\r 80/121 [==================&gt;...........] - ETA: 1:09 - loss: nan - accuracy: 0.5238\b\b\b\b\b\b\b\b\b\b\b\b\b\b\b\b\b\b\b\b\b\b\b\b\b\b\b\b\b\b\b\b\b\b\b\b\b\b\b\b\b\b\b\b\b\b\b\b\b\b\b\b\b\b\b\b\b\b\b\b\b\b\b\b\b\b\b\b\b\b\b\b\b\b\b\b\b\b\b\b\b\b\b\r 81/121 [===================&gt;..........] - ETA: 1:08 - loss: nan - accuracy: 0.5241\b\b\b\b\b\b\b\b\b\b\b\b\b\b\b\b\b\b\b\b\b\b\b\b\b\b\b\b\b\b\b\b\b\b\b\b\b\b\b\b\b\b\b\b\b\b\b\b\b\b\b\b\b\b\b\b\b\b\b\b\b\b\b\b\b\b\b\b\b\b\b\b\b\b\b\b\b\b\b\b\b\b\b\r 82/121 [===================&gt;..........] - ETA: 1:06 - loss: nan - accuracy: 0.5244\b\b\b\b\b\b\b\b\b\b\b\b\b\b\b\b\b\b\b\b\b\b\b\b\b\b\b\b\b\b\b\b\b\b\b\b\b\b\b\b\b\b\b\b\b\b\b\b\b\b\b\b\b\b\b\b\b\b\b\b\b\b\b\b\b\b\b\b\b\b\b\b\b\b\b\b\b\b\b\b\b\b\b\r 83/121 [===================&gt;..........] - ETA: 1:04 - loss: nan - accuracy: 0.5247\b\b\b\b\b\b\b\b\b\b\b\b\b\b\b\b\b\b\b\b\b\b\b\b\b\b\b\b\b\b\b\b\b\b\b\b\b\b\b\b\b\b\b\b\b\b\b\b\b\b\b\b\b\b\b\b\b\b\b\b\b\b\b\b\b\b\b\b\b\b\b\b\b\b\b\b\b\b\b\b\b\b\b\r 84/121 [===================&gt;..........] - ETA: 1:03 - loss: nan - accuracy: 0.5250\b\b\b\b\b\b\b\b\b\b\b\b\b\b\b\b\b\b\b\b\b\b\b\b\b\b\b\b\b\b\b\b\b\b\b\b\b\b\b\b\b\b\b\b\b\b\b\b\b\b\b\b\b\b\b\b\b\b\b\b\b\b\b\b\b\b\b\b\b\b\b\b\b\b\b\b\b\b\b\b\b\b\b\r 85/121 [====================&gt;.........] - ETA: 1:01 - loss: nan - accuracy: 0.5253\b\b\b\b\b\b\b\b\b\b\b\b\b\b\b\b\b\b\b\b\b\b\b\b\b\b\b\b\b\b\b\b\b\b\b\b\b\b\b\b\b\b\b\b\b\b\b\b\b\b\b\b\b\b\b\b\b\b\b\b\b\b\b\b\b\b\b\b\b\b\b\b\b\b\b\b\b\b\b\b\b\b\b\r 86/121 [====================&gt;.........] - ETA: 59s - loss: nan - accuracy: 0.5256 \b\b\b\b\b\b\b\b\b\b\b\b\b\b\b\b\b\b\b\b\b\b\b\b\b\b\b\b\b\b\b\b\b\b\b\b\b\b\b\b\b\b\b\b\b\b\b\b\b\b\b\b\b\b\b\b\b\b\b\b\b\b\b\b\b\b\b\b\b\b\b\b\b\b\b\b\b\b\b\b\b\b\r 87/121 [====================&gt;.........] - ETA: 57s - loss: nan - accuracy: 0.5260\b\b\b\b\b\b\b\b\b\b\b\b\b\b\b\b\b\b\b\b\b\b\b\b\b\b\b\b\b\b\b\b\b\b\b\b\b\b\b\b\b\b\b\b\b\b\b\b\b\b\b\b\b\b\b\b\b\b\b\b\b\b\b\b\b\b\b\b\b\b\b\b\b\b\b\b\b\b\b\b\b\b\r 88/121 [====================&gt;.........] - ETA: 56s - loss: nan - accuracy: 0.5263\b\b\b\b\b\b\b\b\b\b\b\b\b\b\b\b\b\b\b\b\b\b\b\b\b\b\b\b\b\b\b\b\b\b\b\b\b\b\b\b\b\b\b\b\b\b\b\b\b\b\b\b\b\b\b\b\b\b\b\b\b\b\b\b\b\b\b\b\b\b\b\b\b\b\b\b\b\b\b\b\b\b\r 89/121 [=====================&gt;........] - ETA: 54s - loss: nan - accuracy: 0.5266\b\b\b\b\b\b\b\b\b\b\b\b\b\b\b\b\b\b\b\b\b\b\b\b\b\b\b\b\b\b\b\b\b\b\b\b\b\b\b\b\b\b\b\b\b\b\b\b\b\b\b\b\b\b\b\b\b\b\b\b\b\b\b\b\b\b\b\b\b\b\b\b\b\b\b\b\b\b\b\b\b\b\r 90/121 [=====================&gt;........] - ETA: 52s - loss: nan - accuracy: 0.5269\b\b\b\b\b\b\b\b\b\b\b\b\b\b\b\b\b\b\b\b\b\b\b\b\b\b\b\b\b\b\b\b\b\b\b\b\b\b\b\b\b\b\b\b\b\b\b\b\b\b\b\b\b\b\b\b\b\b\b\b\b\b\b\b\b\b\b\b\b\b\b\b\b\b\b\b\b\b\b\b\b\b\r 91/121 [=====================&gt;........] - ETA: 50s - loss: nan - accuracy: 0.5273\b\b\b\b\b\b\b\b\b\b\b\b\b\b\b\b\b\b\b\b\b\b\b\b\b\b\b\b\b\b\b\b\b\b\b\b\b\b\b\b\b\b\b\b\b\b\b\b\b\b\b\b\b\b\b\b\b\b\b\b\b\b\b\b\b\b\b\b\b\b\b\b\b\b\b\b\b\b\b\b\b\b\r 92/121 [=====================&gt;........] - ETA: 49s - loss: nan - accuracy: 0.5275\b\b\b\b\b\b\b\b\b\b\b\b\b\b\b\b\b\b\b\b\b\b\b\b\b\b\b\b\b\b\b\b\b\b\b\b\b\b\b\b\b\b\b\b\b\b\b\b\b\b\b\b\b\b\b\b\b\b\b\b\b\b\b\b\b\b\b\b\b\b\b\b\b\b\b\b\b\b\b\b\b\b\r 93/121 [======================&gt;.......] - ETA: 47s - loss: nan - accuracy: 0.5278\b\b\b\b\b\b\b\b\b\b\b\b\b\b\b\b\b\b\b\b\b\b\b\b\b\b\b\b\b\b\b\b\b\b\b\b\b\b\b\b\b\b\b\b\b\b\b\b\b\b\b\b\b\b\b\b\b\b\b\b\b\b\b\b\b\b\b\b\b\b\b\b\b\b\b\b\b\b\b\b\b\b\r 94/121 [======================&gt;.......] - ETA: 45s - loss: nan - accuracy: 0.5281\b\b\b\b\b\b\b\b\b\b\b\b\b\b\b\b\b\b\b\b\b\b\b\b\b\b\b\b\b\b\b\b\b\b\b\b\b\b\b\b\b\b\b\b\b\b\b\b\b\b\b\b\b\b\b\b\b\b\b\b\b\b\b\b\b\b\b\b\b\b\b\b\b\b\b\b\b\b\b\b\b\b\r 95/121 [======================&gt;.......] - ETA: 44s - loss: nan - accuracy: 0.5284\b\b\b\b\b\b\b\b\b\b\b\b\b\b\b\b\b\b\b\b\b\b\b\b\b\b\b\b\b\b\b\b\b\b\b\b\b\b\b\b\b\b\b\b\b\b\b\b\b\b\b\b\b\b\b\b\b\b\b\b\b\b\b\b\b\b\b\b\b\b\b\b\b\b\b\b\b\b\b\b\b\b\r 96/121 [======================&gt;.......] - ETA: 42s - loss: nan - accuracy: 0.5287\b\b\b\b\b\b\b\b\b\b\b\b\b\b\b\b\b\b\b\b\b\b\b\b\b\b\b\b\b\b\b\b\b\b\b\b\b\b\b\b\b\b\b\b\b\b\b\b\b\b\b\b\b\b\b\b\b\b\b\b\b\b\b\b\b\b\b\b\b\b\b\b\b\b\b\b\b\b\b\b\b\b\r 97/121 [=======================&gt;......] - ETA: 40s - loss: nan - accuracy: 0.5290\b\b\b\b\b\b\b\b\b\b\b\b\b\b\b\b\b\b\b\b\b\b\b\b\b\b\b\b\b\b\b\b\b\b\b\b\b\b\b\b\b\b\b\b\b\b\b\b\b\b\b\b\b\b\b\b\b\b\b\b\b\b\b\b\b\b\b\b\b\b\b\b\b\b\b\b\b\b\b\b\b\b\r 98/121 [=======================&gt;......] - ETA: 38s - loss: nan - accuracy: 0.5293\b\b\b\b\b\b\b\b\b\b\b\b\b\b\b\b\b\b\b\b\b\b\b\b\b\b\b\b\b\b\b\b\b\b\b\b\b\b\b\b\b\b\b\b\b\b\b\b\b\b\b\b\b\b\b\b\b\b\b\b\b\b\b\b\b\b\b\b\b\b\b\b\b\b\b\b\b\b\b\b\b\b\r 99/121 [=======================&gt;......] - ETA: 37s - loss: nan - accuracy: 0.5296\b\b\b\b\b\b\b\b\b\b\b\b\b\b\b\b\b\b\b\b\b\b\b\b\b\b\b\b\b\b\b\b\b\b\b\b\b\b\b\b\b\b\b\b\b\b\b\b\b\b\b\b\b\b\b\b\b\b\b\b\b\b\b\b\b\b\b\b\b\b\b\b\b\b\b\b\b\b\b\b\b\b\r100/121 [=======================&gt;......] - ETA: 35s - loss: nan - accuracy: 0.5298\b\b\b\b\b\b\b\b\b\b\b\b\b\b\b\b\b\b\b\b\b\b\b\b\b\b\b\b\b\b\b\b\b\b\b\b\b\b\b\b\b\b\b\b\b\b\b\b\b\b\b\b\b\b\b\b\b\b\b\b\b\b\b\b\b\b\b\b\b\b\b\b\b\b\b\b\b\b\b\b\b\b\r101/121 [========================&gt;.....] - ETA: 33s - loss: nan - accuracy: 0.5301\b\b\b\b\b\b\b\b\b\b\b\b\b\b\b\b\b\b\b\b\b\b\b\b\b\b\b\b\b\b\b\b\b\b\b\b\b\b\b\b\b\b\b\b\b\b\b\b\b\b\b\b\b\b\b\b\b\b\b\b\b\b\b\b\b\b\b\b\b\b\b\b\b\b\b\b\b\b\b\b\b\b\r102/121 [========================&gt;.....] - ETA: 32s - loss: nan - accuracy: 0.5304\b\b\b\b\b\b\b\b\b\b\b\b\b\b\b\b\b\b\b\b\b\b\b\b\b\b\b\b\b\b\b\b\b\b\b\b\b\b\b\b\b\b\b\b\b\b\b\b\b\b\b\b\b\b\b\b\b\b\b\b\b\b\b\b\b\b\b\b\b\b\b\b\b\b\b\b\b\b\b\b\b\b\r103/121 [========================&gt;.....] - ETA: 30s - loss: nan - accuracy: 0.5307\b\b\b\b\b\b\b\b\b\b\b\b\b\b\b\b\b\b\b\b\b\b\b\b\b\b\b\b\b\b\b\b\b\b\b\b\b\b\b\b\b\b\b\b\b\b\b\b\b\b\b\b\b\b\b\b\b\b\b\b\b\b\b\b\b\b\b\b\b\b\b\b\b\b\b\b\b\b\b\b\b\b\r104/121 [========================&gt;.....] - ETA: 28s - loss: nan - accuracy: 0.5310\b\b\b\b\b\b\b\b\b\b\b\b\b\b\b\b\b\b\b\b\b\b\b\b\b\b\b\b\b\b\b\b\b\b\b\b\b\b\b\b\b\b\b\b\b\b\b\b\b\b\b\b\b\b\b\b\b\b\b\b\b\b\b\b\b\b\b\b\b\b\b\b\b\b\b\b\b\b\b\b\b\b\r105/121 [=========================&gt;....] - ETA: 27s - loss: nan - accuracy: 0.5313\b\b\b\b\b\b\b\b\b\b\b\b\b\b\b\b\b\b\b\b\b\b\b\b\b\b\b\b\b\b\b\b\b\b\b\b\b\b\b\b\b\b\b\b\b\b\b\b\b\b\b\b\b\b\b\b\b\b\b\b\b\b\b\b\b\b\b\b\b\b\b\b\b\b\b\b\b\b\b\b\b\b\r106/121 [=========================&gt;....] - ETA: 25s - loss: nan - accuracy: 0.5315\b\b\b\b\b\b\b\b\b\b\b\b\b\b\b\b\b\b\b\b\b\b\b\b\b\b\b\b\b\b\b\b\b\b\b\b\b\b\b\b\b\b\b\b\b\b\b\b\b\b\b\b\b\b\b\b\b\b\b\b\b\b\b\b\b\b\b\b\b\b\b\b\b\b\b\b\b\b\b\b\b\b\r107/121 [=========================&gt;....] - ETA: 23s - loss: nan - accuracy: 0.5318\b\b\b\b\b\b\b\b\b\b\b\b\b\b\b\b\b\b\b\b\b\b\b\b\b\b\b\b\b\b\b\b\b\b\b\b\b\b\b\b\b\b\b\b\b\b\b\b\b\b\b\b\b\b\b\b\b\b\b\b\b\b\b\b\b\b\b\b\b\b\b\b\b\b\b\b\b\b\b\b\b\b\r108/121 [=========================&gt;....] - ETA: 27s - loss: nan - accuracy: 0.5321\b\b\b\b\b\b\b\b\b\b\b\b\b\b\b\b\b\b\b\b\b\b\b\b\b\b\b\b\b\b\b\b\b\b\b\b\b\b\b\b\b\b\b\b\b\b\b\b\b\b\b\b\b\b\b\b\b\b\b\b\b\b\b\b\b\b\b\b\b\b\b\b\b\b\b\b\b\b\b\b\b\b\r109/121 [==========================&gt;...] - ETA: 24s - loss: nan - accuracy: 0.5323\b\b\b\b\b\b\b\b\b\b\b\b\b\b\b\b\b\b\b\b\b\b\b\b\b\b\b\b\b\b\b\b\b\b\b\b\b\b\b\b\b\b\b\b\b\b\b\b\b\b\b\b\b\b\b\b\b\b\b\b\b\b\b\b\b\b\b\b\b\b\b\b\b\b\b\b\b\b\b\b\b\b\r110/121 [==========================&gt;...] - ETA: 22s - loss: nan - accuracy: 0.5326\b\b\b\b\b\b\b\b\b\b\b\b\b\b\b\b\b\b\b\b\b\b\b\b\b\b\b\b\b\b\b\b\b\b\b\b\b\b\b\b\b\b\b\b\b\b\b\b\b\b\b\b\b\b\b\b\b\b\b\b\b\b\b\b\b\b\b\b\b\b\b\b\b\b\b\b\b\b\b\b\b\b\r111/121 [==========================&gt;...] - ETA: 20s - loss: nan - accuracy: 0.5329\b\b\b\b\b\b\b\b\b\b\b\b\b\b\b\b\b\b\b\b\b\b\b\b\b\b\b\b\b\b\b\b\b\b\b\b\b\b\b\b\b\b\b\b\b\b\b\b\b\b\b\b\b\b\b\b\b\b\b\b\b\b\b\b\b\b\b\b\b\b\b\b\b\b\b\b\b\b\b\b\b\b\r112/121 [==========================&gt;...] - ETA: 18s - loss: nan - accuracy: 0.5331\b\b\b\b\b\b\b\b\b\b\b\b\b\b\b\b\b\b\b\b\b\b\b\b\b\b\b\b\b\b\b\b\b\b\b\b\b\b\b\b\b\b\b\b\b\b\b\b\b\b\b\b\b\b\b\b\b\b\b\b\b\b\b\b\b\b\b\b\b\b\b\b\b\b\b\b\b\b\b\b\b\b\r113/121 [===========================&gt;..] - ETA: 16s - loss: nan - accuracy: 0.5334\b\b\b\b\b\b\b\b\b\b\b\b\b\b\b\b\b\b\b\b\b\b\b\b\b\b\b\b\b\b\b\b\b\b\b\b\b\b\b\b\b\b\b\b\b\b\b\b\b\b\b\b\b\b\b\b\b\b\b\b\b\b\b\b\b\b\b\b\b\b\b\b\b\b\b\b\b\b\b\b\b\b\r114/121 [===========================&gt;..] - ETA: 14s - loss: nan - accuracy: 0.5337\b\b\b\b\b\b\b\b\b\b\b\b\b\b\b\b\b\b\b\b\b\b\b\b\b\b\b\b\b\b\b\b\b\b\b\b\b\b\b\b\b\b\b\b\b\b\b\b\b\b\b\b\b\b\b\b\b\b\b\b\b\b\b\b\b\b\b\b\b\b\b\b\b\b\b\b\b\b\b\b\b\b\r115/121 [===========================&gt;..] - ETA: 12s - loss: nan - accuracy: 0.5339\b\b\b\b\b\b\b\b\b\b\b\b\b\b\b\b\b\b\b\b\b\b\b\b\b\b\b\b\b\b\b\b\b\b\b\b\b\b\b\b\b\b\b\b\b\b\b\b\b\b\b\b\b\b\b\b\b\b\b\b\b\b\b\b\b\b\b\b\b\b\b\b\b\b\b\b\b\b\b\b\b\b\r116/121 [===========================&gt;..] - ETA: 10s - loss: nan - accuracy: 0.5342\b\b\b\b\b\b\b\b\b\b\b\b\b\b\b\b\b\b\b\b\b\b\b\b\b\b\b\b\b\b\b\b\b\b\b\b\b\b\b\b\b\b\b\b\b\b\b\b\b\b\b\b\b\b\b\b\b\b\b\b\b\b\b\b\b\b\b\b\b\b\b\b\b\b\b\b\b\b\b\b\b\b\r117/121 [============================&gt;.] - ETA: 8s - loss: nan - accuracy: 0.5344 \b\b\b\b\b\b\b\b\b\b\b\b\b\b\b\b\b\b\b\b\b\b\b\b\b\b\b\b\b\b\b\b\b\b\b\b\b\b\b\b\b\b\b\b\b\b\b\b\b\b\b\b\b\b\b\b\b\b\b\b\b\b\b\b\b\b\b\b\b\b\b\b\b\b\b\b\b\b\b\b\b\r118/121 [============================&gt;.] - ETA: 6s - loss: nan - accuracy: 0.5347\b\b\b\b\b\b\b\b\b\b\b\b\b\b\b\b\b\b\b\b\b\b\b\b\b\b\b\b\b\b\b\b\b\b\b\b\b\b\b\b\b\b\b\b\b\b\b\b\b\b\b\b\b\b\b\b\b\b\b\b\b\b\b\b\b\b\b\b\b\b\b\b\b\b\b\b\b\b\b\b\b\r119/121 [============================&gt;.] - ETA: 4s - loss: nan - accuracy: 0.5349\b\b\b\b\b\b\b\b\b\b\b\b\b\b\b\b\b\b\b\b\b\b\b\b\b\b\b\b\b\b\b\b\b\b\b\b\b\b\b\b\b\b\b\b\b\b\b\b\b\b\b\b\b\b\b\b\b\b\b\b\b\b\b\b\b\b\b\b\b\b\b\b\b\b\b\b\b\b\b\b\b\r120/121 [============================&gt;.] - ETA: 2s - loss: nan - accuracy: 0.5351\b\b\b\b\b\b\b\b\b\b\b\b\b\b\b\b\b\b\b\b\b\b\b\b\b\b\b\b\b\b\b\b\b\b\b\b\b\b\b\b\b\b\b\b\b\b\b\b\b\b\b\b\b\b\b\b\b\b\b\b\b\b\b\b\b\b\b\b\b\b\b\b\b\b\b\b\b\b\b\b\b\r121/121 [==============================] - ETA: 0s - loss: nan - accuracy: 0.5353\b\b\b\b\b\b\b\b\b\b\b\b\b\b\b\b\b\b\b\b\b\b\b\b\b\b\b\b\b\b\b\b\b\b\b\b\b\b\b\b\b\b\b\b\b\b\b\b\b\b\b\b\b\b\b\b\b\b\b\b\b\b\b\b\b\b\b\b\b\b\b\b\b\b\b\b\b\b\b\b\b\r121/121 [==============================] - 354s 3s/step - loss: nan - accuracy: 0.5356 - val_loss: 0.6644 - val_accuracy: 0.5833\nEpoch 2/15\n\r  1/121 [..............................] - ETA: 3:45 - loss: 0.6545 - accuracy: 0.6875\b\b\b\b\b\b\b\b\b\b\b\b\b\b\b\b\b\b\b\b\b\b\b\b\b\b\b\b\b\b\b\b\b\b\b\b\b\b\b\b\b\b\b\b\b\b\b\b\b\b\b\b\b\b\b\b\b\b\b\b\b\b\b\b\b\b\b\b\b\b\b\b\b\b\b\b\b\b\b\b\b\b\b\b\b\b\r  2/121 [..............................] - ETA: 3:01 - loss: 0.6519 - accuracy: 0.6875\b\b\b\b\b\b\b\b\b\b\b\b\b\b\b\b\b\b\b\b\b\b\b\b\b\b\b\b\b\b\b\b\b\b\b\b\b\b\b\b\b\b\b\b\b\b\b\b\b\b\b\b\b\b\b\b\b\b\b\b\b\b\b\b\b\b\b\b\b\b\b\b\b\b\b\b\b\b\b\b\b\b\b\b\b\b\r  3/121 [..............................] - ETA: 3:04 - loss: 0.6404 - accuracy: 0.6944\b\b\b\b\b\b\b\b\b\b\b\b\b\b\b\b\b\b\b\b\b\b\b\b\b\b\b\b\b\b\b\b\b\b\b\b\b\b\b\b\b\b\b\b\b\b\b\b\b\b\b\b\b\b\b\b\b\b\b\b\b\b\b\b\b\b\b\b\b\b\b\b\b\b\b\b\b\b\b\b\b\b\b\b\b\b\r  4/121 [..............................] - ETA: 3:26 - loss: 0.6887 - accuracy: 0.6966\b\b\b\b\b\b\b\b\b\b\b\b\b\b\b\b\b\b\b\b\b\b\b\b\b\b\b\b\b\b\b\b\b\b\b\b\b\b\b\b\b\b\b\b\b\b\b\b\b\b\b\b\b\b\b\b\b\b\b\b\b\b\b\b\b\b\b\b\b\b\b\b\b\b\b\b\b\b\b\b\b\b\b\b\b\b\r  5/121 [&gt;.............................] - ETA: 3:23 - loss: 0.7086 - accuracy: 0.6973\b\b\b\b\b\b\b\b\b\b\b\b\b\b\b\b\b\b\b\b\b\b\b\b\b\b\b\b\b\b\b\b\b\b\b\b\b\b\b\b\b\b\b\b\b\b\b\b\b\b\b\b\b\b\b\b\b\b\b\b\b\b\b\b\b\b\b\b\b\b\b\b\b\b\b\b\b\b\b\b\b\b\b\b\b\b\r  6/121 [&gt;.............................] - ETA: 3:15 - loss: 0.7172 - accuracy: 0.6974\b\b\b\b\b\b\b\b\b\b\b\b\b\b\b\b\b\b\b\b\b\b\b\b\b\b\b\b\b\b\b\b\b\b\b\b\b\b\b\b\b\b\b\b\b\b\b\b\b\b\b\b\b\b\b\b\b\b\b\b\b\b\b\b\b\b\b\b\b\b\b\b\b\b\b\b\b\b\b\b\b\b\b\b\b\b\r  7/121 [&gt;.............................] - ETA: 3:12 - loss: 0.7234 - accuracy: 0.6909\b\b\b\b\b\b\b\b\b\b\b\b\b\b\b\b\b\b\b\b\b\b\b\b\b\b\b\b\b\b\b\b\b\b\b\b\b\b\b\b\b\b\b\b\b\b\b\b\b\b\b\b\b\b\b\b\b\b\b\b\b\b\b\b\b\b\b\b\b\b\b\b\b\b\b\b\b\b\b\b\b\b\b\b\b\b\r  8/121 [&gt;.............................] - ETA: 3:08 - loss: 0.7254 - accuracy: 0.6856\b\b\b\b\b\b\b\b\b\b\b\b\b\b\b\b\b\b\b\b\b\b\b\b\b\b\b\b\b\b\b\b\b\b\b\b\b\b\b\b\b\b\b\b\b\b\b\b\b\b\b\b\b\b\b\b\b\b\b\b\b\b\b\b\b\b\b\b\b\b\b\b\b\b\b\b\b\b\b\b\b\b\b\b\b\b\r  9/121 [=&gt;............................] - ETA: 3:06 - loss: 0.7262 - accuracy: 0.6788\b\b\b\b\b\b\b\b\b\b\b\b\b\b\b\b\b\b\b\b\b\b\b\b\b\b\b\b\b\b\b\b\b\b\b\b\b\b\b\b\b\b\b\b\b\b\b\b\b\b\b\b\b\b\b\b\b\b\b\b\b\b\b\b\b\b\b\b\b\b\b\b\b\b\b\b\b\b\b\b\b\b\b\b\b\b\r 10/121 [=&gt;............................] - ETA: 3:07 - loss: 0.7260 - accuracy: 0.6728\b\b\b\b\b\b\b\b\b\b\b\b\b\b\b\b\b\b\b\b\b\b\b\b\b\b\b\b\b\b\b\b\b\b\b\b\b\b\b\b\b\b\b\b\b\b\b\b\b\b\b\b\b\b\b\b\b\b\b\b\b\b\b\b\b\b\b\b\b\b\b\b\b\b\b\b\b\b\b\b\b\b\b\b\b\b\r 11/121 [=&gt;............................] - ETA: 3:05 - loss: 0.7328 - accuracy: 0.6695\b\b\b\b\b\b\b\b\b\b\b\b\b\b\b\b\b\b\b\b\b\b\b\b\b\b\b\b\b\b\b\b\b\b\b\b\b\b\b\b\b\b\b\b\b\b\b\b\b\b\b\b\b\b\b\b\b\b\b\b\b\b\b\b\b\b\b\b\b\b\b\b\b\b\b\b\b\b\b\b\b\b\b\b\b\b\r 12/121 [=&gt;............................] - ETA: 3:04 - loss: 0.7368 - accuracy: 0.6667\b\b\b\b\b\b\b\b\b\b\b\b\b\b\b\b\b\b\b\b\b\b\b\b\b\b\b\b\b\b\b\b\b\b\b\b\b\b\b\b\b\b\b\b\b\b\b\b\b\b\b\b\b\b\b\b\b\b\b\b\b\b\b\b\b\b\b\b\b\b\b\b\b\b\b\b\b\b\b\b\b\b\b\b\b\b\r 13/121 [==&gt;...........................] - ETA: 3:00 - loss: 0.7391 - accuracy: 0.6642\b\b\b\b\b\b\b\b\b\b\b\b\b\b\b\b\b\b\b\b\b\b\b\b\b\b\b\b\b\b\b\b\b\b\b\b\b\b\b\b\b\b\b\b\b\b\b\b\b\b\b\b\b\b\b\b\b\b\b\b\b\b\b\b\b\b\b\b\b\b\b\b\b\b\b\b\b\b\b\b\b\b\b\b\b\b\r 14/121 [==&gt;...........................] - ETA: 2:58 - loss: 0.7401 - accuracy: 0.6633\b\b\b\b\b\b\b\b\b\b\b\b\b\b\b\b\b\b\b\b\b\b\b\b\b\b\b\b\b\b\b\b\b\b\b\b\b\b\b\b\b\b\b\b\b\b\b\b\b\b\b\b\b\b\b\b\b\b\b\b\b\b\b\b\b\b\b\b\b\b\b\b\b\b\b\b\b\b\b\b\b\b\b\b\b\b\r 15/121 [==&gt;...........................] - ETA: 2:55 - loss: 0.7407 - accuracy: 0.6627\b\b\b\b\b\b\b\b\b\b\b\b\b\b\b\b\b\b\b\b\b\b\b\b\b\b\b\b\b\b\b\b\b\b\b\b\b\b\b\b\b\b\b\b\b\b\b\b\b\b\b\b\b\b\b\b\b\b\b\b\b\b\b\b\b\b\b\b\b\b\b\b\b\b\b\b\b\b\b\b\b\b\b\b\b\b\r 16/121 [==&gt;...........................] - ETA: 2:53 - loss: 0.7412 - accuracy: 0.6621\b\b\b\b\b\b\b\b\b\b\b\b\b\b\b\b\b\b\b\b\b\b\b\b\b\b\b\b\b\b\b\b\b\b\b\b\b\b\b\b\b\b\b\b\b\b\b\b\b\b\b\b\b\b\b\b\b\b\b\b\b\b\b\b\b\b\b\b\b\b\b\b\b\b\b\b\b\b\b\b\b\b\b\b\b\b\r 17/121 [===&gt;..........................] - ETA: 2:52 - loss: 0.7448 - accuracy: 0.6612\b\b\b\b\b\b\b\b\b\b\b\b\b\b\b\b\b\b\b\b\b\b\b\b\b\b\b\b\b\b\b\b\b\b\b\b\b\b\b\b\b\b\b\b\b\b\b\b\b\b\b\b\b\b\b\b\b\b\b\b\b\b\b\b\b\b\b\b\b\b\b\b\b\b\b\b\b\b\b\b\b\b\b\b\b\b\r 18/121 [===&gt;..........................] - ETA: 2:49 - loss: 0.7477 - accuracy: 0.6599\b\b\b\b\b\b\b\b\b\b\b\b\b\b\b\b\b\b\b\b\b\b\b\b\b\b\b\b\b\b\b\b\b\b\b\b\b\b\b\b\b\b\b\b\b\b\b\b\b\b\b\b\b\b\b\b\b\b\b\b\b\b\b\b\b\b\b\b\b\b\b\b\b\b\b\b\b\b\b\b\b\b\b\b\b\b\r 19/121 [===&gt;..........................] - ETA: 2:48 - loss: 0.7499 - accuracy: 0.6586\b\b\b\b\b\b\b\b\b\b\b\b\b\b\b\b\b\b\b\b\b\b\b\b\b\b\b\b\b\b\b\b\b\b\b\b\b\b\b\b\b\b\b\b\b\b\b\b\b\b\b\b\b\b\b\b\b\b\b\b\b\b\b\b\b\b\b\b\b\b\b\b\b\b\b\b\b\b\b\b\b\b\b\b\b\b\r 20/121 [===&gt;..........................] - ETA: 2:46 - loss: 0.7514 - accuracy: 0.6579\b\b\b\b\b\b\b\b\b\b\b\b\b\b\b\b\b\b\b\b\b\b\b\b\b\b\b\b\b\b\b\b\b\b\b\b\b\b\b\b\b\b\b\b\b\b\b\b\b\b\b\b\b\b\b\b\b\b\b\b\b\b\b\b\b\b\b\b\b\b\b\b\b\b\b\b\b\b\b\b\b\b\b\b\b\b\r 21/121 [====&gt;.........................] - ETA: 2:47 - loss: 0.7524 - accuracy: 0.6572\b\b\b\b\b\b\b\b\b\b\b\b\b\b\b\b\b\b\b\b\b\b\b\b\b\b\b\b\b\b\b\b\b\b\b\b\b\b\b\b\b\b\b\b\b\b\b\b\b\b\b\b\b\b\b\b\b\b\b\b\b\b\b\b\b\b\b\b\b\b\b\b\b\b\b\b\b\b\b\b\b\b\b\b\b\b\r 22/121 [====&gt;.........................] - ETA: 2:44 - loss: 0.7530 - accuracy: 0.6563\b\b\b\b\b\b\b\b\b\b\b\b\b\b\b\b\b\b\b\b\b\b\b\b\b\b\b\b\b\b\b\b\b\b\b\b\b\b\b\b\b\b\b\b\b\b\b\b\b\b\b\b\b\b\b\b\b\b\b\b\b\b\b\b\b\b\b\b\b\b\b\b\b\b\b\b\b\b\b\b\b\b\b\b\b\b\r 23/121 [====&gt;.........................] - ETA: 2:42 - loss: 0.7534 - accuracy: 0.6555\b\b\b\b\b\b\b\b\b\b\b\b\b\b\b\b\b\b\b\b\b\b\b\b\b\b\b\b\b\b\b\b\b\b\b\b\b\b\b\b\b\b\b\b\b\b\b\b\b\b\b\b\b\b\b\b\b\b\b\b\b\b\b\b\b\b\b\b\b\b\b\b\b\b\b\b\b\b\b\b\b\b\b\b\b\b\r 24/121 [====&gt;.........................] - ETA: 2:40 - loss: 0.7535 - accuracy: 0.6546\b\b\b\b\b\b\b\b\b\b\b\b\b\b\b\b\b\b\b\b\b\b\b\b\b\b\b\b\b\b\b\b\b\b\b\b\b\b\b\b\b\b\b\b\b\b\b\b\b\b\b\b\b\b\b\b\b\b\b\b\b\b\b\b\b\b\b\b\b\b\b\b\b\b\b\b\b\b\b\b\b\b\b\b\b\b\r 25/121 [=====&gt;........................] - ETA: 2:38 - loss: 0.7533 - accuracy: 0.6540\b\b\b\b\b\b\b\b\b\b\b\b\b\b\b\b\b\b\b\b\b\b\b\b\b\b\b\b\b\b\b\b\b\b\b\b\b\b\b\b\b\b\b\b\b\b\b\b\b\b\b\b\b\b\b\b\b\b\b\b\b\b\b\b\b\b\b\b\b\b\b\b\b\b\b\b\b\b\b\b\b\b\b\b\b\b\r 26/121 [=====&gt;........................] - ETA: 2:37 - loss: 0.7532 - accuracy: 0.6533\b\b\b\b\b\b\b\b\b\b\b\b\b\b\b\b\b\b\b\b\b\b\b\b\b\b\b\b\b\b\b\b\b\b\b\b\b\b\b\b\b\b\b\b\b\b\b\b\b\b\b\b\b\b\b\b\b\b\b\b\b\b\b\b\b\b\b\b\b\b\b\b\b\b\b\b\b\b\b\b\b\b\b\b\b\b\r 27/121 [=====&gt;........................] - ETA: 2:35 - loss: 0.7529 - accuracy: 0.6526\b\b\b\b\b\b\b\b\b\b\b\b\b\b\b\b\b\b\b\b\b\b\b\b\b\b\b\b\b\b\b\b\b\b\b\b\b\b\b\b\b\b\b\b\b\b\b\b\b\b\b\b\b\b\b\b\b\b\b\b\b\b\b\b\b\b\b\b\b\b\b\b\b\b\b\b\b\b\b\b\b\b\b\b\b\b\r 28/121 [=====&gt;........................] - ETA: 2:35 - loss: 0.7525 - accuracy: 0.6520\b\b\b\b\b\b\b\b\b\b\b\b\b\b\b\b\b\b\b\b\b\b\b\b\b\b\b\b\b\b\b\b\b\b\b\b\b\b\b\b\b\b\b\b\b\b\b\b\b\b\b\b\b\b\b\b\b\b\b\b\b\b\b\b\b\b\b\b\b\b\b\b\b\b\b\b\b\b\b\b\b\b\b\b\b\b\r 29/121 [======&gt;.......................] - ETA: 2:33 - loss: 0.7519 - accuracy: 0.6514\b\b\b\b\b\b\b\b\b\b\b\b\b\b\b\b\b\b\b\b\b\b\b\b\b\b\b\b\b\b\b\b\b\b\b\b\b\b\b\b\b\b\b\b\b\b\b\b\b\b\b\b\b\b\b\b\b\b\b\b\b\b\b\b\b\b\b\b\b\b\b\b\b\b\b\b\b\b\b\b\b\b\b\b\b\b\r 30/121 [======&gt;.......................] - ETA: 2:27 - loss: 0.7513 - accuracy: 0.6509\b\b\b\b\b\b\b\b\b\b\b\b\b\b\b\b\b\b\b\b\b\b\b\b\b\b\b\b\b\b\b\b\b\b\b\b\b\b\b\b\b\b\b\b\b\b\b\b\b\b\b\b\b\b\b\b\b\b\b\b\b\b\b\b\b\b\b\b\b\b\b\b\b\b\b\b\b\b\b\b\b\b\b\b\b\b\r 31/121 [======&gt;.......................] - ETA: 2:26 - loss: 0.7505 - accuracy: 0.6505\b\b\b\b\b\b\b\b\b\b\b\b\b\b\b\b\b\b\b\b\b\b\b\b\b\b\b\b\b\b\b\b\b\b\b\b\b\b\b\b\b\b\b\b\b\b\b\b\b\b\b\b\b\b\b\b\b\b\b\b\b\b\b\b\b\b\b\b\b\b\b\b\b\b\b\b\b\b\b\b\b\b\b\b\b\b\r 32/121 [======&gt;.......................] - ETA: 2:24 - loss: 0.7497 - accuracy: 0.6500\b\b\b\b\b\b\b\b\b\b\b\b\b\b\b\b\b\b\b\b\b\b\b\b\b\b\b\b\b\b\b\b\b\b\b\b\b\b\b\b\b\b\b\b\b\b\b\b\b\b\b\b\b\b\b\b\b\b\b\b\b\b\b\b\b\b\b\b\b\b\b\b\b\b\b\b\b\b\b\b\b\b\b\b\b\b\r 33/121 [=======&gt;......................] - ETA: 2:23 - loss: 0.7488 - accuracy: 0.6497\b\b\b\b\b\b\b\b\b\b\b\b\b\b\b\b\b\b\b\b\b\b\b\b\b\b\b\b\b\b\b\b\b\b\b\b\b\b\b\b\b\b\b\b\b\b\b\b\b\b\b\b\b\b\b\b\b\b\b\b\b\b\b\b\b\b\b\b\b\b\b\b\b\b\b\b\b\b\b\b\b\b\b\b\b\b\r 34/121 [=======&gt;......................] - ETA: 2:23 - loss: 0.7480 - accuracy: 0.6493\b\b\b\b\b\b\b\b\b\b\b\b\b\b\b\b\b\b\b\b\b\b\b\b\b\b\b\b\b\b\b\b\b\b\b\b\b\b\b\b\b\b\b\b\b\b\b\b\b\b\b\b\b\b\b\b\b\b\b\b\b\b\b\b\b\b\b\b\b\b\b\b\b\b\b\b\b\b\b\b\b\b\b\b\b\b\r 35/121 [=======&gt;......................] - ETA: 2:21 - loss: 0.7472 - accuracy: 0.6489\b\b\b\b\b\b\b\b\b\b\b\b\b\b\b\b\b\b\b\b\b\b\b\b\b\b\b\b\b\b\b\b\b\b\b\b\b\b\b\b\b\b\b\b\b\b\b\b\b\b\b\b\b\b\b\b\b\b\b\b\b\b\b\b\b\b\b\b\b\b\b\b\b\b\b\b\b\b\b\b\b\b\b\b\b\b\r 36/121 [=======&gt;......................] - ETA: 2:19 - loss: 0.7463 - accuracy: 0.6486\b\b\b\b\b\b\b\b\b\b\b\b\b\b\b\b\b\b\b\b\b\b\b\b\b\b\b\b\b\b\b\b\b\b\b\b\b\b\b\b\b\b\b\b\b\b\b\b\b\b\b\b\b\b\b\b\b\b\b\b\b\b\b\b\b\b\b\b\b\b\b\b\b\b\b\b\b\b\b\b\b\b\b\b\b\b\r 37/121 [========&gt;.....................] - ETA: 2:18 - loss: 0.7455 - accuracy: 0.6482\b\b\b\b\b\b\b\b\b\b\b\b\b\b\b\b\b\b\b\b\b\b\b\b\b\b\b\b\b\b\b\b\b\b\b\b\b\b\b\b\b\b\b\b\b\b\b\b\b\b\b\b\b\b\b\b\b\b\b\b\b\b\b\b\b\b\b\b\b\b\b\b\b\b\b\b\b\b\b\b\b\b\b\b\b\b\r 38/121 [========&gt;.....................] - ETA: 2:17 - loss: 0.7448 - accuracy: 0.6477\b\b\b\b\b\b\b\b\b\b\b\b\b\b\b\b\b\b\b\b\b\b\b\b\b\b\b\b\b\b\b\b\b\b\b\b\b\b\b\b\b\b\b\b\b\b\b\b\b\b\b\b\b\b\b\b\b\b\b\b\b\b\b\b\b\b\b\b\b\b\b\b\b\b\b\b\b\b\b\b\b\b\b\b\b\b\r 39/121 [========&gt;.....................] - ETA: 2:15 - loss: 0.7442 - accuracy: 0.6473\b\b\b\b\b\b\b\b\b\b\b\b\b\b\b\b\b\b\b\b\b\b\b\b\b\b\b\b\b\b\b\b\b\b\b\b\b\b\b\b\b\b\b\b\b\b\b\b\b\b\b\b\b\b\b\b\b\b\b\b\b\b\b\b\b\b\b\b\b\b\b\b\b\b\b\b\b\b\b\b\b\b\b\b\b\b\r 40/121 [========&gt;.....................] - ETA: 2:13 - loss: 0.7435 - accuracy: 0.6469\b\b\b\b\b\b\b\b\b\b\b\b\b\b\b\b\b\b\b\b\b\b\b\b\b\b\b\b\b\b\b\b\b\b\b\b\b\b\b\b\b\b\b\b\b\b\b\b\b\b\b\b\b\b\b\b\b\b\b\b\b\b\b\b\b\b\b\b\b\b\b\b\b\b\b\b\b\b\b\b\b\b\b\b\b\b\r 41/121 [=========&gt;....................] - ETA: 2:12 - loss: 0.7427 - accuracy: 0.6465\b\b\b\b\b\b\b\b\b\b\b\b\b\b\b\b\b\b\b\b\b\b\b\b\b\b\b\b\b\b\b\b\b\b\b\b\b\b\b\b\b\b\b\b\b\b\b\b\b\b\b\b\b\b\b\b\b\b\b\b\b\b\b\b\b\b\b\b\b\b\b\b\b\b\b\b\b\b\b\b\b\b\b\b\b\b\r 42/121 [=========&gt;....................] - ETA: 2:11 - loss: 0.7421 - accuracy: 0.6462\b\b\b\b\b\b\b\b\b\b\b\b\b\b\b\b\b\b\b\b\b\b\b\b\b\b\b\b\b\b\b\b\b\b\b\b\b\b\b\b\b\b\b\b\b\b\b\b\b\b\b\b\b\b\b\b\b\b\b\b\b\b\b\b\b\b\b\b\b\b\b\b\b\b\b\b\b\b\b\b\b\b\b\b\b\b\r 43/121 [=========&gt;....................] - ETA: 2:10 - loss: 0.7416 - accuracy: 0.6459\b\b\b\b\b\b\b\b\b\b\b\b\b\b\b\b\b\b\b\b\b\b\b\b\b\b\b\b\b\b\b\b\b\b\b\b\b\b\b\b\b\b\b\b\b\b\b\b\b\b\b\b\b\b\b\b\b\b\b\b\b\b\b\b\b\b\b\b\b\b\b\b\b\b\b\b\b\b\b\b\b\b\b\b\b\b\r 44/121 [=========&gt;....................] - ETA: 2:08 - loss: 0.7409 - accuracy: 0.6457\b\b\b\b\b\b\b\b\b\b\b\b\b\b\b\b\b\b\b\b\b\b\b\b\b\b\b\b\b\b\b\b\b\b\b\b\b\b\b\b\b\b\b\b\b\b\b\b\b\b\b\b\b\b\b\b\b\b\b\b\b\b\b\b\b\b\b\b\b\b\b\b\b\b\b\b\b\b\b\b\b\b\b\b\b\b\r 45/121 [==========&gt;...................] - ETA: 2:07 - loss: 0.7403 - accuracy: 0.6456\b\b\b\b\b\b\b\b\b\b\b\b\b\b\b\b\b\b\b\b\b\b\b\b\b\b\b\b\b\b\b\b\b\b\b\b\b\b\b\b\b\b\b\b\b\b\b\b\b\b\b\b\b\b\b\b\b\b\b\b\b\b\b\b\b\b\b\b\b\b\b\b\b\b\b\b\b\b\b\b\b\b\b\b\b\b\r 46/121 [==========&gt;...................] - ETA: 2:05 - loss: 0.7397 - accuracy: 0.6454\b\b\b\b\b\b\b\b\b\b\b\b\b\b\b\b\b\b\b\b\b\b\b\b\b\b\b\b\b\b\b\b\b\b\b\b\b\b\b\b\b\b\b\b\b\b\b\b\b\b\b\b\b\b\b\b\b\b\b\b\b\b\b\b\b\b\b\b\b\b\b\b\b\b\b\b\b\b\b\b\b\b\b\b\b\b\r 47/121 [==========&gt;...................] - ETA: 2:04 - loss: 0.7390 - accuracy: 0.6451\b\b\b\b\b\b\b\b\b\b\b\b\b\b\b\b\b\b\b\b\b\b\b\b\b\b\b\b\b\b\b\b\b\b\b\b\b\b\b\b\b\b\b\b\b\b\b\b\b\b\b\b\b\b\b\b\b\b\b\b\b\b\b\b\b\b\b\b\b\b\b\b\b\b\b\b\b\b\b\b\b\b\b\b\b\b\r 48/121 [==========&gt;...................] - ETA: 2:02 - loss: 0.7385 - accuracy: 0.6447\b\b\b\b\b\b\b\b\b\b\b\b\b\b\b\b\b\b\b\b\b\b\b\b\b\b\b\b\b\b\b\b\b\b\b\b\b\b\b\b\b\b\b\b\b\b\b\b\b\b\b\b\b\b\b\b\b\b\b\b\b\b\b\b\b\b\b\b\b\b\b\b\b\b\b\b\b\b\b\b\b\b\b\b\b\b\r 49/121 [===========&gt;..................] - ETA: 2:00 - loss: 0.7379 - accuracy: 0.6444\b\b\b\b\b\b\b\b\b\b\b\b\b\b\b\b\b\b\b\b\b\b\b\b\b\b\b\b\b\b\b\b\b\b\b\b\b\b\b\b\b\b\b\b\b\b\b\b\b\b\b\b\b\b\b\b\b\b\b\b\b\b\b\b\b\b\b\b\b\b\b\b\b\b\b\b\b\b\b\b\b\b\b\b\b\b\r 50/121 [===========&gt;..................] - ETA: 1:58 - loss: 0.7373 - accuracy: 0.6440\b\b\b\b\b\b\b\b\b\b\b\b\b\b\b\b\b\b\b\b\b\b\b\b\b\b\b\b\b\b\b\b\b\b\b\b\b\b\b\b\b\b\b\b\b\b\b\b\b\b\b\b\b\b\b\b\b\b\b\b\b\b\b\b\b\b\b\b\b\b\b\b\b\b\b\b\b\b\b\b\b\b\b\b\b\b\r 51/121 [===========&gt;..................] - ETA: 1:57 - loss: 0.7366 - accuracy: 0.6437\b\b\b\b\b\b\b\b\b\b\b\b\b\b\b\b\b\b\b\b\b\b\b\b\b\b\b\b\b\b\b\b\b\b\b\b\b\b\b\b\b\b\b\b\b\b\b\b\b\b\b\b\b\b\b\b\b\b\b\b\b\b\b\b\b\b\b\b\b\b\b\b\b\b\b\b\b\b\b\b\b\b\b\b\b\b\r 52/121 [===========&gt;..................] - ETA: 1:56 - loss: 0.7364 - accuracy: 0.6435\b\b\b\b\b\b\b\b\b\b\b\b\b\b\b\b\b\b\b\b\b\b\b\b\b\b\b\b\b\b\b\b\b\b\b\b\b\b\b\b\b\b\b\b\b\b\b\b\b\b\b\b\b\b\b\b\b\b\b\b\b\b\b\b\b\b\b\b\b\b\b\b\b\b\b\b\b\b\b\b\b\b\b\b\b\b\r 53/121 [============&gt;.................] - ETA: 1:54 - loss: 0.7360 - accuracy: 0.6432\b\b\b\b\b\b\b\b\b\b\b\b\b\b\b\b\b\b\b\b\b\b\b\b\b\b\b\b\b\b\b\b\b\b\b\b\b\b\b\b\b\b\b\b\b\b\b\b\b\b\b\b\b\b\b\b\b\b\b\b\b\b\b\b\b\b\b\b\b\b\b\b\b\b\b\b\b\b\b\b\b\b\b\b\b\b\r 54/121 [============&gt;.................] - ETA: 1:53 - loss: 0.7357 - accuracy: 0.6430\b\b\b\b\b\b\b\b\b\b\b\b\b\b\b\b\b\b\b\b\b\b\b\b\b\b\b\b\b\b\b\b\b\b\b\b\b\b\b\b\b\b\b\b\b\b\b\b\b\b\b\b\b\b\b\b\b\b\b\b\b\b\b\b\b\b\b\b\b\b\b\b\b\b\b\b\b\b\b\b\b\b\b\b\b\b\r 55/121 [============&gt;.................] - ETA: 1:51 - loss: 0.7354 - accuracy: 0.6426\b\b\b\b\b\b\b\b\b\b\b\b\b\b\b\b\b\b\b\b\b\b\b\b\b\b\b\b\b\b\b\b\b\b\b\b\b\b\b\b\b\b\b\b\b\b\b\b\b\b\b\b\b\b\b\b\b\b\b\b\b\b\b\b\b\b\b\b\b\b\b\b\b\b\b\b\b\b\b\b\b\b\b\b\b\b\r 56/121 [============&gt;.................] - ETA: 1:49 - loss: 0.7351 - accuracy: 0.6423\b\b\b\b\b\b\b\b\b\b\b\b\b\b\b\b\b\b\b\b\b\b\b\b\b\b\b\b\b\b\b\b\b\b\b\b\b\b\b\b\b\b\b\b\b\b\b\b\b\b\b\b\b\b\b\b\b\b\b\b\b\b\b\b\b\b\b\b\b\b\b\b\b\b\b\b\b\b\b\b\b\b\b\b\b\b\r 57/121 [=============&gt;................] - ETA: 1:47 - loss: 0.7347 - accuracy: 0.6421\b\b\b\b\b\b\b\b\b\b\b\b\b\b\b\b\b\b\b\b\b\b\b\b\b\b\b\b\b\b\b\b\b\b\b\b\b\b\b\b\b\b\b\b\b\b\b\b\b\b\b\b\b\b\b\b\b\b\b\b\b\b\b\b\b\b\b\b\b\b\b\b\b\b\b\b\b\b\b\b\b\b\b\b\b\b\r 58/121 [=============&gt;................] - ETA: 1:46 - loss: 0.7344 - accuracy: 0.6418\b\b\b\b\b\b\b\b\b\b\b\b\b\b\b\b\b\b\b\b\b\b\b\b\b\b\b\b\b\b\b\b\b\b\b\b\b\b\b\b\b\b\b\b\b\b\b\b\b\b\b\b\b\b\b\b\b\b\b\b\b\b\b\b\b\b\b\b\b\b\b\b\b\b\b\b\b\b\b\b\b\b\b\b\b\b\r 59/121 [=============&gt;................] - ETA: 1:44 - loss: 0.7341 - accuracy: 0.6416\b\b\b\b\b\b\b\b\b\b\b\b\b\b\b\b\b\b\b\b\b\b\b\b\b\b\b\b\b\b\b\b\b\b\b\b\b\b\b\b\b\b\b\b\b\b\b\b\b\b\b\b\b\b\b\b\b\b\b\b\b\b\b\b\b\b\b\b\b\b\b\b\b\b\b\b\b\b\b\b\b\b\b\b\b\b\r 60/121 [=============&gt;................] - ETA: 1:43 - loss: 0.7338 - accuracy: 0.6414\b\b\b\b\b\b\b\b\b\b\b\b\b\b\b\b\b\b\b\b\b\b\b\b\b\b\b\b\b\b\b\b\b\b\b\b\b\b\b\b\b\b\b\b\b\b\b\b\b\b\b\b\b\b\b\b\b\b\b\b\b\b\b\b\b\b\b\b\b\b\b\b\b\b\b\b\b\b\b\b\b\b\b\b\b\b\r 61/121 [==============&gt;...............] - ETA: 1:41 - loss: 0.7335 - accuracy: 0.6412\b\b\b\b\b\b\b\b\b\b\b\b\b\b\b\b\b\b\b\b\b\b\b\b\b\b\b\b\b\b\b\b\b\b\b\b\b\b\b\b\b\b\b\b\b\b\b\b\b\b\b\b\b\b\b\b\b\b\b\b\b\b\b\b\b\b\b\b\b\b\b\b\b\b\b\b\b\b\b\b\b\b\b\b\b\b\r 62/121 [==============&gt;...............] - ETA: 1:40 - loss: 0.7332 - accuracy: 0.6410\b\b\b\b\b\b\b\b\b\b\b\b\b\b\b\b\b\b\b\b\b\b\b\b\b\b\b\b\b\b\b\b\b\b\b\b\b\b\b\b\b\b\b\b\b\b\b\b\b\b\b\b\b\b\b\b\b\b\b\b\b\b\b\b\b\b\b\b\b\b\b\b\b\b\b\b\b\b\b\b\b\b\b\b\b\b\r 63/121 [==============&gt;...............] - ETA: 1:38 - loss: 0.7328 - accuracy: 0.6407\b\b\b\b\b\b\b\b\b\b\b\b\b\b\b\b\b\b\b\b\b\b\b\b\b\b\b\b\b\b\b\b\b\b\b\b\b\b\b\b\b\b\b\b\b\b\b\b\b\b\b\b\b\b\b\b\b\b\b\b\b\b\b\b\b\b\b\b\b\b\b\b\b\b\b\b\b\b\b\b\b\b\b\b\b\b\r 64/121 [==============&gt;...............] - ETA: 1:36 - loss: 0.7325 - accuracy: 0.6406\b\b\b\b\b\b\b\b\b\b\b\b\b\b\b\b\b\b\b\b\b\b\b\b\b\b\b\b\b\b\b\b\b\b\b\b\b\b\b\b\b\b\b\b\b\b\b\b\b\b\b\b\b\b\b\b\b\b\b\b\b\b\b\b\b\b\b\b\b\b\b\b\b\b\b\b\b\b\b\b\b\b\b\b\b\b\r 65/121 [===============&gt;..............] - ETA: 1:35 - loss: 0.7322 - accuracy: 0.6403\b\b\b\b\b\b\b\b\b\b\b\b\b\b\b\b\b\b\b\b\b\b\b\b\b\b\b\b\b\b\b\b\b\b\b\b\b\b\b\b\b\b\b\b\b\b\b\b\b\b\b\b\b\b\b\b\b\b\b\b\b\b\b\b\b\b\b\b\b\b\b\b\b\b\b\b\b\b\b\b\b\b\b\b\b\b\r 66/121 [===============&gt;..............] - ETA: 1:33 - loss: 0.7318 - accuracy: 0.6402\b\b\b\b\b\b\b\b\b\b\b\b\b\b\b\b\b\b\b\b\b\b\b\b\b\b\b\b\b\b\b\b\b\b\b\b\b\b\b\b\b\b\b\b\b\b\b\b\b\b\b\b\b\b\b\b\b\b\b\b\b\b\b\b\b\b\b\b\b\b\b\b\b\b\b\b\b\b\b\b\b\b\b\b\b\b\r 67/121 [===============&gt;..............] - ETA: 1:32 - loss: 0.7315 - accuracy: 0.6400\b\b\b\b\b\b\b\b\b\b\b\b\b\b\b\b\b\b\b\b\b\b\b\b\b\b\b\b\b\b\b\b\b\b\b\b\b\b\b\b\b\b\b\b\b\b\b\b\b\b\b\b\b\b\b\b\b\b\b\b\b\b\b\b\b\b\b\b\b\b\b\b\b\b\b\b\b\b\b\b\b\b\b\b\b\b\r 68/121 [===============&gt;..............] - ETA: 1:30 - loss: 0.7312 - accuracy: 0.6398\b\b\b\b\b\b\b\b\b\b\b\b\b\b\b\b\b\b\b\b\b\b\b\b\b\b\b\b\b\b\b\b\b\b\b\b\b\b\b\b\b\b\b\b\b\b\b\b\b\b\b\b\b\b\b\b\b\b\b\b\b\b\b\b\b\b\b\b\b\b\b\b\b\b\b\b\b\b\b\b\b\b\b\b\b\b\r 69/121 [================&gt;.............] - ETA: 1:29 - loss: 0.7309 - accuracy: 0.6396\b\b\b\b\b\b\b\b\b\b\b\b\b\b\b\b\b\b\b\b\b\b\b\b\b\b\b\b\b\b\b\b\b\b\b\b\b\b\b\b\b\b\b\b\b\b\b\b\b\b\b\b\b\b\b\b\b\b\b\b\b\b\b\b\b\b\b\b\b\b\b\b\b\b\b\b\b\b\b\b\b\b\b\b\b\b\r 70/121 [================&gt;.............] - ETA: 1:28 - loss: 0.7305 - accuracy: 0.6395\b\b\b\b\b\b\b\b\b\b\b\b\b\b\b\b\b\b\b\b\b\b\b\b\b\b\b\b\b\b\b\b\b\b\b\b\b\b\b\b\b\b\b\b\b\b\b\b\b\b\b\b\b\b\b\b\b\b\b\b\b\b\b\b\b\b\b\b\b\b\b\b\b\b\b\b\b\b\b\b\b\b\b\b\b\b\r 71/121 [================&gt;.............] - ETA: 1:27 - loss: 0.7302 - accuracy: 0.6394\b\b\b\b\b\b\b\b\b\b\b\b\b\b\b\b\b\b\b\b\b\b\b\b\b\b\b\b\b\b\b\b\b\b\b\b\b\b\b\b\b\b\b\b\b\b\b\b\b\b\b\b\b\b\b\b\b\b\b\b\b\b\b\b\b\b\b\b\b\b\b\b\b\b\b\b\b\b\b\b\b\b\b\b\b\b\r 72/121 [================&gt;.............] - ETA: 1:25 - loss: 0.7298 - accuracy: 0.6393\b\b\b\b\b\b\b\b\b\b\b\b\b\b\b\b\b\b\b\b\b\b\b\b\b\b\b\b\b\b\b\b\b\b\b\b\b\b\b\b\b\b\b\b\b\b\b\b\b\b\b\b\b\b\b\b\b\b\b\b\b\b\b\b\b\b\b\b\b\b\b\b\b\b\b\b\b\b\b\b\b\b\b\b\b\b\r 73/121 [=================&gt;............] - ETA: 1:23 - loss: 0.7295 - accuracy: 0.6391\b\b\b\b\b\b\b\b\b\b\b\b\b\b\b\b\b\b\b\b\b\b\b\b\b\b\b\b\b\b\b\b\b\b\b\b\b\b\b\b\b\b\b\b\b\b\b\b\b\b\b\b\b\b\b\b\b\b\b\b\b\b\b\b\b\b\b\b\b\b\b\b\b\b\b\b\b\b\b\b\b\b\b\b\b\b\r 74/121 [=================&gt;............] - ETA: 1:22 - loss: 0.7292 - accuracy: 0.6389\b\b\b\b\b\b\b\b\b\b\b\b\b\b\b\b\b\b\b\b\b\b\b\b\b\b\b\b\b\b\b\b\b\b\b\b\b\b\b\b\b\b\b\b\b\b\b\b\b\b\b\b\b\b\b\b\b\b\b\b\b\b\b\b\b\b\b\b\b\b\b\b\b\b\b\b\b\b\b\b\b\b\b\b\b\b\r 75/121 [=================&gt;............] - ETA: 1:20 - loss: 0.7288 - accuracy: 0.6387\b\b\b\b\b\b\b\b\b\b\b\b\b\b\b\b\b\b\b\b\b\b\b\b\b\b\b\b\b\b\b\b\b\b\b\b\b\b\b\b\b\b\b\b\b\b\b\b\b\b\b\b\b\b\b\b\b\b\b\b\b\b\b\b\b\b\b\b\b\b\b\b\b\b\b\b\b\b\b\b\b\b\b\b\b\b\r 76/121 [=================&gt;............] - ETA: 1:19 - loss: 0.7285 - accuracy: 0.6386\b\b\b\b\b\b\b\b\b\b\b\b\b\b\b\b\b\b\b\b\b\b\b\b\b\b\b\b\b\b\b\b\b\b\b\b\b\b\b\b\b\b\b\b\b\b\b\b\b\b\b\b\b\b\b\b\b\b\b\b\b\b\b\b\b\b\b\b\b\b\b\b\b\b\b\b\b\b\b\b\b\b\b\b\b\b\r 77/121 [==================&gt;...........] - ETA: 1:17 - loss: 0.7281 - accuracy: 0.6384\b\b\b\b\b\b\b\b\b\b\b\b\b\b\b\b\b\b\b\b\b\b\b\b\b\b\b\b\b\b\b\b\b\b\b\b\b\b\b\b\b\b\b\b\b\b\b\b\b\b\b\b\b\b\b\b\b\b\b\b\b\b\b\b\b\b\b\b\b\b\b\b\b\b\b\b\b\b\b\b\b\b\b\b\b\b\r 78/121 [==================&gt;...........] - ETA: 1:15 - loss: 0.7277 - accuracy: 0.6383\b\b\b\b\b\b\b\b\b\b\b\b\b\b\b\b\b\b\b\b\b\b\b\b\b\b\b\b\b\b\b\b\b\b\b\b\b\b\b\b\b\b\b\b\b\b\b\b\b\b\b\b\b\b\b\b\b\b\b\b\b\b\b\b\b\b\b\b\b\b\b\b\b\b\b\b\b\b\b\b\b\b\b\b\b\b\r 79/121 [==================&gt;...........] - ETA: 1:14 - loss: 0.7274 - accuracy: 0.6381\b\b\b\b\b\b\b\b\b\b\b\b\b\b\b\b\b\b\b\b\b\b\b\b\b\b\b\b\b\b\b\b\b\b\b\b\b\b\b\b\b\b\b\b\b\b\b\b\b\b\b\b\b\b\b\b\b\b\b\b\b\b\b\b\b\b\b\b\b\b\b\b\b\b\b\b\b\b\b\b\b\b\b\b\b\b\r 80/121 [==================&gt;...........] - ETA: 1:12 - loss: 0.7270 - accuracy: 0.6380\b\b\b\b\b\b\b\b\b\b\b\b\b\b\b\b\b\b\b\b\b\b\b\b\b\b\b\b\b\b\b\b\b\b\b\b\b\b\b\b\b\b\b\b\b\b\b\b\b\b\b\b\b\b\b\b\b\b\b\b\b\b\b\b\b\b\b\b\b\b\b\b\b\b\b\b\b\b\b\b\b\b\b\b\b\b\r 81/121 [===================&gt;..........] - ETA: 1:10 - loss: 0.7266 - accuracy: 0.6378\b\b\b\b\b\b\b\b\b\b\b\b\b\b\b\b\b\b\b\b\b\b\b\b\b\b\b\b\b\b\b\b\b\b\b\b\b\b\b\b\b\b\b\b\b\b\b\b\b\b\b\b\b\b\b\b\b\b\b\b\b\b\b\b\b\b\b\b\b\b\b\b\b\b\b\b\b\b\b\b\b\b\b\b\b\b\r 82/121 [===================&gt;..........] - ETA: 1:08 - loss: 0.7262 - accuracy: 0.6376\b\b\b\b\b\b\b\b\b\b\b\b\b\b\b\b\b\b\b\b\b\b\b\b\b\b\b\b\b\b\b\b\b\b\b\b\b\b\b\b\b\b\b\b\b\b\b\b\b\b\b\b\b\b\b\b\b\b\b\b\b\b\b\b\b\b\b\b\b\b\b\b\b\b\b\b\b\b\b\b\b\b\b\b\b\b\r 83/121 [===================&gt;..........] - ETA: 1:06 - loss: 0.7259 - accuracy: 0.6375\b\b\b\b\b\b\b\b\b\b\b\b\b\b\b\b\b\b\b\b\b\b\b\b\b\b\b\b\b\b\b\b\b\b\b\b\b\b\b\b\b\b\b\b\b\b\b\b\b\b\b\b\b\b\b\b\b\b\b\b\b\b\b\b\b\b\b\b\b\b\b\b\b\b\b\b\b\b\b\b\b\b\b\b\b\b\r 84/121 [===================&gt;..........] - ETA: 1:05 - loss: 0.7255 - accuracy: 0.6374\b\b\b\b\b\b\b\b\b\b\b\b\b\b\b\b\b\b\b\b\b\b\b\b\b\b\b\b\b\b\b\b\b\b\b\b\b\b\b\b\b\b\b\b\b\b\b\b\b\b\b\b\b\b\b\b\b\b\b\b\b\b\b\b\b\b\b\b\b\b\b\b\b\b\b\b\b\b\b\b\b\b\b\b\b\b\r 85/121 [====================&gt;.........] - ETA: 1:03 - loss: 0.7251 - accuracy: 0.6373\b\b\b\b\b\b\b\b\b\b\b\b\b\b\b\b\b\b\b\b\b\b\b\b\b\b\b\b\b\b\b\b\b\b\b\b\b\b\b\b\b\b\b\b\b\b\b\b\b\b\b\b\b\b\b\b\b\b\b\b\b\b\b\b\b\b\b\b\b\b\b\b\b\b\b\b\b\b\b\b\b\b\b\b\b\b\r 86/121 [====================&gt;.........] - ETA: 1:01 - loss: 0.7247 - accuracy: 0.6371\b\b\b\b\b\b\b\b\b\b\b\b\b\b\b\b\b\b\b\b\b\b\b\b\b\b\b\b\b\b\b\b\b\b\b\b\b\b\b\b\b\b\b\b\b\b\b\b\b\b\b\b\b\b\b\b\b\b\b\b\b\b\b\b\b\b\b\b\b\b\b\b\b\b\b\b\b\b\b\b\b\b\b\b\b\b\r 87/121 [====================&gt;.........] - ETA: 59s - loss: 0.7243 - accuracy: 0.6370 \b\b\b\b\b\b\b\b\b\b\b\b\b\b\b\b\b\b\b\b\b\b\b\b\b\b\b\b\b\b\b\b\b\b\b\b\b\b\b\b\b\b\b\b\b\b\b\b\b\b\b\b\b\b\b\b\b\b\b\b\b\b\b\b\b\b\b\b\b\b\b\b\b\b\b\b\b\b\b\b\b\b\b\b\b\r 88/121 [====================&gt;.........] - ETA: 57s - loss: 0.7239 - accuracy: 0.6369\b\b\b\b\b\b\b\b\b\b\b\b\b\b\b\b\b\b\b\b\b\b\b\b\b\b\b\b\b\b\b\b\b\b\b\b\b\b\b\b\b\b\b\b\b\b\b\b\b\b\b\b\b\b\b\b\b\b\b\b\b\b\b\b\b\b\b\b\b\b\b\b\b\b\b\b\b\b\b\b\b\b\b\b\b\r 89/121 [=====================&gt;........] - ETA: 56s - loss: 0.7235 - accuracy: 0.6368\b\b\b\b\b\b\b\b\b\b\b\b\b\b\b\b\b\b\b\b\b\b\b\b\b\b\b\b\b\b\b\b\b\b\b\b\b\b\b\b\b\b\b\b\b\b\b\b\b\b\b\b\b\b\b\b\b\b\b\b\b\b\b\b\b\b\b\b\b\b\b\b\b\b\b\b\b\b\b\b\b\b\b\b\b\r 90/121 [=====================&gt;........] - ETA: 54s - loss: 0.7231 - accuracy: 0.6366\b\b\b\b\b\b\b\b\b\b\b\b\b\b\b\b\b\b\b\b\b\b\b\b\b\b\b\b\b\b\b\b\b\b\b\b\b\b\b\b\b\b\b\b\b\b\b\b\b\b\b\b\b\b\b\b\b\b\b\b\b\b\b\b\b\b\b\b\b\b\b\b\b\b\b\b\b\b\b\b\b\b\b\b\b\r 91/121 [=====================&gt;........] - ETA: 52s - loss: 0.7227 - accuracy: 0.6365\b\b\b\b\b\b\b\b\b\b\b\b\b\b\b\b\b\b\b\b\b\b\b\b\b\b\b\b\b\b\b\b\b\b\b\b\b\b\b\b\b\b\b\b\b\b\b\b\b\b\b\b\b\b\b\b\b\b\b\b\b\b\b\b\b\b\b\b\b\b\b\b\b\b\b\b\b\b\b\b\b\b\b\b\b\r 92/121 [=====================&gt;........] - ETA: 50s - loss: 0.7223 - accuracy: 0.6364\b\b\b\b\b\b\b\b\b\b\b\b\b\b\b\b\b\b\b\b\b\b\b\b\b\b\b\b\b\b\b\b\b\b\b\b\b\b\b\b\b\b\b\b\b\b\b\b\b\b\b\b\b\b\b\b\b\b\b\b\b\b\b\b\b\b\b\b\b\b\b\b\b\b\b\b\b\b\b\b\b\b\b\b\b\r 93/121 [======================&gt;.......] - ETA: 48s - loss: 0.7219 - accuracy: 0.6363\b\b\b\b\b\b\b\b\b\b\b\b\b\b\b\b\b\b\b\b\b\b\b\b\b\b\b\b\b\b\b\b\b\b\b\b\b\b\b\b\b\b\b\b\b\b\b\b\b\b\b\b\b\b\b\b\b\b\b\b\b\b\b\b\b\b\b\b\b\b\b\b\b\b\b\b\b\b\b\b\b\b\b\b\b\r 94/121 [======================&gt;.......] - ETA: 47s - loss: 0.7215 - accuracy: 0.6362\b\b\b\b\b\b\b\b\b\b\b\b\b\b\b\b\b\b\b\b\b\b\b\b\b\b\b\b\b\b\b\b\b\b\b\b\b\b\b\b\b\b\b\b\b\b\b\b\b\b\b\b\b\b\b\b\b\b\b\b\b\b\b\b\b\b\b\b\b\b\b\b\b\b\b\b\b\b\b\b\b\b\b\b\b\r 95/121 [======================&gt;.......] - ETA: 45s - loss: 0.7211 - accuracy: 0.6361\b\b\b\b\b\b\b\b\b\b\b\b\b\b\b\b\b\b\b\b\b\b\b\b\b\b\b\b\b\b\b\b\b\b\b\b\b\b\b\b\b\b\b\b\b\b\b\b\b\b\b\b\b\b\b\b\b\b\b\b\b\b\b\b\b\b\b\b\b\b\b\b\b\b\b\b\b\b\b\b\b\b\b\b\b\r 96/121 [======================&gt;.......] - ETA: 43s - loss: 0.7207 - accuracy: 0.6360\b\b\b\b\b\b\b\b\b\b\b\b\b\b\b\b\b\b\b\b\b\b\b\b\b\b\b\b\b\b\b\b\b\b\b\b\b\b\b\b\b\b\b\b\b\b\b\b\b\b\b\b\b\b\b\b\b\b\b\b\b\b\b\b\b\b\b\b\b\b\b\b\b\b\b\b\b\b\b\b\b\b\b\b\b\r 97/121 [=======================&gt;......] - ETA: 41s - loss: 0.7203 - accuracy: 0.6360\b\b\b\b\b\b\b\b\b\b\b\b\b\b\b\b\b\b\b\b\b\b\b\b\b\b\b\b\b\b\b\b\b\b\b\b\b\b\b\b\b\b\b\b\b\b\b\b\b\b\b\b\b\b\b\b\b\b\b\b\b\b\b\b\b\b\b\b\b\b\b\b\b\b\b\b\b\b\b\b\b\b\b\b\b\r 98/121 [=======================&gt;......] - ETA: 40s - loss: 0.7200 - accuracy: 0.6359\b\b\b\b\b\b\b\b\b\b\b\b\b\b\b\b\b\b\b\b\b\b\b\b\b\b\b\b\b\b\b\b\b\b\b\b\b\b\b\b\b\b\b\b\b\b\b\b\b\b\b\b\b\b\b\b\b\b\b\b\b\b\b\b\b\b\b\b\b\b\b\b\b\b\b\b\b\b\b\b\b\b\b\b\b\r 99/121 [=======================&gt;......] - ETA: 38s - loss: 0.7196 - accuracy: 0.6358\b\b\b\b\b\b\b\b\b\b\b\b\b\b\b\b\b\b\b\b\b\b\b\b\b\b\b\b\b\b\b\b\b\b\b\b\b\b\b\b\b\b\b\b\b\b\b\b\b\b\b\b\b\b\b\b\b\b\b\b\b\b\b\b\b\b\b\b\b\b\b\b\b\b\b\b\b\b\b\b\b\b\b\b\b\r100/121 [=======================&gt;......] - ETA: 36s - loss: 0.7193 - accuracy: 0.6356\b\b\b\b\b\b\b\b\b\b\b\b\b\b\b\b\b\b\b\b\b\b\b\b\b\b\b\b\b\b\b\b\b\b\b\b\b\b\b\b\b\b\b\b\b\b\b\b\b\b\b\b\b\b\b\b\b\b\b\b\b\b\b\b\b\b\b\b\b\b\b\b\b\b\b\b\b\b\b\b\b\b\b\b\b\r101/121 [========================&gt;.....] - ETA: 34s - loss: 0.7189 - accuracy: 0.6355\b\b\b\b\b\b\b\b\b\b\b\b\b\b\b\b\b\b\b\b\b\b\b\b\b\b\b\b\b\b\b\b\b\b\b\b\b\b\b\b\b\b\b\b\b\b\b\b\b\b\b\b\b\b\b\b\b\b\b\b\b\b\b\b\b\b\b\b\b\b\b\b\b\b\b\b\b\b\b\b\b\b\b\b\b\r102/121 [========================&gt;.....] - ETA: 33s - loss: 0.7186 - accuracy: 0.6354\b\b\b\b\b\b\b\b\b\b\b\b\b\b\b\b\b\b\b\b\b\b\b\b\b\b\b\b\b\b\b\b\b\b\b\b\b\b\b\b\b\b\b\b\b\b\b\b\b\b\b\b\b\b\b\b\b\b\b\b\b\b\b\b\b\b\b\b\b\b\b\b\b\b\b\b\b\b\b\b\b\b\b\b\b\r103/121 [========================&gt;.....] - ETA: 31s - loss: 0.7182 - accuracy: 0.6353\b\b\b\b\b\b\b\b\b\b\b\b\b\b\b\b\b\b\b\b\b\b\b\b\b\b\b\b\b\b\b\b\b\b\b\b\b\b\b\b\b\b\b\b\b\b\b\b\b\b\b\b\b\b\b\b\b\b\b\b\b\b\b\b\b\b\b\b\b\b\b\b\b\b\b\b\b\b\b\b\b\b\b\b\b\r104/121 [========================&gt;.....] - ETA: 29s - loss: 0.7180 - accuracy: 0.6352\b\b\b\b\b\b\b\b\b\b\b\b\b\b\b\b\b\b\b\b\b\b\b\b\b\b\b\b\b\b\b\b\b\b\b\b\b\b\b\b\b\b\b\b\b\b\b\b\b\b\b\b\b\b\b\b\b\b\b\b\b\b\b\b\b\b\b\b\b\b\b\b\b\b\b\b\b\b\b\b\b\b\b\b\b\r105/121 [=========================&gt;....] - ETA: 27s - loss: 0.7177 - accuracy: 0.6352\b\b\b\b\b\b\b\b\b\b\b\b\b\b\b\b\b\b\b\b\b\b\b\b\b\b\b\b\b\b\b\b\b\b\b\b\b\b\b\b\b\b\b\b\b\b\b\b\b\b\b\b\b\b\b\b\b\b\b\b\b\b\b\b\b\b\b\b\b\b\b\b\b\b\b\b\b\b\b\b\b\b\b\b\b\r106/121 [=========================&gt;....] - ETA: 26s - loss: 0.7175 - accuracy: 0.6351\b\b\b\b\b\b\b\b\b\b\b\b\b\b\b\b\b\b\b\b\b\b\b\b\b\b\b\b\b\b\b\b\b\b\b\b\b\b\b\b\b\b\b\b\b\b\b\b\b\b\b\b\b\b\b\b\b\b\b\b\b\b\b\b\b\b\b\b\b\b\b\b\b\b\b\b\b\b\b\b\b\b\b\b\b\r107/121 [=========================&gt;....] - ETA: 24s - loss: 0.7173 - accuracy: 0.6349\b\b\b\b\b\b\b\b\b\b\b\b\b\b\b\b\b\b\b\b\b\b\b\b\b\b\b\b\b\b\b\b\b\b\b\b\b\b\b\b\b\b\b\b\b\b\b\b\b\b\b\b\b\b\b\b\b\b\b\b\b\b\b\b\b\b\b\b\b\b\b\b\b\b\b\b\b\b\b\b\b\b\b\b\b\r108/121 [=========================&gt;....] - ETA: 22s - loss: 0.7172 - accuracy: 0.6348\b\b\b\b\b\b\b\b\b\b\b\b\b\b\b\b\b\b\b\b\b\b\b\b\b\b\b\b\b\b\b\b\b\b\b\b\b\b\b\b\b\b\b\b\b\b\b\b\b\b\b\b\b\b\b\b\b\b\b\b\b\b\b\b\b\b\b\b\b\b\b\b\b\b\b\b\b\b\b\b\b\b\b\b\b\r109/121 [==========================&gt;...] - ETA: 20s - loss: 0.7170 - accuracy: 0.6347\b\b\b\b\b\b\b\b\b\b\b\b\b\b\b\b\b\b\b\b\b\b\b\b\b\b\b\b\b\b\b\b\b\b\b\b\b\b\b\b\b\b\b\b\b\b\b\b\b\b\b\b\b\b\b\b\b\b\b\b\b\b\b\b\b\b\b\b\b\b\b\b\b\b\b\b\b\b\b\b\b\b\b\b\b\r110/121 [==========================&gt;...] - ETA: 19s - loss: 0.7169 - accuracy: 0.6347\b\b\b\b\b\b\b\b\b\b\b\b\b\b\b\b\b\b\b\b\b\b\b\b\b\b\b\b\b\b\b\b\b\b\b\b\b\b\b\b\b\b\b\b\b\b\b\b\b\b\b\b\b\b\b\b\b\b\b\b\b\b\b\b\b\b\b\b\b\b\b\b\b\b\b\b\b\b\b\b\b\b\b\b\b\r111/121 [==========================&gt;...] - ETA: 17s - loss: 0.7167 - accuracy: 0.6346\b\b\b\b\b\b\b\b\b\b\b\b\b\b\b\b\b\b\b\b\b\b\b\b\b\b\b\b\b\b\b\b\b\b\b\b\b\b\b\b\b\b\b\b\b\b\b\b\b\b\b\b\b\b\b\b\b\b\b\b\b\b\b\b\b\b\b\b\b\b\b\b\b\b\b\b\b\b\b\b\b\b\b\b\b\r112/121 [==========================&gt;...] - ETA: 15s - loss: 0.7166 - accuracy: 0.6345\b\b\b\b\b\b\b\b\b\b\b\b\b\b\b\b\b\b\b\b\b\b\b\b\b\b\b\b\b\b\b\b\b\b\b\b\b\b\b\b\b\b\b\b\b\b\b\b\b\b\b\b\b\b\b\b\b\b\b\b\b\b\b\b\b\b\b\b\b\b\b\b\b\b\b\b\b\b\b\b\b\b\b\b\b\r113/121 [===========================&gt;..] - ETA: 14s - loss: 0.7164 - accuracy: 0.6344\b\b\b\b\b\b\b\b\b\b\b\b\b\b\b\b\b\b\b\b\b\b\b\b\b\b\b\b\b\b\b\b\b\b\b\b\b\b\b\b\b\b\b\b\b\b\b\b\b\b\b\b\b\b\b\b\b\b\b\b\b\b\b\b\b\b\b\b\b\b\b\b\b\b\b\b\b\b\b\b\b\b\b\b\b\r114/121 [===========================&gt;..] - ETA: 12s - loss: 0.7162 - accuracy: 0.6343\b\b\b\b\b\b\b\b\b\b\b\b\b\b\b\b\b\b\b\b\b\b\b\b\b\b\b\b\b\b\b\b\b\b\b\b\b\b\b\b\b\b\b\b\b\b\b\b\b\b\b\b\b\b\b\b\b\b\b\b\b\b\b\b\b\b\b\b\b\b\b\b\b\b\b\b\b\b\b\b\b\b\b\b\b\r115/121 [===========================&gt;..] - ETA: 10s - loss: 0.7161 - accuracy: 0.6342\b\b\b\b\b\b\b\b\b\b\b\b\b\b\b\b\b\b\b\b\b\b\b\b\b\b\b\b\b\b\b\b\b\b\b\b\b\b\b\b\b\b\b\b\b\b\b\b\b\b\b\b\b\b\b\b\b\b\b\b\b\b\b\b\b\b\b\b\b\b\b\b\b\b\b\b\b\b\b\b\b\b\b\b\b\r116/121 [===========================&gt;..] - ETA: 8s - loss: 0.7159 - accuracy: 0.6341 \b\b\b\b\b\b\b\b\b\b\b\b\b\b\b\b\b\b\b\b\b\b\b\b\b\b\b\b\b\b\b\b\b\b\b\b\b\b\b\b\b\b\b\b\b\b\b\b\b\b\b\b\b\b\b\b\b\b\b\b\b\b\b\b\b\b\b\b\b\b\b\b\b\b\b\b\b\b\b\b\b\b\b\b\r117/121 [============================&gt;.] - ETA: 7s - loss: 0.7157 - accuracy: 0.6341\b\b\b\b\b\b\b\b\b\b\b\b\b\b\b\b\b\b\b\b\b\b\b\b\b\b\b\b\b\b\b\b\b\b\b\b\b\b\b\b\b\b\b\b\b\b\b\b\b\b\b\b\b\b\b\b\b\b\b\b\b\b\b\b\b\b\b\b\b\b\b\b\b\b\b\b\b\b\b\b\b\b\b\b\r118/121 [============================&gt;.] - ETA: 5s - loss: 0.7155 - accuracy: 0.6340\b\b\b\b\b\b\b\b\b\b\b\b\b\b\b\b\b\b\b\b\b\b\b\b\b\b\b\b\b\b\b\b\b\b\b\b\b\b\b\b\b\b\b\b\b\b\b\b\b\b\b\b\b\b\b\b\b\b\b\b\b\b\b\b\b\b\b\b\b\b\b\b\b\b\b\b\b\b\b\b\b\b\b\b\r119/121 [============================&gt;.] - ETA: 3s - loss: 0.7153 - accuracy: 0.6339\b\b\b\b\b\b\b\b\b\b\b\b\b\b\b\b\b\b\b\b\b\b\b\b\b\b\b\b\b\b\b\b\b\b\b\b\b\b\b\b\b\b\b\b\b\b\b\b\b\b\b\b\b\b\b\b\b\b\b\b\b\b\b\b\b\b\b\b\b\b\b\b\b\b\b\b\b\b\b\b\b\b\b\b\r120/121 [============================&gt;.] - ETA: 1s - loss: 0.7152 - accuracy: 0.6338\b\b\b\b\b\b\b\b\b\b\b\b\b\b\b\b\b\b\b\b\b\b\b\b\b\b\b\b\b\b\b\b\b\b\b\b\b\b\b\b\b\b\b\b\b\b\b\b\b\b\b\b\b\b\b\b\b\b\b\b\b\b\b\b\b\b\b\b\b\b\b\b\b\b\b\b\b\b\b\b\b\b\b\b\r121/121 [==============================] - ETA: 0s - loss: 0.7150 - accuracy: 0.6338\b\b\b\b\b\b\b\b\b\b\b\b\b\b\b\b\b\b\b\b\b\b\b\b\b\b\b\b\b\b\b\b\b\b\b\b\b\b\b\b\b\b\b\b\b\b\b\b\b\b\b\b\b\b\b\b\b\b\b\b\b\b\b\b\b\b\b\b\b\b\b\b\b\b\b\b\b\b\b\b\b\b\b\b\r121/121 [==============================] - 259s 2s/step - loss: 0.7148 - accuracy: 0.6337 - val_loss: 0.6855 - val_accuracy: 0.6000\n\n*** WARNING: skipped 247531 bytes of output ***\n\nEpoch 15/15\n\r  1/121 [..............................] - ETA: 3:59 - loss: 0.2432 - accuracy: 0.8750\b\b\b\b\b\b\b\b\b\b\b\b\b\b\b\b\b\b\b\b\b\b\b\b\b\b\b\b\b\b\b\b\b\b\b\b\b\b\b\b\b\b\b\b\b\b\b\b\b\b\b\b\b\b\b\b\b\b\b\b\b\b\b\b\b\b\b\b\b\b\b\b\b\b\b\b\b\b\b\b\b\b\b\b\b\b\r  2/121 [..............................] - ETA: 3:19 - loss: 0.2176 - accuracy: 0.8906\b\b\b\b\b\b\b\b\b\b\b\b\b\b\b\b\b\b\b\b\b\b\b\b\b\b\b\b\b\b\b\b\b\b\b\b\b\b\b\b\b\b\b\b\b\b\b\b\b\b\b\b\b\b\b\b\b\b\b\b\b\b\b\b\b\b\b\b\b\b\b\b\b\b\b\b\b\b\b\b\b\b\b\b\b\b\r  3/121 [..............................] - ETA: 3:36 - loss: 0.3228 - accuracy: 0.8854\b\b\b\b\b\b\b\b\b\b\b\b\b\b\b\b\b\b\b\b\b\b\b\b\b\b\b\b\b\b\b\b\b\b\b\b\b\b\b\b\b\b\b\b\b\b\b\b\b\b\b\b\b\b\b\b\b\b\b\b\b\b\b\b\b\b\b\b\b\b\b\b\b\b\b\b\b\b\b\b\b\b\b\b\b\b\r  4/121 [..............................] - ETA: 3:27 - loss: 0.3553 - accuracy: 0.8867\b\b\b\b\b\b\b\b\b\b\b\b\b\b\b\b\b\b\b\b\b\b\b\b\b\b\b\b\b\b\b\b\b\b\b\b\b\b\b\b\b\b\b\b\b\b\b\b\b\b\b\b\b\b\b\b\b\b\b\b\b\b\b\b\b\b\b\b\b\b\b\b\b\b\b\b\b\b\b\b\b\b\b\b\b\b\r  5/121 [&gt;.............................] - ETA: 3:19 - loss: nan - accuracy: 0.8819   \b\b\b\b\b\b\b\b\b\b\b\b\b\b\b\b\b\b\b\b\b\b\b\b\b\b\b\b\b\b\b\b\b\b\b\b\b\b\b\b\b\b\b\b\b\b\b\b\b\b\b\b\b\b\b\b\b\b\b\b\b\b\b\b\b\b\b\b\b\b\b\b\b\b\b\b\b\b\b\b\b\b\b\r  6/121 [&gt;.............................] - ETA: 3:13 - loss: nan - accuracy: 0.8825\b\b\b\b\b\b\b\b\b\b\b\b\b\b\b\b\b\b\b\b\b\b\b\b\b\b\b\b\b\b\b\b\b\b\b\b\b\b\b\b\b\b\b\b\b\b\b\b\b\b\b\b\b\b\b\b\b\b\b\b\b\b\b\b\b\b\b\b\b\b\b\b\b\b\b\b\b\b\b\b\b\b\b\r  7/121 [&gt;.............................] - ETA: 3:06 - loss: nan - accuracy: 0.8827\b\b\b\b\b\b\b\b\b\b\b\b\b\b\b\b\b\b\b\b\b\b\b\b\b\b\b\b\b\b\b\b\b\b\b\b\b\b\b\b\b\b\b\b\b\b\b\b\b\b\b\b\b\b\b\b\b\b\b\b\b\b\b\b\b\b\b\b\b\b\b\b\b\b\b\b\b\b\b\b\b\b\b\r  8/121 [&gt;.............................] - ETA: 3:10 - loss: nan - accuracy: 0.8807\b\b\b\b\b\b\b\b\b\b\b\b\b\b\b\b\b\b\b\b\b\b\b\b\b\b\b\b\b\b\b\b\b\b\b\b\b\b\b\b\b\b\b\b\b\b\b\b\b\b\b\b\b\b\b\b\b\b\b\b\b\b\b\b\b\b\b\b\b\b\b\b\b\b\b\b\b\b\b\b\b\b\b\r  9/121 [=&gt;............................] - ETA: 3:07 - loss: nan - accuracy: 0.8809\b\b\b\b\b\b\b\b\b\b\b\b\b\b\b\b\b\b\b\b\b\b\b\b\b\b\b\b\b\b\b\b\b\b\b\b\b\b\b\b\b\b\b\b\b\b\b\b\b\b\b\b\b\b\b\b\b\b\b\b\b\b\b\b\b\b\b\b\b\b\b\b\b\b\b\b\b\b\b\b\b\b\b\r 10/121 [=&gt;............................] - ETA: 3:10 - loss: nan - accuracy: 0.8803\b\b\b\b\b\b\b\b\b\b\b\b\b\b\b\b\b\b\b\b\b\b\b\b\b\b\b\b\b\b\b\b\b\b\b\b\b\b\b\b\b\b\b\b\b\b\b\b\b\b\b\b\b\b\b\b\b\b\b\b\b\b\b\b\b\b\b\b\b\b\b\b\b\b\b\b\b\b\b\b\b\b\b\r 11/121 [=&gt;............................] - ETA: 3:07 - loss: nan - accuracy: 0.8803\b\b\b\b\b\b\b\b\b\b\b\b\b\b\b\b\b\b\b\b\b\b\b\b\b\b\b\b\b\b\b\b\b\b\b\b\b\b\b\b\b\b\b\b\b\b\b\b\b\b\b\b\b\b\b\b\b\b\b\b\b\b\b\b\b\b\b\b\b\b\b\b\b\b\b\b\b\b\b\b\b\b\b\r 12/121 [=&gt;............................] - ETA: 3:03 - loss: nan - accuracy: 0.8803\b\b\b\b\b\b\b\b\b\b\b\b\b\b\b\b\b\b\b\b\b\b\b\b\b\b\b\b\b\b\b\b\b\b\b\b\b\b\b\b\b\b\b\b\b\b\b\b\b\b\b\b\b\b\b\b\b\b\b\b\b\b\b\b\b\b\b\b\b\b\b\b\b\b\b\b\b\b\b\b\b\b\b\r 13/121 [==&gt;...........................] - ETA: 2:59 - loss: nan - accuracy: 0.8788\b\b\b\b\b\b\b\b\b\b\b\b\b\b\b\b\b\b\b\b\b\b\b\b\b\b\b\b\b\b\b\b\b\b\b\b\b\b\b\b\b\b\b\b\b\b\b\b\b\b\b\b\b\b\b\b\b\b\b\b\b\b\b\b\b\b\b\b\b\b\b\b\b\b\b\b\b\b\b\b\b\b\b\r 14/121 [==&gt;...........................] - ETA: 2:56 - loss: nan - accuracy: 0.8769\b\b\b\b\b\b\b\b\b\b\b\b\b\b\b\b\b\b\b\b\b\b\b\b\b\b\b\b\b\b\b\b\b\b\b\b\b\b\b\b\b\b\b\b\b\b\b\b\b\b\b\b\b\b\b\b\b\b\b\b\b\b\b\b\b\b\b\b\b\b\b\b\b\b\b\b\b\b\b\b\b\b\b\r 15/121 [==&gt;...........................] - ETA: 2:46 - loss: nan - accuracy: 0.8755\b\b\b\b\b\b\b\b\b\b\b\b\b\b\b\b\b\b\b\b\b\b\b\b\b\b\b\b\b\b\b\b\b\b\b\b\b\b\b\b\b\b\b\b\b\b\b\b\b\b\b\b\b\b\b\b\b\b\b\b\b\b\b\b\b\b\b\b\b\b\b\b\b\b\b\b\b\b\b\b\b\b\b\r 16/121 [==&gt;...........................] - ETA: 2:46 - loss: nan - accuracy: 0.8739\b\b\b\b\b\b\b\b\b\b\b\b\b\b\b\b\b\b\b\b\b\b\b\b\b\b\b\b\b\b\b\b\b\b\b\b\b\b\b\b\b\b\b\b\b\b\b\b\b\b\b\b\b\b\b\b\b\b\b\b\b\b\b\b\b\b\b\b\b\b\b\b\b\b\b\b\b\b\b\b\b\b\b\r 17/121 [===&gt;..........................] - ETA: 2:44 - loss: nan - accuracy: 0.8729\b\b\b\b\b\b\b\b\b\b\b\b\b\b\b\b\b\b\b\b\b\b\b\b\b\b\b\b\b\b\b\b\b\b\b\b\b\b\b\b\b\b\b\b\b\b\b\b\b\b\b\b\b\b\b\b\b\b\b\b\b\b\b\b\b\b\b\b\b\b\b\b\b\b\b\b\b\b\b\b\b\b\b\r 18/121 [===&gt;..........................] - ETA: 2:44 - loss: nan - accuracy: 0.8724\b\b\b\b\b\b\b\b\b\b\b\b\b\b\b\b\b\b\b\b\b\b\b\b\b\b\b\b\b\b\b\b\b\b\b\b\b\b\b\b\b\b\b\b\b\b\b\b\b\b\b\b\b\b\b\b\b\b\b\b\b\b\b\b\b\b\b\b\b\b\b\b\b\b\b\b\b\b\b\b\b\b\b\r 19/121 [===&gt;..........................] - ETA: 2:42 - loss: nan - accuracy: 0.8721\b\b\b\b\b\b\b\b\b\b\b\b\b\b\b\b\b\b\b\b\b\b\b\b\b\b\b\b\b\b\b\b\b\b\b\b\b\b\b\b\b\b\b\b\b\b\b\b\b\b\b\b\b\b\b\b\b\b\b\b\b\b\b\b\b\b\b\b\b\b\b\b\b\b\b\b\b\b\b\b\b\b\b\r 20/121 [===&gt;..........................] - ETA: 2:40 - loss: nan - accuracy: 0.8717\b\b\b\b\b\b\b\b\b\b\b\b\b\b\b\b\b\b\b\b\b\b\b\b\b\b\b\b\b\b\b\b\b\b\b\b\b\b\b\b\b\b\b\b\b\b\b\b\b\b\b\b\b\b\b\b\b\b\b\b\b\b\b\b\b\b\b\b\b\b\b\b\b\b\b\b\b\b\b\b\b\b\b\r 21/121 [====&gt;.........................] - ETA: 2:39 - loss: nan - accuracy: 0.8715\b\b\b\b\b\b\b\b\b\b\b\b\b\b\b\b\b\b\b\b\b\b\b\b\b\b\b\b\b\b\b\b\b\b\b\b\b\b\b\b\b\b\b\b\b\b\b\b\b\b\b\b\b\b\b\b\b\b\b\b\b\b\b\b\b\b\b\b\b\b\b\b\b\b\b\b\b\b\b\b\b\b\b\r 22/121 [====&gt;.........................] - ETA: 2:36 - loss: nan - accuracy: 0.8715\b\b\b\b\b\b\b\b\b\b\b\b\b\b\b\b\b\b\b\b\b\b\b\b\b\b\b\b\b\b\b\b\b\b\b\b\b\b\b\b\b\b\b\b\b\b\b\b\b\b\b\b\b\b\b\b\b\b\b\b\b\b\b\b\b\b\b\b\b\b\b\b\b\b\b\b\b\b\b\b\b\b\b\r 23/121 [====&gt;.........................] - ETA: 2:35 - loss: nan - accuracy: 0.8713\b\b\b\b\b\b\b\b\b\b\b\b\b\b\b\b\b\b\b\b\b\b\b\b\b\b\b\b\b\b\b\b\b\b\b\b\b\b\b\b\b\b\b\b\b\b\b\b\b\b\b\b\b\b\b\b\b\b\b\b\b\b\b\b\b\b\b\b\b\b\b\b\b\b\b\b\b\b\b\b\b\b\b\r 24/121 [====&gt;.........................] - ETA: 2:34 - loss: nan - accuracy: 0.8711\b\b\b\b\b\b\b\b\b\b\b\b\b\b\b\b\b\b\b\b\b\b\b\b\b\b\b\b\b\b\b\b\b\b\b\b\b\b\b\b\b\b\b\b\b\b\b\b\b\b\b\b\b\b\b\b\b\b\b\b\b\b\b\b\b\b\b\b\b\b\b\b\b\b\b\b\b\b\b\b\b\b\b\r 25/121 [=====&gt;........................] - ETA: 2:32 - loss: nan - accuracy: 0.8711\b\b\b\b\b\b\b\b\b\b\b\b\b\b\b\b\b\b\b\b\b\b\b\b\b\b\b\b\b\b\b\b\b\b\b\b\b\b\b\b\b\b\b\b\b\b\b\b\b\b\b\b\b\b\b\b\b\b\b\b\b\b\b\b\b\b\b\b\b\b\b\b\b\b\b\b\b\b\b\b\b\b\b\r 26/121 [=====&gt;........................] - ETA: 2:31 - loss: nan - accuracy: 0.8711\b\b\b\b\b\b\b\b\b\b\b\b\b\b\b\b\b\b\b\b\b\b\b\b\b\b\b\b\b\b\b\b\b\b\b\b\b\b\b\b\b\b\b\b\b\b\b\b\b\b\b\b\b\b\b\b\b\b\b\b\b\b\b\b\b\b\b\b\b\b\b\b\b\b\b\b\b\b\b\b\b\b\b\r 27/121 [=====&gt;........................] - ETA: 2:30 - loss: nan - accuracy: 0.8706\b\b\b\b\b\b\b\b\b\b\b\b\b\b\b\b\b\b\b\b\b\b\b\b\b\b\b\b\b\b\b\b\b\b\b\b\b\b\b\b\b\b\b\b\b\b\b\b\b\b\b\b\b\b\b\b\b\b\b\b\b\b\b\b\b\b\b\b\b\b\b\b\b\b\b\b\b\b\b\b\b\b\b\r 28/121 [=====&gt;........................] - ETA: 2:28 - loss: nan - accuracy: 0.8703\b\b\b\b\b\b\b\b\b\b\b\b\b\b\b\b\b\b\b\b\b\b\b\b\b\b\b\b\b\b\b\b\b\b\b\b\b\b\b\b\b\b\b\b\b\b\b\b\b\b\b\b\b\b\b\b\b\b\b\b\b\b\b\b\b\b\b\b\b\b\b\b\b\b\b\b\b\b\b\b\b\b\b\r 29/121 [======&gt;.......................] - ETA: 2:26 - loss: nan - accuracy: 0.8697\b\b\b\b\b\b\b\b\b\b\b\b\b\b\b\b\b\b\b\b\b\b\b\b\b\b\b\b\b\b\b\b\b\b\b\b\b\b\b\b\b\b\b\b\b\b\b\b\b\b\b\b\b\b\b\b\b\b\b\b\b\b\b\b\b\b\b\b\b\b\b\b\b\b\b\b\b\b\b\b\b\b\b\r 30/121 [======&gt;.......................] - ETA: 2:24 - loss: nan - accuracy: 0.8693\b\b\b\b\b\b\b\b\b\b\b\b\b\b\b\b\b\b\b\b\b\b\b\b\b\b\b\b\b\b\b\b\b\b\b\b\b\b\b\b\b\b\b\b\b\b\b\b\b\b\b\b\b\b\b\b\b\b\b\b\b\b\b\b\b\b\b\b\b\b\b\b\b\b\b\b\b\b\b\b\b\b\b\r 31/121 [======&gt;.......................] - ETA: 2:22 - loss: nan - accuracy: 0.8691\b\b\b\b\b\b\b\b\b\b\b\b\b\b\b\b\b\b\b\b\b\b\b\b\b\b\b\b\b\b\b\b\b\b\b\b\b\b\b\b\b\b\b\b\b\b\b\b\b\b\b\b\b\b\b\b\b\b\b\b\b\b\b\b\b\b\b\b\b\b\b\b\b\b\b\b\b\b\b\b\b\b\b\r 32/121 [======&gt;.......................] - ETA: 2:20 - loss: nan - accuracy: 0.8689\b\b\b\b\b\b\b\b\b\b\b\b\b\b\b\b\b\b\b\b\b\b\b\b\b\b\b\b\b\b\b\b\b\b\b\b\b\b\b\b\b\b\b\b\b\b\b\b\b\b\b\b\b\b\b\b\b\b\b\b\b\b\b\b\b\b\b\b\b\b\b\b\b\b\b\b\b\b\b\b\b\b\b\r 33/121 [=======&gt;......................] - ETA: 2:18 - loss: nan - accuracy: 0.8685\b\b\b\b\b\b\b\b\b\b\b\b\b\b\b\b\b\b\b\b\b\b\b\b\b\b\b\b\b\b\b\b\b\b\b\b\b\b\b\b\b\b\b\b\b\b\b\b\b\b\b\b\b\b\b\b\b\b\b\b\b\b\b\b\b\b\b\b\b\b\b\b\b\b\b\b\b\b\b\b\b\b\b\r 34/121 [=======&gt;......................] - ETA: 2:17 - loss: nan - accuracy: 0.8682\b\b\b\b\b\b\b\b\b\b\b\b\b\b\b\b\b\b\b\b\b\b\b\b\b\b\b\b\b\b\b\b\b\b\b\b\b\b\b\b\b\b\b\b\b\b\b\b\b\b\b\b\b\b\b\b\b\b\b\b\b\b\b\b\b\b\b\b\b\b\b\b\b\b\b\b\b\b\b\b\b\b\b\r 35/121 [=======&gt;......................] - ETA: 2:15 - loss: nan - accuracy: 0.8678\b\b\b\b\b\b\b\b\b\b\b\b\b\b\b\b\b\b\b\b\b\b\b\b\b\b\b\b\b\b\b\b\b\b\b\b\b\b\b\b\b\b\b\b\b\b\b\b\b\b\b\b\b\b\b\b\b\b\b\b\b\b\b\b\b\b\b\b\b\b\b\b\b\b\b\b\b\b\b\b\b\b\b\r 36/121 [=======&gt;......................] - ETA: 2:13 - loss: nan - accuracy: 0.8676\b\b\b\b\b\b\b\b\b\b\b\b\b\b\b\b\b\b\b\b\b\b\b\b\b\b\b\b\b\b\b\b\b\b\b\b\b\b\b\b\b\b\b\b\b\b\b\b\b\b\b\b\b\b\b\b\b\b\b\b\b\b\b\b\b\b\b\b\b\b\b\b\b\b\b\b\b\b\b\b\b\b\b\r 37/121 [========&gt;.....................] - ETA: 2:11 - loss: nan - accuracy: 0.8674\b\b\b\b\b\b\b\b\b\b\b\b\b\b\b\b\b\b\b\b\b\b\b\b\b\b\b\b\b\b\b\b\b\b\b\b\b\b\b\b\b\b\b\b\b\b\b\b\b\b\b\b\b\b\b\b\b\b\b\b\b\b\b\b\b\b\b\b\b\b\b\b\b\b\b\b\b\b\b\b\b\b\b\r 38/121 [========&gt;.....................] - ETA: 2:11 - loss: nan - accuracy: 0.8672\b\b\b\b\b\b\b\b\b\b\b\b\b\b\b\b\b\b\b\b\b\b\b\b\b\b\b\b\b\b\b\b\b\b\b\b\b\b\b\b\b\b\b\b\b\b\b\b\b\b\b\b\b\b\b\b\b\b\b\b\b\b\b\b\b\b\b\b\b\b\b\b\b\b\b\b\b\b\b\b\b\b\b\r 39/121 [========&gt;.....................] - ETA: 2:09 - loss: nan - accuracy: 0.8671\b\b\b\b\b\b\b\b\b\b\b\b\b\b\b\b\b\b\b\b\b\b\b\b\b\b\b\b\b\b\b\b\b\b\b\b\b\b\b\b\b\b\b\b\b\b\b\b\b\b\b\b\b\b\b\b\b\b\b\b\b\b\b\b\b\b\b\b\b\b\b\b\b\b\b\b\b\b\b\b\b\b\b\r 40/121 [========&gt;.....................] - ETA: 2:08 - loss: nan - accuracy: 0.8670\b\b\b\b\b\b\b\b\b\b\b\b\b\b\b\b\b\b\b\b\b\b\b\b\b\b\b\b\b\b\b\b\b\b\b\b\b\b\b\b\b\b\b\b\b\b\b\b\b\b\b\b\b\b\b\b\b\b\b\b\b\b\b\b\b\b\b\b\b\b\b\b\b\b\b\b\b\b\b\b\b\b\b\r 41/121 [=========&gt;....................] - ETA: 2:08 - loss: nan - accuracy: 0.8668\b\b\b\b\b\b\b\b\b\b\b\b\b\b\b\b\b\b\b\b\b\b\b\b\b\b\b\b\b\b\b\b\b\b\b\b\b\b\b\b\b\b\b\b\b\b\b\b\b\b\b\b\b\b\b\b\b\b\b\b\b\b\b\b\b\b\b\b\b\b\b\b\b\b\b\b\b\b\b\b\b\b\b\r 42/121 [=========&gt;....................] - ETA: 2:07 - loss: nan - accuracy: 0.8668\b\b\b\b\b\b\b\b\b\b\b\b\b\b\b\b\b\b\b\b\b\b\b\b\b\b\b\b\b\b\b\b\b\b\b\b\b\b\b\b\b\b\b\b\b\b\b\b\b\b\b\b\b\b\b\b\b\b\b\b\b\b\b\b\b\b\b\b\b\b\b\b\b\b\b\b\b\b\b\b\b\b\b\r 43/121 [=========&gt;....................] - ETA: 2:05 - loss: nan - accuracy: 0.8667\b\b\b\b\b\b\b\b\b\b\b\b\b\b\b\b\b\b\b\b\b\b\b\b\b\b\b\b\b\b\b\b\b\b\b\b\b\b\b\b\b\b\b\b\b\b\b\b\b\b\b\b\b\b\b\b\b\b\b\b\b\b\b\b\b\b\b\b\b\b\b\b\b\b\b\b\b\b\b\b\b\b\b\r 44/121 [=========&gt;....................] - ETA: 2:03 - loss: nan - accuracy: 0.8667\b\b\b\b\b\b\b\b\b\b\b\b\b\b\b\b\b\b\b\b\b\b\b\b\b\b\b\b\b\b\b\b\b\b\b\b\b\b\b\b\b\b\b\b\b\b\b\b\b\b\b\b\b\b\b\b\b\b\b\b\b\b\b\b\b\b\b\b\b\b\b\b\b\b\b\b\b\b\b\b\b\b\b\r 45/121 [==========&gt;...................] - ETA: 2:02 - loss: nan - accuracy: 0.8665\b\b\b\b\b\b\b\b\b\b\b\b\b\b\b\b\b\b\b\b\b\b\b\b\b\b\b\b\b\b\b\b\b\b\b\b\b\b\b\b\b\b\b\b\b\b\b\b\b\b\b\b\b\b\b\b\b\b\b\b\b\b\b\b\b\b\b\b\b\b\b\b\b\b\b\b\b\b\b\b\b\b\b\r 46/121 [==========&gt;...................] - ETA: 2:00 - loss: nan - accuracy: 0.8664\b\b\b\b\b\b\b\b\b\b\b\b\b\b\b\b\b\b\b\b\b\b\b\b\b\b\b\b\b\b\b\b\b\b\b\b\b\b\b\b\b\b\b\b\b\b\b\b\b\b\b\b\b\b\b\b\b\b\b\b\b\b\b\b\b\b\b\b\b\b\b\b\b\b\b\b\b\b\b\b\b\b\b\r 47/121 [==========&gt;...................] - ETA: 1:59 - loss: nan - accuracy: 0.8663\b\b\b\b\b\b\b\b\b\b\b\b\b\b\b\b\b\b\b\b\b\b\b\b\b\b\b\b\b\b\b\b\b\b\b\b\b\b\b\b\b\b\b\b\b\b\b\b\b\b\b\b\b\b\b\b\b\b\b\b\b\b\b\b\b\b\b\b\b\b\b\b\b\b\b\b\b\b\b\b\b\b\b\r 48/121 [==========&gt;...................] - ETA: 1:57 - loss: nan - accuracy: 0.8662\b\b\b\b\b\b\b\b\b\b\b\b\b\b\b\b\b\b\b\b\b\b\b\b\b\b\b\b\b\b\b\b\b\b\b\b\b\b\b\b\b\b\b\b\b\b\b\b\b\b\b\b\b\b\b\b\b\b\b\b\b\b\b\b\b\b\b\b\b\b\b\b\b\b\b\b\b\b\b\b\b\b\b\r 49/121 [===========&gt;..................] - ETA: 1:56 - loss: nan - accuracy: 0.8662\b\b\b\b\b\b\b\b\b\b\b\b\b\b\b\b\b\b\b\b\b\b\b\b\b\b\b\b\b\b\b\b\b\b\b\b\b\b\b\b\b\b\b\b\b\b\b\b\b\b\b\b\b\b\b\b\b\b\b\b\b\b\b\b\b\b\b\b\b\b\b\b\b\b\b\b\b\b\b\b\b\b\b\r 50/121 [===========&gt;..................] - ETA: 1:54 - loss: nan - accuracy: 0.8661\b\b\b\b\b\b\b\b\b\b\b\b\b\b\b\b\b\b\b\b\b\b\b\b\b\b\b\b\b\b\b\b\b\b\b\b\b\b\b\b\b\b\b\b\b\b\b\b\b\b\b\b\b\b\b\b\b\b\b\b\b\b\b\b\b\b\b\b\b\b\b\b\b\b\b\b\b\b\b\b\b\b\b\r 51/121 [===========&gt;..................] - ETA: 1:53 - loss: nan - accuracy: 0.8660\b\b\b\b\b\b\b\b\b\b\b\b\b\b\b\b\b\b\b\b\b\b\b\b\b\b\b\b\b\b\b\b\b\b\b\b\b\b\b\b\b\b\b\b\b\b\b\b\b\b\b\b\b\b\b\b\b\b\b\b\b\b\b\b\b\b\b\b\b\b\b\b\b\b\b\b\b\b\b\b\b\b\b\r 52/121 [===========&gt;..................] - ETA: 1:51 - loss: nan - accuracy: 0.8660\b\b\b\b\b\b\b\b\b\b\b\b\b\b\b\b\b\b\b\b\b\b\b\b\b\b\b\b\b\b\b\b\b\b\b\b\b\b\b\b\b\b\b\b\b\b\b\b\b\b\b\b\b\b\b\b\b\b\b\b\b\b\b\b\b\b\b\b\b\b\b\b\b\b\b\b\b\b\b\b\b\b\b\r 53/121 [============&gt;.................] - ETA: 1:50 - loss: nan - accuracy: 0.8659\b\b\b\b\b\b\b\b\b\b\b\b\b\b\b\b\b\b\b\b\b\b\b\b\b\b\b\b\b\b\b\b\b\b\b\b\b\b\b\b\b\b\b\b\b\b\b\b\b\b\b\b\b\b\b\b\b\b\b\b\b\b\b\b\b\b\b\b\b\b\b\b\b\b\b\b\b\b\b\b\b\b\b\r 54/121 [============&gt;.................] - ETA: 1:48 - loss: nan - accuracy: 0.8658\b\b\b\b\b\b\b\b\b\b\b\b\b\b\b\b\b\b\b\b\b\b\b\b\b\b\b\b\b\b\b\b\b\b\b\b\b\b\b\b\b\b\b\b\b\b\b\b\b\b\b\b\b\b\b\b\b\b\b\b\b\b\b\b\b\b\b\b\b\b\b\b\b\b\b\b\b\b\b\b\b\b\b\r 55/121 [============&gt;.................] - ETA: 1:47 - loss: nan - accuracy: 0.8658\b\b\b\b\b\b\b\b\b\b\b\b\b\b\b\b\b\b\b\b\b\b\b\b\b\b\b\b\b\b\b\b\b\b\b\b\b\b\b\b\b\b\b\b\b\b\b\b\b\b\b\b\b\b\b\b\b\b\b\b\b\b\b\b\b\b\b\b\b\b\b\b\b\b\b\b\b\b\b\b\b\b\b\r 56/121 [============&gt;.................] - ETA: 1:45 - loss: nan - accuracy: 0.8657\b\b\b\b\b\b\b\b\b\b\b\b\b\b\b\b\b\b\b\b\b\b\b\b\b\b\b\b\b\b\b\b\b\b\b\b\b\b\b\b\b\b\b\b\b\b\b\b\b\b\b\b\b\b\b\b\b\b\b\b\b\b\b\b\b\b\b\b\b\b\b\b\b\b\b\b\b\b\b\b\b\b\b\r 57/121 [=============&gt;................] - ETA: 1:44 - loss: nan - accuracy: 0.8657\b\b\b\b\b\b\b\b\b\b\b\b\b\b\b\b\b\b\b\b\b\b\b\b\b\b\b\b\b\b\b\b\b\b\b\b\b\b\b\b\b\b\b\b\b\b\b\b\b\b\b\b\b\b\b\b\b\b\b\b\b\b\b\b\b\b\b\b\b\b\b\b\b\b\b\b\b\b\b\b\b\b\b\r 58/121 [=============&gt;................] - ETA: 1:42 - loss: nan - accuracy: 0.8656\b\b\b\b\b\b\b\b\b\b\b\b\b\b\b\b\b\b\b\b\b\b\b\b\b\b\b\b\b\b\b\b\b\b\b\b\b\b\b\b\b\b\b\b\b\b\b\b\b\b\b\b\b\b\b\b\b\b\b\b\b\b\b\b\b\b\b\b\b\b\b\b\b\b\b\b\b\b\b\b\b\b\b\r 59/121 [=============&gt;................] - ETA: 1:40 - loss: nan - accuracy: 0.8655\b\b\b\b\b\b\b\b\b\b\b\b\b\b\b\b\b\b\b\b\b\b\b\b\b\b\b\b\b\b\b\b\b\b\b\b\b\b\b\b\b\b\b\b\b\b\b\b\b\b\b\b\b\b\b\b\b\b\b\b\b\b\b\b\b\b\b\b\b\b\b\b\b\b\b\b\b\b\b\b\b\b\b\r 60/121 [=============&gt;................] - ETA: 1:39 - loss: nan - accuracy: 0.8655\b\b\b\b\b\b\b\b\b\b\b\b\b\b\b\b\b\b\b\b\b\b\b\b\b\b\b\b\b\b\b\b\b\b\b\b\b\b\b\b\b\b\b\b\b\b\b\b\b\b\b\b\b\b\b\b\b\b\b\b\b\b\b\b\b\b\b\b\b\b\b\b\b\b\b\b\b\b\b\b\b\b\b\r 61/121 [==============&gt;...............] - ETA: 1:37 - loss: nan - accuracy: 0.8654\b\b\b\b\b\b\b\b\b\b\b\b\b\b\b\b\b\b\b\b\b\b\b\b\b\b\b\b\b\b\b\b\b\b\b\b\b\b\b\b\b\b\b\b\b\b\b\b\b\b\b\b\b\b\b\b\b\b\b\b\b\b\b\b\b\b\b\b\b\b\b\b\b\b\b\b\b\b\b\b\b\b\b\r 62/121 [==============&gt;...............] - ETA: 1:35 - loss: nan - accuracy: 0.8654\b\b\b\b\b\b\b\b\b\b\b\b\b\b\b\b\b\b\b\b\b\b\b\b\b\b\b\b\b\b\b\b\b\b\b\b\b\b\b\b\b\b\b\b\b\b\b\b\b\b\b\b\b\b\b\b\b\b\b\b\b\b\b\b\b\b\b\b\b\b\b\b\b\b\b\b\b\b\b\b\b\b\b\r 63/121 [==============&gt;...............] - ETA: 1:34 - loss: nan - accuracy: 0.8654\b\b\b\b\b\b\b\b\b\b\b\b\b\b\b\b\b\b\b\b\b\b\b\b\b\b\b\b\b\b\b\b\b\b\b\b\b\b\b\b\b\b\b\b\b\b\b\b\b\b\b\b\b\b\b\b\b\b\b\b\b\b\b\b\b\b\b\b\b\b\b\b\b\b\b\b\b\b\b\b\b\b\b\r 64/121 [==============&gt;...............] - ETA: 1:32 - loss: nan - accuracy: 0.8654\b\b\b\b\b\b\b\b\b\b\b\b\b\b\b\b\b\b\b\b\b\b\b\b\b\b\b\b\b\b\b\b\b\b\b\b\b\b\b\b\b\b\b\b\b\b\b\b\b\b\b\b\b\b\b\b\b\b\b\b\b\b\b\b\b\b\b\b\b\b\b\b\b\b\b\b\b\b\b\b\b\b\b\r 65/121 [===============&gt;..............] - ETA: 1:30 - loss: nan - accuracy: 0.8653\b\b\b\b\b\b\b\b\b\b\b\b\b\b\b\b\b\b\b\b\b\b\b\b\b\b\b\b\b\b\b\b\b\b\b\b\b\b\b\b\b\b\b\b\b\b\b\b\b\b\b\b\b\b\b\b\b\b\b\b\b\b\b\b\b\b\b\b\b\b\b\b\b\b\b\b\b\b\b\b\b\b\b\r 66/121 [===============&gt;..............] - ETA: 1:29 - loss: nan - accuracy: 0.8653\b\b\b\b\b\b\b\b\b\b\b\b\b\b\b\b\b\b\b\b\b\b\b\b\b\b\b\b\b\b\b\b\b\b\b\b\b\b\b\b\b\b\b\b\b\b\b\b\b\b\b\b\b\b\b\b\b\b\b\b\b\b\b\b\b\b\b\b\b\b\b\b\b\b\b\b\b\b\b\b\b\b\b\r 67/121 [===============&gt;..............] - ETA: 1:28 - loss: nan - accuracy: 0.8653\b\b\b\b\b\b\b\b\b\b\b\b\b\b\b\b\b\b\b\b\b\b\b\b\b\b\b\b\b\b\b\b\b\b\b\b\b\b\b\b\b\b\b\b\b\b\b\b\b\b\b\b\b\b\b\b\b\b\b\b\b\b\b\b\b\b\b\b\b\b\b\b\b\b\b\b\b\b\b\b\b\b\b\r 68/121 [===============&gt;..............] - ETA: 1:26 - loss: nan - accuracy: 0.8652\b\b\b\b\b\b\b\b\b\b\b\b\b\b\b\b\b\b\b\b\b\b\b\b\b\b\b\b\b\b\b\b\b\b\b\b\b\b\b\b\b\b\b\b\b\b\b\b\b\b\b\b\b\b\b\b\b\b\b\b\b\b\b\b\b\b\b\b\b\b\b\b\b\b\b\b\b\b\b\b\b\b\b\r 69/121 [================&gt;.............] - ETA: 1:24 - loss: nan - accuracy: 0.8652\b\b\b\b\b\b\b\b\b\b\b\b\b\b\b\b\b\b\b\b\b\b\b\b\b\b\b\b\b\b\b\b\b\b\b\b\b\b\b\b\b\b\b\b\b\b\b\b\b\b\b\b\b\b\b\b\b\b\b\b\b\b\b\b\b\b\b\b\b\b\b\b\b\b\b\b\b\b\b\b\b\b\b\r 70/121 [================&gt;.............] - ETA: 1:22 - loss: nan - accuracy: 0.8651\b\b\b\b\b\b\b\b\b\b\b\b\b\b\b\b\b\b\b\b\b\b\b\b\b\b\b\b\b\b\b\b\b\b\b\b\b\b\b\b\b\b\b\b\b\b\b\b\b\b\b\b\b\b\b\b\b\b\b\b\b\b\b\b\b\b\b\b\b\b\b\b\b\b\b\b\b\b\b\b\b\b\b\r 71/121 [================&gt;.............] - ETA: 1:21 - loss: nan - accuracy: 0.8650\b\b\b\b\b\b\b\b\b\b\b\b\b\b\b\b\b\b\b\b\b\b\b\b\b\b\b\b\b\b\b\b\b\b\b\b\b\b\b\b\b\b\b\b\b\b\b\b\b\b\b\b\b\b\b\b\b\b\b\b\b\b\b\b\b\b\b\b\b\b\b\b\b\b\b\b\b\b\b\b\b\b\b\r 72/121 [================&gt;.............] - ETA: 1:19 - loss: nan - accuracy: 0.8649\b\b\b\b\b\b\b\b\b\b\b\b\b\b\b\b\b\b\b\b\b\b\b\b\b\b\b\b\b\b\b\b\b\b\b\b\b\b\b\b\b\b\b\b\b\b\b\b\b\b\b\b\b\b\b\b\b\b\b\b\b\b\b\b\b\b\b\b\b\b\b\b\b\b\b\b\b\b\b\b\b\b\b\r 73/121 [=================&gt;............] - ETA: 1:17 - loss: nan - accuracy: 0.8648\b\b\b\b\b\b\b\b\b\b\b\b\b\b\b\b\b\b\b\b\b\b\b\b\b\b\b\b\b\b\b\b\b\b\b\b\b\b\b\b\b\b\b\b\b\b\b\b\b\b\b\b\b\b\b\b\b\b\b\b\b\b\b\b\b\b\b\b\b\b\b\b\b\b\b\b\b\b\b\b\b\b\b\r 74/121 [=================&gt;............] - ETA: 1:16 - loss: nan - accuracy: 0.8647\b\b\b\b\b\b\b\b\b\b\b\b\b\b\b\b\b\b\b\b\b\b\b\b\b\b\b\b\b\b\b\b\b\b\b\b\b\b\b\b\b\b\b\b\b\b\b\b\b\b\b\b\b\b\b\b\b\b\b\b\b\b\b\b\b\b\b\b\b\b\b\b\b\b\b\b\b\b\b\b\b\b\b\r 75/121 [=================&gt;............] - ETA: 1:14 - loss: nan - accuracy: 0.8646\b\b\b\b\b\b\b\b\b\b\b\b\b\b\b\b\b\b\b\b\b\b\b\b\b\b\b\b\b\b\b\b\b\b\b\b\b\b\b\b\b\b\b\b\b\b\b\b\b\b\b\b\b\b\b\b\b\b\b\b\b\b\b\b\b\b\b\b\b\b\b\b\b\b\b\b\b\b\b\b\b\b\b\r 76/121 [=================&gt;............] - ETA: 1:12 - loss: nan - accuracy: 0.8645\b\b\b\b\b\b\b\b\b\b\b\b\b\b\b\b\b\b\b\b\b\b\b\b\b\b\b\b\b\b\b\b\b\b\b\b\b\b\b\b\b\b\b\b\b\b\b\b\b\b\b\b\b\b\b\b\b\b\b\b\b\b\b\b\b\b\b\b\b\b\b\b\b\b\b\b\b\b\b\b\b\b\b\r 77/121 [==================&gt;...........] - ETA: 1:11 - loss: nan - accuracy: 0.8644\b\b\b\b\b\b\b\b\b\b\b\b\b\b\b\b\b\b\b\b\b\b\b\b\b\b\b\b\b\b\b\b\b\b\b\b\b\b\b\b\b\b\b\b\b\b\b\b\b\b\b\b\b\b\b\b\b\b\b\b\b\b\b\b\b\b\b\b\b\b\b\b\b\b\b\b\b\b\b\b\b\b\b\r 78/121 [==================&gt;...........] - ETA: 1:09 - loss: nan - accuracy: 0.8643\b\b\b\b\b\b\b\b\b\b\b\b\b\b\b\b\b\b\b\b\b\b\b\b\b\b\b\b\b\b\b\b\b\b\b\b\b\b\b\b\b\b\b\b\b\b\b\b\b\b\b\b\b\b\b\b\b\b\b\b\b\b\b\b\b\b\b\b\b\b\b\b\b\b\b\b\b\b\b\b\b\b\b\r 79/121 [==================&gt;...........] - ETA: 1:08 - loss: nan - accuracy: 0.8641\b\b\b\b\b\b\b\b\b\b\b\b\b\b\b\b\b\b\b\b\b\b\b\b\b\b\b\b\b\b\b\b\b\b\b\b\b\b\b\b\b\b\b\b\b\b\b\b\b\b\b\b\b\b\b\b\b\b\b\b\b\b\b\b\b\b\b\b\b\b\b\b\b\b\b\b\b\b\b\b\b\b\b\r 80/121 [==================&gt;...........] - ETA: 1:06 - loss: nan - accuracy: 0.8640\b\b\b\b\b\b\b\b\b\b\b\b\b\b\b\b\b\b\b\b\b\b\b\b\b\b\b\b\b\b\b\b\b\b\b\b\b\b\b\b\b\b\b\b\b\b\b\b\b\b\b\b\b\b\b\b\b\b\b\b\b\b\b\b\b\b\b\b\b\b\b\b\b\b\b\b\b\b\b\b\b\b\b\r 81/121 [===================&gt;..........] - ETA: 1:05 - loss: nan - accuracy: 0.8639\b\b\b\b\b\b\b\b\b\b\b\b\b\b\b\b\b\b\b\b\b\b\b\b\b\b\b\b\b\b\b\b\b\b\b\b\b\b\b\b\b\b\b\b\b\b\b\b\b\b\b\b\b\b\b\b\b\b\b\b\b\b\b\b\b\b\b\b\b\b\b\b\b\b\b\b\b\b\b\b\b\b\b\r 82/121 [===================&gt;..........] - ETA: 1:03 - loss: nan - accuracy: 0.8638\b\b\b\b\b\b\b\b\b\b\b\b\b\b\b\b\b\b\b\b\b\b\b\b\b\b\b\b\b\b\b\b\b\b\b\b\b\b\b\b\b\b\b\b\b\b\b\b\b\b\b\b\b\b\b\b\b\b\b\b\b\b\b\b\b\b\b\b\b\b\b\b\b\b\b\b\b\b\b\b\b\b\b\r 83/121 [===================&gt;..........] - ETA: 1:01 - loss: nan - accuracy: 0.8637\b\b\b\b\b\b\b\b\b\b\b\b\b\b\b\b\b\b\b\b\b\b\b\b\b\b\b\b\b\b\b\b\b\b\b\b\b\b\b\b\b\b\b\b\b\b\b\b\b\b\b\b\b\b\b\b\b\b\b\b\b\b\b\b\b\b\b\b\b\b\b\b\b\b\b\b\b\b\b\b\b\b\b\r 84/121 [===================&gt;..........] - ETA: 59s - loss: nan - accuracy: 0.8636 \b\b\b\b\b\b\b\b\b\b\b\b\b\b\b\b\b\b\b\b\b\b\b\b\b\b\b\b\b\b\b\b\b\b\b\b\b\b\b\b\b\b\b\b\b\b\b\b\b\b\b\b\b\b\b\b\b\b\b\b\b\b\b\b\b\b\b\b\b\b\b\b\b\b\b\b\b\b\b\b\b\b\r 85/121 [====================&gt;.........] - ETA: 58s - loss: nan - accuracy: 0.8635\b\b\b\b\b\b\b\b\b\b\b\b\b\b\b\b\b\b\b\b\b\b\b\b\b\b\b\b\b\b\b\b\b\b\b\b\b\b\b\b\b\b\b\b\b\b\b\b\b\b\b\b\b\b\b\b\b\b\b\b\b\b\b\b\b\b\b\b\b\b\b\b\b\b\b\b\b\b\b\b\b\b\r 86/121 [====================&gt;.........] - ETA: 56s - loss: nan - accuracy: 0.8634\b\b\b\b\b\b\b\b\b\b\b\b\b\b\b\b\b\b\b\b\b\b\b\b\b\b\b\b\b\b\b\b\b\b\b\b\b\b\b\b\b\b\b\b\b\b\b\b\b\b\b\b\b\b\b\b\b\b\b\b\b\b\b\b\b\b\b\b\b\b\b\b\b\b\b\b\b\b\b\b\b\b\r 87/121 [====================&gt;.........] - ETA: 54s - loss: nan - accuracy: 0.8633\b\b\b\b\b\b\b\b\b\b\b\b\b\b\b\b\b\b\b\b\b\b\b\b\b\b\b\b\b\b\b\b\b\b\b\b\b\b\b\b\b\b\b\b\b\b\b\b\b\b\b\b\b\b\b\b\b\b\b\b\b\b\b\b\b\b\b\b\b\b\b\b\b\b\b\b\b\b\b\b\b\b\r 88/121 [====================&gt;.........] - ETA: 53s - loss: nan - accuracy: 0.8632\b\b\b\b\b\b\b\b\b\b\b\b\b\b\b\b\b\b\b\b\b\b\b\b\b\b\b\b\b\b\b\b\b\b\b\b\b\b\b\b\b\b\b\b\b\b\b\b\b\b\b\b\b\b\b\b\b\b\b\b\b\b\b\b\b\b\b\b\b\b\b\b\b\b\b\b\b\b\b\b\b\b\r 89/121 [=====================&gt;........] - ETA: 51s - loss: nan - accuracy: 0.8631\b\b\b\b\b\b\b\b\b\b\b\b\b\b\b\b\b\b\b\b\b\b\b\b\b\b\b\b\b\b\b\b\b\b\b\b\b\b\b\b\b\b\b\b\b\b\b\b\b\b\b\b\b\b\b\b\b\b\b\b\b\b\b\b\b\b\b\b\b\b\b\b\b\b\b\b\b\b\b\b\b\b\r 90/121 [=====================&gt;........] - ETA: 50s - loss: nan - accuracy: 0.8629\b\b\b\b\b\b\b\b\b\b\b\b\b\b\b\b\b\b\b\b\b\b\b\b\b\b\b\b\b\b\b\b\b\b\b\b\b\b\b\b\b\b\b\b\b\b\b\b\b\b\b\b\b\b\b\b\b\b\b\b\b\b\b\b\b\b\b\b\b\b\b\b\b\b\b\b\b\b\b\b\b\b\r 91/121 [=====================&gt;........] - ETA: 48s - loss: nan - accuracy: 0.8628\b\b\b\b\b\b\b\b\b\b\b\b\b\b\b\b\b\b\b\b\b\b\b\b\b\b\b\b\b\b\b\b\b\b\b\b\b\b\b\b\b\b\b\b\b\b\b\b\b\b\b\b\b\b\b\b\b\b\b\b\b\b\b\b\b\b\b\b\b\b\b\b\b\b\b\b\b\b\b\b\b\b\r 92/121 [=====================&gt;........] - ETA: 46s - loss: nan - accuracy: 0.8626\b\b\b\b\b\b\b\b\b\b\b\b\b\b\b\b\b\b\b\b\b\b\b\b\b\b\b\b\b\b\b\b\b\b\b\b\b\b\b\b\b\b\b\b\b\b\b\b\b\b\b\b\b\b\b\b\b\b\b\b\b\b\b\b\b\b\b\b\b\b\b\b\b\b\b\b\b\b\b\b\b\b\r 93/121 [======================&gt;.......] - ETA: 45s - loss: nan - accuracy: 0.8624\b\b\b\b\b\b\b\b\b\b\b\b\b\b\b\b\b\b\b\b\b\b\b\b\b\b\b\b\b\b\b\b\b\b\b\b\b\b\b\b\b\b\b\b\b\b\b\b\b\b\b\b\b\b\b\b\b\b\b\b\b\b\b\b\b\b\b\b\b\b\b\b\b\b\b\b\b\b\b\b\b\b\r 94/121 [======================&gt;.......] - ETA: 43s - loss: nan - accuracy: 0.8622\b\b\b\b\b\b\b\b\b\b\b\b\b\b\b\b\b\b\b\b\b\b\b\b\b\b\b\b\b\b\b\b\b\b\b\b\b\b\b\b\b\b\b\b\b\b\b\b\b\b\b\b\b\b\b\b\b\b\b\b\b\b\b\b\b\b\b\b\b\b\b\b\b\b\b\b\b\b\b\b\b\b\r 95/121 [======================&gt;.......] - ETA: 41s - loss: nan - accuracy: 0.8621\b\b\b\b\b\b\b\b\b\b\b\b\b\b\b\b\b\b\b\b\b\b\b\b\b\b\b\b\b\b\b\b\b\b\b\b\b\b\b\b\b\b\b\b\b\b\b\b\b\b\b\b\b\b\b\b\b\b\b\b\b\b\b\b\b\b\b\b\b\b\b\b\b\b\b\b\b\b\b\b\b\b\r 96/121 [======================&gt;.......] - ETA: 40s - loss: nan - accuracy: 0.8619\b\b\b\b\b\b\b\b\b\b\b\b\b\b\b\b\b\b\b\b\b\b\b\b\b\b\b\b\b\b\b\b\b\b\b\b\b\b\b\b\b\b\b\b\b\b\b\b\b\b\b\b\b\b\b\b\b\b\b\b\b\b\b\b\b\b\b\b\b\b\b\b\b\b\b\b\b\b\b\b\b\b\r 97/121 [=======================&gt;......] - ETA: 38s - loss: nan - accuracy: 0.8617\b\b\b\b\b\b\b\b\b\b\b\b\b\b\b\b\b\b\b\b\b\b\b\b\b\b\b\b\b\b\b\b\b\b\b\b\b\b\b\b\b\b\b\b\b\b\b\b\b\b\b\b\b\b\b\b\b\b\b\b\b\b\b\b\b\b\b\b\b\b\b\b\b\b\b\b\b\b\b\b\b\b\r 98/121 [=======================&gt;......] - ETA: 36s - loss: nan - accuracy: 0.8615\b\b\b\b\b\b\b\b\b\b\b\b\b\b\b\b\b\b\b\b\b\b\b\b\b\b\b\b\b\b\b\b\b\b\b\b\b\b\b\b\b\b\b\b\b\b\b\b\b\b\b\b\b\b\b\b\b\b\b\b\b\b\b\b\b\b\b\b\b\b\b\b\b\b\b\b\b\b\b\b\b\b\r 99/121 [=======================&gt;......] - ETA: 35s - loss: nan - accuracy: 0.8614\b\b\b\b\b\b\b\b\b\b\b\b\b\b\b\b\b\b\b\b\b\b\b\b\b\b\b\b\b\b\b\b\b\b\b\b\b\b\b\b\b\b\b\b\b\b\b\b\b\b\b\b\b\b\b\b\b\b\b\b\b\b\b\b\b\b\b\b\b\b\b\b\b\b\b\b\b\b\b\b\b\b\r100/121 [=======================&gt;......] - ETA: 33s - loss: nan - accuracy: 0.8612\b\b\b\b\b\b\b\b\b\b\b\b\b\b\b\b\b\b\b\b\b\b\b\b\b\b\b\b\b\b\b\b\b\b\b\b\b\b\b\b\b\b\b\b\b\b\b\b\b\b\b\b\b\b\b\b\b\b\b\b\b\b\b\b\b\b\b\b\b\b\b\b\b\b\b\b\b\b\b\b\b\b\r101/121 [========================&gt;.....] - ETA: 32s - loss: nan - accuracy: 0.8611\b\b\b\b\b\b\b\b\b\b\b\b\b\b\b\b\b\b\b\b\b\b\b\b\b\b\b\b\b\b\b\b\b\b\b\b\b\b\b\b\b\b\b\b\b\b\b\b\b\b\b\b\b\b\b\b\b\b\b\b\b\b\b\b\b\b\b\b\b\b\b\b\b\b\b\b\b\b\b\b\b\b\r102/121 [========================&gt;.....] - ETA: 30s - loss: nan - accuracy: 0.8609\b\b\b\b\b\b\b\b\b\b\b\b\b\b\b\b\b\b\b\b\b\b\b\b\b\b\b\b\b\b\b\b\b\b\b\b\b\b\b\b\b\b\b\b\b\b\b\b\b\b\b\b\b\b\b\b\b\b\b\b\b\b\b\b\b\b\b\b\b\b\b\b\b\b\b\b\b\b\b\b\b\b\r103/121 [========================&gt;.....] - ETA: 28s - loss: nan - accuracy: 0.8608\b\b\b\b\b\b\b\b\b\b\b\b\b\b\b\b\b\b\b\b\b\b\b\b\b\b\b\b\b\b\b\b\b\b\b\b\b\b\b\b\b\b\b\b\b\b\b\b\b\b\b\b\b\b\b\b\b\b\b\b\b\b\b\b\b\b\b\b\b\b\b\b\b\b\b\b\b\b\b\b\b\b\r104/121 [========================&gt;.....] - ETA: 27s - loss: nan - accuracy: 0.8607\b\b\b\b\b\b\b\b\b\b\b\b\b\b\b\b\b\b\b\b\b\b\b\b\b\b\b\b\b\b\b\b\b\b\b\b\b\b\b\b\b\b\b\b\b\b\b\b\b\b\b\b\b\b\b\b\b\b\b\b\b\b\b\b\b\b\b\b\b\b\b\b\b\b\b\b\b\b\b\b\b\b\r105/121 [=========================&gt;....] - ETA: 25s - loss: nan - accuracy: 0.8605\b\b\b\b\b\b\b\b\b\b\b\b\b\b\b\b\b\b\b\b\b\b\b\b\b\b\b\b\b\b\b\b\b\b\b\b\b\b\b\b\b\b\b\b\b\b\b\b\b\b\b\b\b\b\b\b\b\b\b\b\b\b\b\b\b\b\b\b\b\b\b\b\b\b\b\b\b\b\b\b\b\b\r106/121 [=========================&gt;....] - ETA: 24s - loss: nan - accuracy: 0.8604\b\b\b\b\b\b\b\b\b\b\b\b\b\b\b\b\b\b\b\b\b\b\b\b\b\b\b\b\b\b\b\b\b\b\b\b\b\b\b\b\b\b\b\b\b\b\b\b\b\b\b\b\b\b\b\b\b\b\b\b\b\b\b\b\b\b\b\b\b\b\b\b\b\b\b\b\b\b\b\b\b\b\r107/121 [=========================&gt;....] - ETA: 22s - loss: nan - accuracy: 0.8603\b\b\b\b\b\b\b\b\b\b\b\b\b\b\b\b\b\b\b\b\b\b\b\b\b\b\b\b\b\b\b\b\b\b\b\b\b\b\b\b\b\b\b\b\b\b\b\b\b\b\b\b\b\b\b\b\b\b\b\b\b\b\b\b\b\b\b\b\b\b\b\b\b\b\b\b\b\b\b\b\b\b\r108/121 [=========================&gt;....] - ETA: 20s - loss: nan - accuracy: 0.8602\b\b\b\b\b\b\b\b\b\b\b\b\b\b\b\b\b\b\b\b\b\b\b\b\b\b\b\b\b\b\b\b\b\b\b\b\b\b\b\b\b\b\b\b\b\b\b\b\b\b\b\b\b\b\b\b\b\b\b\b\b\b\b\b\b\b\b\b\b\b\b\b\b\b\b\b\b\b\b\b\b\b\r109/121 [==========================&gt;...] - ETA: 19s - loss: nan - accuracy: 0.8601\b\b\b\b\b\b\b\b\b\b\b\b\b\b\b\b\b\b\b\b\b\b\b\b\b\b\b\b\b\b\b\b\b\b\b\b\b\b\b\b\b\b\b\b\b\b\b\b\b\b\b\b\b\b\b\b\b\b\b\b\b\b\b\b\b\b\b\b\b\b\b\b\b\b\b\b\b\b\b\b\b\b\r110/121 [==========================&gt;...] - ETA: 17s - loss: nan - accuracy: 0.8600\b\b\b\b\b\b\b\b\b\b\b\b\b\b\b\b\b\b\b\b\b\b\b\b\b\b\b\b\b\b\b\b\b\b\b\b\b\b\b\b\b\b\b\b\b\b\b\b\b\b\b\b\b\b\b\b\b\b\b\b\b\b\b\b\b\b\b\b\b\b\b\b\b\b\b\b\b\b\b\b\b\b\r111/121 [==========================&gt;...] - ETA: 15s - loss: nan - accuracy: 0.8599\b\b\b\b\b\b\b\b\b\b\b\b\b\b\b\b\b\b\b\b\b\b\b\b\b\b\b\b\b\b\b\b\b\b\b\b\b\b\b\b\b\b\b\b\b\b\b\b\b\b\b\b\b\b\b\b\b\b\b\b\b\b\b\b\b\b\b\b\b\b\b\b\b\b\b\b\b\b\b\b\b\b\r112/121 [==========================&gt;...] - ETA: 14s - loss: nan - accuracy: 0.8598\b\b\b\b\b\b\b\b\b\b\b\b\b\b\b\b\b\b\b\b\b\b\b\b\b\b\b\b\b\b\b\b\b\b\b\b\b\b\b\b\b\b\b\b\b\b\b\b\b\b\b\b\b\b\b\b\b\b\b\b\b\b\b\b\b\b\b\b\b\b\b\b\b\b\b\b\b\b\b\b\b\b\r113/121 [===========================&gt;..] - ETA: 12s - loss: nan - accuracy: 0.8597\b\b\b\b\b\b\b\b\b\b\b\b\b\b\b\b\b\b\b\b\b\b\b\b\b\b\b\b\b\b\b\b\b\b\b\b\b\b\b\b\b\b\b\b\b\b\b\b\b\b\b\b\b\b\b\b\b\b\b\b\b\b\b\b\b\b\b\b\b\b\b\b\b\b\b\b\b\b\b\b\b\b\r114/121 [===========================&gt;..] - ETA: 11s - loss: nan - accuracy: 0.8597\b\b\b\b\b\b\b\b\b\b\b\b\b\b\b\b\b\b\b\b\b\b\b\b\b\b\b\b\b\b\b\b\b\b\b\b\b\b\b\b\b\b\b\b\b\b\b\b\b\b\b\b\b\b\b\b\b\b\b\b\b\b\b\b\b\b\b\b\b\b\b\b\b\b\b\b\b\b\b\b\b\b\r115/121 [===========================&gt;..] - ETA: 9s - loss: nan - accuracy: 0.8596 \b\b\b\b\b\b\b\b\b\b\b\b\b\b\b\b\b\b\b\b\b\b\b\b\b\b\b\b\b\b\b\b\b\b\b\b\b\b\b\b\b\b\b\b\b\b\b\b\b\b\b\b\b\b\b\b\b\b\b\b\b\b\b\b\b\b\b\b\b\b\b\b\b\b\b\b\b\b\b\b\b\r116/121 [===========================&gt;..] - ETA: 7s - loss: nan - accuracy: 0.8595\b\b\b\b\b\b\b\b\b\b\b\b\b\b\b\b\b\b\b\b\b\b\b\b\b\b\b\b\b\b\b\b\b\b\b\b\b\b\b\b\b\b\b\b\b\b\b\b\b\b\b\b\b\b\b\b\b\b\b\b\b\b\b\b\b\b\b\b\b\b\b\b\b\b\b\b\b\b\b\b\b\r117/121 [============================&gt;.] - ETA: 6s - loss: nan - accuracy: 0.8595\b\b\b\b\b\b\b\b\b\b\b\b\b\b\b\b\b\b\b\b\b\b\b\b\b\b\b\b\b\b\b\b\b\b\b\b\b\b\b\b\b\b\b\b\b\b\b\b\b\b\b\b\b\b\b\b\b\b\b\b\b\b\b\b\b\b\b\b\b\b\b\b\b\b\b\b\b\b\b\b\b\r118/121 [============================&gt;.] - ETA: 4s - loss: nan - accuracy: 0.8594\b\b\b\b\b\b\b\b\b\b\b\b\b\b\b\b\b\b\b\b\b\b\b\b\b\b\b\b\b\b\b\b\b\b\b\b\b\b\b\b\b\b\b\b\b\b\b\b\b\b\b\b\b\b\b\b\b\b\b\b\b\b\b\b\b\b\b\b\b\b\b\b\b\b\b\b\b\b\b\b\b\r119/121 [============================&gt;.] - ETA: 3s - loss: nan - accuracy: 0.8594\b\b\b\b\b\b\b\b\b\b\b\b\b\b\b\b\b\b\b\b\b\b\b\b\b\b\b\b\b\b\b\b\b\b\b\b\b\b\b\b\b\b\b\b\b\b\b\b\b\b\b\b\b\b\b\b\b\b\b\b\b\b\b\b\b\b\b\b\b\b\b\b\b\b\b\b\b\b\b\b\b\r120/121 [============================&gt;.] - ETA: 1s - loss: nan - accuracy: 0.8593\b\b\b\b\b\b\b\b\b\b\b\b\b\b\b\b\b\b\b\b\b\b\b\b\b\b\b\b\b\b\b\b\b\b\b\b\b\b\b\b\b\b\b\b\b\b\b\b\b\b\b\b\b\b\b\b\b\b\b\b\b\b\b\b\b\b\b\b\b\b\b\b\b\b\b\b\b\b\b\b\b\r121/121 [==============================] - ETA: 0s - loss: nan - accuracy: 0.8593\b\b\b\b\b\b\b\b\b\b\b\b\b\b\b\b\b\b\b\b\b\b\b\b\b\b\b\b\b\b\b\b\b\b\b\b\b\b\b\b\b\b\b\b\b\b\b\b\b\b\b\b\b\b\b\b\b\b\b\b\b\b\b\b\b\b\b\b\b\b\b\b\b\b\b\b\b\b\b\b\b\r121/121 [==============================] - 240s 2s/step - loss: nan - accuracy: 0.8592 - val_loss: nan - val_accuracy: 0.6875\nINFO:tensorflow:Assets written to: /tmp/tmpt6m_9lsm/model/data/model/assets\n</div>",
       "datasetInfos": [],
       "metadata": {},
       "removedWidgets": [],
       "type": "html"
      }
     },
     "output_type": "display_data"
    }
   ],
   "source": [
    "history = net_final.fit_generator(train_batches,\n",
    "                        steps_per_epoch = train_batches.samples // BATCH_SIZE,\n",
    "                        validation_data = valid_batches,\n",
    "                        validation_steps = valid_batches.samples // BATCH_SIZE,\n",
    "                        epochs = NUM_EPOCHS)"
   ]
  },
  {
   "cell_type": "code",
   "execution_count": 0,
   "metadata": {
    "application/vnd.databricks.v1+cell": {
     "inputWidgets": {},
     "nuid": "df61b625-24c8-475b-b597-4434676447ee",
     "showTitle": false,
     "title": ""
    }
   },
   "outputs": [
    {
     "data": {
      "image/png": "[encoded data removed]"
     },
     "metadata": {
      "application/vnd.databricks.v1+output": {
       "addedWidgets": {},
       "arguments": {},
       "data": "/plots/23c5557b-6a52-49c0-b4d2-78ebefe4d6fd.png",
       "datasetInfos": [],
       "metadata": {},
       "removedWidgets": [],
       "type": "image"
      }
     },
     "output_type": "display_data"
    }
   ],
   "source": [
    "acc = history.history['accuracy']\n",
    "val_acc = history.history['val_accuracy']\n",
    "\n",
    "loss = history.history['loss']\n",
    "val_loss = history.history['val_loss']\n",
    "\n",
    "epochs_range = range(NUM_EPOCHS)\n",
    "\n",
    "plt.figure(figsize=(8, 8))\n",
    "plt.subplot(1, 2, 1)\n",
    "plt.plot(epochs_range, acc, label='Training Accuracy')\n",
    "plt.plot(epochs_range, val_acc, label='Validation Accuracy')\n",
    "plt.legend(loc='lower right')\n",
    "plt.title('Training and Validation Accuracy')\n",
    "\n",
    "plt.subplot(1, 2, 2)\n",
    "plt.plot(epochs_range, loss, label='Training Loss')\n",
    "plt.plot(epochs_range, val_loss, label='Validation Loss')\n",
    "plt.legend(loc='upper right')\n",
    "plt.title('Training and Validation Loss')\n",
    "plt.show()"
   ]
  },
  {
   "cell_type": "code",
   "execution_count": 0,
   "metadata": {
    "application/vnd.databricks.v1+cell": {
     "inputWidgets": {},
     "nuid": "ff21dbed-f755-4ced-8bc7-fea6b0f794f4",
     "showTitle": false,
     "title": ""
    }
   },
   "outputs": [
    {
     "data": {
      "text/html": [
       "<style scoped>\n",
       "  .ansiout {\n",
       "    display: block;\n",
       "    unicode-bidi: embed;\n",
       "    white-space: pre-wrap;\n",
       "    word-wrap: break-word;\n",
       "    word-break: break-all;\n",
       "    font-family: \"Source Code Pro\", \"Menlo\", monospace;;\n",
       "    font-size: 13px;\n",
       "    color: #555;\n",
       "    margin-left: 4px;\n",
       "    line-height: 19px;\n",
       "  }\n",
       "</style>\n",
       "<div class=\"ansiout\"></div>"
      ]
     },
     "metadata": {
      "application/vnd.databricks.v1+output": {
       "addedWidgets": {},
       "arguments": {},
       "data": "<div class=\"ansiout\"></div>",
       "datasetInfos": [],
       "metadata": {},
       "removedWidgets": [],
       "type": "html"
      }
     },
     "output_type": "display_data"
    }
   ],
   "source": [
    "# Save the model artifact.\n",
    "net_final.save('/tmp/model-resnet50-final-v30.h5')"
   ]
  },
  {
   "cell_type": "code",
   "execution_count": 0,
   "metadata": {
    "application/vnd.databricks.v1+cell": {
     "inputWidgets": {},
     "nuid": "8546d142-32e1-4524-abc4-2ee3c1cbe2cd",
     "showTitle": false,
     "title": ""
    }
   },
   "outputs": [
    {
     "data": {
      "text/html": [
       "<style scoped>\n",
       "  .ansiout {\n",
       "    display: block;\n",
       "    unicode-bidi: embed;\n",
       "    white-space: pre-wrap;\n",
       "    word-wrap: break-word;\n",
       "    word-break: break-all;\n",
       "    font-family: \"Source Code Pro\", \"Menlo\", monospace;;\n",
       "    font-size: 13px;\n",
       "    color: #555;\n",
       "    margin-left: 4px;\n",
       "    line-height: 19px;\n",
       "  }\n",
       "</style>\n",
       "<div class=\"ansiout\">Out[23]: True</div>"
      ]
     },
     "metadata": {
      "application/vnd.databricks.v1+output": {
       "addedWidgets": {},
       "arguments": {},
       "data": "<div class=\"ansiout\">Out[23]: True</div>",
       "datasetInfos": [],
       "metadata": {},
       "removedWidgets": [],
       "type": "html"
      }
     },
     "output_type": "display_data"
    }
   ],
   "source": [
    "# Move temporary save model file in tmp to ADLS.\n",
    "dbutils.fs.mv(\"file:/tmp/model-resnet50-final-v30.h5\", \"dbfs:/mnt/eason/pneumonia_classification_challenge/models/resnet50/model-resnet50-final-v30.h5\")"
   ]
  },
  {
   "cell_type": "code",
   "execution_count": 0,
   "metadata": {
    "application/vnd.databricks.v1+cell": {
     "inputWidgets": {},
     "nuid": "123d2777-a70f-4adb-bfad-3922db0f737b",
     "showTitle": false,
     "title": ""
    }
   },
   "outputs": [
    {
     "data": {
      "text/html": [
       "<style scoped>\n",
       "  .ansiout {\n",
       "    display: block;\n",
       "    unicode-bidi: embed;\n",
       "    white-space: pre-wrap;\n",
       "    word-wrap: break-word;\n",
       "    word-break: break-all;\n",
       "    font-family: \"Source Code Pro\", \"Menlo\", monospace;;\n",
       "    font-size: 13px;\n",
       "    color: #555;\n",
       "    margin-left: 4px;\n",
       "    line-height: 19px;\n",
       "  }\n",
       "</style>\n",
       "<div class=\"ansiout\">Out[25]: [FileInfo(path=&#39;dbfs:/mnt/eason/pneumonia_classification_challenge/models/resnet50/model-resnet50-final-v30.h5&#39;, name=&#39;model-resnet50-final-v30.h5&#39;, size=288531712),\n",
       " FileInfo(path=&#39;dbfs:/mnt/eason/pneumonia_classification_challenge/models/resnet50/stock_perf_sample01.json&#39;, name=&#39;stock_perf_sample01.json&#39;, size=1957)]</div>"
      ]
     },
     "metadata": {
      "application/vnd.databricks.v1+output": {
       "addedWidgets": {},
       "arguments": {},
       "data": "<div class=\"ansiout\">Out[25]: [FileInfo(path=&#39;dbfs:/mnt/eason/pneumonia_classification_challenge/models/resnet50/model-resnet50-final-v30.h5&#39;, name=&#39;model-resnet50-final-v30.h5&#39;, size=288531712),\n FileInfo(path=&#39;dbfs:/mnt/eason/pneumonia_classification_challenge/models/resnet50/stock_perf_sample01.json&#39;, name=&#39;stock_perf_sample01.json&#39;, size=1957)]</div>",
       "datasetInfos": [],
       "metadata": {},
       "removedWidgets": [],
       "type": "html"
      }
     },
     "output_type": "display_data"
    }
   ],
   "source": [
    "# List file in ADLS\n",
    "dbutils.fs.ls(\"/mnt/eason/pneumonia_classification_challenge/models/resnet50\")"
   ]
  },
  {
   "cell_type": "code",
   "execution_count": 0,
   "metadata": {
    "application/vnd.databricks.v1+cell": {
     "inputWidgets": {},
     "nuid": "1440139e-7b48-4684-8b4d-38ff1b30bfd9",
     "showTitle": false,
     "title": ""
    }
   },
   "outputs": [
    {
     "data": {
      "text/html": [
       "<style scoped>\n",
       "  .ansiout {\n",
       "    display: block;\n",
       "    unicode-bidi: embed;\n",
       "    white-space: pre-wrap;\n",
       "    word-wrap: break-word;\n",
       "    word-break: break-all;\n",
       "    font-family: \"Source Code Pro\", \"Menlo\", monospace;;\n",
       "    font-size: 13px;\n",
       "    color: #555;\n",
       "    margin-left: 4px;\n",
       "    line-height: 19px;\n",
       "  }\n",
       "</style>\n",
       "<div class=\"ansiout\">Out[28]: </div>"
      ]
     },
     "metadata": {
      "application/vnd.databricks.v1+output": {
       "addedWidgets": {},
       "arguments": {},
       "data": "<div class=\"ansiout\">Out[28]: </div>",
       "datasetInfos": [],
       "metadata": {},
       "removedWidgets": [],
       "type": "html"
      }
     },
     "output_type": "display_data"
    },
    {
     "data": {
      "text/html": [
       "<div>\n",
       "<style scoped>\n",
       "    .dataframe tbody tr th:only-of-type {\n",
       "        vertical-align: middle;\n",
       "    }\n",
       "\n",
       "    .dataframe tbody tr th {\n",
       "        vertical-align: top;\n",
       "    }\n",
       "\n",
       "    .dataframe thead th {\n",
       "        text-align: right;\n",
       "    }\n",
       "</style>\n",
       "<table border=\"1\" class=\"dataframe\">\n",
       "  <thead>\n",
       "    <tr style=\"text-align: right;\">\n",
       "      <th></th>\n",
       "      <th>filename</th>\n",
       "    </tr>\n",
       "  </thead>\n",
       "  <tbody>\n",
       "    <tr>\n",
       "      <th>0</th>\n",
       "      <td>CXR_test_519.png</td>\n",
       "    </tr>\n",
       "    <tr>\n",
       "      <th>1</th>\n",
       "      <td>CXR_test_578.png</td>\n",
       "    </tr>\n",
       "    <tr>\n",
       "      <th>2</th>\n",
       "      <td>CXR_test_359.png</td>\n",
       "    </tr>\n",
       "    <tr>\n",
       "      <th>3</th>\n",
       "      <td>CXR_test_573.png</td>\n",
       "    </tr>\n",
       "    <tr>\n",
       "      <th>4</th>\n",
       "      <td>CXR_test_471.png</td>\n",
       "    </tr>\n",
       "  </tbody>\n",
       "</table>\n",
       "</div>"
      ]
     },
     "metadata": {
      "application/vnd.databricks.v1+output": {
       "addedWidgets": {},
       "arguments": {},
       "data": "<div>\n<style scoped>\n    .dataframe tbody tr th:only-of-type {\n        vertical-align: middle;\n    }\n\n    .dataframe tbody tr th {\n        vertical-align: top;\n    }\n\n    .dataframe thead th {\n        text-align: right;\n    }\n</style>\n<table border=\"1\" class=\"dataframe\">\n  <thead>\n    <tr style=\"text-align: right;\">\n      <th></th>\n      <th>filename</th>\n    </tr>\n  </thead>\n  <tbody>\n    <tr>\n      <th>0</th>\n      <td>CXR_test_519.png</td>\n    </tr>\n    <tr>\n      <th>1</th>\n      <td>CXR_test_578.png</td>\n    </tr>\n    <tr>\n      <th>2</th>\n      <td>CXR_test_359.png</td>\n    </tr>\n    <tr>\n      <th>3</th>\n      <td>CXR_test_573.png</td>\n    </tr>\n    <tr>\n      <th>4</th>\n      <td>CXR_test_471.png</td>\n    </tr>\n  </tbody>\n</table>\n</div>",
       "datasetInfos": [],
       "metadata": {},
       "removedWidgets": [],
       "textData": null,
       "type": "htmlSandbox"
      }
     },
     "output_type": "display_data"
    }
   ],
   "source": [
    "# Loading the order of the image's name that has been provided\n",
    "test_image_order = pd.read_csv(\"/dbfs/mnt/eason/pneumonia_classification_challenge/pneumonia_dataset/test.csv\")\n",
    "test_image_order.head()"
   ]
  },
  {
   "cell_type": "code",
   "execution_count": 0,
   "metadata": {
    "application/vnd.databricks.v1+cell": {
     "inputWidgets": {},
     "nuid": "02867140-62f2-42f2-a53b-ab7da4c21577",
     "showTitle": false,
     "title": ""
    }
   },
   "outputs": [
    {
     "data": {
      "text/html": [
       "<style scoped>\n",
       "  .ansiout {\n",
       "    display: block;\n",
       "    unicode-bidi: embed;\n",
       "    white-space: pre-wrap;\n",
       "    word-wrap: break-word;\n",
       "    word-break: break-all;\n",
       "    font-family: \"Source Code Pro\", \"Menlo\", monospace;;\n",
       "    font-size: 13px;\n",
       "    color: #555;\n",
       "    margin-left: 4px;\n",
       "    line-height: 19px;\n",
       "  }\n",
       "</style>\n",
       "<div class=\"ansiout\"></div>"
      ]
     },
     "metadata": {
      "application/vnd.databricks.v1+output": {
       "addedWidgets": {},
       "arguments": {},
       "data": "<div class=\"ansiout\"></div>",
       "datasetInfos": [],
       "metadata": {},
       "removedWidgets": [],
       "type": "html"
      }
     },
     "output_type": "display_data"
    }
   ],
   "source": [
    "# Construct file path of images to score.\n",
    "file_paths = [[fname, '/dbfs/mnt/eason/pneumonia_classification_challenge/pneumonia_dataset/test/' + fname] for fname in test_image_order['filename']]"
   ]
  },
  {
   "cell_type": "code",
   "execution_count": 0,
   "metadata": {
    "application/vnd.databricks.v1+cell": {
     "inputWidgets": {},
     "nuid": "639ee2c3-a1ae-4e9c-9713-5e0310051474",
     "showTitle": false,
     "title": ""
    }
   },
   "outputs": [
    {
     "data": {
      "text/html": [
       "<style scoped>\n",
       "  .ansiout {\n",
       "    display: block;\n",
       "    unicode-bidi: embed;\n",
       "    white-space: pre-wrap;\n",
       "    word-wrap: break-word;\n",
       "    word-break: break-all;\n",
       "    font-family: \"Source Code Pro\", \"Menlo\", monospace;;\n",
       "    font-size: 13px;\n",
       "    color: #555;\n",
       "    margin-left: 4px;\n",
       "    line-height: 19px;\n",
       "  }\n",
       "</style>\n",
       "<div class=\"ansiout\">Number of image names i.e.  606 matches the number of file paths i.e.  606\n",
       "</div>"
      ]
     },
     "metadata": {
      "application/vnd.databricks.v1+output": {
       "addedWidgets": {},
       "arguments": {},
       "data": "<div class=\"ansiout\">Number of image names i.e.  606 matches the number of file paths i.e.  606\n</div>",
       "datasetInfos": [],
       "metadata": {},
       "removedWidgets": [],
       "type": "html"
      }
     },
     "output_type": "display_data"
    }
   ],
   "source": [
    "# Confirm if number of images is same as number of labels given.\n",
    "if len(test_image_order) == len(file_paths):\n",
    "    print('Number of image names i.e. ', len(test_image_order), 'matches the number of file paths i.e. ', len(file_paths))\n",
    "else:\n",
    "    print('Number of image names does not match the number of filepaths')"
   ]
  },
  {
   "cell_type": "code",
   "execution_count": 0,
   "metadata": {
    "application/vnd.databricks.v1+cell": {
     "inputWidgets": {},
     "nuid": "dd9092b3-98d7-416e-9ea6-3793665885ce",
     "showTitle": false,
     "title": ""
    }
   },
   "outputs": [
    {
     "data": {
      "text/html": [
       "<style scoped>\n",
       "  .ansiout {\n",
       "    display: block;\n",
       "    unicode-bidi: embed;\n",
       "    white-space: pre-wrap;\n",
       "    word-wrap: break-word;\n",
       "    word-break: break-all;\n",
       "    font-family: \"Source Code Pro\", \"Menlo\", monospace;;\n",
       "    font-size: 13px;\n",
       "    color: #555;\n",
       "    margin-left: 4px;\n",
       "    line-height: 19px;\n",
       "  }\n",
       "</style>\n",
       "<div class=\"ansiout\">Out[31]: </div>"
      ]
     },
     "metadata": {
      "application/vnd.databricks.v1+output": {
       "addedWidgets": {},
       "arguments": {},
       "data": "<div class=\"ansiout\">Out[31]: </div>",
       "datasetInfos": [],
       "metadata": {},
       "removedWidgets": [],
       "type": "html"
      }
     },
     "output_type": "display_data"
    },
    {
     "data": {
      "text/html": [
       "<div>\n",
       "<style scoped>\n",
       "    .dataframe tbody tr th:only-of-type {\n",
       "        vertical-align: middle;\n",
       "    }\n",
       "\n",
       "    .dataframe tbody tr th {\n",
       "        vertical-align: top;\n",
       "    }\n",
       "\n",
       "    .dataframe thead th {\n",
       "        text-align: right;\n",
       "    }\n",
       "</style>\n",
       "<table border=\"1\" class=\"dataframe\">\n",
       "  <thead>\n",
       "    <tr style=\"text-align: right;\">\n",
       "      <th></th>\n",
       "      <th>filename</th>\n",
       "      <th>filepaths</th>\n",
       "    </tr>\n",
       "  </thead>\n",
       "  <tbody>\n",
       "    <tr>\n",
       "      <th>0</th>\n",
       "      <td>CXR_test_519.png</td>\n",
       "      <td>/dbfs/mnt/eason/pneumonia_classifica...</td>\n",
       "    </tr>\n",
       "    <tr>\n",
       "      <th>1</th>\n",
       "      <td>CXR_test_578.png</td>\n",
       "      <td>/dbfs/mnt/eason/pneumonia_classifica...</td>\n",
       "    </tr>\n",
       "    <tr>\n",
       "      <th>2</th>\n",
       "      <td>CXR_test_359.png</td>\n",
       "      <td>/dbfs/mnt/eason/pneumonia_classifica...</td>\n",
       "    </tr>\n",
       "    <tr>\n",
       "      <th>3</th>\n",
       "      <td>CXR_test_573.png</td>\n",
       "      <td>/dbfs/mnt/eason/pneumonia_classifica...</td>\n",
       "    </tr>\n",
       "    <tr>\n",
       "      <th>4</th>\n",
       "      <td>CXR_test_471.png</td>\n",
       "      <td>/dbfs/mnt/eason/pneumonia_classifica...</td>\n",
       "    </tr>\n",
       "  </tbody>\n",
       "</table>\n",
       "</div>"
      ]
     },
     "metadata": {
      "application/vnd.databricks.v1+output": {
       "addedWidgets": {},
       "arguments": {},
       "data": "<div>\n<style scoped>\n    .dataframe tbody tr th:only-of-type {\n        vertical-align: middle;\n    }\n\n    .dataframe tbody tr th {\n        vertical-align: top;\n    }\n\n    .dataframe thead th {\n        text-align: right;\n    }\n</style>\n<table border=\"1\" class=\"dataframe\">\n  <thead>\n    <tr style=\"text-align: right;\">\n      <th></th>\n      <th>filename</th>\n      <th>filepaths</th>\n    </tr>\n  </thead>\n  <tbody>\n    <tr>\n      <th>0</th>\n      <td>CXR_test_519.png</td>\n      <td>/dbfs/mnt/eason/pneumonia_classifica...</td>\n    </tr>\n    <tr>\n      <th>1</th>\n      <td>CXR_test_578.png</td>\n      <td>/dbfs/mnt/eason/pneumonia_classifica...</td>\n    </tr>\n    <tr>\n      <th>2</th>\n      <td>CXR_test_359.png</td>\n      <td>/dbfs/mnt/eason/pneumonia_classifica...</td>\n    </tr>\n    <tr>\n      <th>3</th>\n      <td>CXR_test_573.png</td>\n      <td>/dbfs/mnt/eason/pneumonia_classifica...</td>\n    </tr>\n    <tr>\n      <th>4</th>\n      <td>CXR_test_471.png</td>\n      <td>/dbfs/mnt/eason/pneumonia_classifica...</td>\n    </tr>\n  </tbody>\n</table>\n</div>",
       "datasetInfos": [],
       "metadata": {},
       "removedWidgets": [],
       "textData": null,
       "type": "htmlSandbox"
      }
     },
     "output_type": "display_data"
    }
   ],
   "source": [
    "# Construct full list of file paths to score in dataframe.\n",
    "test_images = pd.DataFrame(file_paths, columns=['filename', 'filepaths'])\n",
    "test_images.head()"
   ]
  },
  {
   "cell_type": "code",
   "execution_count": 0,
   "metadata": {
    "application/vnd.databricks.v1+cell": {
     "inputWidgets": {},
     "nuid": "effa843d-e21e-4e06-af7b-d4f62428269c",
     "showTitle": false,
     "title": ""
    }
   },
   "outputs": [
    {
     "data": {
      "text/html": [
       "<style scoped>\n",
       "  .ansiout {\n",
       "    display: block;\n",
       "    unicode-bidi: embed;\n",
       "    white-space: pre-wrap;\n",
       "    word-wrap: break-word;\n",
       "    word-break: break-all;\n",
       "    font-family: \"Source Code Pro\", \"Menlo\", monospace;;\n",
       "    font-size: 13px;\n",
       "    color: #555;\n",
       "    margin-left: 4px;\n",
       "    line-height: 19px;\n",
       "  }\n",
       "</style>\n",
       "<div class=\"ansiout\">This image most likely belongs to pneumonia with a 99.97 percent confidence.\n",
       "</div>"
      ]
     },
     "metadata": {
      "application/vnd.databricks.v1+output": {
       "addedWidgets": {},
       "arguments": {},
       "data": "<div class=\"ansiout\">This image most likely belongs to pneumonia with a 99.97 percent confidence.\n</div>",
       "datasetInfos": [],
       "metadata": {},
       "removedWidgets": [],
       "type": "html"
      }
     },
     "output_type": "display_data"
    }
   ],
   "source": [
    "# Randomly pick one sample image to score.\n",
    "from tensorflow.python.keras.preprocessing import image\n",
    "from tensorflow.python.keras.models import load_model\n",
    "\n",
    "net = load_model('/dbfs/mnt/eason/pneumonia_classification_challenge/models/resnet50/model-resnet50-final-v30.h5')\n",
    "class_names = ['normal', 'pneumonia']\n",
    "img_height = 300\n",
    "img_width = 300\n",
    "\n",
    "test_file_path = \"/dbfs/mnt/eason/pneumonia_classification_challenge/pneumonia_dataset/test/CXR_test_15.png\"\n",
    "\n",
    "img = image.load_img(test_file_path, target_size=(img_height, img_width))\n",
    "x = image.img_to_array(img)\n",
    "x = np.expand_dims(x, axis = 0)\n",
    "\n",
    "predictions = net.predict(x)\n",
    "score = tf.nn.softmax(predictions[0])\n",
    "\n",
    "print(\n",
    "    \"This image most likely belongs to {} with a {:.2f} percent confidence.\"\n",
    "    .format(class_names[np.argmax(score)], 100 * np.max(score))\n",
    ")"
   ]
  },
  {
   "cell_type": "code",
   "execution_count": 0,
   "metadata": {
    "application/vnd.databricks.v1+cell": {
     "inputWidgets": {},
     "nuid": "d208d1da-8b77-4563-bb9a-524e91a544dc",
     "showTitle": false,
     "title": ""
    }
   },
   "outputs": [
    {
     "data": {
      "text/html": [
       "<style scoped>\n",
       "  .ansiout {\n",
       "    display: block;\n",
       "    unicode-bidi: embed;\n",
       "    white-space: pre-wrap;\n",
       "    word-wrap: break-word;\n",
       "    word-break: break-all;\n",
       "    font-family: \"Source Code Pro\", \"Menlo\", monospace;;\n",
       "    font-size: 13px;\n",
       "    color: #555;\n",
       "    margin-left: 4px;\n",
       "    line-height: 19px;\n",
       "  }\n",
       "</style>\n",
       "<div class=\"ansiout\"></div>"
      ]
     },
     "metadata": {
      "application/vnd.databricks.v1+output": {
       "addedWidgets": {},
       "arguments": {},
       "data": "<div class=\"ansiout\"></div>",
       "datasetInfos": [],
       "metadata": {},
       "removedWidgets": [],
       "type": "html"
      }
     },
     "output_type": "display_data"
    }
   ],
   "source": [
    "# Making variable from full list of file paths.\n",
    "test_image_file_paths = test_images['filepaths']"
   ]
  },
  {
   "cell_type": "code",
   "execution_count": 0,
   "metadata": {
    "application/vnd.databricks.v1+cell": {
     "inputWidgets": {},
     "nuid": "50686d42-1b08-4855-81da-58d92b811b81",
     "showTitle": false,
     "title": ""
    }
   },
   "outputs": [
    {
     "data": {
      "text/html": [
       "<style scoped>\n",
       "  .ansiout {\n",
       "    display: block;\n",
       "    unicode-bidi: embed;\n",
       "    white-space: pre-wrap;\n",
       "    word-wrap: break-word;\n",
       "    word-break: break-all;\n",
       "    font-family: \"Source Code Pro\", \"Menlo\", monospace;;\n",
       "    font-size: 13px;\n",
       "    color: #555;\n",
       "    margin-left: 4px;\n",
       "    line-height: 19px;\n",
       "  }\n",
       "</style>\n",
       "<div class=\"ansiout\">/dbfs/mnt/eason/pneumonia_classification_challenge/pneumonia_dataset/test/CXR_test_519.png pneumonia 99.44\n",
       "/dbfs/mnt/eason/pneumonia_classification_challenge/pneumonia_dataset/test/CXR_test_578.png pneumonia 93.69\n",
       "/dbfs/mnt/eason/pneumonia_classification_challenge/pneumonia_dataset/test/CXR_test_359.png normal 60.02\n",
       "/dbfs/mnt/eason/pneumonia_classification_challenge/pneumonia_dataset/test/CXR_test_573.png pneumonia 68.87\n",
       "/dbfs/mnt/eason/pneumonia_classification_challenge/pneumonia_dataset/test/CXR_test_471.png pneumonia 57.49\n",
       "/dbfs/mnt/eason/pneumonia_classification_challenge/pneumonia_dataset/test/CXR_test_418.png normal 99.58\n",
       "/dbfs/mnt/eason/pneumonia_classification_challenge/pneumonia_dataset/test/CXR_test_597.png normal 80.4\n",
       "/dbfs/mnt/eason/pneumonia_classification_challenge/pneumonia_dataset/test/CXR_test_372.png normal 99.89\n",
       "/dbfs/mnt/eason/pneumonia_classification_challenge/pneumonia_dataset/test/CXR_test_264.png pneumonia 96.22\n",
       "/dbfs/mnt/eason/pneumonia_classification_challenge/pneumonia_dataset/test/CXR_test_262.png normal 100.0\n",
       "/dbfs/mnt/eason/pneumonia_classification_challenge/pneumonia_dataset/test/CXR_test_54.png pneumonia 98.66\n",
       "/dbfs/mnt/eason/pneumonia_classification_challenge/pneumonia_dataset/test/CXR_test_521.png pneumonia 95.51\n",
       "/dbfs/mnt/eason/pneumonia_classification_challenge/pneumonia_dataset/test/CXR_test_500.png normal 98.63\n",
       "/dbfs/mnt/eason/pneumonia_classification_challenge/pneumonia_dataset/test/CXR_test_585.png pneumonia 69.35\n",
       "/dbfs/mnt/eason/pneumonia_classification_challenge/pneumonia_dataset/test/CXR_test_216.png normal 99.99\n",
       "/dbfs/mnt/eason/pneumonia_classification_challenge/pneumonia_dataset/test/CXR_test_445.png pneumonia 50.31\n",
       "/dbfs/mnt/eason/pneumonia_classification_challenge/pneumonia_dataset/test/CXR_test_63.png pneumonia 99.68\n",
       "/dbfs/mnt/eason/pneumonia_classification_challenge/pneumonia_dataset/test/CXR_test_195.png pneumonia 99.94\n",
       "/dbfs/mnt/eason/pneumonia_classification_challenge/pneumonia_dataset/test/CXR_test_84.png pneumonia 99.88\n",
       "/dbfs/mnt/eason/pneumonia_classification_challenge/pneumonia_dataset/test/CXR_test_274.png pneumonia 77.06\n",
       "/dbfs/mnt/eason/pneumonia_classification_challenge/pneumonia_dataset/test/CXR_test_346.png normal 99.93\n",
       "/dbfs/mnt/eason/pneumonia_classification_challenge/pneumonia_dataset/test/CXR_test_385.png pneumonia 99.94\n",
       "/dbfs/mnt/eason/pneumonia_classification_challenge/pneumonia_dataset/test/CXR_test_181.png normal 99.99\n",
       "/dbfs/mnt/eason/pneumonia_classification_challenge/pneumonia_dataset/test/CXR_test_453.png pneumonia 99.98\n",
       "/dbfs/mnt/eason/pneumonia_classification_challenge/pneumonia_dataset/test/CXR_test_407.png normal 98.81\n",
       "/dbfs/mnt/eason/pneumonia_classification_challenge/pneumonia_dataset/test/CXR_test_560.png pneumonia 99.94\n",
       "/dbfs/mnt/eason/pneumonia_classification_challenge/pneumonia_dataset/test/CXR_test_448.png pneumonia 99.94\n",
       "/dbfs/mnt/eason/pneumonia_classification_challenge/pneumonia_dataset/test/CXR_test_390.png pneumonia 72.28\n",
       "/dbfs/mnt/eason/pneumonia_classification_challenge/pneumonia_dataset/test/CXR_test_243.png normal 93.63\n",
       "/dbfs/mnt/eason/pneumonia_classification_challenge/pneumonia_dataset/test/CXR_test_130.png pneumonia 99.93\n",
       "/dbfs/mnt/eason/pneumonia_classification_challenge/pneumonia_dataset/test/CXR_test_143.png normal 99.99\n",
       "/dbfs/mnt/eason/pneumonia_classification_challenge/pneumonia_dataset/test/CXR_test_309.png normal 61.73\n",
       "/dbfs/mnt/eason/pneumonia_classification_challenge/pneumonia_dataset/test/CXR_test_293.png normal 58.26\n",
       "/dbfs/mnt/eason/pneumonia_classification_challenge/pneumonia_dataset/test/CXR_test_23.png normal 99.51\n",
       "/dbfs/mnt/eason/pneumonia_classification_challenge/pneumonia_dataset/test/CXR_test_57.png pneumonia 96.23\n",
       "/dbfs/mnt/eason/pneumonia_classification_challenge/pneumonia_dataset/test/CXR_test_357.png pneumonia 89.04\n",
       "/dbfs/mnt/eason/pneumonia_classification_challenge/pneumonia_dataset/test/CXR_test_161.png pneumonia 99.1\n",
       "/dbfs/mnt/eason/pneumonia_classification_challenge/pneumonia_dataset/test/CXR_test_6.png pneumonia 94.73\n",
       "/dbfs/mnt/eason/pneumonia_classification_challenge/pneumonia_dataset/test/CXR_test_556.png pneumonia 62.4\n",
       "/dbfs/mnt/eason/pneumonia_classification_challenge/pneumonia_dataset/test/CXR_test_473.png pneumonia 99.32\n",
       "/dbfs/mnt/eason/pneumonia_classification_challenge/pneumonia_dataset/test/CXR_test_56.png pneumonia 96.91\n",
       "/dbfs/mnt/eason/pneumonia_classification_challenge/pneumonia_dataset/test/CXR_test_488.png normal 99.86\n",
       "/dbfs/mnt/eason/pneumonia_classification_challenge/pneumonia_dataset/test/CXR_test_494.png normal 99.93\n",
       "/dbfs/mnt/eason/pneumonia_classification_challenge/pneumonia_dataset/test/CXR_test_434.png normal 99.99\n",
       "/dbfs/mnt/eason/pneumonia_classification_challenge/pneumonia_dataset/test/CXR_test_85.png pneumonia 67.06\n",
       "/dbfs/mnt/eason/pneumonia_classification_challenge/pneumonia_dataset/test/CXR_test_225.png pneumonia 100.0\n",
       "/dbfs/mnt/eason/pneumonia_classification_challenge/pneumonia_dataset/test/CXR_test_450.png normal 100.0\n",
       "/dbfs/mnt/eason/pneumonia_classification_challenge/pneumonia_dataset/test/CXR_test_88.png pneumonia 92.5\n",
       "/dbfs/mnt/eason/pneumonia_classification_challenge/pneumonia_dataset/test/CXR_test_26.png pneumonia 99.99\n",
       "/dbfs/mnt/eason/pneumonia_classification_challenge/pneumonia_dataset/test/CXR_test_592.png pneumonia 87.43\n",
       "/dbfs/mnt/eason/pneumonia_classification_challenge/pneumonia_dataset/test/CXR_test_595.png normal 50.0\n",
       "/dbfs/mnt/eason/pneumonia_classification_challenge/pneumonia_dataset/test/CXR_test_154.png pneumonia 98.7\n",
       "/dbfs/mnt/eason/pneumonia_classification_challenge/pneumonia_dataset/test/CXR_test_596.png normal 98.21\n",
       "/dbfs/mnt/eason/pneumonia_classification_challenge/pneumonia_dataset/test/CXR_test_541.png pneumonia 99.59\n",
       "/dbfs/mnt/eason/pneumonia_classification_challenge/pneumonia_dataset/test/CXR_test_284.png pneumonia 100.0\n",
       "/dbfs/mnt/eason/pneumonia_classification_challenge/pneumonia_dataset/test/CXR_test_303.png pneumonia 99.99\n",
       "/dbfs/mnt/eason/pneumonia_classification_challenge/pneumonia_dataset/test/CXR_test_55.png normal 99.63\n",
       "/dbfs/mnt/eason/pneumonia_classification_challenge/pneumonia_dataset/test/CXR_test_89.png normal 50.0\n",
       "/dbfs/mnt/eason/pneumonia_classification_challenge/pneumonia_dataset/test/CXR_test_71.png pneumonia 99.38\n",
       "/dbfs/mnt/eason/pneumonia_classification_challenge/pneumonia_dataset/test/CXR_test_590.png normal 90.09\n",
       "/dbfs/mnt/eason/pneumonia_classification_challenge/pneumonia_dataset/test/CXR_test_368.png pneumonia 99.69\n",
       "/dbfs/mnt/eason/pneumonia_classification_challenge/pneumonia_dataset/test/CXR_test_266.png normal 99.81\n",
       "/dbfs/mnt/eason/pneumonia_classification_challenge/pneumonia_dataset/test/CXR_test_598.png pneumonia 99.97\n",
       "/dbfs/mnt/eason/pneumonia_classification_challenge/pneumonia_dataset/test/CXR_test_375.png pneumonia 93.34\n",
       "/dbfs/mnt/eason/pneumonia_classification_challenge/pneumonia_dataset/test/CXR_test_484.png normal 99.99\n",
       "/dbfs/mnt/eason/pneumonia_classification_challenge/pneumonia_dataset/test/CXR_test_239.png pneumonia 99.95\n",
       "/dbfs/mnt/eason/pneumonia_classification_challenge/pneumonia_dataset/test/CXR_test_412.png pneumonia 88.37\n",
       "/dbfs/mnt/eason/pneumonia_classification_challenge/pneumonia_dataset/test/CXR_test_377.png pneumonia 98.65\n",
       "/dbfs/mnt/eason/pneumonia_classification_challenge/pneumonia_dataset/test/CXR_test_535.png pneumonia 99.9\n",
       "/dbfs/mnt/eason/pneumonia_classification_challenge/pneumonia_dataset/test/CXR_test_59.png normal 50.0\n",
       "/dbfs/mnt/eason/pneumonia_classification_challenge/pneumonia_dataset/test/CXR_test_80.png pneumonia 99.46\n",
       "/dbfs/mnt/eason/pneumonia_classification_challenge/pneumonia_dataset/test/CXR_test_324.png pneumonia 97.96\n",
       "/dbfs/mnt/eason/pneumonia_classification_challenge/pneumonia_dataset/test/CXR_test_325.png pneumonia 83.9\n",
       "/dbfs/mnt/eason/pneumonia_classification_challenge/pneumonia_dataset/test/CXR_test_476.png normal 99.93\n",
       "/dbfs/mnt/eason/pneumonia_classification_challenge/pneumonia_dataset/test/CXR_test_113.png normal 95.13\n",
       "/dbfs/mnt/eason/pneumonia_classification_challenge/pneumonia_dataset/test/CXR_test_472.png pneumonia 97.22\n",
       "/dbfs/mnt/eason/pneumonia_classification_challenge/pneumonia_dataset/test/CXR_test_429.png normal 99.83\n",
       "/dbfs/mnt/eason/pneumonia_classification_challenge/pneumonia_dataset/test/CXR_test_286.png pneumonia 89.3\n",
       "/dbfs/mnt/eason/pneumonia_classification_challenge/pneumonia_dataset/test/CXR_test_465.png normal 96.99\n",
       "/dbfs/mnt/eason/pneumonia_classification_challenge/pneumonia_dataset/test/CXR_test_46.png pneumonia 94.78\n",
       "/dbfs/mnt/eason/pneumonia_classification_challenge/pneumonia_dataset/test/CXR_test_75.png pneumonia 99.99\n",
       "/dbfs/mnt/eason/pneumonia_classification_challenge/pneumonia_dataset/test/CXR_test_536.png pneumonia 97.93\n",
       "/dbfs/mnt/eason/pneumonia_classification_challenge/pneumonia_dataset/test/CXR_test_234.png normal 53.46\n",
       "/dbfs/mnt/eason/pneumonia_classification_challenge/pneumonia_dataset/test/CXR_test_82.png normal 84.79\n",
       "/dbfs/mnt/eason/pneumonia_classification_challenge/pneumonia_dataset/test/CXR_test_567.png normal 51.2\n",
       "/dbfs/mnt/eason/pneumonia_classification_challenge/pneumonia_dataset/test/CXR_test_313.png normal 99.97\n",
       "/dbfs/mnt/eason/pneumonia_classification_challenge/pneumonia_dataset/test/CXR_test_290.png pneumonia 99.84\n",
       "/dbfs/mnt/eason/pneumonia_classification_challenge/pneumonia_dataset/test/CXR_test_534.png normal 95.69\n",
       "/dbfs/mnt/eason/pneumonia_classification_challenge/pneumonia_dataset/test/CXR_test_172.png normal 60.36\n",
       "/dbfs/mnt/eason/pneumonia_classification_challenge/pneumonia_dataset/test/CXR_test_185.png normal 99.97\n",
       "/dbfs/mnt/eason/pneumonia_classification_challenge/pneumonia_dataset/test/CXR_test_550.png normal 97.89\n",
       "/dbfs/mnt/eason/pneumonia_classification_challenge/pneumonia_dataset/test/CXR_test_238.png pneumonia 86.5\n",
       "/dbfs/mnt/eason/pneumonia_classification_challenge/pneumonia_dataset/test/CXR_test_360.png pneumonia 82.62\n",
       "/dbfs/mnt/eason/pneumonia_classification_challenge/pneumonia_dataset/test/CXR_test_402.png pneumonia 94.28\n",
       "/dbfs/mnt/eason/pneumonia_classification_challenge/pneumonia_dataset/test/CXR_test_451.png pneumonia 97.94\n",
       "/dbfs/mnt/eason/pneumonia_classification_challenge/pneumonia_dataset/test/CXR_test_363.png pneumonia 99.99\n",
       "/dbfs/mnt/eason/pneumonia_classification_challenge/pneumonia_dataset/test/CXR_test_121.png pneumonia 94.44\n",
       "/dbfs/mnt/eason/pneumonia_classification_challenge/pneumonia_dataset/test/CXR_test_184.png pneumonia 79.33\n",
       "/dbfs/mnt/eason/pneumonia_classification_challenge/pneumonia_dataset/test/CXR_test_400.png normal 94.72\n",
       "/dbfs/mnt/eason/pneumonia_classification_challenge/pneumonia_dataset/test/CXR_test_252.png pneumonia 99.91\n",
       "/dbfs/mnt/eason/pneumonia_classification_challenge/pneumonia_dataset/test/CXR_test_430.png pneumonia 97.85\n",
       "/dbfs/mnt/eason/pneumonia_classification_challenge/pneumonia_dataset/test/CXR_test_381.png normal 99.84\n",
       "/dbfs/mnt/eason/pneumonia_classification_challenge/pneumonia_dataset/test/CXR_test_345.png pneumonia 99.25\n",
       "/dbfs/mnt/eason/pneumonia_classification_challenge/pneumonia_dataset/test/CXR_test_566.png pneumonia 63.36\n",
       "/dbfs/mnt/eason/pneumonia_classification_challenge/pneumonia_dataset/test/CXR_test_432.png pneumonia 95.65\n",
       "/dbfs/mnt/eason/pneumonia_classification_challenge/pneumonia_dataset/test/CXR_test_454.png pneumonia 87.42\n",
       "/dbfs/mnt/eason/pneumonia_classification_challenge/pneumonia_dataset/test/CXR_test_604.png pneumonia 62.52\n",
       "/dbfs/mnt/eason/pneumonia_classification_challenge/pneumonia_dataset/test/CXR_test_575.png normal 99.36\n",
       "/dbfs/mnt/eason/pneumonia_classification_challenge/pneumonia_dataset/test/CXR_test_335.png normal 99.98\n",
       "/dbfs/mnt/eason/pneumonia_classification_challenge/pneumonia_dataset/test/CXR_test_361.png normal 99.96\n",
       "/dbfs/mnt/eason/pneumonia_classification_challenge/pneumonia_dataset/test/CXR_test_100.png pneumonia 93.03\n",
       "/dbfs/mnt/eason/pneumonia_classification_challenge/pneumonia_dataset/test/CXR_test_457.png normal 51.0\n",
       "/dbfs/mnt/eason/pneumonia_classification_challenge/pneumonia_dataset/test/CXR_test_444.png pneumonia 66.47\n",
       "/dbfs/mnt/eason/pneumonia_classification_challenge/pneumonia_dataset/test/CXR_test_593.png pneumonia 93.43\n",
       "/dbfs/mnt/eason/pneumonia_classification_challenge/pneumonia_dataset/test/CXR_test_564.png pneumonia 94.99\n",
       "/dbfs/mnt/eason/pneumonia_classification_challenge/pneumonia_dataset/test/CXR_test_128.png normal 88.4\n",
       "/dbfs/mnt/eason/pneumonia_classification_challenge/pneumonia_dataset/test/CXR_test_189.png pneumonia 99.88\n",
       "/dbfs/mnt/eason/pneumonia_classification_challenge/pneumonia_dataset/test/CXR_test_559.png pneumonia 93.04\n",
       "/dbfs/mnt/eason/pneumonia_classification_challenge/pneumonia_dataset/test/CXR_test_87.png pneumonia 100.0\n",
       "/dbfs/mnt/eason/pneumonia_classification_challenge/pneumonia_dataset/test/CXR_test_579.png normal 75.8\n",
       "/dbfs/mnt/eason/pneumonia_classification_challenge/pneumonia_dataset/test/CXR_test_435.png normal 99.9\n",
       "/dbfs/mnt/eason/pneumonia_classification_challenge/pneumonia_dataset/test/CXR_test_367.png pneumonia 81.57\n",
       "/dbfs/mnt/eason/pneumonia_classification_challenge/pneumonia_dataset/test/CXR_test_352.png pneumonia 88.79\n",
       "/dbfs/mnt/eason/pneumonia_classification_challenge/pneumonia_dataset/test/CXR_test_267.png pneumonia 99.38\n",
       "/dbfs/mnt/eason/pneumonia_classification_challenge/pneumonia_dataset/test/CXR_test_107.png pneumonia 98.59\n",
       "/dbfs/mnt/eason/pneumonia_classification_challenge/pneumonia_dataset/test/CXR_test_282.png normal 67.26\n",
       "/dbfs/mnt/eason/pneumonia_classification_challenge/pneumonia_dataset/test/CXR_test_226.png pneumonia 98.02\n",
       "/dbfs/mnt/eason/pneumonia_classification_challenge/pneumonia_dataset/test/CXR_test_446.png normal 69.5\n",
       "/dbfs/mnt/eason/pneumonia_classification_challenge/pneumonia_dataset/test/CXR_test_146.png pneumonia 99.97\n",
       "/dbfs/mnt/eason/pneumonia_classification_challenge/pneumonia_dataset/test/CXR_test_114.png pneumonia 70.57\n",
       "/dbfs/mnt/eason/pneumonia_classification_challenge/pneumonia_dataset/test/CXR_test_302.png normal 80.54\n",
       "/dbfs/mnt/eason/pneumonia_classification_challenge/pneumonia_dataset/test/CXR_test_572.png pneumonia 99.98\n",
       "/dbfs/mnt/eason/pneumonia_classification_challenge/pneumonia_dataset/test/CXR_test_522.png normal 95.07\n",
       "/dbfs/mnt/eason/pneumonia_classification_challenge/pneumonia_dataset/test/CXR_test_206.png pneumonia 79.46\n",
       "/dbfs/mnt/eason/pneumonia_classification_challenge/pneumonia_dataset/test/CXR_test_117.png pneumonia 99.22\n",
       "/dbfs/mnt/eason/pneumonia_classification_challenge/pneumonia_dataset/test/CXR_test_253.png pneumonia 99.96\n",
       "/dbfs/mnt/eason/pneumonia_classification_challenge/pneumonia_dataset/test/CXR_test_437.png pneumonia 88.79\n",
       "/dbfs/mnt/eason/pneumonia_classification_challenge/pneumonia_dataset/test/CXR_test_214.png pneumonia 74.74\n",
       "/dbfs/mnt/eason/pneumonia_classification_challenge/pneumonia_dataset/test/CXR_test_460.png normal 99.76\n",
       "/dbfs/mnt/eason/pneumonia_classification_challenge/pneumonia_dataset/test/CXR_test_224.png normal 99.81\n",
       "/dbfs/mnt/eason/pneumonia_classification_challenge/pneumonia_dataset/test/CXR_test_190.png pneumonia 96.65\n",
       "/dbfs/mnt/eason/pneumonia_classification_challenge/pneumonia_dataset/test/CXR_test_227.png pneumonia 98.92\n",
       "/dbfs/mnt/eason/pneumonia_classification_challenge/pneumonia_dataset/test/CXR_test_329.png pneumonia 99.41\n",
       "/dbfs/mnt/eason/pneumonia_classification_challenge/pneumonia_dataset/test/CXR_test_350.png pneumonia 99.97\n",
       "/dbfs/mnt/eason/pneumonia_classification_challenge/pneumonia_dataset/test/CXR_test_538.png pneumonia 98.3\n",
       "/dbfs/mnt/eason/pneumonia_classification_challenge/pneumonia_dataset/test/CXR_test_106.png normal 99.95\n",
       "/dbfs/mnt/eason/pneumonia_classification_challenge/pneumonia_dataset/test/CXR_test_167.png normal 98.92\n",
       "/dbfs/mnt/eason/pneumonia_classification_challenge/pneumonia_dataset/test/CXR_test_17.png normal 100.0\n",
       "/dbfs/mnt/eason/pneumonia_classification_challenge/pneumonia_dataset/test/CXR_test_137.png pneumonia 73.92\n",
       "/dbfs/mnt/eason/pneumonia_classification_challenge/pneumonia_dataset/test/CXR_test_157.png pneumonia 96.58\n",
       "/dbfs/mnt/eason/pneumonia_classification_challenge/pneumonia_dataset/test/CXR_test_270.png pneumonia 80.84\n",
       "/dbfs/mnt/eason/pneumonia_classification_challenge/pneumonia_dataset/test/CXR_test_103.png normal 56.13\n",
       "/dbfs/mnt/eason/pneumonia_classification_challenge/pneumonia_dataset/test/CXR_test_277.png normal 99.95\n",
       "/dbfs/mnt/eason/pneumonia_classification_challenge/pneumonia_dataset/test/CXR_test_503.png pneumonia 99.46\n",
       "/dbfs/mnt/eason/pneumonia_classification_challenge/pneumonia_dataset/test/CXR_test_549.png pneumonia 98.48\n",
       "/dbfs/mnt/eason/pneumonia_classification_challenge/pneumonia_dataset/test/CXR_test_283.png pneumonia 99.37\n",
       "/dbfs/mnt/eason/pneumonia_classification_challenge/pneumonia_dataset/test/CXR_test_577.png normal 98.31\n",
       "/dbfs/mnt/eason/pneumonia_classification_challenge/pneumonia_dataset/test/CXR_test_605.png pneumonia 100.0\n",
       "/dbfs/mnt/eason/pneumonia_classification_challenge/pneumonia_dataset/test/CXR_test_168.png pneumonia 93.85\n",
       "/dbfs/mnt/eason/pneumonia_classification_challenge/pneumonia_dataset/test/CXR_test_188.png normal 99.96\n",
       "/dbfs/mnt/eason/pneumonia_classification_challenge/pneumonia_dataset/test/CXR_test_505.png pneumonia 99.04\n",
       "/dbfs/mnt/eason/pneumonia_classification_challenge/pneumonia_dataset/test/CXR_test_517.png pneumonia 52.77\n",
       "/dbfs/mnt/eason/pneumonia_classification_challenge/pneumonia_dataset/test/CXR_test_399.png pneumonia 99.85\n",
       "/dbfs/mnt/eason/pneumonia_classification_challenge/pneumonia_dataset/test/CXR_test_212.png normal 99.9\n",
       "/dbfs/mnt/eason/pneumonia_classification_challenge/pneumonia_dataset/test/CXR_test_160.png pneumonia 98.84\n",
       "/dbfs/mnt/eason/pneumonia_classification_challenge/pneumonia_dataset/test/CXR_test_431.png pneumonia 99.97\n",
       "/dbfs/mnt/eason/pneumonia_classification_challenge/pneumonia_dataset/test/CXR_test_69.png pneumonia 99.22\n",
       "/dbfs/mnt/eason/pneumonia_classification_challenge/pneumonia_dataset/test/CXR_test_198.png normal 99.95\n",
       "/dbfs/mnt/eason/pneumonia_classification_challenge/pneumonia_dataset/test/CXR_test_74.png normal 99.16\n",
       "/dbfs/mnt/eason/pneumonia_classification_challenge/pneumonia_dataset/test/CXR_test_178.png pneumonia 99.63\n",
       "/dbfs/mnt/eason/pneumonia_classification_challenge/pneumonia_dataset/test/CXR_test_62.png normal 61.29\n",
       "/dbfs/mnt/eason/pneumonia_classification_challenge/pneumonia_dataset/test/CXR_test_289.png normal 50.0\n",
       "/dbfs/mnt/eason/pneumonia_classification_challenge/pneumonia_dataset/test/CXR_test_112.png normal 85.88\n",
       "/dbfs/mnt/eason/pneumonia_classification_challenge/pneumonia_dataset/test/CXR_test_29.png pneumonia 99.82\n",
       "/dbfs/mnt/eason/pneumonia_classification_challenge/pneumonia_dataset/test/CXR_test_288.png normal 97.43\n",
       "/dbfs/mnt/eason/pneumonia_classification_challenge/pneumonia_dataset/test/CXR_test_393.png normal 50.0\n",
       "/dbfs/mnt/eason/pneumonia_classification_challenge/pneumonia_dataset/test/CXR_test_70.png pneumonia 64.57\n",
       "/dbfs/mnt/eason/pneumonia_classification_challenge/pneumonia_dataset/test/CXR_test_177.png pneumonia 99.95\n",
       "/dbfs/mnt/eason/pneumonia_classification_challenge/pneumonia_dataset/test/CXR_test_562.png normal 99.37\n",
       "/dbfs/mnt/eason/pneumonia_classification_challenge/pneumonia_dataset/test/CXR_test_45.png normal 99.97\n",
       "/dbfs/mnt/eason/pneumonia_classification_challenge/pneumonia_dataset/test/CXR_test_479.png pneumonia 99.93\n",
       "/dbfs/mnt/eason/pneumonia_classification_challenge/pneumonia_dataset/test/CXR_test_408.png normal 97.48\n",
       "/dbfs/mnt/eason/pneumonia_classification_challenge/pneumonia_dataset/test/CXR_test_482.png normal 94.08\n",
       "/dbfs/mnt/eason/pneumonia_classification_challenge/pneumonia_dataset/test/CXR_test_312.png normal 99.59\n",
       "/dbfs/mnt/eason/pneumonia_classification_challenge/pneumonia_dataset/test/CXR_test_123.png pneumonia 61.22\n",
       "/dbfs/mnt/eason/pneumonia_classification_challenge/pneumonia_dataset/test/CXR_test_22.png normal 75.15\n",
       "/dbfs/mnt/eason/pneumonia_classification_challenge/pneumonia_dataset/test/CXR_test_32.png normal 96.68\n",
       "/dbfs/mnt/eason/pneumonia_classification_challenge/pneumonia_dataset/test/CXR_test_25.png pneumonia 72.02\n",
       "/dbfs/mnt/eason/pneumonia_classification_challenge/pneumonia_dataset/test/CXR_test_118.png normal 99.99\n",
       "/dbfs/mnt/eason/pneumonia_classification_challenge/pneumonia_dataset/test/CXR_test_93.png pneumonia 98.73\n",
       "/dbfs/mnt/eason/pneumonia_classification_challenge/pneumonia_dataset/test/CXR_test_527.png pneumonia 96.3\n",
       "/dbfs/mnt/eason/pneumonia_classification_challenge/pneumonia_dataset/test/CXR_test_436.png normal 97.37\n",
       "/dbfs/mnt/eason/pneumonia_classification_challenge/pneumonia_dataset/test/CXR_test_331.png pneumonia 98.44\n",
       "/dbfs/mnt/eason/pneumonia_classification_challenge/pneumonia_dataset/test/CXR_test_524.png pneumonia 96.86\n",
       "/dbfs/mnt/eason/pneumonia_classification_challenge/pneumonia_dataset/test/CXR_test_47.png normal 89.71\n",
       "/dbfs/mnt/eason/pneumonia_classification_challenge/pneumonia_dataset/test/CXR_test_148.png normal 99.85\n",
       "/dbfs/mnt/eason/pneumonia_classification_challenge/pneumonia_dataset/test/CXR_test_94.png pneumonia 51.39\n",
       "/dbfs/mnt/eason/pneumonia_classification_challenge/pneumonia_dataset/test/CXR_test_307.png pneumonia 86.38\n",
       "/dbfs/mnt/eason/pneumonia_classification_challenge/pneumonia_dataset/test/CXR_test_499.png pneumonia 99.74\n",
       "/dbfs/mnt/eason/pneumonia_classification_challenge/pneumonia_dataset/test/CXR_test_339.png pneumonia 94.16\n",
       "/dbfs/mnt/eason/pneumonia_classification_challenge/pneumonia_dataset/test/CXR_test_369.png pneumonia 80.23\n",
       "/dbfs/mnt/eason/pneumonia_classification_challenge/pneumonia_dataset/test/CXR_test_73.png normal 99.98\n",
       "/dbfs/mnt/eason/pneumonia_classification_challenge/pneumonia_dataset/test/CXR_test_246.png pneumonia 52.5\n",
       "/dbfs/mnt/eason/pneumonia_classification_challenge/pneumonia_dataset/test/CXR_test_583.png pneumonia 52.66\n",
       "/dbfs/mnt/eason/pneumonia_classification_challenge/pneumonia_dataset/test/CXR_test_584.png pneumonia 71.75\n",
       "/dbfs/mnt/eason/pneumonia_classification_challenge/pneumonia_dataset/test/CXR_test_27.png normal 97.76\n",
       "/dbfs/mnt/eason/pneumonia_classification_challenge/pneumonia_dataset/test/CXR_test_502.png normal 93.67\n",
       "/dbfs/mnt/eason/pneumonia_classification_challenge/pneumonia_dataset/test/CXR_test_140.png normal 50.0\n",
       "/dbfs/mnt/eason/pneumonia_classification_challenge/pneumonia_dataset/test/CXR_test_14.png normal 99.93\n",
       "/dbfs/mnt/eason/pneumonia_classification_challenge/pneumonia_dataset/test/CXR_test_348.png normal 50.0\n",
       "/dbfs/mnt/eason/pneumonia_classification_challenge/pneumonia_dataset/test/CXR_test_64.png normal 99.98\n",
       "/dbfs/mnt/eason/pneumonia_classification_challenge/pneumonia_dataset/test/CXR_test_219.png pneumonia 88.78\n",
       "/dbfs/mnt/eason/pneumonia_classification_challenge/pneumonia_dataset/test/CXR_test_133.png normal 87.09\n",
       "/dbfs/mnt/eason/pneumonia_classification_challenge/pneumonia_dataset/test/CXR_test_373.png normal 97.81\n",
       "/dbfs/mnt/eason/pneumonia_classification_challenge/pneumonia_dataset/test/CXR_test_53.png pneumonia 99.93\n",
       "/dbfs/mnt/eason/pneumonia_classification_challenge/pneumonia_dataset/test/CXR_test_396.png pneumonia 92.87\n",
       "/dbfs/mnt/eason/pneumonia_classification_challenge/pneumonia_dataset/test/CXR_test_202.png normal 100.0\n",
       "\n",
       "*** WARNING: skipped 19935 bytes of output ***\n",
       "\n",
       "/dbfs/mnt/eason/pneumonia_classification_challenge/pneumonia_dataset/test/CXR_test_468.png normal 100.0\n",
       "/dbfs/mnt/eason/pneumonia_classification_challenge/pneumonia_dataset/test/CXR_test_145.png normal 99.93\n",
       "/dbfs/mnt/eason/pneumonia_classification_challenge/pneumonia_dataset/test/CXR_test_565.png pneumonia 97.85\n",
       "/dbfs/mnt/eason/pneumonia_classification_challenge/pneumonia_dataset/test/CXR_test_16.png pneumonia 97.3\n",
       "/dbfs/mnt/eason/pneumonia_classification_challenge/pneumonia_dataset/test/CXR_test_599.png normal 99.46\n",
       "/dbfs/mnt/eason/pneumonia_classification_challenge/pneumonia_dataset/test/CXR_test_37.png pneumonia 56.08\n",
       "/dbfs/mnt/eason/pneumonia_classification_challenge/pneumonia_dataset/test/CXR_test_78.png pneumonia 50.29\n",
       "/dbfs/mnt/eason/pneumonia_classification_challenge/pneumonia_dataset/test/CXR_test_314.png normal 99.98\n",
       "/dbfs/mnt/eason/pneumonia_classification_challenge/pneumonia_dataset/test/CXR_test_341.png pneumonia 95.08\n",
       "/dbfs/mnt/eason/pneumonia_classification_challenge/pneumonia_dataset/test/CXR_test_38.png pneumonia 99.49\n",
       "/dbfs/mnt/eason/pneumonia_classification_challenge/pneumonia_dataset/test/CXR_test_175.png pneumonia 99.26\n",
       "/dbfs/mnt/eason/pneumonia_classification_challenge/pneumonia_dataset/test/CXR_test_509.png pneumonia 98.79\n",
       "/dbfs/mnt/eason/pneumonia_classification_challenge/pneumonia_dataset/test/CXR_test_370.png pneumonia 98.57\n",
       "/dbfs/mnt/eason/pneumonia_classification_challenge/pneumonia_dataset/test/CXR_test_83.png pneumonia 99.33\n",
       "/dbfs/mnt/eason/pneumonia_classification_challenge/pneumonia_dataset/test/CXR_test_65.png normal 79.0\n",
       "/dbfs/mnt/eason/pneumonia_classification_challenge/pneumonia_dataset/test/CXR_test_552.png pneumonia 99.03\n",
       "/dbfs/mnt/eason/pneumonia_classification_challenge/pneumonia_dataset/test/CXR_test_79.png normal 99.78\n",
       "/dbfs/mnt/eason/pneumonia_classification_challenge/pneumonia_dataset/test/CXR_test_365.png pneumonia 98.89\n",
       "/dbfs/mnt/eason/pneumonia_classification_challenge/pneumonia_dataset/test/CXR_test_116.png normal 88.91\n",
       "/dbfs/mnt/eason/pneumonia_classification_challenge/pneumonia_dataset/test/CXR_test_304.png normal 93.42\n",
       "/dbfs/mnt/eason/pneumonia_classification_challenge/pneumonia_dataset/test/CXR_test_580.png normal 50.0\n",
       "/dbfs/mnt/eason/pneumonia_classification_challenge/pneumonia_dataset/test/CXR_test_397.png normal 98.53\n",
       "/dbfs/mnt/eason/pneumonia_classification_challenge/pneumonia_dataset/test/CXR_test_203.png normal 99.48\n",
       "/dbfs/mnt/eason/pneumonia_classification_challenge/pneumonia_dataset/test/CXR_test_319.png normal 99.97\n",
       "/dbfs/mnt/eason/pneumonia_classification_challenge/pneumonia_dataset/test/CXR_test_209.png normal 98.12\n",
       "/dbfs/mnt/eason/pneumonia_classification_challenge/pneumonia_dataset/test/CXR_test_332.png normal 100.0\n",
       "/dbfs/mnt/eason/pneumonia_classification_challenge/pneumonia_dataset/test/CXR_test_31.png pneumonia 99.26\n",
       "/dbfs/mnt/eason/pneumonia_classification_challenge/pneumonia_dataset/test/CXR_test_308.png normal 87.48\n",
       "/dbfs/mnt/eason/pneumonia_classification_challenge/pneumonia_dataset/test/CXR_test_251.png pneumonia 99.58\n",
       "/dbfs/mnt/eason/pneumonia_classification_challenge/pneumonia_dataset/test/CXR_test_380.png pneumonia 99.35\n",
       "/dbfs/mnt/eason/pneumonia_classification_challenge/pneumonia_dataset/test/CXR_test_315.png pneumonia 99.85\n",
       "/dbfs/mnt/eason/pneumonia_classification_challenge/pneumonia_dataset/test/CXR_test_91.png normal 86.98\n",
       "/dbfs/mnt/eason/pneumonia_classification_challenge/pneumonia_dataset/test/CXR_test_558.png normal 98.35\n",
       "/dbfs/mnt/eason/pneumonia_classification_challenge/pneumonia_dataset/test/CXR_test_447.png pneumonia 99.88\n",
       "/dbfs/mnt/eason/pneumonia_classification_challenge/pneumonia_dataset/test/CXR_test_464.png pneumonia 99.06\n",
       "/dbfs/mnt/eason/pneumonia_classification_challenge/pneumonia_dataset/test/CXR_test_602.png normal 99.95\n",
       "/dbfs/mnt/eason/pneumonia_classification_challenge/pneumonia_dataset/test/CXR_test_5.png pneumonia 100.0\n",
       "/dbfs/mnt/eason/pneumonia_classification_challenge/pneumonia_dataset/test/CXR_test_9.png pneumonia 66.98\n",
       "/dbfs/mnt/eason/pneumonia_classification_challenge/pneumonia_dataset/test/CXR_test_299.png normal 99.87\n",
       "/dbfs/mnt/eason/pneumonia_classification_challenge/pneumonia_dataset/test/CXR_test_512.png pneumonia 61.3\n",
       "/dbfs/mnt/eason/pneumonia_classification_challenge/pneumonia_dataset/test/CXR_test_384.png pneumonia 97.85\n",
       "/dbfs/mnt/eason/pneumonia_classification_challenge/pneumonia_dataset/test/CXR_test_419.png normal 99.98\n",
       "/dbfs/mnt/eason/pneumonia_classification_challenge/pneumonia_dataset/test/CXR_test_52.png normal 96.77\n",
       "/dbfs/mnt/eason/pneumonia_classification_challenge/pneumonia_dataset/test/CXR_test_483.png normal 58.89\n",
       "/dbfs/mnt/eason/pneumonia_classification_challenge/pneumonia_dataset/test/CXR_test_354.png normal 99.56\n",
       "/dbfs/mnt/eason/pneumonia_classification_challenge/pneumonia_dataset/test/CXR_test_72.png normal 94.66\n",
       "/dbfs/mnt/eason/pneumonia_classification_challenge/pneumonia_dataset/test/CXR_test_134.png pneumonia 87.61\n",
       "/dbfs/mnt/eason/pneumonia_classification_challenge/pneumonia_dataset/test/CXR_test_455.png pneumonia 99.7\n",
       "/dbfs/mnt/eason/pneumonia_classification_challenge/pneumonia_dataset/test/CXR_test_342.png pneumonia 99.97\n",
       "/dbfs/mnt/eason/pneumonia_classification_challenge/pneumonia_dataset/test/CXR_test_213.png pneumonia 91.72\n",
       "/dbfs/mnt/eason/pneumonia_classification_challenge/pneumonia_dataset/test/CXR_test_545.png normal 68.3\n",
       "/dbfs/mnt/eason/pneumonia_classification_challenge/pneumonia_dataset/test/CXR_test_259.png pneumonia 63.51\n",
       "/dbfs/mnt/eason/pneumonia_classification_challenge/pneumonia_dataset/test/CXR_test_135.png pneumonia 95.41\n",
       "/dbfs/mnt/eason/pneumonia_classification_challenge/pneumonia_dataset/test/CXR_test_466.png normal 99.66\n",
       "/dbfs/mnt/eason/pneumonia_classification_challenge/pneumonia_dataset/test/CXR_test_563.png pneumonia 100.0\n",
       "/dbfs/mnt/eason/pneumonia_classification_challenge/pneumonia_dataset/test/CXR_test_537.png pneumonia 94.87\n",
       "/dbfs/mnt/eason/pneumonia_classification_challenge/pneumonia_dataset/test/CXR_test_540.png pneumonia 74.03\n",
       "/dbfs/mnt/eason/pneumonia_classification_challenge/pneumonia_dataset/test/CXR_test_478.png pneumonia 96.6\n",
       "/dbfs/mnt/eason/pneumonia_classification_challenge/pneumonia_dataset/test/CXR_test_557.png normal 99.11\n",
       "/dbfs/mnt/eason/pneumonia_classification_challenge/pneumonia_dataset/test/CXR_test_426.png pneumonia 77.87\n",
       "/dbfs/mnt/eason/pneumonia_classification_challenge/pneumonia_dataset/test/CXR_test_355.png normal 95.04\n",
       "/dbfs/mnt/eason/pneumonia_classification_challenge/pneumonia_dataset/test/CXR_test_155.png pneumonia 84.61\n",
       "/dbfs/mnt/eason/pneumonia_classification_challenge/pneumonia_dataset/test/CXR_test_272.png normal 99.87\n",
       "/dbfs/mnt/eason/pneumonia_classification_challenge/pneumonia_dataset/test/CXR_test_165.png normal 67.74\n",
       "/dbfs/mnt/eason/pneumonia_classification_challenge/pneumonia_dataset/test/CXR_test_99.png normal 50.0\n",
       "/dbfs/mnt/eason/pneumonia_classification_challenge/pneumonia_dataset/test/CXR_test_507.png pneumonia 99.92\n",
       "/dbfs/mnt/eason/pneumonia_classification_challenge/pneumonia_dataset/test/CXR_test_492.png pneumonia 84.26\n",
       "/dbfs/mnt/eason/pneumonia_classification_challenge/pneumonia_dataset/test/CXR_test_379.png normal 99.97\n",
       "/dbfs/mnt/eason/pneumonia_classification_challenge/pneumonia_dataset/test/CXR_test_256.png pneumonia 99.97\n",
       "/dbfs/mnt/eason/pneumonia_classification_challenge/pneumonia_dataset/test/CXR_test_111.png pneumonia 96.1\n",
       "/dbfs/mnt/eason/pneumonia_classification_challenge/pneumonia_dataset/test/CXR_test_13.png normal 71.02\n",
       "/dbfs/mnt/eason/pneumonia_classification_challenge/pneumonia_dataset/test/CXR_test_539.png normal 99.75\n",
       "/dbfs/mnt/eason/pneumonia_classification_challenge/pneumonia_dataset/test/CXR_test_298.png normal 97.35\n",
       "/dbfs/mnt/eason/pneumonia_classification_challenge/pneumonia_dataset/test/CXR_test_554.png normal 99.9\n",
       "/dbfs/mnt/eason/pneumonia_classification_challenge/pneumonia_dataset/test/CXR_test_401.png pneumonia 81.76\n",
       "/dbfs/mnt/eason/pneumonia_classification_challenge/pneumonia_dataset/test/CXR_test_229.png normal 98.75\n",
       "/dbfs/mnt/eason/pneumonia_classification_challenge/pneumonia_dataset/test/CXR_test_152.png pneumonia 99.35\n",
       "/dbfs/mnt/eason/pneumonia_classification_challenge/pneumonia_dataset/test/CXR_test_340.png normal 100.0\n",
       "/dbfs/mnt/eason/pneumonia_classification_challenge/pneumonia_dataset/test/CXR_test_51.png pneumonia 74.6\n",
       "/dbfs/mnt/eason/pneumonia_classification_challenge/pneumonia_dataset/test/CXR_test_406.png pneumonia 63.91\n",
       "/dbfs/mnt/eason/pneumonia_classification_challenge/pneumonia_dataset/test/CXR_test_387.png pneumonia 99.91\n",
       "/dbfs/mnt/eason/pneumonia_classification_challenge/pneumonia_dataset/test/CXR_test_520.png pneumonia 99.27\n",
       "/dbfs/mnt/eason/pneumonia_classification_challenge/pneumonia_dataset/test/CXR_test_183.png pneumonia 99.79\n",
       "/dbfs/mnt/eason/pneumonia_classification_challenge/pneumonia_dataset/test/CXR_test_533.png normal 94.6\n",
       "/dbfs/mnt/eason/pneumonia_classification_challenge/pneumonia_dataset/test/CXR_test_151.png normal 99.77\n",
       "/dbfs/mnt/eason/pneumonia_classification_challenge/pneumonia_dataset/test/CXR_test_171.png normal 69.21\n",
       "/dbfs/mnt/eason/pneumonia_classification_challenge/pneumonia_dataset/test/CXR_test_462.png pneumonia 76.84\n",
       "/dbfs/mnt/eason/pneumonia_classification_challenge/pneumonia_dataset/test/CXR_test_280.png normal 99.4\n",
       "/dbfs/mnt/eason/pneumonia_classification_challenge/pneumonia_dataset/test/CXR_test_132.png normal 99.54\n",
       "/dbfs/mnt/eason/pneumonia_classification_challenge/pneumonia_dataset/test/CXR_test_115.png normal 98.91\n",
       "/dbfs/mnt/eason/pneumonia_classification_challenge/pneumonia_dataset/test/CXR_test_334.png normal 62.24\n",
       "/dbfs/mnt/eason/pneumonia_classification_challenge/pneumonia_dataset/test/CXR_test_76.png normal 76.06\n",
       "/dbfs/mnt/eason/pneumonia_classification_challenge/pneumonia_dataset/test/CXR_test_553.png normal 99.56\n",
       "/dbfs/mnt/eason/pneumonia_classification_challenge/pneumonia_dataset/test/CXR_test_97.png normal 100.0\n",
       "/dbfs/mnt/eason/pneumonia_classification_challenge/pneumonia_dataset/test/CXR_test_109.png normal 99.17\n",
       "/dbfs/mnt/eason/pneumonia_classification_challenge/pneumonia_dataset/test/CXR_test_485.png normal 68.32\n",
       "/dbfs/mnt/eason/pneumonia_classification_challenge/pneumonia_dataset/test/CXR_test_105.png normal 70.63\n",
       "/dbfs/mnt/eason/pneumonia_classification_challenge/pneumonia_dataset/test/CXR_test_422.png pneumonia 90.14\n",
       "/dbfs/mnt/eason/pneumonia_classification_challenge/pneumonia_dataset/test/CXR_test_191.png pneumonia 99.17\n",
       "/dbfs/mnt/eason/pneumonia_classification_challenge/pneumonia_dataset/test/CXR_test_362.png pneumonia 99.4\n",
       "/dbfs/mnt/eason/pneumonia_classification_challenge/pneumonia_dataset/test/CXR_test_474.png pneumonia 99.78\n",
       "/dbfs/mnt/eason/pneumonia_classification_challenge/pneumonia_dataset/test/CXR_test_603.png pneumonia 98.83\n",
       "/dbfs/mnt/eason/pneumonia_classification_challenge/pneumonia_dataset/test/CXR_test_388.png pneumonia 99.28\n",
       "/dbfs/mnt/eason/pneumonia_classification_challenge/pneumonia_dataset/test/CXR_test_281.png pneumonia 97.65\n",
       "/dbfs/mnt/eason/pneumonia_classification_challenge/pneumonia_dataset/test/CXR_test_417.png pneumonia 60.55\n",
       "/dbfs/mnt/eason/pneumonia_classification_challenge/pneumonia_dataset/test/CXR_test_120.png normal 99.99\n",
       "/dbfs/mnt/eason/pneumonia_classification_challenge/pneumonia_dataset/test/CXR_test_555.png normal 82.25\n",
       "/dbfs/mnt/eason/pneumonia_classification_challenge/pneumonia_dataset/test/CXR_test_366.png pneumonia 54.19\n",
       "/dbfs/mnt/eason/pneumonia_classification_challenge/pneumonia_dataset/test/CXR_test_440.png normal 72.91\n",
       "/dbfs/mnt/eason/pneumonia_classification_challenge/pneumonia_dataset/test/CXR_test_258.png normal 77.36\n",
       "/dbfs/mnt/eason/pneumonia_classification_challenge/pneumonia_dataset/test/CXR_test_126.png normal 78.69\n",
       "/dbfs/mnt/eason/pneumonia_classification_challenge/pneumonia_dataset/test/CXR_test_39.png normal 99.94\n",
       "/dbfs/mnt/eason/pneumonia_classification_challenge/pneumonia_dataset/test/CXR_test_260.png pneumonia 99.99\n",
       "/dbfs/mnt/eason/pneumonia_classification_challenge/pneumonia_dataset/test/CXR_test_416.png pneumonia 99.92\n",
       "/dbfs/mnt/eason/pneumonia_classification_challenge/pneumonia_dataset/test/CXR_test_222.png pneumonia 74.33\n",
       "/dbfs/mnt/eason/pneumonia_classification_challenge/pneumonia_dataset/test/CXR_test_328.png pneumonia 59.58\n",
       "/dbfs/mnt/eason/pneumonia_classification_challenge/pneumonia_dataset/test/CXR_test_58.png pneumonia 83.36\n",
       "/dbfs/mnt/eason/pneumonia_classification_challenge/pneumonia_dataset/test/CXR_test_248.png normal 99.2\n",
       "/dbfs/mnt/eason/pneumonia_classification_challenge/pneumonia_dataset/test/CXR_test_409.png normal 59.71\n",
       "/dbfs/mnt/eason/pneumonia_classification_challenge/pneumonia_dataset/test/CXR_test_301.png normal 99.36\n",
       "/dbfs/mnt/eason/pneumonia_classification_challenge/pneumonia_dataset/test/CXR_test_601.png pneumonia 99.98\n",
       "/dbfs/mnt/eason/pneumonia_classification_challenge/pneumonia_dataset/test/CXR_test_182.png pneumonia 99.07\n",
       "/dbfs/mnt/eason/pneumonia_classification_challenge/pneumonia_dataset/test/CXR_test_443.png normal 96.1\n",
       "/dbfs/mnt/eason/pneumonia_classification_challenge/pneumonia_dataset/test/CXR_test_310.png normal 99.6\n",
       "/dbfs/mnt/eason/pneumonia_classification_challenge/pneumonia_dataset/test/CXR_test_162.png normal 98.79\n",
       "/dbfs/mnt/eason/pneumonia_classification_challenge/pneumonia_dataset/test/CXR_test_526.png pneumonia 99.25\n",
       "/dbfs/mnt/eason/pneumonia_classification_challenge/pneumonia_dataset/test/CXR_test_300.png pneumonia 99.95\n",
       "/dbfs/mnt/eason/pneumonia_classification_challenge/pneumonia_dataset/test/CXR_test_326.png pneumonia 99.78\n",
       "/dbfs/mnt/eason/pneumonia_classification_challenge/pneumonia_dataset/test/CXR_test_231.png pneumonia 95.58\n",
       "/dbfs/mnt/eason/pneumonia_classification_challenge/pneumonia_dataset/test/CXR_test_568.png normal 89.7\n",
       "/dbfs/mnt/eason/pneumonia_classification_challenge/pneumonia_dataset/test/CXR_test_410.png normal 99.66\n",
       "/dbfs/mnt/eason/pneumonia_classification_challenge/pneumonia_dataset/test/CXR_test_317.png pneumonia 75.88\n",
       "/dbfs/mnt/eason/pneumonia_classification_challenge/pneumonia_dataset/test/CXR_test_18.png pneumonia 76.09\n",
       "/dbfs/mnt/eason/pneumonia_classification_challenge/pneumonia_dataset/test/CXR_test_141.png pneumonia 90.09\n",
       "/dbfs/mnt/eason/pneumonia_classification_challenge/pneumonia_dataset/test/CXR_test_86.png pneumonia 98.96\n",
       "/dbfs/mnt/eason/pneumonia_classification_challenge/pneumonia_dataset/test/CXR_test_423.png pneumonia 55.76\n",
       "/dbfs/mnt/eason/pneumonia_classification_challenge/pneumonia_dataset/test/CXR_test_278.png pneumonia 99.9\n",
       "/dbfs/mnt/eason/pneumonia_classification_challenge/pneumonia_dataset/test/CXR_test_405.png pneumonia 99.66\n",
       "/dbfs/mnt/eason/pneumonia_classification_challenge/pneumonia_dataset/test/CXR_test_96.png pneumonia 98.93\n",
       "/dbfs/mnt/eason/pneumonia_classification_challenge/pneumonia_dataset/test/CXR_test_358.png normal 99.46\n",
       "/dbfs/mnt/eason/pneumonia_classification_challenge/pneumonia_dataset/test/CXR_test_193.png pneumonia 60.79\n",
       "/dbfs/mnt/eason/pneumonia_classification_challenge/pneumonia_dataset/test/CXR_test_543.png pneumonia 88.82\n",
       "/dbfs/mnt/eason/pneumonia_classification_challenge/pneumonia_dataset/test/CXR_test_2.png normal 100.0\n",
       "/dbfs/mnt/eason/pneumonia_classification_challenge/pneumonia_dataset/test/CXR_test_41.png pneumonia 62.28\n",
       "/dbfs/mnt/eason/pneumonia_classification_challenge/pneumonia_dataset/test/CXR_test_170.png normal 99.65\n",
       "/dbfs/mnt/eason/pneumonia_classification_challenge/pneumonia_dataset/test/CXR_test_131.png pneumonia 97.34\n",
       "/dbfs/mnt/eason/pneumonia_classification_challenge/pneumonia_dataset/test/CXR_test_61.png normal 99.99\n",
       "/dbfs/mnt/eason/pneumonia_classification_challenge/pneumonia_dataset/test/CXR_test_207.png pneumonia 99.94\n",
       "/dbfs/mnt/eason/pneumonia_classification_challenge/pneumonia_dataset/test/CXR_test_221.png pneumonia 99.79\n",
       "/dbfs/mnt/eason/pneumonia_classification_challenge/pneumonia_dataset/test/CXR_test_542.png normal 100.0\n",
       "/dbfs/mnt/eason/pneumonia_classification_challenge/pneumonia_dataset/test/CXR_test_398.png pneumonia 78.33\n",
       "/dbfs/mnt/eason/pneumonia_classification_challenge/pneumonia_dataset/test/CXR_test_43.png normal 99.82\n",
       "/dbfs/mnt/eason/pneumonia_classification_challenge/pneumonia_dataset/test/CXR_test_344.png normal 50.0\n",
       "/dbfs/mnt/eason/pneumonia_classification_challenge/pneumonia_dataset/test/CXR_test_220.png normal 98.71\n",
       "/dbfs/mnt/eason/pneumonia_classification_challenge/pneumonia_dataset/test/CXR_test_3.png pneumonia 74.79\n",
       "/dbfs/mnt/eason/pneumonia_classification_challenge/pneumonia_dataset/test/CXR_test_511.png normal 50.0\n",
       "/dbfs/mnt/eason/pneumonia_classification_challenge/pneumonia_dataset/test/CXR_test_295.png normal 98.5\n",
       "/dbfs/mnt/eason/pneumonia_classification_challenge/pneumonia_dataset/test/CXR_test_546.png pneumonia 83.8\n",
       "/dbfs/mnt/eason/pneumonia_classification_challenge/pneumonia_dataset/test/CXR_test_179.png pneumonia 99.83\n",
       "/dbfs/mnt/eason/pneumonia_classification_challenge/pneumonia_dataset/test/CXR_test_498.png pneumonia 99.94\n",
       "/dbfs/mnt/eason/pneumonia_classification_challenge/pneumonia_dataset/test/CXR_test_374.png normal 50.0\n",
       "/dbfs/mnt/eason/pneumonia_classification_challenge/pneumonia_dataset/test/CXR_test_268.png pneumonia 98.91\n",
       "/dbfs/mnt/eason/pneumonia_classification_challenge/pneumonia_dataset/test/CXR_test_571.png normal 98.26\n",
       "/dbfs/mnt/eason/pneumonia_classification_challenge/pneumonia_dataset/test/CXR_test_192.png pneumonia 98.58\n",
       "/dbfs/mnt/eason/pneumonia_classification_challenge/pneumonia_dataset/test/CXR_test_149.png normal 99.88\n",
       "/dbfs/mnt/eason/pneumonia_classification_challenge/pneumonia_dataset/test/CXR_test_297.png pneumonia 96.76\n",
       "/dbfs/mnt/eason/pneumonia_classification_challenge/pneumonia_dataset/test/CXR_test_343.png pneumonia 92.2\n",
       "/dbfs/mnt/eason/pneumonia_classification_challenge/pneumonia_dataset/test/CXR_test_489.png pneumonia 99.98\n",
       "/dbfs/mnt/eason/pneumonia_classification_challenge/pneumonia_dataset/test/CXR_test_394.png normal 97.82\n",
       "/dbfs/mnt/eason/pneumonia_classification_challenge/pneumonia_dataset/test/CXR_test_425.png normal 98.48\n",
       "/dbfs/mnt/eason/pneumonia_classification_challenge/pneumonia_dataset/test/CXR_test_24.png pneumonia 99.31\n",
       "/dbfs/mnt/eason/pneumonia_classification_challenge/pneumonia_dataset/test/CXR_test_491.png pneumonia 85.63\n",
       "/dbfs/mnt/eason/pneumonia_classification_challenge/pneumonia_dataset/test/CXR_test_311.png normal 99.69\n",
       "/dbfs/mnt/eason/pneumonia_classification_challenge/pneumonia_dataset/test/CXR_test_461.png normal 62.02\n",
       "/dbfs/mnt/eason/pneumonia_classification_challenge/pneumonia_dataset/test/CXR_test_108.png pneumonia 99.86\n",
       "/dbfs/mnt/eason/pneumonia_classification_challenge/pneumonia_dataset/test/CXR_test_574.png normal 95.28\n",
       "/dbfs/mnt/eason/pneumonia_classification_challenge/pneumonia_dataset/test/CXR_test_187.png normal 87.8\n",
       "/dbfs/mnt/eason/pneumonia_classification_challenge/pneumonia_dataset/test/CXR_test_255.png normal 88.52\n",
       "/dbfs/mnt/eason/pneumonia_classification_challenge/pneumonia_dataset/test/CXR_test_294.png pneumonia 99.24\n",
       "/dbfs/mnt/eason/pneumonia_classification_challenge/pneumonia_dataset/test/CXR_test_330.png pneumonia 98.84\n",
       "/dbfs/mnt/eason/pneumonia_classification_challenge/pneumonia_dataset/test/CXR_test_279.png pneumonia 99.96\n",
       "/dbfs/mnt/eason/pneumonia_classification_challenge/pneumonia_dataset/test/CXR_test_321.png pneumonia 100.0\n",
       "/dbfs/mnt/eason/pneumonia_classification_challenge/pneumonia_dataset/test/CXR_test_254.png normal 99.87\n",
       "/dbfs/mnt/eason/pneumonia_classification_challenge/pneumonia_dataset/test/CXR_test_495.png normal 100.0\n",
       "/dbfs/mnt/eason/pneumonia_classification_challenge/pneumonia_dataset/test/CXR_test_186.png normal 99.99\n",
       "/dbfs/mnt/eason/pneumonia_classification_challenge/pneumonia_dataset/test/CXR_test_210.png normal 100.0\n",
       "/dbfs/mnt/eason/pneumonia_classification_challenge/pneumonia_dataset/test/CXR_test_320.png pneumonia 99.88\n",
       "/dbfs/mnt/eason/pneumonia_classification_challenge/pneumonia_dataset/test/CXR_test_570.png pneumonia 92.45\n",
       "/dbfs/mnt/eason/pneumonia_classification_challenge/pneumonia_dataset/test/CXR_test_336.png pneumonia 91.9\n",
       "/dbfs/mnt/eason/pneumonia_classification_challenge/pneumonia_dataset/test/CXR_test_547.png pneumonia 99.99\n",
       "/dbfs/mnt/eason/pneumonia_classification_challenge/pneumonia_dataset/test/CXR_test_441.png pneumonia 85.45\n",
       "/dbfs/mnt/eason/pneumonia_classification_challenge/pneumonia_dataset/test/CXR_test_40.png pneumonia 99.7\n",
       "/dbfs/mnt/eason/pneumonia_classification_challenge/pneumonia_dataset/test/CXR_test_153.png normal 94.06\n",
       "/dbfs/mnt/eason/pneumonia_classification_challenge/pneumonia_dataset/test/CXR_test_50.png normal 99.57\n",
       "/dbfs/mnt/eason/pneumonia_classification_challenge/pneumonia_dataset/test/CXR_test_90.png normal 87.68\n",
       "/dbfs/mnt/eason/pneumonia_classification_challenge/pneumonia_dataset/test/CXR_test_205.png pneumonia 99.65\n",
       "/dbfs/mnt/eason/pneumonia_classification_challenge/pneumonia_dataset/test/CXR_test_163.png pneumonia 90.57\n",
       "/dbfs/mnt/eason/pneumonia_classification_challenge/pneumonia_dataset/test/CXR_test_516.png normal 97.51\n",
       "/dbfs/mnt/eason/pneumonia_classification_challenge/pneumonia_dataset/test/CXR_test_211.png normal 99.69\n",
       "/dbfs/mnt/eason/pneumonia_classification_challenge/pneumonia_dataset/test/CXR_test_49.png pneumonia 99.99\n",
       "/dbfs/mnt/eason/pneumonia_classification_challenge/pneumonia_dataset/test/CXR_test_275.png normal 95.77\n",
       "/dbfs/mnt/eason/pneumonia_classification_challenge/pneumonia_dataset/test/CXR_test_197.png normal 99.99\n",
       "/dbfs/mnt/eason/pneumonia_classification_challenge/pneumonia_dataset/test/CXR_test_196.png pneumonia 99.94\n",
       "/dbfs/mnt/eason/pneumonia_classification_challenge/pneumonia_dataset/test/CXR_test_180.png normal 99.98\n",
       "/dbfs/mnt/eason/pneumonia_classification_challenge/pneumonia_dataset/test/CXR_test_95.png pneumonia 92.0\n",
       "/dbfs/mnt/eason/pneumonia_classification_challenge/pneumonia_dataset/test/CXR_test_28.png pneumonia 99.58\n",
       "/dbfs/mnt/eason/pneumonia_classification_challenge/pneumonia_dataset/test/CXR_test_496.png normal 91.39\n",
       "/dbfs/mnt/eason/pneumonia_classification_challenge/pneumonia_dataset/test/CXR_test_318.png normal 78.43\n",
       "/dbfs/mnt/eason/pneumonia_classification_challenge/pneumonia_dataset/test/CXR_test_395.png pneumonia 63.86\n",
       "/dbfs/mnt/eason/pneumonia_classification_challenge/pneumonia_dataset/test/CXR_test_386.png normal 57.99\n",
       "/dbfs/mnt/eason/pneumonia_classification_challenge/pneumonia_dataset/test/CXR_test_15.png pneumonia 99.97\n",
       "/dbfs/mnt/eason/pneumonia_classification_challenge/pneumonia_dataset/test/CXR_test_510.png normal 99.99\n",
       "/dbfs/mnt/eason/pneumonia_classification_challenge/pneumonia_dataset/test/CXR_test_144.png pneumonia 92.1\n",
       "/dbfs/mnt/eason/pneumonia_classification_challenge/pneumonia_dataset/test/CXR_test_544.png pneumonia 95.42\n",
       "/dbfs/mnt/eason/pneumonia_classification_challenge/pneumonia_dataset/test/CXR_test_403.png pneumonia 99.89\n",
       "/dbfs/mnt/eason/pneumonia_classification_challenge/pneumonia_dataset/test/CXR_test_404.png pneumonia 99.97\n",
       "</div>"
      ]
     },
     "metadata": {
      "application/vnd.databricks.v1+output": {
       "addedWidgets": {},
       "arguments": {},
       "data": "<div class=\"ansiout\">/dbfs/mnt/eason/pneumonia_classification_challenge/pneumonia_dataset/test/CXR_test_519.png pneumonia 99.44\n/dbfs/mnt/eason/pneumonia_classification_challenge/pneumonia_dataset/test/CXR_test_578.png pneumonia 93.69\n/dbfs/mnt/eason/pneumonia_classification_challenge/pneumonia_dataset/test/CXR_test_359.png normal 60.02\n/dbfs/mnt/eason/pneumonia_classification_challenge/pneumonia_dataset/test/CXR_test_573.png pneumonia 68.87\n/dbfs/mnt/eason/pneumonia_classification_challenge/pneumonia_dataset/test/CXR_test_471.png pneumonia 57.49\n/dbfs/mnt/eason/pneumonia_classification_challenge/pneumonia_dataset/test/CXR_test_418.png normal 99.58\n/dbfs/mnt/eason/pneumonia_classification_challenge/pneumonia_dataset/test/CXR_test_597.png normal 80.4\n/dbfs/mnt/eason/pneumonia_classification_challenge/pneumonia_dataset/test/CXR_test_372.png normal 99.89\n/dbfs/mnt/eason/pneumonia_classification_challenge/pneumonia_dataset/test/CXR_test_264.png pneumonia 96.22\n/dbfs/mnt/eason/pneumonia_classification_challenge/pneumonia_dataset/test/CXR_test_262.png normal 100.0\n/dbfs/mnt/eason/pneumonia_classification_challenge/pneumonia_dataset/test/CXR_test_54.png pneumonia 98.66\n/dbfs/mnt/eason/pneumonia_classification_challenge/pneumonia_dataset/test/CXR_test_521.png pneumonia 95.51\n/dbfs/mnt/eason/pneumonia_classification_challenge/pneumonia_dataset/test/CXR_test_500.png normal 98.63\n/dbfs/mnt/eason/pneumonia_classification_challenge/pneumonia_dataset/test/CXR_test_585.png pneumonia 69.35\n/dbfs/mnt/eason/pneumonia_classification_challenge/pneumonia_dataset/test/CXR_test_216.png normal 99.99\n/dbfs/mnt/eason/pneumonia_classification_challenge/pneumonia_dataset/test/CXR_test_445.png pneumonia 50.31\n/dbfs/mnt/eason/pneumonia_classification_challenge/pneumonia_dataset/test/CXR_test_63.png pneumonia 99.68\n/dbfs/mnt/eason/pneumonia_classification_challenge/pneumonia_dataset/test/CXR_test_195.png pneumonia 99.94\n/dbfs/mnt/eason/pneumonia_classification_challenge/pneumonia_dataset/test/CXR_test_84.png pneumonia 99.88\n/dbfs/mnt/eason/pneumonia_classification_challenge/pneumonia_dataset/test/CXR_test_274.png pneumonia 77.06\n/dbfs/mnt/eason/pneumonia_classification_challenge/pneumonia_dataset/test/CXR_test_346.png normal 99.93\n/dbfs/mnt/eason/pneumonia_classification_challenge/pneumonia_dataset/test/CXR_test_385.png pneumonia 99.94\n/dbfs/mnt/eason/pneumonia_classification_challenge/pneumonia_dataset/test/CXR_test_181.png normal 99.99\n/dbfs/mnt/eason/pneumonia_classification_challenge/pneumonia_dataset/test/CXR_test_453.png pneumonia 99.98\n/dbfs/mnt/eason/pneumonia_classification_challenge/pneumonia_dataset/test/CXR_test_407.png normal 98.81\n/dbfs/mnt/eason/pneumonia_classification_challenge/pneumonia_dataset/test/CXR_test_560.png pneumonia 99.94\n/dbfs/mnt/eason/pneumonia_classification_challenge/pneumonia_dataset/test/CXR_test_448.png pneumonia 99.94\n/dbfs/mnt/eason/pneumonia_classification_challenge/pneumonia_dataset/test/CXR_test_390.png pneumonia 72.28\n/dbfs/mnt/eason/pneumonia_classification_challenge/pneumonia_dataset/test/CXR_test_243.png normal 93.63\n/dbfs/mnt/eason/pneumonia_classification_challenge/pneumonia_dataset/test/CXR_test_130.png pneumonia 99.93\n/dbfs/mnt/eason/pneumonia_classification_challenge/pneumonia_dataset/test/CXR_test_143.png normal 99.99\n/dbfs/mnt/eason/pneumonia_classification_challenge/pneumonia_dataset/test/CXR_test_309.png normal 61.73\n/dbfs/mnt/eason/pneumonia_classification_challenge/pneumonia_dataset/test/CXR_test_293.png normal 58.26\n/dbfs/mnt/eason/pneumonia_classification_challenge/pneumonia_dataset/test/CXR_test_23.png normal 99.51\n/dbfs/mnt/eason/pneumonia_classification_challenge/pneumonia_dataset/test/CXR_test_57.png pneumonia 96.23\n/dbfs/mnt/eason/pneumonia_classification_challenge/pneumonia_dataset/test/CXR_test_357.png pneumonia 89.04\n/dbfs/mnt/eason/pneumonia_classification_challenge/pneumonia_dataset/test/CXR_test_161.png pneumonia 99.1\n/dbfs/mnt/eason/pneumonia_classification_challenge/pneumonia_dataset/test/CXR_test_6.png pneumonia 94.73\n/dbfs/mnt/eason/pneumonia_classification_challenge/pneumonia_dataset/test/CXR_test_556.png pneumonia 62.4\n/dbfs/mnt/eason/pneumonia_classification_challenge/pneumonia_dataset/test/CXR_test_473.png pneumonia 99.32\n/dbfs/mnt/eason/pneumonia_classification_challenge/pneumonia_dataset/test/CXR_test_56.png pneumonia 96.91\n/dbfs/mnt/eason/pneumonia_classification_challenge/pneumonia_dataset/test/CXR_test_488.png normal 99.86\n/dbfs/mnt/eason/pneumonia_classification_challenge/pneumonia_dataset/test/CXR_test_494.png normal 99.93\n/dbfs/mnt/eason/pneumonia_classification_challenge/pneumonia_dataset/test/CXR_test_434.png normal 99.99\n/dbfs/mnt/eason/pneumonia_classification_challenge/pneumonia_dataset/test/CXR_test_85.png pneumonia 67.06\n/dbfs/mnt/eason/pneumonia_classification_challenge/pneumonia_dataset/test/CXR_test_225.png pneumonia 100.0\n/dbfs/mnt/eason/pneumonia_classification_challenge/pneumonia_dataset/test/CXR_test_450.png normal 100.0\n/dbfs/mnt/eason/pneumonia_classification_challenge/pneumonia_dataset/test/CXR_test_88.png pneumonia 92.5\n/dbfs/mnt/eason/pneumonia_classification_challenge/pneumonia_dataset/test/CXR_test_26.png pneumonia 99.99\n/dbfs/mnt/eason/pneumonia_classification_challenge/pneumonia_dataset/test/CXR_test_592.png pneumonia 87.43\n/dbfs/mnt/eason/pneumonia_classification_challenge/pneumonia_dataset/test/CXR_test_595.png normal 50.0\n/dbfs/mnt/eason/pneumonia_classification_challenge/pneumonia_dataset/test/CXR_test_154.png pneumonia 98.7\n/dbfs/mnt/eason/pneumonia_classification_challenge/pneumonia_dataset/test/CXR_test_596.png normal 98.21\n/dbfs/mnt/eason/pneumonia_classification_challenge/pneumonia_dataset/test/CXR_test_541.png pneumonia 99.59\n/dbfs/mnt/eason/pneumonia_classification_challenge/pneumonia_dataset/test/CXR_test_284.png pneumonia 100.0\n/dbfs/mnt/eason/pneumonia_classification_challenge/pneumonia_dataset/test/CXR_test_303.png pneumonia 99.99\n/dbfs/mnt/eason/pneumonia_classification_challenge/pneumonia_dataset/test/CXR_test_55.png normal 99.63\n/dbfs/mnt/eason/pneumonia_classification_challenge/pneumonia_dataset/test/CXR_test_89.png normal 50.0\n/dbfs/mnt/eason/pneumonia_classification_challenge/pneumonia_dataset/test/CXR_test_71.png pneumonia 99.38\n/dbfs/mnt/eason/pneumonia_classification_challenge/pneumonia_dataset/test/CXR_test_590.png normal 90.09\n/dbfs/mnt/eason/pneumonia_classification_challenge/pneumonia_dataset/test/CXR_test_368.png pneumonia 99.69\n/dbfs/mnt/eason/pneumonia_classification_challenge/pneumonia_dataset/test/CXR_test_266.png normal 99.81\n/dbfs/mnt/eason/pneumonia_classification_challenge/pneumonia_dataset/test/CXR_test_598.png pneumonia 99.97\n/dbfs/mnt/eason/pneumonia_classification_challenge/pneumonia_dataset/test/CXR_test_375.png pneumonia 93.34\n/dbfs/mnt/eason/pneumonia_classification_challenge/pneumonia_dataset/test/CXR_test_484.png normal 99.99\n/dbfs/mnt/eason/pneumonia_classification_challenge/pneumonia_dataset/test/CXR_test_239.png pneumonia 99.95\n/dbfs/mnt/eason/pneumonia_classification_challenge/pneumonia_dataset/test/CXR_test_412.png pneumonia 88.37\n/dbfs/mnt/eason/pneumonia_classification_challenge/pneumonia_dataset/test/CXR_test_377.png pneumonia 98.65\n/dbfs/mnt/eason/pneumonia_classification_challenge/pneumonia_dataset/test/CXR_test_535.png pneumonia 99.9\n/dbfs/mnt/eason/pneumonia_classification_challenge/pneumonia_dataset/test/CXR_test_59.png normal 50.0\n/dbfs/mnt/eason/pneumonia_classification_challenge/pneumonia_dataset/test/CXR_test_80.png pneumonia 99.46\n/dbfs/mnt/eason/pneumonia_classification_challenge/pneumonia_dataset/test/CXR_test_324.png pneumonia 97.96\n/dbfs/mnt/eason/pneumonia_classification_challenge/pneumonia_dataset/test/CXR_test_325.png pneumonia 83.9\n/dbfs/mnt/eason/pneumonia_classification_challenge/pneumonia_dataset/test/CXR_test_476.png normal 99.93\n/dbfs/mnt/eason/pneumonia_classification_challenge/pneumonia_dataset/test/CXR_test_113.png normal 95.13\n/dbfs/mnt/eason/pneumonia_classification_challenge/pneumonia_dataset/test/CXR_test_472.png pneumonia 97.22\n/dbfs/mnt/eason/pneumonia_classification_challenge/pneumonia_dataset/test/CXR_test_429.png normal 99.83\n/dbfs/mnt/eason/pneumonia_classification_challenge/pneumonia_dataset/test/CXR_test_286.png pneumonia 89.3\n/dbfs/mnt/eason/pneumonia_classification_challenge/pneumonia_dataset/test/CXR_test_465.png normal 96.99\n/dbfs/mnt/eason/pneumonia_classification_challenge/pneumonia_dataset/test/CXR_test_46.png pneumonia 94.78\n/dbfs/mnt/eason/pneumonia_classification_challenge/pneumonia_dataset/test/CXR_test_75.png pneumonia 99.99\n/dbfs/mnt/eason/pneumonia_classification_challenge/pneumonia_dataset/test/CXR_test_536.png pneumonia 97.93\n/dbfs/mnt/eason/pneumonia_classification_challenge/pneumonia_dataset/test/CXR_test_234.png normal 53.46\n/dbfs/mnt/eason/pneumonia_classification_challenge/pneumonia_dataset/test/CXR_test_82.png normal 84.79\n/dbfs/mnt/eason/pneumonia_classification_challenge/pneumonia_dataset/test/CXR_test_567.png normal 51.2\n/dbfs/mnt/eason/pneumonia_classification_challenge/pneumonia_dataset/test/CXR_test_313.png normal 99.97\n/dbfs/mnt/eason/pneumonia_classification_challenge/pneumonia_dataset/test/CXR_test_290.png pneumonia 99.84\n/dbfs/mnt/eason/pneumonia_classification_challenge/pneumonia_dataset/test/CXR_test_534.png normal 95.69\n/dbfs/mnt/eason/pneumonia_classification_challenge/pneumonia_dataset/test/CXR_test_172.png normal 60.36\n/dbfs/mnt/eason/pneumonia_classification_challenge/pneumonia_dataset/test/CXR_test_185.png normal 99.97\n/dbfs/mnt/eason/pneumonia_classification_challenge/pneumonia_dataset/test/CXR_test_550.png normal 97.89\n/dbfs/mnt/eason/pneumonia_classification_challenge/pneumonia_dataset/test/CXR_test_238.png pneumonia 86.5\n/dbfs/mnt/eason/pneumonia_classification_challenge/pneumonia_dataset/test/CXR_test_360.png pneumonia 82.62\n/dbfs/mnt/eason/pneumonia_classification_challenge/pneumonia_dataset/test/CXR_test_402.png pneumonia 94.28\n/dbfs/mnt/eason/pneumonia_classification_challenge/pneumonia_dataset/test/CXR_test_451.png pneumonia 97.94\n/dbfs/mnt/eason/pneumonia_classification_challenge/pneumonia_dataset/test/CXR_test_363.png pneumonia 99.99\n/dbfs/mnt/eason/pneumonia_classification_challenge/pneumonia_dataset/test/CXR_test_121.png pneumonia 94.44\n/dbfs/mnt/eason/pneumonia_classification_challenge/pneumonia_dataset/test/CXR_test_184.png pneumonia 79.33\n/dbfs/mnt/eason/pneumonia_classification_challenge/pneumonia_dataset/test/CXR_test_400.png normal 94.72\n/dbfs/mnt/eason/pneumonia_classification_challenge/pneumonia_dataset/test/CXR_test_252.png pneumonia 99.91\n/dbfs/mnt/eason/pneumonia_classification_challenge/pneumonia_dataset/test/CXR_test_430.png pneumonia 97.85\n/dbfs/mnt/eason/pneumonia_classification_challenge/pneumonia_dataset/test/CXR_test_381.png normal 99.84\n/dbfs/mnt/eason/pneumonia_classification_challenge/pneumonia_dataset/test/CXR_test_345.png pneumonia 99.25\n/dbfs/mnt/eason/pneumonia_classification_challenge/pneumonia_dataset/test/CXR_test_566.png pneumonia 63.36\n/dbfs/mnt/eason/pneumonia_classification_challenge/pneumonia_dataset/test/CXR_test_432.png pneumonia 95.65\n/dbfs/mnt/eason/pneumonia_classification_challenge/pneumonia_dataset/test/CXR_test_454.png pneumonia 87.42\n/dbfs/mnt/eason/pneumonia_classification_challenge/pneumonia_dataset/test/CXR_test_604.png pneumonia 62.52\n/dbfs/mnt/eason/pneumonia_classification_challenge/pneumonia_dataset/test/CXR_test_575.png normal 99.36\n/dbfs/mnt/eason/pneumonia_classification_challenge/pneumonia_dataset/test/CXR_test_335.png normal 99.98\n/dbfs/mnt/eason/pneumonia_classification_challenge/pneumonia_dataset/test/CXR_test_361.png normal 99.96\n/dbfs/mnt/eason/pneumonia_classification_challenge/pneumonia_dataset/test/CXR_test_100.png pneumonia 93.03\n/dbfs/mnt/eason/pneumonia_classification_challenge/pneumonia_dataset/test/CXR_test_457.png normal 51.0\n/dbfs/mnt/eason/pneumonia_classification_challenge/pneumonia_dataset/test/CXR_test_444.png pneumonia 66.47\n/dbfs/mnt/eason/pneumonia_classification_challenge/pneumonia_dataset/test/CXR_test_593.png pneumonia 93.43\n/dbfs/mnt/eason/pneumonia_classification_challenge/pneumonia_dataset/test/CXR_test_564.png pneumonia 94.99\n/dbfs/mnt/eason/pneumonia_classification_challenge/pneumonia_dataset/test/CXR_test_128.png normal 88.4\n/dbfs/mnt/eason/pneumonia_classification_challenge/pneumonia_dataset/test/CXR_test_189.png pneumonia 99.88\n/dbfs/mnt/eason/pneumonia_classification_challenge/pneumonia_dataset/test/CXR_test_559.png pneumonia 93.04\n/dbfs/mnt/eason/pneumonia_classification_challenge/pneumonia_dataset/test/CXR_test_87.png pneumonia 100.0\n/dbfs/mnt/eason/pneumonia_classification_challenge/pneumonia_dataset/test/CXR_test_579.png normal 75.8\n/dbfs/mnt/eason/pneumonia_classification_challenge/pneumonia_dataset/test/CXR_test_435.png normal 99.9\n/dbfs/mnt/eason/pneumonia_classification_challenge/pneumonia_dataset/test/CXR_test_367.png pneumonia 81.57\n/dbfs/mnt/eason/pneumonia_classification_challenge/pneumonia_dataset/test/CXR_test_352.png pneumonia 88.79\n/dbfs/mnt/eason/pneumonia_classification_challenge/pneumonia_dataset/test/CXR_test_267.png pneumonia 99.38\n/dbfs/mnt/eason/pneumonia_classification_challenge/pneumonia_dataset/test/CXR_test_107.png pneumonia 98.59\n/dbfs/mnt/eason/pneumonia_classification_challenge/pneumonia_dataset/test/CXR_test_282.png normal 67.26\n/dbfs/mnt/eason/pneumonia_classification_challenge/pneumonia_dataset/test/CXR_test_226.png pneumonia 98.02\n/dbfs/mnt/eason/pneumonia_classification_challenge/pneumonia_dataset/test/CXR_test_446.png normal 69.5\n/dbfs/mnt/eason/pneumonia_classification_challenge/pneumonia_dataset/test/CXR_test_146.png pneumonia 99.97\n/dbfs/mnt/eason/pneumonia_classification_challenge/pneumonia_dataset/test/CXR_test_114.png pneumonia 70.57\n/dbfs/mnt/eason/pneumonia_classification_challenge/pneumonia_dataset/test/CXR_test_302.png normal 80.54\n/dbfs/mnt/eason/pneumonia_classification_challenge/pneumonia_dataset/test/CXR_test_572.png pneumonia 99.98\n/dbfs/mnt/eason/pneumonia_classification_challenge/pneumonia_dataset/test/CXR_test_522.png normal 95.07\n/dbfs/mnt/eason/pneumonia_classification_challenge/pneumonia_dataset/test/CXR_test_206.png pneumonia 79.46\n/dbfs/mnt/eason/pneumonia_classification_challenge/pneumonia_dataset/test/CXR_test_117.png pneumonia 99.22\n/dbfs/mnt/eason/pneumonia_classification_challenge/pneumonia_dataset/test/CXR_test_253.png pneumonia 99.96\n/dbfs/mnt/eason/pneumonia_classification_challenge/pneumonia_dataset/test/CXR_test_437.png pneumonia 88.79\n/dbfs/mnt/eason/pneumonia_classification_challenge/pneumonia_dataset/test/CXR_test_214.png pneumonia 74.74\n/dbfs/mnt/eason/pneumonia_classification_challenge/pneumonia_dataset/test/CXR_test_460.png normal 99.76\n/dbfs/mnt/eason/pneumonia_classification_challenge/pneumonia_dataset/test/CXR_test_224.png normal 99.81\n/dbfs/mnt/eason/pneumonia_classification_challenge/pneumonia_dataset/test/CXR_test_190.png pneumonia 96.65\n/dbfs/mnt/eason/pneumonia_classification_challenge/pneumonia_dataset/test/CXR_test_227.png pneumonia 98.92\n/dbfs/mnt/eason/pneumonia_classification_challenge/pneumonia_dataset/test/CXR_test_329.png pneumonia 99.41\n/dbfs/mnt/eason/pneumonia_classification_challenge/pneumonia_dataset/test/CXR_test_350.png pneumonia 99.97\n/dbfs/mnt/eason/pneumonia_classification_challenge/pneumonia_dataset/test/CXR_test_538.png pneumonia 98.3\n/dbfs/mnt/eason/pneumonia_classification_challenge/pneumonia_dataset/test/CXR_test_106.png normal 99.95\n/dbfs/mnt/eason/pneumonia_classification_challenge/pneumonia_dataset/test/CXR_test_167.png normal 98.92\n/dbfs/mnt/eason/pneumonia_classification_challenge/pneumonia_dataset/test/CXR_test_17.png normal 100.0\n/dbfs/mnt/eason/pneumonia_classification_challenge/pneumonia_dataset/test/CXR_test_137.png pneumonia 73.92\n/dbfs/mnt/eason/pneumonia_classification_challenge/pneumonia_dataset/test/CXR_test_157.png pneumonia 96.58\n/dbfs/mnt/eason/pneumonia_classification_challenge/pneumonia_dataset/test/CXR_test_270.png pneumonia 80.84\n/dbfs/mnt/eason/pneumonia_classification_challenge/pneumonia_dataset/test/CXR_test_103.png normal 56.13\n/dbfs/mnt/eason/pneumonia_classification_challenge/pneumonia_dataset/test/CXR_test_277.png normal 99.95\n/dbfs/mnt/eason/pneumonia_classification_challenge/pneumonia_dataset/test/CXR_test_503.png pneumonia 99.46\n/dbfs/mnt/eason/pneumonia_classification_challenge/pneumonia_dataset/test/CXR_test_549.png pneumonia 98.48\n/dbfs/mnt/eason/pneumonia_classification_challenge/pneumonia_dataset/test/CXR_test_283.png pneumonia 99.37\n/dbfs/mnt/eason/pneumonia_classification_challenge/pneumonia_dataset/test/CXR_test_577.png normal 98.31\n/dbfs/mnt/eason/pneumonia_classification_challenge/pneumonia_dataset/test/CXR_test_605.png pneumonia 100.0\n/dbfs/mnt/eason/pneumonia_classification_challenge/pneumonia_dataset/test/CXR_test_168.png pneumonia 93.85\n/dbfs/mnt/eason/pneumonia_classification_challenge/pneumonia_dataset/test/CXR_test_188.png normal 99.96\n/dbfs/mnt/eason/pneumonia_classification_challenge/pneumonia_dataset/test/CXR_test_505.png pneumonia 99.04\n/dbfs/mnt/eason/pneumonia_classification_challenge/pneumonia_dataset/test/CXR_test_517.png pneumonia 52.77\n/dbfs/mnt/eason/pneumonia_classification_challenge/pneumonia_dataset/test/CXR_test_399.png pneumonia 99.85\n/dbfs/mnt/eason/pneumonia_classification_challenge/pneumonia_dataset/test/CXR_test_212.png normal 99.9\n/dbfs/mnt/eason/pneumonia_classification_challenge/pneumonia_dataset/test/CXR_test_160.png pneumonia 98.84\n/dbfs/mnt/eason/pneumonia_classification_challenge/pneumonia_dataset/test/CXR_test_431.png pneumonia 99.97\n/dbfs/mnt/eason/pneumonia_classification_challenge/pneumonia_dataset/test/CXR_test_69.png pneumonia 99.22\n/dbfs/mnt/eason/pneumonia_classification_challenge/pneumonia_dataset/test/CXR_test_198.png normal 99.95\n/dbfs/mnt/eason/pneumonia_classification_challenge/pneumonia_dataset/test/CXR_test_74.png normal 99.16\n/dbfs/mnt/eason/pneumonia_classification_challenge/pneumonia_dataset/test/CXR_test_178.png pneumonia 99.63\n/dbfs/mnt/eason/pneumonia_classification_challenge/pneumonia_dataset/test/CXR_test_62.png normal 61.29\n/dbfs/mnt/eason/pneumonia_classification_challenge/pneumonia_dataset/test/CXR_test_289.png normal 50.0\n/dbfs/mnt/eason/pneumonia_classification_challenge/pneumonia_dataset/test/CXR_test_112.png normal 85.88\n/dbfs/mnt/eason/pneumonia_classification_challenge/pneumonia_dataset/test/CXR_test_29.png pneumonia 99.82\n/dbfs/mnt/eason/pneumonia_classification_challenge/pneumonia_dataset/test/CXR_test_288.png normal 97.43\n/dbfs/mnt/eason/pneumonia_classification_challenge/pneumonia_dataset/test/CXR_test_393.png normal 50.0\n/dbfs/mnt/eason/pneumonia_classification_challenge/pneumonia_dataset/test/CXR_test_70.png pneumonia 64.57\n/dbfs/mnt/eason/pneumonia_classification_challenge/pneumonia_dataset/test/CXR_test_177.png pneumonia 99.95\n/dbfs/mnt/eason/pneumonia_classification_challenge/pneumonia_dataset/test/CXR_test_562.png normal 99.37\n/dbfs/mnt/eason/pneumonia_classification_challenge/pneumonia_dataset/test/CXR_test_45.png normal 99.97\n/dbfs/mnt/eason/pneumonia_classification_challenge/pneumonia_dataset/test/CXR_test_479.png pneumonia 99.93\n/dbfs/mnt/eason/pneumonia_classification_challenge/pneumonia_dataset/test/CXR_test_408.png normal 97.48\n/dbfs/mnt/eason/pneumonia_classification_challenge/pneumonia_dataset/test/CXR_test_482.png normal 94.08\n/dbfs/mnt/eason/pneumonia_classification_challenge/pneumonia_dataset/test/CXR_test_312.png normal 99.59\n/dbfs/mnt/eason/pneumonia_classification_challenge/pneumonia_dataset/test/CXR_test_123.png pneumonia 61.22\n/dbfs/mnt/eason/pneumonia_classification_challenge/pneumonia_dataset/test/CXR_test_22.png normal 75.15\n/dbfs/mnt/eason/pneumonia_classification_challenge/pneumonia_dataset/test/CXR_test_32.png normal 96.68\n/dbfs/mnt/eason/pneumonia_classification_challenge/pneumonia_dataset/test/CXR_test_25.png pneumonia 72.02\n/dbfs/mnt/eason/pneumonia_classification_challenge/pneumonia_dataset/test/CXR_test_118.png normal 99.99\n/dbfs/mnt/eason/pneumonia_classification_challenge/pneumonia_dataset/test/CXR_test_93.png pneumonia 98.73\n/dbfs/mnt/eason/pneumonia_classification_challenge/pneumonia_dataset/test/CXR_test_527.png pneumonia 96.3\n/dbfs/mnt/eason/pneumonia_classification_challenge/pneumonia_dataset/test/CXR_test_436.png normal 97.37\n/dbfs/mnt/eason/pneumonia_classification_challenge/pneumonia_dataset/test/CXR_test_331.png pneumonia 98.44\n/dbfs/mnt/eason/pneumonia_classification_challenge/pneumonia_dataset/test/CXR_test_524.png pneumonia 96.86\n/dbfs/mnt/eason/pneumonia_classification_challenge/pneumonia_dataset/test/CXR_test_47.png normal 89.71\n/dbfs/mnt/eason/pneumonia_classification_challenge/pneumonia_dataset/test/CXR_test_148.png normal 99.85\n/dbfs/mnt/eason/pneumonia_classification_challenge/pneumonia_dataset/test/CXR_test_94.png pneumonia 51.39\n/dbfs/mnt/eason/pneumonia_classification_challenge/pneumonia_dataset/test/CXR_test_307.png pneumonia 86.38\n/dbfs/mnt/eason/pneumonia_classification_challenge/pneumonia_dataset/test/CXR_test_499.png pneumonia 99.74\n/dbfs/mnt/eason/pneumonia_classification_challenge/pneumonia_dataset/test/CXR_test_339.png pneumonia 94.16\n/dbfs/mnt/eason/pneumonia_classification_challenge/pneumonia_dataset/test/CXR_test_369.png pneumonia 80.23\n/dbfs/mnt/eason/pneumonia_classification_challenge/pneumonia_dataset/test/CXR_test_73.png normal 99.98\n/dbfs/mnt/eason/pneumonia_classification_challenge/pneumonia_dataset/test/CXR_test_246.png pneumonia 52.5\n/dbfs/mnt/eason/pneumonia_classification_challenge/pneumonia_dataset/test/CXR_test_583.png pneumonia 52.66\n/dbfs/mnt/eason/pneumonia_classification_challenge/pneumonia_dataset/test/CXR_test_584.png pneumonia 71.75\n/dbfs/mnt/eason/pneumonia_classification_challenge/pneumonia_dataset/test/CXR_test_27.png normal 97.76\n/dbfs/mnt/eason/pneumonia_classification_challenge/pneumonia_dataset/test/CXR_test_502.png normal 93.67\n/dbfs/mnt/eason/pneumonia_classification_challenge/pneumonia_dataset/test/CXR_test_140.png normal 50.0\n/dbfs/mnt/eason/pneumonia_classification_challenge/pneumonia_dataset/test/CXR_test_14.png normal 99.93\n/dbfs/mnt/eason/pneumonia_classification_challenge/pneumonia_dataset/test/CXR_test_348.png normal 50.0\n/dbfs/mnt/eason/pneumonia_classification_challenge/pneumonia_dataset/test/CXR_test_64.png normal 99.98\n/dbfs/mnt/eason/pneumonia_classification_challenge/pneumonia_dataset/test/CXR_test_219.png pneumonia 88.78\n/dbfs/mnt/eason/pneumonia_classification_challenge/pneumonia_dataset/test/CXR_test_133.png normal 87.09\n/dbfs/mnt/eason/pneumonia_classification_challenge/pneumonia_dataset/test/CXR_test_373.png normal 97.81\n/dbfs/mnt/eason/pneumonia_classification_challenge/pneumonia_dataset/test/CXR_test_53.png pneumonia 99.93\n/dbfs/mnt/eason/pneumonia_classification_challenge/pneumonia_dataset/test/CXR_test_396.png pneumonia 92.87\n/dbfs/mnt/eason/pneumonia_classification_challenge/pneumonia_dataset/test/CXR_test_202.png normal 100.0\n\n*** WARNING: skipped 19935 bytes of output ***\n\n/dbfs/mnt/eason/pneumonia_classification_challenge/pneumonia_dataset/test/CXR_test_468.png normal 100.0\n/dbfs/mnt/eason/pneumonia_classification_challenge/pneumonia_dataset/test/CXR_test_145.png normal 99.93\n/dbfs/mnt/eason/pneumonia_classification_challenge/pneumonia_dataset/test/CXR_test_565.png pneumonia 97.85\n/dbfs/mnt/eason/pneumonia_classification_challenge/pneumonia_dataset/test/CXR_test_16.png pneumonia 97.3\n/dbfs/mnt/eason/pneumonia_classification_challenge/pneumonia_dataset/test/CXR_test_599.png normal 99.46\n/dbfs/mnt/eason/pneumonia_classification_challenge/pneumonia_dataset/test/CXR_test_37.png pneumonia 56.08\n/dbfs/mnt/eason/pneumonia_classification_challenge/pneumonia_dataset/test/CXR_test_78.png pneumonia 50.29\n/dbfs/mnt/eason/pneumonia_classification_challenge/pneumonia_dataset/test/CXR_test_314.png normal 99.98\n/dbfs/mnt/eason/pneumonia_classification_challenge/pneumonia_dataset/test/CXR_test_341.png pneumonia 95.08\n/dbfs/mnt/eason/pneumonia_classification_challenge/pneumonia_dataset/test/CXR_test_38.png pneumonia 99.49\n/dbfs/mnt/eason/pneumonia_classification_challenge/pneumonia_dataset/test/CXR_test_175.png pneumonia 99.26\n/dbfs/mnt/eason/pneumonia_classification_challenge/pneumonia_dataset/test/CXR_test_509.png pneumonia 98.79\n/dbfs/mnt/eason/pneumonia_classification_challenge/pneumonia_dataset/test/CXR_test_370.png pneumonia 98.57\n/dbfs/mnt/eason/pneumonia_classification_challenge/pneumonia_dataset/test/CXR_test_83.png pneumonia 99.33\n/dbfs/mnt/eason/pneumonia_classification_challenge/pneumonia_dataset/test/CXR_test_65.png normal 79.0\n/dbfs/mnt/eason/pneumonia_classification_challenge/pneumonia_dataset/test/CXR_test_552.png pneumonia 99.03\n/dbfs/mnt/eason/pneumonia_classification_challenge/pneumonia_dataset/test/CXR_test_79.png normal 99.78\n/dbfs/mnt/eason/pneumonia_classification_challenge/pneumonia_dataset/test/CXR_test_365.png pneumonia 98.89\n/dbfs/mnt/eason/pneumonia_classification_challenge/pneumonia_dataset/test/CXR_test_116.png normal 88.91\n/dbfs/mnt/eason/pneumonia_classification_challenge/pneumonia_dataset/test/CXR_test_304.png normal 93.42\n/dbfs/mnt/eason/pneumonia_classification_challenge/pneumonia_dataset/test/CXR_test_580.png normal 50.0\n/dbfs/mnt/eason/pneumonia_classification_challenge/pneumonia_dataset/test/CXR_test_397.png normal 98.53\n/dbfs/mnt/eason/pneumonia_classification_challenge/pneumonia_dataset/test/CXR_test_203.png normal 99.48\n/dbfs/mnt/eason/pneumonia_classification_challenge/pneumonia_dataset/test/CXR_test_319.png normal 99.97\n/dbfs/mnt/eason/pneumonia_classification_challenge/pneumonia_dataset/test/CXR_test_209.png normal 98.12\n/dbfs/mnt/eason/pneumonia_classification_challenge/pneumonia_dataset/test/CXR_test_332.png normal 100.0\n/dbfs/mnt/eason/pneumonia_classification_challenge/pneumonia_dataset/test/CXR_test_31.png pneumonia 99.26\n/dbfs/mnt/eason/pneumonia_classification_challenge/pneumonia_dataset/test/CXR_test_308.png normal 87.48\n/dbfs/mnt/eason/pneumonia_classification_challenge/pneumonia_dataset/test/CXR_test_251.png pneumonia 99.58\n/dbfs/mnt/eason/pneumonia_classification_challenge/pneumonia_dataset/test/CXR_test_380.png pneumonia 99.35\n/dbfs/mnt/eason/pneumonia_classification_challenge/pneumonia_dataset/test/CXR_test_315.png pneumonia 99.85\n/dbfs/mnt/eason/pneumonia_classification_challenge/pneumonia_dataset/test/CXR_test_91.png normal 86.98\n/dbfs/mnt/eason/pneumonia_classification_challenge/pneumonia_dataset/test/CXR_test_558.png normal 98.35\n/dbfs/mnt/eason/pneumonia_classification_challenge/pneumonia_dataset/test/CXR_test_447.png pneumonia 99.88\n/dbfs/mnt/eason/pneumonia_classification_challenge/pneumonia_dataset/test/CXR_test_464.png pneumonia 99.06\n/dbfs/mnt/eason/pneumonia_classification_challenge/pneumonia_dataset/test/CXR_test_602.png normal 99.95\n/dbfs/mnt/eason/pneumonia_classification_challenge/pneumonia_dataset/test/CXR_test_5.png pneumonia 100.0\n/dbfs/mnt/eason/pneumonia_classification_challenge/pneumonia_dataset/test/CXR_test_9.png pneumonia 66.98\n/dbfs/mnt/eason/pneumonia_classification_challenge/pneumonia_dataset/test/CXR_test_299.png normal 99.87\n/dbfs/mnt/eason/pneumonia_classification_challenge/pneumonia_dataset/test/CXR_test_512.png pneumonia 61.3\n/dbfs/mnt/eason/pneumonia_classification_challenge/pneumonia_dataset/test/CXR_test_384.png pneumonia 97.85\n/dbfs/mnt/eason/pneumonia_classification_challenge/pneumonia_dataset/test/CXR_test_419.png normal 99.98\n/dbfs/mnt/eason/pneumonia_classification_challenge/pneumonia_dataset/test/CXR_test_52.png normal 96.77\n/dbfs/mnt/eason/pneumonia_classification_challenge/pneumonia_dataset/test/CXR_test_483.png normal 58.89\n/dbfs/mnt/eason/pneumonia_classification_challenge/pneumonia_dataset/test/CXR_test_354.png normal 99.56\n/dbfs/mnt/eason/pneumonia_classification_challenge/pneumonia_dataset/test/CXR_test_72.png normal 94.66\n/dbfs/mnt/eason/pneumonia_classification_challenge/pneumonia_dataset/test/CXR_test_134.png pneumonia 87.61\n/dbfs/mnt/eason/pneumonia_classification_challenge/pneumonia_dataset/test/CXR_test_455.png pneumonia 99.7\n/dbfs/mnt/eason/pneumonia_classification_challenge/pneumonia_dataset/test/CXR_test_342.png pneumonia 99.97\n/dbfs/mnt/eason/pneumonia_classification_challenge/pneumonia_dataset/test/CXR_test_213.png pneumonia 91.72\n/dbfs/mnt/eason/pneumonia_classification_challenge/pneumonia_dataset/test/CXR_test_545.png normal 68.3\n/dbfs/mnt/eason/pneumonia_classification_challenge/pneumonia_dataset/test/CXR_test_259.png pneumonia 63.51\n/dbfs/mnt/eason/pneumonia_classification_challenge/pneumonia_dataset/test/CXR_test_135.png pneumonia 95.41\n/dbfs/mnt/eason/pneumonia_classification_challenge/pneumonia_dataset/test/CXR_test_466.png normal 99.66\n/dbfs/mnt/eason/pneumonia_classification_challenge/pneumonia_dataset/test/CXR_test_563.png pneumonia 100.0\n/dbfs/mnt/eason/pneumonia_classification_challenge/pneumonia_dataset/test/CXR_test_537.png pneumonia 94.87\n/dbfs/mnt/eason/pneumonia_classification_challenge/pneumonia_dataset/test/CXR_test_540.png pneumonia 74.03\n/dbfs/mnt/eason/pneumonia_classification_challenge/pneumonia_dataset/test/CXR_test_478.png pneumonia 96.6\n/dbfs/mnt/eason/pneumonia_classification_challenge/pneumonia_dataset/test/CXR_test_557.png normal 99.11\n/dbfs/mnt/eason/pneumonia_classification_challenge/pneumonia_dataset/test/CXR_test_426.png pneumonia 77.87\n/dbfs/mnt/eason/pneumonia_classification_challenge/pneumonia_dataset/test/CXR_test_355.png normal 95.04\n/dbfs/mnt/eason/pneumonia_classification_challenge/pneumonia_dataset/test/CXR_test_155.png pneumonia 84.61\n/dbfs/mnt/eason/pneumonia_classification_challenge/pneumonia_dataset/test/CXR_test_272.png normal 99.87\n/dbfs/mnt/eason/pneumonia_classification_challenge/pneumonia_dataset/test/CXR_test_165.png normal 67.74\n/dbfs/mnt/eason/pneumonia_classification_challenge/pneumonia_dataset/test/CXR_test_99.png normal 50.0\n/dbfs/mnt/eason/pneumonia_classification_challenge/pneumonia_dataset/test/CXR_test_507.png pneumonia 99.92\n/dbfs/mnt/eason/pneumonia_classification_challenge/pneumonia_dataset/test/CXR_test_492.png pneumonia 84.26\n/dbfs/mnt/eason/pneumonia_classification_challenge/pneumonia_dataset/test/CXR_test_379.png normal 99.97\n/dbfs/mnt/eason/pneumonia_classification_challenge/pneumonia_dataset/test/CXR_test_256.png pneumonia 99.97\n/dbfs/mnt/eason/pneumonia_classification_challenge/pneumonia_dataset/test/CXR_test_111.png pneumonia 96.1\n/dbfs/mnt/eason/pneumonia_classification_challenge/pneumonia_dataset/test/CXR_test_13.png normal 71.02\n/dbfs/mnt/eason/pneumonia_classification_challenge/pneumonia_dataset/test/CXR_test_539.png normal 99.75\n/dbfs/mnt/eason/pneumonia_classification_challenge/pneumonia_dataset/test/CXR_test_298.png normal 97.35\n/dbfs/mnt/eason/pneumonia_classification_challenge/pneumonia_dataset/test/CXR_test_554.png normal 99.9\n/dbfs/mnt/eason/pneumonia_classification_challenge/pneumonia_dataset/test/CXR_test_401.png pneumonia 81.76\n/dbfs/mnt/eason/pneumonia_classification_challenge/pneumonia_dataset/test/CXR_test_229.png normal 98.75\n/dbfs/mnt/eason/pneumonia_classification_challenge/pneumonia_dataset/test/CXR_test_152.png pneumonia 99.35\n/dbfs/mnt/eason/pneumonia_classification_challenge/pneumonia_dataset/test/CXR_test_340.png normal 100.0\n/dbfs/mnt/eason/pneumonia_classification_challenge/pneumonia_dataset/test/CXR_test_51.png pneumonia 74.6\n/dbfs/mnt/eason/pneumonia_classification_challenge/pneumonia_dataset/test/CXR_test_406.png pneumonia 63.91\n/dbfs/mnt/eason/pneumonia_classification_challenge/pneumonia_dataset/test/CXR_test_387.png pneumonia 99.91\n/dbfs/mnt/eason/pneumonia_classification_challenge/pneumonia_dataset/test/CXR_test_520.png pneumonia 99.27\n/dbfs/mnt/eason/pneumonia_classification_challenge/pneumonia_dataset/test/CXR_test_183.png pneumonia 99.79\n/dbfs/mnt/eason/pneumonia_classification_challenge/pneumonia_dataset/test/CXR_test_533.png normal 94.6\n/dbfs/mnt/eason/pneumonia_classification_challenge/pneumonia_dataset/test/CXR_test_151.png normal 99.77\n/dbfs/mnt/eason/pneumonia_classification_challenge/pneumonia_dataset/test/CXR_test_171.png normal 69.21\n/dbfs/mnt/eason/pneumonia_classification_challenge/pneumonia_dataset/test/CXR_test_462.png pneumonia 76.84\n/dbfs/mnt/eason/pneumonia_classification_challenge/pneumonia_dataset/test/CXR_test_280.png normal 99.4\n/dbfs/mnt/eason/pneumonia_classification_challenge/pneumonia_dataset/test/CXR_test_132.png normal 99.54\n/dbfs/mnt/eason/pneumonia_classification_challenge/pneumonia_dataset/test/CXR_test_115.png normal 98.91\n/dbfs/mnt/eason/pneumonia_classification_challenge/pneumonia_dataset/test/CXR_test_334.png normal 62.24\n/dbfs/mnt/eason/pneumonia_classification_challenge/pneumonia_dataset/test/CXR_test_76.png normal 76.06\n/dbfs/mnt/eason/pneumonia_classification_challenge/pneumonia_dataset/test/CXR_test_553.png normal 99.56\n/dbfs/mnt/eason/pneumonia_classification_challenge/pneumonia_dataset/test/CXR_test_97.png normal 100.0\n/dbfs/mnt/eason/pneumonia_classification_challenge/pneumonia_dataset/test/CXR_test_109.png normal 99.17\n/dbfs/mnt/eason/pneumonia_classification_challenge/pneumonia_dataset/test/CXR_test_485.png normal 68.32\n/dbfs/mnt/eason/pneumonia_classification_challenge/pneumonia_dataset/test/CXR_test_105.png normal 70.63\n/dbfs/mnt/eason/pneumonia_classification_challenge/pneumonia_dataset/test/CXR_test_422.png pneumonia 90.14\n/dbfs/mnt/eason/pneumonia_classification_challenge/pneumonia_dataset/test/CXR_test_191.png pneumonia 99.17\n/dbfs/mnt/eason/pneumonia_classification_challenge/pneumonia_dataset/test/CXR_test_362.png pneumonia 99.4\n/dbfs/mnt/eason/pneumonia_classification_challenge/pneumonia_dataset/test/CXR_test_474.png pneumonia 99.78\n/dbfs/mnt/eason/pneumonia_classification_challenge/pneumonia_dataset/test/CXR_test_603.png pneumonia 98.83\n/dbfs/mnt/eason/pneumonia_classification_challenge/pneumonia_dataset/test/CXR_test_388.png pneumonia 99.28\n/dbfs/mnt/eason/pneumonia_classification_challenge/pneumonia_dataset/test/CXR_test_281.png pneumonia 97.65\n/dbfs/mnt/eason/pneumonia_classification_challenge/pneumonia_dataset/test/CXR_test_417.png pneumonia 60.55\n/dbfs/mnt/eason/pneumonia_classification_challenge/pneumonia_dataset/test/CXR_test_120.png normal 99.99\n/dbfs/mnt/eason/pneumonia_classification_challenge/pneumonia_dataset/test/CXR_test_555.png normal 82.25\n/dbfs/mnt/eason/pneumonia_classification_challenge/pneumonia_dataset/test/CXR_test_366.png pneumonia 54.19\n/dbfs/mnt/eason/pneumonia_classification_challenge/pneumonia_dataset/test/CXR_test_440.png normal 72.91\n/dbfs/mnt/eason/pneumonia_classification_challenge/pneumonia_dataset/test/CXR_test_258.png normal 77.36\n/dbfs/mnt/eason/pneumonia_classification_challenge/pneumonia_dataset/test/CXR_test_126.png normal 78.69\n/dbfs/mnt/eason/pneumonia_classification_challenge/pneumonia_dataset/test/CXR_test_39.png normal 99.94\n/dbfs/mnt/eason/pneumonia_classification_challenge/pneumonia_dataset/test/CXR_test_260.png pneumonia 99.99\n/dbfs/mnt/eason/pneumonia_classification_challenge/pneumonia_dataset/test/CXR_test_416.png pneumonia 99.92\n/dbfs/mnt/eason/pneumonia_classification_challenge/pneumonia_dataset/test/CXR_test_222.png pneumonia 74.33\n/dbfs/mnt/eason/pneumonia_classification_challenge/pneumonia_dataset/test/CXR_test_328.png pneumonia 59.58\n/dbfs/mnt/eason/pneumonia_classification_challenge/pneumonia_dataset/test/CXR_test_58.png pneumonia 83.36\n/dbfs/mnt/eason/pneumonia_classification_challenge/pneumonia_dataset/test/CXR_test_248.png normal 99.2\n/dbfs/mnt/eason/pneumonia_classification_challenge/pneumonia_dataset/test/CXR_test_409.png normal 59.71\n/dbfs/mnt/eason/pneumonia_classification_challenge/pneumonia_dataset/test/CXR_test_301.png normal 99.36\n/dbfs/mnt/eason/pneumonia_classification_challenge/pneumonia_dataset/test/CXR_test_601.png pneumonia 99.98\n/dbfs/mnt/eason/pneumonia_classification_challenge/pneumonia_dataset/test/CXR_test_182.png pneumonia 99.07\n/dbfs/mnt/eason/pneumonia_classification_challenge/pneumonia_dataset/test/CXR_test_443.png normal 96.1\n/dbfs/mnt/eason/pneumonia_classification_challenge/pneumonia_dataset/test/CXR_test_310.png normal 99.6\n/dbfs/mnt/eason/pneumonia_classification_challenge/pneumonia_dataset/test/CXR_test_162.png normal 98.79\n/dbfs/mnt/eason/pneumonia_classification_challenge/pneumonia_dataset/test/CXR_test_526.png pneumonia 99.25\n/dbfs/mnt/eason/pneumonia_classification_challenge/pneumonia_dataset/test/CXR_test_300.png pneumonia 99.95\n/dbfs/mnt/eason/pneumonia_classification_challenge/pneumonia_dataset/test/CXR_test_326.png pneumonia 99.78\n/dbfs/mnt/eason/pneumonia_classification_challenge/pneumonia_dataset/test/CXR_test_231.png pneumonia 95.58\n/dbfs/mnt/eason/pneumonia_classification_challenge/pneumonia_dataset/test/CXR_test_568.png normal 89.7\n/dbfs/mnt/eason/pneumonia_classification_challenge/pneumonia_dataset/test/CXR_test_410.png normal 99.66\n/dbfs/mnt/eason/pneumonia_classification_challenge/pneumonia_dataset/test/CXR_test_317.png pneumonia 75.88\n/dbfs/mnt/eason/pneumonia_classification_challenge/pneumonia_dataset/test/CXR_test_18.png pneumonia 76.09\n/dbfs/mnt/eason/pneumonia_classification_challenge/pneumonia_dataset/test/CXR_test_141.png pneumonia 90.09\n/dbfs/mnt/eason/pneumonia_classification_challenge/pneumonia_dataset/test/CXR_test_86.png pneumonia 98.96\n/dbfs/mnt/eason/pneumonia_classification_challenge/pneumonia_dataset/test/CXR_test_423.png pneumonia 55.76\n/dbfs/mnt/eason/pneumonia_classification_challenge/pneumonia_dataset/test/CXR_test_278.png pneumonia 99.9\n/dbfs/mnt/eason/pneumonia_classification_challenge/pneumonia_dataset/test/CXR_test_405.png pneumonia 99.66\n/dbfs/mnt/eason/pneumonia_classification_challenge/pneumonia_dataset/test/CXR_test_96.png pneumonia 98.93\n/dbfs/mnt/eason/pneumonia_classification_challenge/pneumonia_dataset/test/CXR_test_358.png normal 99.46\n/dbfs/mnt/eason/pneumonia_classification_challenge/pneumonia_dataset/test/CXR_test_193.png pneumonia 60.79\n/dbfs/mnt/eason/pneumonia_classification_challenge/pneumonia_dataset/test/CXR_test_543.png pneumonia 88.82\n/dbfs/mnt/eason/pneumonia_classification_challenge/pneumonia_dataset/test/CXR_test_2.png normal 100.0\n/dbfs/mnt/eason/pneumonia_classification_challenge/pneumonia_dataset/test/CXR_test_41.png pneumonia 62.28\n/dbfs/mnt/eason/pneumonia_classification_challenge/pneumonia_dataset/test/CXR_test_170.png normal 99.65\n/dbfs/mnt/eason/pneumonia_classification_challenge/pneumonia_dataset/test/CXR_test_131.png pneumonia 97.34\n/dbfs/mnt/eason/pneumonia_classification_challenge/pneumonia_dataset/test/CXR_test_61.png normal 99.99\n/dbfs/mnt/eason/pneumonia_classification_challenge/pneumonia_dataset/test/CXR_test_207.png pneumonia 99.94\n/dbfs/mnt/eason/pneumonia_classification_challenge/pneumonia_dataset/test/CXR_test_221.png pneumonia 99.79\n/dbfs/mnt/eason/pneumonia_classification_challenge/pneumonia_dataset/test/CXR_test_542.png normal 100.0\n/dbfs/mnt/eason/pneumonia_classification_challenge/pneumonia_dataset/test/CXR_test_398.png pneumonia 78.33\n/dbfs/mnt/eason/pneumonia_classification_challenge/pneumonia_dataset/test/CXR_test_43.png normal 99.82\n/dbfs/mnt/eason/pneumonia_classification_challenge/pneumonia_dataset/test/CXR_test_344.png normal 50.0\n/dbfs/mnt/eason/pneumonia_classification_challenge/pneumonia_dataset/test/CXR_test_220.png normal 98.71\n/dbfs/mnt/eason/pneumonia_classification_challenge/pneumonia_dataset/test/CXR_test_3.png pneumonia 74.79\n/dbfs/mnt/eason/pneumonia_classification_challenge/pneumonia_dataset/test/CXR_test_511.png normal 50.0\n/dbfs/mnt/eason/pneumonia_classification_challenge/pneumonia_dataset/test/CXR_test_295.png normal 98.5\n/dbfs/mnt/eason/pneumonia_classification_challenge/pneumonia_dataset/test/CXR_test_546.png pneumonia 83.8\n/dbfs/mnt/eason/pneumonia_classification_challenge/pneumonia_dataset/test/CXR_test_179.png pneumonia 99.83\n/dbfs/mnt/eason/pneumonia_classification_challenge/pneumonia_dataset/test/CXR_test_498.png pneumonia 99.94\n/dbfs/mnt/eason/pneumonia_classification_challenge/pneumonia_dataset/test/CXR_test_374.png normal 50.0\n/dbfs/mnt/eason/pneumonia_classification_challenge/pneumonia_dataset/test/CXR_test_268.png pneumonia 98.91\n/dbfs/mnt/eason/pneumonia_classification_challenge/pneumonia_dataset/test/CXR_test_571.png normal 98.26\n/dbfs/mnt/eason/pneumonia_classification_challenge/pneumonia_dataset/test/CXR_test_192.png pneumonia 98.58\n/dbfs/mnt/eason/pneumonia_classification_challenge/pneumonia_dataset/test/CXR_test_149.png normal 99.88\n/dbfs/mnt/eason/pneumonia_classification_challenge/pneumonia_dataset/test/CXR_test_297.png pneumonia 96.76\n/dbfs/mnt/eason/pneumonia_classification_challenge/pneumonia_dataset/test/CXR_test_343.png pneumonia 92.2\n/dbfs/mnt/eason/pneumonia_classification_challenge/pneumonia_dataset/test/CXR_test_489.png pneumonia 99.98\n/dbfs/mnt/eason/pneumonia_classification_challenge/pneumonia_dataset/test/CXR_test_394.png normal 97.82\n/dbfs/mnt/eason/pneumonia_classification_challenge/pneumonia_dataset/test/CXR_test_425.png normal 98.48\n/dbfs/mnt/eason/pneumonia_classification_challenge/pneumonia_dataset/test/CXR_test_24.png pneumonia 99.31\n/dbfs/mnt/eason/pneumonia_classification_challenge/pneumonia_dataset/test/CXR_test_491.png pneumonia 85.63\n/dbfs/mnt/eason/pneumonia_classification_challenge/pneumonia_dataset/test/CXR_test_311.png normal 99.69\n/dbfs/mnt/eason/pneumonia_classification_challenge/pneumonia_dataset/test/CXR_test_461.png normal 62.02\n/dbfs/mnt/eason/pneumonia_classification_challenge/pneumonia_dataset/test/CXR_test_108.png pneumonia 99.86\n/dbfs/mnt/eason/pneumonia_classification_challenge/pneumonia_dataset/test/CXR_test_574.png normal 95.28\n/dbfs/mnt/eason/pneumonia_classification_challenge/pneumonia_dataset/test/CXR_test_187.png normal 87.8\n/dbfs/mnt/eason/pneumonia_classification_challenge/pneumonia_dataset/test/CXR_test_255.png normal 88.52\n/dbfs/mnt/eason/pneumonia_classification_challenge/pneumonia_dataset/test/CXR_test_294.png pneumonia 99.24\n/dbfs/mnt/eason/pneumonia_classification_challenge/pneumonia_dataset/test/CXR_test_330.png pneumonia 98.84\n/dbfs/mnt/eason/pneumonia_classification_challenge/pneumonia_dataset/test/CXR_test_279.png pneumonia 99.96\n/dbfs/mnt/eason/pneumonia_classification_challenge/pneumonia_dataset/test/CXR_test_321.png pneumonia 100.0\n/dbfs/mnt/eason/pneumonia_classification_challenge/pneumonia_dataset/test/CXR_test_254.png normal 99.87\n/dbfs/mnt/eason/pneumonia_classification_challenge/pneumonia_dataset/test/CXR_test_495.png normal 100.0\n/dbfs/mnt/eason/pneumonia_classification_challenge/pneumonia_dataset/test/CXR_test_186.png normal 99.99\n/dbfs/mnt/eason/pneumonia_classification_challenge/pneumonia_dataset/test/CXR_test_210.png normal 100.0\n/dbfs/mnt/eason/pneumonia_classification_challenge/pneumonia_dataset/test/CXR_test_320.png pneumonia 99.88\n/dbfs/mnt/eason/pneumonia_classification_challenge/pneumonia_dataset/test/CXR_test_570.png pneumonia 92.45\n/dbfs/mnt/eason/pneumonia_classification_challenge/pneumonia_dataset/test/CXR_test_336.png pneumonia 91.9\n/dbfs/mnt/eason/pneumonia_classification_challenge/pneumonia_dataset/test/CXR_test_547.png pneumonia 99.99\n/dbfs/mnt/eason/pneumonia_classification_challenge/pneumonia_dataset/test/CXR_test_441.png pneumonia 85.45\n/dbfs/mnt/eason/pneumonia_classification_challenge/pneumonia_dataset/test/CXR_test_40.png pneumonia 99.7\n/dbfs/mnt/eason/pneumonia_classification_challenge/pneumonia_dataset/test/CXR_test_153.png normal 94.06\n/dbfs/mnt/eason/pneumonia_classification_challenge/pneumonia_dataset/test/CXR_test_50.png normal 99.57\n/dbfs/mnt/eason/pneumonia_classification_challenge/pneumonia_dataset/test/CXR_test_90.png normal 87.68\n/dbfs/mnt/eason/pneumonia_classification_challenge/pneumonia_dataset/test/CXR_test_205.png pneumonia 99.65\n/dbfs/mnt/eason/pneumonia_classification_challenge/pneumonia_dataset/test/CXR_test_163.png pneumonia 90.57\n/dbfs/mnt/eason/pneumonia_classification_challenge/pneumonia_dataset/test/CXR_test_516.png normal 97.51\n/dbfs/mnt/eason/pneumonia_classification_challenge/pneumonia_dataset/test/CXR_test_211.png normal 99.69\n/dbfs/mnt/eason/pneumonia_classification_challenge/pneumonia_dataset/test/CXR_test_49.png pneumonia 99.99\n/dbfs/mnt/eason/pneumonia_classification_challenge/pneumonia_dataset/test/CXR_test_275.png normal 95.77\n/dbfs/mnt/eason/pneumonia_classification_challenge/pneumonia_dataset/test/CXR_test_197.png normal 99.99\n/dbfs/mnt/eason/pneumonia_classification_challenge/pneumonia_dataset/test/CXR_test_196.png pneumonia 99.94\n/dbfs/mnt/eason/pneumonia_classification_challenge/pneumonia_dataset/test/CXR_test_180.png normal 99.98\n/dbfs/mnt/eason/pneumonia_classification_challenge/pneumonia_dataset/test/CXR_test_95.png pneumonia 92.0\n/dbfs/mnt/eason/pneumonia_classification_challenge/pneumonia_dataset/test/CXR_test_28.png pneumonia 99.58\n/dbfs/mnt/eason/pneumonia_classification_challenge/pneumonia_dataset/test/CXR_test_496.png normal 91.39\n/dbfs/mnt/eason/pneumonia_classification_challenge/pneumonia_dataset/test/CXR_test_318.png normal 78.43\n/dbfs/mnt/eason/pneumonia_classification_challenge/pneumonia_dataset/test/CXR_test_395.png pneumonia 63.86\n/dbfs/mnt/eason/pneumonia_classification_challenge/pneumonia_dataset/test/CXR_test_386.png normal 57.99\n/dbfs/mnt/eason/pneumonia_classification_challenge/pneumonia_dataset/test/CXR_test_15.png pneumonia 99.97\n/dbfs/mnt/eason/pneumonia_classification_challenge/pneumonia_dataset/test/CXR_test_510.png normal 99.99\n/dbfs/mnt/eason/pneumonia_classification_challenge/pneumonia_dataset/test/CXR_test_144.png pneumonia 92.1\n/dbfs/mnt/eason/pneumonia_classification_challenge/pneumonia_dataset/test/CXR_test_544.png pneumonia 95.42\n/dbfs/mnt/eason/pneumonia_classification_challenge/pneumonia_dataset/test/CXR_test_403.png pneumonia 99.89\n/dbfs/mnt/eason/pneumonia_classification_challenge/pneumonia_dataset/test/CXR_test_404.png pneumonia 99.97\n</div>",
       "datasetInfos": [],
       "metadata": {},
       "removedWidgets": [],
       "type": "html"
      }
     },
     "output_type": "display_data"
    }
   ],
   "source": [
    "# Score all files and save the result.\n",
    "import csv\n",
    "img_height = 300\n",
    "img_width = 300\n",
    "\n",
    "for test_image in test_image_file_paths:\n",
    "    img = image.load_img(test_image, target_size=(img_height, img_width))\n",
    "    x = image.img_to_array(img)\n",
    "    x = np.expand_dims(x, axis = 0)\n",
    "    predictions = net.predict(x)\n",
    "    score = tf.nn.softmax(predictions[0])\n",
    "    predict_class = class_names[np.argmax(score)]\n",
    "    predict_confident = round(100 * np.max(score),2)\n",
    "    print(test_image+\" \"+str(predict_class)+\" \"+str(predict_confident))\n",
    "    #print(predict_class)\n",
    "    #print(predict_confident)\n",
    "    result_file_path = \"/tmp/result_resnet_v1.csv\"\n",
    "    with open(result_file_path, 'a', newline='') as file:\n",
    "        writer = csv.writer(file)\n",
    "        writer.writerow([test_image, predict_class, predict_confident])"
   ]
  },
  {
   "cell_type": "code",
   "execution_count": 0,
   "metadata": {
    "application/vnd.databricks.v1+cell": {
     "inputWidgets": {},
     "nuid": "8ab4d99d-8d2b-4666-a984-d3828b005f6c",
     "showTitle": false,
     "title": ""
    }
   },
   "outputs": [
    {
     "data": {
      "text/html": [
       "<style scoped>\n",
       "  .ansiout {\n",
       "    display: block;\n",
       "    unicode-bidi: embed;\n",
       "    white-space: pre-wrap;\n",
       "    word-wrap: break-word;\n",
       "    word-break: break-all;\n",
       "    font-family: \"Source Code Pro\", \"Menlo\", monospace;;\n",
       "    font-size: 13px;\n",
       "    color: #555;\n",
       "    margin-left: 4px;\n",
       "    line-height: 19px;\n",
       "  }\n",
       "</style>\n",
       "<div class=\"ansiout\">Out[82]: True</div>"
      ]
     },
     "metadata": {
      "application/vnd.databricks.v1+output": {
       "addedWidgets": {},
       "arguments": {},
       "data": "<div class=\"ansiout\">Out[82]: True</div>",
       "datasetInfos": [],
       "metadata": {},
       "removedWidgets": [],
       "type": "html"
      }
     },
     "output_type": "display_data"
    }
   ],
   "source": [
    "# Move temporary save result file in tmp to ADLS.\n",
    "dbutils.fs.mv(\"file:/tmp/result_resnet_v1.csv\",\"dbfs:/mnt/eason/pneumonia_classification_challenge/result_resnet_v1.csv\")"
   ]
  },
  {
   "cell_type": "code",
   "execution_count": 0,
   "metadata": {
    "application/vnd.databricks.v1+cell": {
     "inputWidgets": {},
     "nuid": "9bcc0cae-97a3-49d8-8b84-303483d0c8b1",
     "showTitle": false,
     "title": ""
    }
   },
   "outputs": [
    {
     "data": {
      "text/html": [
       "<style scoped>\n",
       "  .ansiout {\n",
       "    display: block;\n",
       "    unicode-bidi: embed;\n",
       "    white-space: pre-wrap;\n",
       "    word-wrap: break-word;\n",
       "    word-break: break-all;\n",
       "    font-family: \"Source Code Pro\", \"Menlo\", monospace;;\n",
       "    font-size: 13px;\n",
       "    color: #555;\n",
       "    margin-left: 4px;\n",
       "    line-height: 19px;\n",
       "  }\n",
       "</style>\n",
       "<div class=\"ansiout\">Out[83]: [FileInfo(path=&#39;dbfs:/tmp/hive/&#39;, name=&#39;hive/&#39;, size=0)]</div>"
      ]
     },
     "metadata": {
      "application/vnd.databricks.v1+output": {
       "addedWidgets": {},
       "arguments": {},
       "data": "<div class=\"ansiout\">Out[83]: [FileInfo(path=&#39;dbfs:/tmp/hive/&#39;, name=&#39;hive/&#39;, size=0)]</div>",
       "datasetInfos": [],
       "metadata": {},
       "removedWidgets": [],
       "type": "html"
      }
     },
     "output_type": "display_data"
    }
   ],
   "source": [
    "# List file in ADLS\n",
    "dbutils.fs.ls(\"/tmp/\")"
   ]
  },
  {
   "cell_type": "code",
   "execution_count": 0,
   "metadata": {
    "application/vnd.databricks.v1+cell": {
     "inputWidgets": {},
     "nuid": "d44866b8-4e99-4b0a-b550-1c076fb9bcae",
     "showTitle": false,
     "title": ""
    }
   },
   "outputs": [],
   "source": []
  }
 ],
 "metadata": {
  "application/vnd.databricks.v1+notebook": {
   "dashboards": [],
   "language": "python",
   "notebookMetadata": {
    "experimentId": "1360242486942667",
    "pythonIndentUnit": 2
   },
   "notebookName": "pneumonia_classification_challenge_v3_resnet50",
   "notebookOrigID": 1360242486942667,
   "widgets": {}
  },
  "kernelspec": {
   "display_name": "Python 3",
   "language": "python",
   "name": "python3"
  },
  "language_info": {
   "codemirror_mode": {
    "name": "ipython",
    "version": 3
   },
   "file_extension": ".py",
   "mimetype": "text/x-python",
   "name": "python",
   "nbconvert_exporter": "python",
   "pygments_lexer": "ipython3",
   "version": "3.8.3"
  }
 },
 "nbformat": 4,
 "nbformat_minor": 1
}
